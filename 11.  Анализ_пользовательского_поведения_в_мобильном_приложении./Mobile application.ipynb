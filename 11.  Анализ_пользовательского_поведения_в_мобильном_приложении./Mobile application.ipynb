{
 "cells": [
  {
   "cell_type": "markdown",
   "metadata": {},
   "source": [
    "# Анализ поведения пользователей в мобильном приложении."
   ]
  },
  {
   "cell_type": "markdown",
   "metadata": {},
   "source": [
    "**Описание проекта:**<br>\n",
    "Cтартап продаёт продукты питания. Необходимо разобраться, как ведут себя пользователи мобильного приложения. Для этого нужно изучить воронку продаж, узнать, как пользователи доходят до покупки, сколько пользователей доходит до покупки, а сколько — «застревает» на предыдущих шагах и на каких именно? После этого нужно провести исследование результатов A/A/B-эксперимента."
   ]
  },
  {
   "cell_type": "markdown",
   "metadata": {},
   "source": [
    "Данные собраны в файле /datasets/logs_exp.csv. Каждая запись в логе — это действие пользователя, или событие."
   ]
  },
  {
   "cell_type": "markdown",
   "metadata": {},
   "source": [
    "**Описание данных:**\n",
    "- EventName — название события;\n",
    "- DeviceIDHash — уникальный идентификатор пользователя;\n",
    "- EventTimestamp — время события;\n",
    "- ExpId — номер эксперимента: 246 и 247 — контрольные группы, а 248 — экспериментальная."
   ]
  },
  {
   "cell_type": "code",
   "execution_count": 1,
   "metadata": {},
   "outputs": [],
   "source": [
    "import pandas as pd\n",
    "import seaborn as sns\n",
    "import matplotlib.pyplot as plt\n",
    "import numpy as np\n",
    "import datetime as dt\n",
    "import math as mth\n",
    "import plotly.express as px \n",
    "from scipy import stats as st\n",
    "from pandas.plotting import register_matplotlib_converters\n",
    "from plotly import graph_objects as go\n",
    "import warnings\n",
    "warnings.filterwarnings(\"ignore\")\n",
    "pd.set_option(\"display.max_columns\", None)"
   ]
  },
  {
   "cell_type": "markdown",
   "metadata": {},
   "source": [
    "**1. Общая информация.**"
   ]
  },
  {
   "cell_type": "code",
   "execution_count": 2,
   "metadata": {},
   "outputs": [],
   "source": [
    "data = pd.read_csv(\"/datasets/logs_exp.csv\", sep = \"\\t\")"
   ]
  },
  {
   "cell_type": "code",
   "execution_count": 3,
   "metadata": {},
   "outputs": [
    {
     "data": {
      "text/html": [
       "<div>\n",
       "<style scoped>\n",
       "    .dataframe tbody tr th:only-of-type {\n",
       "        vertical-align: middle;\n",
       "    }\n",
       "\n",
       "    .dataframe tbody tr th {\n",
       "        vertical-align: top;\n",
       "    }\n",
       "\n",
       "    .dataframe thead th {\n",
       "        text-align: right;\n",
       "    }\n",
       "</style>\n",
       "<table border=\"1\" class=\"dataframe\">\n",
       "  <thead>\n",
       "    <tr style=\"text-align: right;\">\n",
       "      <th></th>\n",
       "      <th>EventName</th>\n",
       "      <th>DeviceIDHash</th>\n",
       "      <th>EventTimestamp</th>\n",
       "      <th>ExpId</th>\n",
       "    </tr>\n",
       "  </thead>\n",
       "  <tbody>\n",
       "    <tr>\n",
       "      <th>0</th>\n",
       "      <td>MainScreenAppear</td>\n",
       "      <td>4575588528974610257</td>\n",
       "      <td>1564029816</td>\n",
       "      <td>246</td>\n",
       "    </tr>\n",
       "    <tr>\n",
       "      <th>1</th>\n",
       "      <td>MainScreenAppear</td>\n",
       "      <td>7416695313311560658</td>\n",
       "      <td>1564053102</td>\n",
       "      <td>246</td>\n",
       "    </tr>\n",
       "    <tr>\n",
       "      <th>2</th>\n",
       "      <td>PaymentScreenSuccessful</td>\n",
       "      <td>3518123091307005509</td>\n",
       "      <td>1564054127</td>\n",
       "      <td>248</td>\n",
       "    </tr>\n",
       "    <tr>\n",
       "      <th>3</th>\n",
       "      <td>CartScreenAppear</td>\n",
       "      <td>3518123091307005509</td>\n",
       "      <td>1564054127</td>\n",
       "      <td>248</td>\n",
       "    </tr>\n",
       "    <tr>\n",
       "      <th>4</th>\n",
       "      <td>PaymentScreenSuccessful</td>\n",
       "      <td>6217807653094995999</td>\n",
       "      <td>1564055322</td>\n",
       "      <td>248</td>\n",
       "    </tr>\n",
       "    <tr>\n",
       "      <th>...</th>\n",
       "      <td>...</td>\n",
       "      <td>...</td>\n",
       "      <td>...</td>\n",
       "      <td>...</td>\n",
       "    </tr>\n",
       "    <tr>\n",
       "      <th>244121</th>\n",
       "      <td>MainScreenAppear</td>\n",
       "      <td>4599628364049201812</td>\n",
       "      <td>1565212345</td>\n",
       "      <td>247</td>\n",
       "    </tr>\n",
       "    <tr>\n",
       "      <th>244122</th>\n",
       "      <td>MainScreenAppear</td>\n",
       "      <td>5849806612437486590</td>\n",
       "      <td>1565212439</td>\n",
       "      <td>246</td>\n",
       "    </tr>\n",
       "    <tr>\n",
       "      <th>244123</th>\n",
       "      <td>MainScreenAppear</td>\n",
       "      <td>5746969938801999050</td>\n",
       "      <td>1565212483</td>\n",
       "      <td>246</td>\n",
       "    </tr>\n",
       "    <tr>\n",
       "      <th>244124</th>\n",
       "      <td>MainScreenAppear</td>\n",
       "      <td>5746969938801999050</td>\n",
       "      <td>1565212498</td>\n",
       "      <td>246</td>\n",
       "    </tr>\n",
       "    <tr>\n",
       "      <th>244125</th>\n",
       "      <td>OffersScreenAppear</td>\n",
       "      <td>5746969938801999050</td>\n",
       "      <td>1565212517</td>\n",
       "      <td>246</td>\n",
       "    </tr>\n",
       "  </tbody>\n",
       "</table>\n",
       "<p>244126 rows × 4 columns</p>\n",
       "</div>"
      ],
      "text/plain": [
       "                      EventName         DeviceIDHash  EventTimestamp  ExpId\n",
       "0              MainScreenAppear  4575588528974610257      1564029816    246\n",
       "1              MainScreenAppear  7416695313311560658      1564053102    246\n",
       "2       PaymentScreenSuccessful  3518123091307005509      1564054127    248\n",
       "3              CartScreenAppear  3518123091307005509      1564054127    248\n",
       "4       PaymentScreenSuccessful  6217807653094995999      1564055322    248\n",
       "...                         ...                  ...             ...    ...\n",
       "244121         MainScreenAppear  4599628364049201812      1565212345    247\n",
       "244122         MainScreenAppear  5849806612437486590      1565212439    246\n",
       "244123         MainScreenAppear  5746969938801999050      1565212483    246\n",
       "244124         MainScreenAppear  5746969938801999050      1565212498    246\n",
       "244125       OffersScreenAppear  5746969938801999050      1565212517    246\n",
       "\n",
       "[244126 rows x 4 columns]"
      ]
     },
     "execution_count": 3,
     "metadata": {},
     "output_type": "execute_result"
    }
   ],
   "source": [
    "data"
   ]
  },
  {
   "cell_type": "code",
   "execution_count": 4,
   "metadata": {},
   "outputs": [
    {
     "name": "stdout",
     "output_type": "stream",
     "text": [
      "<class 'pandas.core.frame.DataFrame'>\n",
      "RangeIndex: 244126 entries, 0 to 244125\n",
      "Data columns (total 4 columns):\n",
      " #   Column          Non-Null Count   Dtype \n",
      "---  ------          --------------   ----- \n",
      " 0   EventName       244126 non-null  object\n",
      " 1   DeviceIDHash    244126 non-null  int64 \n",
      " 2   EventTimestamp  244126 non-null  int64 \n",
      " 3   ExpId           244126 non-null  int64 \n",
      "dtypes: int64(3), object(1)\n",
      "memory usage: 7.5+ MB\n"
     ]
    }
   ],
   "source": [
    "data.info()"
   ]
  },
  {
   "cell_type": "markdown",
   "metadata": {},
   "source": [
    "**2. Подготовка данных.**"
   ]
  },
  {
   "cell_type": "markdown",
   "metadata": {},
   "source": [
    "Изменим названия столбцов."
   ]
  },
  {
   "cell_type": "code",
   "execution_count": 5,
   "metadata": {},
   "outputs": [],
   "source": [
    "data.rename(columns = {\"EventName\" : \"event_name\",\n",
    "                       \"DeviceIDHash\" : \"user_id\",\n",
    "                       \"EventTimestamp\" : \"event_timestamp\",\n",
    "                       \"ExpId\" : \"exp_id\"}, inplace = True)"
   ]
  },
  {
   "cell_type": "markdown",
   "metadata": {},
   "source": [
    "Изменим тип данных в столбце \"event_timestamp\"."
   ]
  },
  {
   "cell_type": "code",
   "execution_count": 6,
   "metadata": {},
   "outputs": [],
   "source": [
    "data[\"event_timestamp\"] = pd.to_datetime(data[\"event_timestamp\"], unit = \"s\")"
   ]
  },
  {
   "cell_type": "markdown",
   "metadata": {},
   "source": [
    "Проверим наличие дубликатов и пропусков."
   ]
  },
  {
   "cell_type": "code",
   "execution_count": 7,
   "metadata": {},
   "outputs": [
    {
     "data": {
      "text/plain": [
       "413"
      ]
     },
     "execution_count": 7,
     "metadata": {},
     "output_type": "execute_result"
    }
   ],
   "source": [
    "data.duplicated().sum()"
   ]
  },
  {
   "cell_type": "code",
   "execution_count": 8,
   "metadata": {},
   "outputs": [
    {
     "data": {
      "text/plain": [
       "event_name         0\n",
       "user_id            0\n",
       "event_timestamp    0\n",
       "exp_id             0\n",
       "dtype: int64"
      ]
     },
     "execution_count": 8,
     "metadata": {},
     "output_type": "execute_result"
    }
   ],
   "source": [
    "data.isna().sum()"
   ]
  },
  {
   "cell_type": "markdown",
   "metadata": {},
   "source": [
    "Дубликатов в данных менее одного процента. Их можно удалить."
   ]
  },
  {
   "cell_type": "code",
   "execution_count": 9,
   "metadata": {},
   "outputs": [],
   "source": [
    "data = data.drop_duplicates().reset_index(drop = True)"
   ]
  },
  {
   "cell_type": "code",
   "execution_count": 10,
   "metadata": {},
   "outputs": [
    {
     "data": {
      "text/plain": [
       "0"
      ]
     },
     "execution_count": 10,
     "metadata": {},
     "output_type": "execute_result"
    }
   ],
   "source": [
    "data.duplicated().sum()"
   ]
  },
  {
   "cell_type": "code",
   "execution_count": 11,
   "metadata": {},
   "outputs": [
    {
     "data": {
      "text/html": [
       "<div>\n",
       "<style scoped>\n",
       "    .dataframe tbody tr th:only-of-type {\n",
       "        vertical-align: middle;\n",
       "    }\n",
       "\n",
       "    .dataframe tbody tr th {\n",
       "        vertical-align: top;\n",
       "    }\n",
       "\n",
       "    .dataframe thead th {\n",
       "        text-align: right;\n",
       "    }\n",
       "</style>\n",
       "<table border=\"1\" class=\"dataframe\">\n",
       "  <thead>\n",
       "    <tr style=\"text-align: right;\">\n",
       "      <th></th>\n",
       "      <th>event_name</th>\n",
       "      <th>user_id</th>\n",
       "      <th>event_timestamp</th>\n",
       "      <th>exp_id</th>\n",
       "    </tr>\n",
       "  </thead>\n",
       "  <tbody>\n",
       "    <tr>\n",
       "      <th>0</th>\n",
       "      <td>MainScreenAppear</td>\n",
       "      <td>4575588528974610257</td>\n",
       "      <td>2019-07-25 04:43:36</td>\n",
       "      <td>246</td>\n",
       "    </tr>\n",
       "    <tr>\n",
       "      <th>1</th>\n",
       "      <td>MainScreenAppear</td>\n",
       "      <td>7416695313311560658</td>\n",
       "      <td>2019-07-25 11:11:42</td>\n",
       "      <td>246</td>\n",
       "    </tr>\n",
       "    <tr>\n",
       "      <th>2</th>\n",
       "      <td>PaymentScreenSuccessful</td>\n",
       "      <td>3518123091307005509</td>\n",
       "      <td>2019-07-25 11:28:47</td>\n",
       "      <td>248</td>\n",
       "    </tr>\n",
       "    <tr>\n",
       "      <th>3</th>\n",
       "      <td>CartScreenAppear</td>\n",
       "      <td>3518123091307005509</td>\n",
       "      <td>2019-07-25 11:28:47</td>\n",
       "      <td>248</td>\n",
       "    </tr>\n",
       "    <tr>\n",
       "      <th>4</th>\n",
       "      <td>PaymentScreenSuccessful</td>\n",
       "      <td>6217807653094995999</td>\n",
       "      <td>2019-07-25 11:48:42</td>\n",
       "      <td>248</td>\n",
       "    </tr>\n",
       "    <tr>\n",
       "      <th>...</th>\n",
       "      <td>...</td>\n",
       "      <td>...</td>\n",
       "      <td>...</td>\n",
       "      <td>...</td>\n",
       "    </tr>\n",
       "    <tr>\n",
       "      <th>243708</th>\n",
       "      <td>MainScreenAppear</td>\n",
       "      <td>4599628364049201812</td>\n",
       "      <td>2019-08-07 21:12:25</td>\n",
       "      <td>247</td>\n",
       "    </tr>\n",
       "    <tr>\n",
       "      <th>243709</th>\n",
       "      <td>MainScreenAppear</td>\n",
       "      <td>5849806612437486590</td>\n",
       "      <td>2019-08-07 21:13:59</td>\n",
       "      <td>246</td>\n",
       "    </tr>\n",
       "    <tr>\n",
       "      <th>243710</th>\n",
       "      <td>MainScreenAppear</td>\n",
       "      <td>5746969938801999050</td>\n",
       "      <td>2019-08-07 21:14:43</td>\n",
       "      <td>246</td>\n",
       "    </tr>\n",
       "    <tr>\n",
       "      <th>243711</th>\n",
       "      <td>MainScreenAppear</td>\n",
       "      <td>5746969938801999050</td>\n",
       "      <td>2019-08-07 21:14:58</td>\n",
       "      <td>246</td>\n",
       "    </tr>\n",
       "    <tr>\n",
       "      <th>243712</th>\n",
       "      <td>OffersScreenAppear</td>\n",
       "      <td>5746969938801999050</td>\n",
       "      <td>2019-08-07 21:15:17</td>\n",
       "      <td>246</td>\n",
       "    </tr>\n",
       "  </tbody>\n",
       "</table>\n",
       "<p>243713 rows × 4 columns</p>\n",
       "</div>"
      ],
      "text/plain": [
       "                     event_name              user_id     event_timestamp  \\\n",
       "0              MainScreenAppear  4575588528974610257 2019-07-25 04:43:36   \n",
       "1              MainScreenAppear  7416695313311560658 2019-07-25 11:11:42   \n",
       "2       PaymentScreenSuccessful  3518123091307005509 2019-07-25 11:28:47   \n",
       "3              CartScreenAppear  3518123091307005509 2019-07-25 11:28:47   \n",
       "4       PaymentScreenSuccessful  6217807653094995999 2019-07-25 11:48:42   \n",
       "...                         ...                  ...                 ...   \n",
       "243708         MainScreenAppear  4599628364049201812 2019-08-07 21:12:25   \n",
       "243709         MainScreenAppear  5849806612437486590 2019-08-07 21:13:59   \n",
       "243710         MainScreenAppear  5746969938801999050 2019-08-07 21:14:43   \n",
       "243711         MainScreenAppear  5746969938801999050 2019-08-07 21:14:58   \n",
       "243712       OffersScreenAppear  5746969938801999050 2019-08-07 21:15:17   \n",
       "\n",
       "        exp_id  \n",
       "0          246  \n",
       "1          246  \n",
       "2          248  \n",
       "3          248  \n",
       "4          248  \n",
       "...        ...  \n",
       "243708     247  \n",
       "243709     246  \n",
       "243710     246  \n",
       "243711     246  \n",
       "243712     246  \n",
       "\n",
       "[243713 rows x 4 columns]"
      ]
     },
     "execution_count": 11,
     "metadata": {},
     "output_type": "execute_result"
    }
   ],
   "source": [
    "data"
   ]
  },
  {
   "cell_type": "code",
   "execution_count": 12,
   "metadata": {},
   "outputs": [
    {
     "name": "stdout",
     "output_type": "stream",
     "text": [
      "<class 'pandas.core.frame.DataFrame'>\n",
      "RangeIndex: 243713 entries, 0 to 243712\n",
      "Data columns (total 4 columns):\n",
      " #   Column           Non-Null Count   Dtype         \n",
      "---  ------           --------------   -----         \n",
      " 0   event_name       243713 non-null  object        \n",
      " 1   user_id          243713 non-null  int64         \n",
      " 2   event_timestamp  243713 non-null  datetime64[ns]\n",
      " 3   exp_id           243713 non-null  int64         \n",
      "dtypes: datetime64[ns](1), int64(2), object(1)\n",
      "memory usage: 7.4+ MB\n"
     ]
    }
   ],
   "source": [
    "data.info()"
   ]
  },
  {
   "cell_type": "markdown",
   "metadata": {},
   "source": [
    "Название и тип данных в таблице изменениы. Дубликаты удалены. Пропусков в таблице нет."
   ]
  },
  {
   "cell_type": "markdown",
   "metadata": {},
   "source": [
    "Добавим столбец с датой и временем, а также отдельный столбец дат."
   ]
  },
  {
   "cell_type": "code",
   "execution_count": 13,
   "metadata": {},
   "outputs": [],
   "source": [
    "data[\"event_time\"] = pd.to_datetime(data[\"event_timestamp\"], unit = \"s\")\n",
    "data[\"date\"] = data[\"event_time\"].dt.date"
   ]
  },
  {
   "cell_type": "code",
   "execution_count": 14,
   "metadata": {},
   "outputs": [
    {
     "data": {
      "text/html": [
       "<div>\n",
       "<style scoped>\n",
       "    .dataframe tbody tr th:only-of-type {\n",
       "        vertical-align: middle;\n",
       "    }\n",
       "\n",
       "    .dataframe tbody tr th {\n",
       "        vertical-align: top;\n",
       "    }\n",
       "\n",
       "    .dataframe thead th {\n",
       "        text-align: right;\n",
       "    }\n",
       "</style>\n",
       "<table border=\"1\" class=\"dataframe\">\n",
       "  <thead>\n",
       "    <tr style=\"text-align: right;\">\n",
       "      <th></th>\n",
       "      <th>event_name</th>\n",
       "      <th>user_id</th>\n",
       "      <th>event_timestamp</th>\n",
       "      <th>exp_id</th>\n",
       "      <th>event_time</th>\n",
       "      <th>date</th>\n",
       "    </tr>\n",
       "  </thead>\n",
       "  <tbody>\n",
       "    <tr>\n",
       "      <th>0</th>\n",
       "      <td>MainScreenAppear</td>\n",
       "      <td>4575588528974610257</td>\n",
       "      <td>2019-07-25 04:43:36</td>\n",
       "      <td>246</td>\n",
       "      <td>2019-07-25 04:43:36</td>\n",
       "      <td>2019-07-25</td>\n",
       "    </tr>\n",
       "    <tr>\n",
       "      <th>1</th>\n",
       "      <td>MainScreenAppear</td>\n",
       "      <td>7416695313311560658</td>\n",
       "      <td>2019-07-25 11:11:42</td>\n",
       "      <td>246</td>\n",
       "      <td>2019-07-25 11:11:42</td>\n",
       "      <td>2019-07-25</td>\n",
       "    </tr>\n",
       "    <tr>\n",
       "      <th>2</th>\n",
       "      <td>PaymentScreenSuccessful</td>\n",
       "      <td>3518123091307005509</td>\n",
       "      <td>2019-07-25 11:28:47</td>\n",
       "      <td>248</td>\n",
       "      <td>2019-07-25 11:28:47</td>\n",
       "      <td>2019-07-25</td>\n",
       "    </tr>\n",
       "    <tr>\n",
       "      <th>3</th>\n",
       "      <td>CartScreenAppear</td>\n",
       "      <td>3518123091307005509</td>\n",
       "      <td>2019-07-25 11:28:47</td>\n",
       "      <td>248</td>\n",
       "      <td>2019-07-25 11:28:47</td>\n",
       "      <td>2019-07-25</td>\n",
       "    </tr>\n",
       "    <tr>\n",
       "      <th>4</th>\n",
       "      <td>PaymentScreenSuccessful</td>\n",
       "      <td>6217807653094995999</td>\n",
       "      <td>2019-07-25 11:48:42</td>\n",
       "      <td>248</td>\n",
       "      <td>2019-07-25 11:48:42</td>\n",
       "      <td>2019-07-25</td>\n",
       "    </tr>\n",
       "    <tr>\n",
       "      <th>...</th>\n",
       "      <td>...</td>\n",
       "      <td>...</td>\n",
       "      <td>...</td>\n",
       "      <td>...</td>\n",
       "      <td>...</td>\n",
       "      <td>...</td>\n",
       "    </tr>\n",
       "    <tr>\n",
       "      <th>243708</th>\n",
       "      <td>MainScreenAppear</td>\n",
       "      <td>4599628364049201812</td>\n",
       "      <td>2019-08-07 21:12:25</td>\n",
       "      <td>247</td>\n",
       "      <td>2019-08-07 21:12:25</td>\n",
       "      <td>2019-08-07</td>\n",
       "    </tr>\n",
       "    <tr>\n",
       "      <th>243709</th>\n",
       "      <td>MainScreenAppear</td>\n",
       "      <td>5849806612437486590</td>\n",
       "      <td>2019-08-07 21:13:59</td>\n",
       "      <td>246</td>\n",
       "      <td>2019-08-07 21:13:59</td>\n",
       "      <td>2019-08-07</td>\n",
       "    </tr>\n",
       "    <tr>\n",
       "      <th>243710</th>\n",
       "      <td>MainScreenAppear</td>\n",
       "      <td>5746969938801999050</td>\n",
       "      <td>2019-08-07 21:14:43</td>\n",
       "      <td>246</td>\n",
       "      <td>2019-08-07 21:14:43</td>\n",
       "      <td>2019-08-07</td>\n",
       "    </tr>\n",
       "    <tr>\n",
       "      <th>243711</th>\n",
       "      <td>MainScreenAppear</td>\n",
       "      <td>5746969938801999050</td>\n",
       "      <td>2019-08-07 21:14:58</td>\n",
       "      <td>246</td>\n",
       "      <td>2019-08-07 21:14:58</td>\n",
       "      <td>2019-08-07</td>\n",
       "    </tr>\n",
       "    <tr>\n",
       "      <th>243712</th>\n",
       "      <td>OffersScreenAppear</td>\n",
       "      <td>5746969938801999050</td>\n",
       "      <td>2019-08-07 21:15:17</td>\n",
       "      <td>246</td>\n",
       "      <td>2019-08-07 21:15:17</td>\n",
       "      <td>2019-08-07</td>\n",
       "    </tr>\n",
       "  </tbody>\n",
       "</table>\n",
       "<p>243713 rows × 6 columns</p>\n",
       "</div>"
      ],
      "text/plain": [
       "                     event_name              user_id     event_timestamp  \\\n",
       "0              MainScreenAppear  4575588528974610257 2019-07-25 04:43:36   \n",
       "1              MainScreenAppear  7416695313311560658 2019-07-25 11:11:42   \n",
       "2       PaymentScreenSuccessful  3518123091307005509 2019-07-25 11:28:47   \n",
       "3              CartScreenAppear  3518123091307005509 2019-07-25 11:28:47   \n",
       "4       PaymentScreenSuccessful  6217807653094995999 2019-07-25 11:48:42   \n",
       "...                         ...                  ...                 ...   \n",
       "243708         MainScreenAppear  4599628364049201812 2019-08-07 21:12:25   \n",
       "243709         MainScreenAppear  5849806612437486590 2019-08-07 21:13:59   \n",
       "243710         MainScreenAppear  5746969938801999050 2019-08-07 21:14:43   \n",
       "243711         MainScreenAppear  5746969938801999050 2019-08-07 21:14:58   \n",
       "243712       OffersScreenAppear  5746969938801999050 2019-08-07 21:15:17   \n",
       "\n",
       "        exp_id          event_time        date  \n",
       "0          246 2019-07-25 04:43:36  2019-07-25  \n",
       "1          246 2019-07-25 11:11:42  2019-07-25  \n",
       "2          248 2019-07-25 11:28:47  2019-07-25  \n",
       "3          248 2019-07-25 11:28:47  2019-07-25  \n",
       "4          248 2019-07-25 11:48:42  2019-07-25  \n",
       "...        ...                 ...         ...  \n",
       "243708     247 2019-08-07 21:12:25  2019-08-07  \n",
       "243709     246 2019-08-07 21:13:59  2019-08-07  \n",
       "243710     246 2019-08-07 21:14:43  2019-08-07  \n",
       "243711     246 2019-08-07 21:14:58  2019-08-07  \n",
       "243712     246 2019-08-07 21:15:17  2019-08-07  \n",
       "\n",
       "[243713 rows x 6 columns]"
      ]
     },
     "execution_count": 14,
     "metadata": {},
     "output_type": "execute_result"
    }
   ],
   "source": [
    "data"
   ]
  },
  {
   "cell_type": "markdown",
   "metadata": {},
   "source": [
    "**Вывод:**<br>\n",
    "В таблице изменены названия и регистр столбцов, проверены и удалены дубликаты, а также добавлены столбец с датой и временем и отдельный столбец дат. Пропуски в данных отсутствовали."
   ]
  },
  {
   "cell_type": "markdown",
   "metadata": {},
   "source": [
    "**3. Изучение и проверка данных.**"
   ]
  },
  {
   "cell_type": "markdown",
   "metadata": {},
   "source": [
    "**3.1. Сколько всего событий в логе.**"
   ]
  },
  {
   "cell_type": "code",
   "execution_count": 15,
   "metadata": {},
   "outputs": [
    {
     "name": "stdout",
     "output_type": "stream",
     "text": [
      "Количество событий в логе: 243713\n"
     ]
    }
   ],
   "source": [
    "print(\"Количество событий в логе:\", data.shape[0])"
   ]
  },
  {
   "cell_type": "markdown",
   "metadata": {},
   "source": [
    "**3.2. Сколько всего пользователей в логе.**"
   ]
  },
  {
   "cell_type": "code",
   "execution_count": 16,
   "metadata": {},
   "outputs": [
    {
     "name": "stdout",
     "output_type": "stream",
     "text": [
      "Количество пользователей в логе: 7551\n"
     ]
    }
   ],
   "source": [
    "print(\"Количество пользователей в логе:\", data[\"user_id\"].nunique())"
   ]
  },
  {
   "cell_type": "markdown",
   "metadata": {},
   "source": [
    "**3.3. Сколько в среднем событий приходится на пользователя.**"
   ]
  },
  {
   "cell_type": "code",
   "execution_count": 17,
   "metadata": {},
   "outputs": [
    {
     "name": "stdout",
     "output_type": "stream",
     "text": [
      " Среднее количество событий на пользователя: 32\n"
     ]
    }
   ],
   "source": [
    "print(\" Среднее количество событий на пользователя:\", round(data.shape[0] / data[\"user_id\"].nunique()))"
   ]
  },
  {
   "cell_type": "markdown",
   "metadata": {},
   "source": [
    "Проверим по другому"
   ]
  },
  {
   "cell_type": "code",
   "execution_count": 18,
   "metadata": {},
   "outputs": [],
   "source": [
    "users_events = data.groupby(\"user_id\")[\"event_name\"].count()"
   ]
  },
  {
   "cell_type": "code",
   "execution_count": 19,
   "metadata": {},
   "outputs": [
    {
     "data": {
      "text/plain": [
       "count    7551.000000\n",
       "mean       32.275593\n",
       "std        65.154219\n",
       "min         1.000000\n",
       "25%         9.000000\n",
       "50%        20.000000\n",
       "75%        37.000000\n",
       "max      2307.000000\n",
       "Name: event_name, dtype: float64"
      ]
     },
     "execution_count": 19,
     "metadata": {},
     "output_type": "execute_result"
    }
   ],
   "source": [
    "users_events.describe()"
   ]
  },
  {
   "cell_type": "markdown",
   "metadata": {},
   "source": [
    "Среднее количество событий на пользователя, как и количество самих пользователей совпадает с предыдущими расчётами. В данных присутствует аномально большое значение 2307."
   ]
  },
  {
   "cell_type": "markdown",
   "metadata": {},
   "source": [
    "**3.4. Максимальная и минимальная дата. Гистограмма по дате и времени. Выяснить насколько данные полные. Установить за какой в действительности период имеются данные.**"
   ]
  },
  {
   "cell_type": "code",
   "execution_count": 20,
   "metadata": {},
   "outputs": [
    {
     "name": "stdout",
     "output_type": "stream",
     "text": [
      "Минимальная дата: 2019-07-25\n",
      "Максимальная дата: 2019-08-07\n"
     ]
    }
   ],
   "source": [
    "print(\"Минимальная дата:\", data[\"date\"].min())\n",
    "print(\"Максимальная дата:\", data[\"date\"].max())"
   ]
  },
  {
   "cell_type": "markdown",
   "metadata": {},
   "source": [
    "Данные охватывают две недели."
   ]
  },
  {
   "cell_type": "code",
   "execution_count": 21,
   "metadata": {
    "scrolled": true
   },
   "outputs": [
    {
     "data": {
      "text/plain": [
       "Text(0.5, 1.0, 'Гистограмма по дате и времени')"
      ]
     },
     "execution_count": 21,
     "metadata": {},
     "output_type": "execute_result"
    },
    {
     "data": {
      "image/png": "[encoded data removed]",
      "text/plain": [
       "<Figure size 1080x504 with 1 Axes>"
      ]
     },
     "metadata": {
      "needs_background": "light"
     },
     "output_type": "display_data"
    }
   ],
   "source": [
    "data[\"event_time\"].hist(bins = 100, figsize = (15, 7))\n",
    "plt.title(\"Гистограмма по дате и времени\")"
   ]
  },
  {
   "cell_type": "code",
   "execution_count": 22,
   "metadata": {},
   "outputs": [
    {
     "data": {
      "text/plain": [
       "Text(0.5, 1.0, 'Гистограмма по дате и времени')"
      ]
     },
     "execution_count": 22,
     "metadata": {},
     "output_type": "execute_result"
    },
    {
     "data": {
      "image/png": "[encoded data removed]",
      "text/plain": [
       "<Figure size 1080x504 with 1 Axes>"
      ]
     },
     "metadata": {
      "needs_background": "light"
     },
     "output_type": "display_data"
    }
   ],
   "source": [
    "data[\"event_time\"].hist(bins = 14*24, figsize = (15, 7))\n",
    "plt.title(\"Гистограмма по дате и времени\")"
   ]
  },
  {
   "cell_type": "markdown",
   "metadata": {},
   "source": [
    "Судя по гистограмме, данные, в основном, собраны за первую неделю августа, при этом минимальная дата, которая стоит в таблице - 25.07.2019 г. Вполне возможно, такое расхождение обусловлено влиянием событий из прошлого. Чтобы в дальнейшем данные были более корректными, необходимо отсечь данные за июль."
   ]
  },
  {
   "cell_type": "code",
   "execution_count": 23,
   "metadata": {},
   "outputs": [],
   "source": [
    "data_filtered = data[(data[\"date\"] >= dt.date(2019, 8, 1)) & (data[\"date\"] <= dt.date(2019, 8, 7))]"
   ]
  },
  {
   "cell_type": "code",
   "execution_count": 24,
   "metadata": {},
   "outputs": [
    {
     "data": {
      "text/html": [
       "<div>\n",
       "<style scoped>\n",
       "    .dataframe tbody tr th:only-of-type {\n",
       "        vertical-align: middle;\n",
       "    }\n",
       "\n",
       "    .dataframe tbody tr th {\n",
       "        vertical-align: top;\n",
       "    }\n",
       "\n",
       "    .dataframe thead th {\n",
       "        text-align: right;\n",
       "    }\n",
       "</style>\n",
       "<table border=\"1\" class=\"dataframe\">\n",
       "  <thead>\n",
       "    <tr style=\"text-align: right;\">\n",
       "      <th></th>\n",
       "      <th>event_name</th>\n",
       "      <th>user_id</th>\n",
       "      <th>event_timestamp</th>\n",
       "      <th>exp_id</th>\n",
       "      <th>event_time</th>\n",
       "      <th>date</th>\n",
       "    </tr>\n",
       "  </thead>\n",
       "  <tbody>\n",
       "    <tr>\n",
       "      <th>2826</th>\n",
       "      <td>Tutorial</td>\n",
       "      <td>3737462046622621720</td>\n",
       "      <td>2019-08-01 00:07:28</td>\n",
       "      <td>246</td>\n",
       "      <td>2019-08-01 00:07:28</td>\n",
       "      <td>2019-08-01</td>\n",
       "    </tr>\n",
       "    <tr>\n",
       "      <th>2827</th>\n",
       "      <td>MainScreenAppear</td>\n",
       "      <td>3737462046622621720</td>\n",
       "      <td>2019-08-01 00:08:00</td>\n",
       "      <td>246</td>\n",
       "      <td>2019-08-01 00:08:00</td>\n",
       "      <td>2019-08-01</td>\n",
       "    </tr>\n",
       "    <tr>\n",
       "      <th>2828</th>\n",
       "      <td>MainScreenAppear</td>\n",
       "      <td>3737462046622621720</td>\n",
       "      <td>2019-08-01 00:08:55</td>\n",
       "      <td>246</td>\n",
       "      <td>2019-08-01 00:08:55</td>\n",
       "      <td>2019-08-01</td>\n",
       "    </tr>\n",
       "    <tr>\n",
       "      <th>2829</th>\n",
       "      <td>OffersScreenAppear</td>\n",
       "      <td>3737462046622621720</td>\n",
       "      <td>2019-08-01 00:08:58</td>\n",
       "      <td>246</td>\n",
       "      <td>2019-08-01 00:08:58</td>\n",
       "      <td>2019-08-01</td>\n",
       "    </tr>\n",
       "    <tr>\n",
       "      <th>2830</th>\n",
       "      <td>MainScreenAppear</td>\n",
       "      <td>1433840883824088890</td>\n",
       "      <td>2019-08-01 00:08:59</td>\n",
       "      <td>247</td>\n",
       "      <td>2019-08-01 00:08:59</td>\n",
       "      <td>2019-08-01</td>\n",
       "    </tr>\n",
       "    <tr>\n",
       "      <th>...</th>\n",
       "      <td>...</td>\n",
       "      <td>...</td>\n",
       "      <td>...</td>\n",
       "      <td>...</td>\n",
       "      <td>...</td>\n",
       "      <td>...</td>\n",
       "    </tr>\n",
       "    <tr>\n",
       "      <th>243708</th>\n",
       "      <td>MainScreenAppear</td>\n",
       "      <td>4599628364049201812</td>\n",
       "      <td>2019-08-07 21:12:25</td>\n",
       "      <td>247</td>\n",
       "      <td>2019-08-07 21:12:25</td>\n",
       "      <td>2019-08-07</td>\n",
       "    </tr>\n",
       "    <tr>\n",
       "      <th>243709</th>\n",
       "      <td>MainScreenAppear</td>\n",
       "      <td>5849806612437486590</td>\n",
       "      <td>2019-08-07 21:13:59</td>\n",
       "      <td>246</td>\n",
       "      <td>2019-08-07 21:13:59</td>\n",
       "      <td>2019-08-07</td>\n",
       "    </tr>\n",
       "    <tr>\n",
       "      <th>243710</th>\n",
       "      <td>MainScreenAppear</td>\n",
       "      <td>5746969938801999050</td>\n",
       "      <td>2019-08-07 21:14:43</td>\n",
       "      <td>246</td>\n",
       "      <td>2019-08-07 21:14:43</td>\n",
       "      <td>2019-08-07</td>\n",
       "    </tr>\n",
       "    <tr>\n",
       "      <th>243711</th>\n",
       "      <td>MainScreenAppear</td>\n",
       "      <td>5746969938801999050</td>\n",
       "      <td>2019-08-07 21:14:58</td>\n",
       "      <td>246</td>\n",
       "      <td>2019-08-07 21:14:58</td>\n",
       "      <td>2019-08-07</td>\n",
       "    </tr>\n",
       "    <tr>\n",
       "      <th>243712</th>\n",
       "      <td>OffersScreenAppear</td>\n",
       "      <td>5746969938801999050</td>\n",
       "      <td>2019-08-07 21:15:17</td>\n",
       "      <td>246</td>\n",
       "      <td>2019-08-07 21:15:17</td>\n",
       "      <td>2019-08-07</td>\n",
       "    </tr>\n",
       "  </tbody>\n",
       "</table>\n",
       "<p>240887 rows × 6 columns</p>\n",
       "</div>"
      ],
      "text/plain": [
       "                event_name              user_id     event_timestamp  exp_id  \\\n",
       "2826              Tutorial  3737462046622621720 2019-08-01 00:07:28     246   \n",
       "2827      MainScreenAppear  3737462046622621720 2019-08-01 00:08:00     246   \n",
       "2828      MainScreenAppear  3737462046622621720 2019-08-01 00:08:55     246   \n",
       "2829    OffersScreenAppear  3737462046622621720 2019-08-01 00:08:58     246   \n",
       "2830      MainScreenAppear  1433840883824088890 2019-08-01 00:08:59     247   \n",
       "...                    ...                  ...                 ...     ...   \n",
       "243708    MainScreenAppear  4599628364049201812 2019-08-07 21:12:25     247   \n",
       "243709    MainScreenAppear  5849806612437486590 2019-08-07 21:13:59     246   \n",
       "243710    MainScreenAppear  5746969938801999050 2019-08-07 21:14:43     246   \n",
       "243711    MainScreenAppear  5746969938801999050 2019-08-07 21:14:58     246   \n",
       "243712  OffersScreenAppear  5746969938801999050 2019-08-07 21:15:17     246   \n",
       "\n",
       "                event_time        date  \n",
       "2826   2019-08-01 00:07:28  2019-08-01  \n",
       "2827   2019-08-01 00:08:00  2019-08-01  \n",
       "2828   2019-08-01 00:08:55  2019-08-01  \n",
       "2829   2019-08-01 00:08:58  2019-08-01  \n",
       "2830   2019-08-01 00:08:59  2019-08-01  \n",
       "...                    ...         ...  \n",
       "243708 2019-08-07 21:12:25  2019-08-07  \n",
       "243709 2019-08-07 21:13:59  2019-08-07  \n",
       "243710 2019-08-07 21:14:43  2019-08-07  \n",
       "243711 2019-08-07 21:14:58  2019-08-07  \n",
       "243712 2019-08-07 21:15:17  2019-08-07  \n",
       "\n",
       "[240887 rows x 6 columns]"
      ]
     },
     "execution_count": 24,
     "metadata": {},
     "output_type": "execute_result"
    }
   ],
   "source": [
    "data_filtered"
   ]
  },
  {
   "cell_type": "code",
   "execution_count": 25,
   "metadata": {},
   "outputs": [
    {
     "name": "stdout",
     "output_type": "stream",
     "text": [
      "Минимальная дата: 2019-08-01\n",
      "Максимальная дата: 2019-08-07\n"
     ]
    }
   ],
   "source": [
    "print(\"Минимальная дата:\", data_filtered[\"date\"].min())\n",
    "print(\"Максимальная дата:\", data_filtered[\"date\"].max())"
   ]
  },
  {
   "cell_type": "code",
   "execution_count": 26,
   "metadata": {},
   "outputs": [
    {
     "data": {
      "text/plain": [
       "Text(0.5, 1.0, 'Гистограмма по дате и времени')"
      ]
     },
     "execution_count": 26,
     "metadata": {},
     "output_type": "execute_result"
    },
    {
     "data": {
      "image/png": "[encoded data removed]",
      "text/plain": [
       "<Figure size 1080x504 with 1 Axes>"
      ]
     },
     "metadata": {
      "needs_background": "light"
     },
     "output_type": "display_data"
    }
   ],
   "source": [
    "data_filtered[\"event_time\"].hist(bins = 100, figsize = (15, 7))\n",
    "plt.title(\"Гистограмма по дате и времени\")"
   ]
  },
  {
   "cell_type": "markdown",
   "metadata": {},
   "source": [
    "Срез сделан. Теперь данные более корректные."
   ]
  },
  {
   "cell_type": "markdown",
   "metadata": {},
   "source": [
    "**3.5. Сколько событий и пользователей потеряли, отбросив старые данные.**"
   ]
  },
  {
   "cell_type": "code",
   "execution_count": 27,
   "metadata": {},
   "outputs": [
    {
     "name": "stdout",
     "output_type": "stream",
     "text": [
      "Количество событий в логе до фильтрации: 243713\n",
      "Количество пользователей в логе до фльтрации: 7551\n",
      "\n",
      "Количество событий в логе после фильтрации: 240887\n",
      "Количество пользователей в логе после фильтрации: 7534\n"
     ]
    }
   ],
   "source": [
    "print(\"Количество событий в логе до фильтрации:\", data.shape[0])\n",
    "print(\"Количество пользователей в логе до фльтрации:\", data[\"user_id\"].nunique())\n",
    "print()\n",
    "print(\"Количество событий в логе после фильтрации:\", data_filtered.shape[0])\n",
    "print(\"Количество пользователей в логе после фильтрации:\", data_filtered[\"user_id\"].nunique())"
   ]
  },
  {
   "cell_type": "code",
   "execution_count": 28,
   "metadata": {},
   "outputs": [
    {
     "name": "stdout",
     "output_type": "stream",
     "text": [
      "Количество потерь событий в логе после фильтрации: 2826\n",
      "Количество потерь пользователей в логе после фильтрации: 17\n"
     ]
    }
   ],
   "source": [
    "print(\"Количество потерь событий в логе после фильтрации:\", data.shape[0] - data_filtered.shape[0])\n",
    "print(\"Количество потерь пользователей в логе после фильтрации:\", data[\"user_id\"].nunique() - data_filtered[\"user_id\"].nunique())"
   ]
  },
  {
   "cell_type": "code",
   "execution_count": 29,
   "metadata": {},
   "outputs": [
    {
     "name": "stdout",
     "output_type": "stream",
     "text": [
      "Процент потерь событий в логе после фильтрации: 1.16 %\n",
      "Процент потерь пользователей в логе после фильтрации: 0.23 %\n"
     ]
    }
   ],
   "source": [
    "print(\"Процент потерь событий в логе после фильтрации:\", round((data.shape[0] - data_filtered.shape[0]) / data.shape[0] * 100, 2), \"%\")\n",
    "print(\"Процент потерь пользователей в логе после фильтрации:\", round((data[\"user_id\"].nunique() - data_filtered[\"user_id\"].nunique()) / data[\"user_id\"].nunique() * 100, 2), \"%\")"
   ]
  },
  {
   "cell_type": "markdown",
   "metadata": {},
   "source": [
    "Потери несущественные."
   ]
  },
  {
   "cell_type": "markdown",
   "metadata": {},
   "source": [
    "**3.6. Проверка наличия пользователей из всех трёх экспериментальных групп.**"
   ]
  },
  {
   "cell_type": "code",
   "execution_count": 30,
   "metadata": {},
   "outputs": [
    {
     "data": {
      "text/html": [
       "<div>\n",
       "<style scoped>\n",
       "    .dataframe tbody tr th:only-of-type {\n",
       "        vertical-align: middle;\n",
       "    }\n",
       "\n",
       "    .dataframe tbody tr th {\n",
       "        vertical-align: top;\n",
       "    }\n",
       "\n",
       "    .dataframe thead th {\n",
       "        text-align: right;\n",
       "    }\n",
       "</style>\n",
       "<table border=\"1\" class=\"dataframe\">\n",
       "  <thead>\n",
       "    <tr style=\"text-align: right;\">\n",
       "      <th></th>\n",
       "      <th>user_id</th>\n",
       "    </tr>\n",
       "    <tr>\n",
       "      <th>exp_id</th>\n",
       "      <th></th>\n",
       "    </tr>\n",
       "  </thead>\n",
       "  <tbody>\n",
       "    <tr>\n",
       "      <th>246</th>\n",
       "      <td>2484</td>\n",
       "    </tr>\n",
       "    <tr>\n",
       "      <th>247</th>\n",
       "      <td>2513</td>\n",
       "    </tr>\n",
       "    <tr>\n",
       "      <th>248</th>\n",
       "      <td>2537</td>\n",
       "    </tr>\n",
       "  </tbody>\n",
       "</table>\n",
       "</div>"
      ],
      "text/plain": [
       "        user_id\n",
       "exp_id         \n",
       "246        2484\n",
       "247        2513\n",
       "248        2537"
      ]
     },
     "execution_count": 30,
     "metadata": {},
     "output_type": "execute_result"
    }
   ],
   "source": [
    "data_filtered.groupby(\"exp_id\").agg({\"user_id\": \"nunique\"})"
   ]
  },
  {
   "cell_type": "markdown",
   "metadata": {},
   "source": [
    "В таблице присутствуют данные пользователей из всех трёх групп. Разница в размере между группами незначительная."
   ]
  },
  {
   "cell_type": "markdown",
   "metadata": {},
   "source": [
    "**Вывод:**<br>\n",
    "Изначально в таблице были данные о событиях за две недели - последнюю неделю июля и первую неделю августа. Однако, после проверки, выяснилось, что фактически присутствуют данные только за август, что скорее всего, было обусловлено влиянием событий из прошлого. Для предотвращения искажений в дальнейшем, был проведён срез данных и отсечена информация за июль. Количество потерянных данных при этом было минимальным. Также было проверено наличие в таблице информации о пользователях из всех трёх групп. В настоящее время данные в целом корректны, группы, примерно, равны."
   ]
  },
  {
   "cell_type": "markdown",
   "metadata": {},
   "source": [
    "**4. Изучение воронки событий.**"
   ]
  },
  {
   "cell_type": "markdown",
   "metadata": {},
   "source": [
    "**4.1. Типы событий и частота их появления.**"
   ]
  },
  {
   "cell_type": "code",
   "execution_count": 31,
   "metadata": {},
   "outputs": [
    {
     "data": {
      "text/html": [
       "<div>\n",
       "<style scoped>\n",
       "    .dataframe tbody tr th:only-of-type {\n",
       "        vertical-align: middle;\n",
       "    }\n",
       "\n",
       "    .dataframe tbody tr th {\n",
       "        vertical-align: top;\n",
       "    }\n",
       "\n",
       "    .dataframe thead th {\n",
       "        text-align: right;\n",
       "    }\n",
       "</style>\n",
       "<table border=\"1\" class=\"dataframe\">\n",
       "  <thead>\n",
       "    <tr style=\"text-align: right;\">\n",
       "      <th></th>\n",
       "      <th>event_name</th>\n",
       "      <th>user_id</th>\n",
       "    </tr>\n",
       "  </thead>\n",
       "  <tbody>\n",
       "    <tr>\n",
       "      <th>0</th>\n",
       "      <td>MainScreenAppear</td>\n",
       "      <td>117328</td>\n",
       "    </tr>\n",
       "    <tr>\n",
       "      <th>1</th>\n",
       "      <td>OffersScreenAppear</td>\n",
       "      <td>46333</td>\n",
       "    </tr>\n",
       "    <tr>\n",
       "      <th>2</th>\n",
       "      <td>CartScreenAppear</td>\n",
       "      <td>42303</td>\n",
       "    </tr>\n",
       "    <tr>\n",
       "      <th>3</th>\n",
       "      <td>PaymentScreenSuccessful</td>\n",
       "      <td>33918</td>\n",
       "    </tr>\n",
       "    <tr>\n",
       "      <th>4</th>\n",
       "      <td>Tutorial</td>\n",
       "      <td>1005</td>\n",
       "    </tr>\n",
       "  </tbody>\n",
       "</table>\n",
       "</div>"
      ],
      "text/plain": [
       "                event_name  user_id\n",
       "0         MainScreenAppear   117328\n",
       "1       OffersScreenAppear    46333\n",
       "2         CartScreenAppear    42303\n",
       "3  PaymentScreenSuccessful    33918\n",
       "4                 Tutorial     1005"
      ]
     },
     "execution_count": 31,
     "metadata": {},
     "output_type": "execute_result"
    }
   ],
   "source": [
    "data_filtered.pivot_table(index = \"event_name\", values = \"user_id\", aggfunc = \"count\").sort_values(by = \"user_id\", ascending = False).reset_index()"
   ]
  },
  {
   "cell_type": "markdown",
   "metadata": {},
   "source": [
    "Для наглядности построим диаграмму."
   ]
  },
  {
   "cell_type": "code",
   "execution_count": 32,
   "metadata": {
    "scrolled": false
   },
   "outputs": [
    {
     "data": {
      "text/plain": [
       "<AxesSubplot:title={'center':'Типы событий и частота их появления'}, ylabel='user_id'>"
      ]
     },
     "execution_count": 32,
     "metadata": {},
     "output_type": "execute_result"
    },
    {
     "data": {
      "image/png": "[encoded data removed]",
      "text/plain": [
       "<Figure size 864x720 with 1 Axes>"
      ]
     },
     "metadata": {},
     "output_type": "display_data"
    }
   ],
   "source": [
    "data_filtered.pivot_table(index = \"event_name\", values = \"user_id\", aggfunc = \"count\").sort_values(by = \"user_id\").plot(y = \"user_id\", kind = \"pie\", figsize = (12, 10), autopct = \"%1.1f%%\", title = \"Типы событий и частота их появления\")"
   ]
  },
  {
   "cell_type": "markdown",
   "metadata": {},
   "source": [
    "Чаще всего просходило событие \"MainScreenAppear\" (\"Появление главного экрана\"). Именно его совершило самое большое количество пользователей. Далее частота появления событий начинает уменьшаться пропорционально уменьшению количества пользователей. "
   ]
  },
  {
   "cell_type": "markdown",
   "metadata": {},
   "source": [
    "**4.2. Количество уникальных пользователей, которые совершали каждое из этих событий. Доля пользователей, которые хоть раз совершали каждое событие.**"
   ]
  },
  {
   "cell_type": "code",
   "execution_count": 33,
   "metadata": {},
   "outputs": [
    {
     "data": {
      "text/html": [
       "<div>\n",
       "<style scoped>\n",
       "    .dataframe tbody tr th:only-of-type {\n",
       "        vertical-align: middle;\n",
       "    }\n",
       "\n",
       "    .dataframe tbody tr th {\n",
       "        vertical-align: top;\n",
       "    }\n",
       "\n",
       "    .dataframe thead th {\n",
       "        text-align: right;\n",
       "    }\n",
       "</style>\n",
       "<table border=\"1\" class=\"dataframe\">\n",
       "  <thead>\n",
       "    <tr style=\"text-align: right;\">\n",
       "      <th></th>\n",
       "      <th>event_name</th>\n",
       "      <th>unique_users</th>\n",
       "    </tr>\n",
       "  </thead>\n",
       "  <tbody>\n",
       "    <tr>\n",
       "      <th>0</th>\n",
       "      <td>MainScreenAppear</td>\n",
       "      <td>7419</td>\n",
       "    </tr>\n",
       "    <tr>\n",
       "      <th>1</th>\n",
       "      <td>OffersScreenAppear</td>\n",
       "      <td>4593</td>\n",
       "    </tr>\n",
       "    <tr>\n",
       "      <th>2</th>\n",
       "      <td>CartScreenAppear</td>\n",
       "      <td>3734</td>\n",
       "    </tr>\n",
       "    <tr>\n",
       "      <th>3</th>\n",
       "      <td>PaymentScreenSuccessful</td>\n",
       "      <td>3539</td>\n",
       "    </tr>\n",
       "    <tr>\n",
       "      <th>4</th>\n",
       "      <td>Tutorial</td>\n",
       "      <td>840</td>\n",
       "    </tr>\n",
       "  </tbody>\n",
       "</table>\n",
       "</div>"
      ],
      "text/plain": [
       "                event_name  unique_users\n",
       "0         MainScreenAppear          7419\n",
       "1       OffersScreenAppear          4593\n",
       "2         CartScreenAppear          3734\n",
       "3  PaymentScreenSuccessful          3539\n",
       "4                 Tutorial           840"
      ]
     },
     "execution_count": 33,
     "metadata": {},
     "output_type": "execute_result"
    }
   ],
   "source": [
    "percent_unique_users = data_filtered.groupby(\"event_name\").agg({\"user_id\": \"nunique\"}).rename(columns = {\"user_id\": \"unique_users\"}).sort_values(by = \"unique_users\", ascending = False).reset_index()\n",
    "percent_unique_users"
   ]
  },
  {
   "cell_type": "code",
   "execution_count": 34,
   "metadata": {},
   "outputs": [
    {
     "data": {
      "text/html": [
       "<div>\n",
       "<style scoped>\n",
       "    .dataframe tbody tr th:only-of-type {\n",
       "        vertical-align: middle;\n",
       "    }\n",
       "\n",
       "    .dataframe tbody tr th {\n",
       "        vertical-align: top;\n",
       "    }\n",
       "\n",
       "    .dataframe thead th {\n",
       "        text-align: right;\n",
       "    }\n",
       "</style>\n",
       "<table border=\"1\" class=\"dataframe\">\n",
       "  <thead>\n",
       "    <tr style=\"text-align: right;\">\n",
       "      <th></th>\n",
       "      <th>event_name</th>\n",
       "      <th>unique_users</th>\n",
       "      <th>percent_conversion_all</th>\n",
       "    </tr>\n",
       "  </thead>\n",
       "  <tbody>\n",
       "    <tr>\n",
       "      <th>0</th>\n",
       "      <td>MainScreenAppear</td>\n",
       "      <td>7419</td>\n",
       "      <td>0.98</td>\n",
       "    </tr>\n",
       "    <tr>\n",
       "      <th>1</th>\n",
       "      <td>OffersScreenAppear</td>\n",
       "      <td>4593</td>\n",
       "      <td>0.61</td>\n",
       "    </tr>\n",
       "    <tr>\n",
       "      <th>2</th>\n",
       "      <td>CartScreenAppear</td>\n",
       "      <td>3734</td>\n",
       "      <td>0.50</td>\n",
       "    </tr>\n",
       "    <tr>\n",
       "      <th>3</th>\n",
       "      <td>PaymentScreenSuccessful</td>\n",
       "      <td>3539</td>\n",
       "      <td>0.47</td>\n",
       "    </tr>\n",
       "    <tr>\n",
       "      <th>4</th>\n",
       "      <td>Tutorial</td>\n",
       "      <td>840</td>\n",
       "      <td>0.11</td>\n",
       "    </tr>\n",
       "  </tbody>\n",
       "</table>\n",
       "</div>"
      ],
      "text/plain": [
       "                event_name  unique_users  percent_conversion_all\n",
       "0         MainScreenAppear          7419                    0.98\n",
       "1       OffersScreenAppear          4593                    0.61\n",
       "2         CartScreenAppear          3734                    0.50\n",
       "3  PaymentScreenSuccessful          3539                    0.47\n",
       "4                 Tutorial           840                    0.11"
      ]
     },
     "execution_count": 34,
     "metadata": {},
     "output_type": "execute_result"
    }
   ],
   "source": [
    "percent_unique_users[\"percent_conversion_all\"] =  round(\n",
    "    percent_unique_users[\"unique_users\"] / data_filtered[\"user_id\"].nunique(), 2\n",
    ")\n",
    "percent_unique_users"
   ]
  },
  {
   "cell_type": "code",
   "execution_count": 35,
   "metadata": {},
   "outputs": [
    {
     "data": {
      "text/plain": [
       "<AxesSubplot:title={'center':'Количество уникальных пользователей для каждого события'}, ylabel='user_id'>"
      ]
     },
     "execution_count": 35,
     "metadata": {},
     "output_type": "execute_result"
    },
    {
     "data": {
      "image/png": "[encoded data removed]",
      "text/plain": [
       "<Figure size 864x720 with 1 Axes>"
      ]
     },
     "metadata": {},
     "output_type": "display_data"
    }
   ],
   "source": [
    "data_filtered.groupby(\"event_name\").agg({\"user_id\": \"nunique\"}).sort_values(by = \"user_id\").plot(y = \"user_id\", kind = \"pie\", figsize = (12, 10), title = \"Количество уникальных пользователей для каждого события\")"
   ]
  },
  {
   "cell_type": "markdown",
   "metadata": {},
   "source": [
    "В конверсии присутствуют два заметных провала: между 1 и 2 шагом, а также между 4 и 5. Необычно, что есть такое значительное снижение между появлением Экрана успешной оплаты (4 шаг) и появлением Экрана с обучением (5 шаг). Это может объясняться тем, что инструкции появляются вначале и их часто можно пропустить, а также тем, что после покупки пользователи, через некоторое время, снова переходят к ним, при этом некоторые пользователи закрывают приложение сразу после подтверждения успешной оплаты. Остальные показатели конверсии хорошие, при переходе с одного этапа на другой сохраняется высокий процент пользователей."
   ]
  },
  {
   "cell_type": "markdown",
   "metadata": {},
   "source": [
    "При этом также следует отметить, что если брать только уникальных пользователей, то доля пользователей от общего числа на первом этапе уменьшилась, а на остальных увеличилась."
   ]
  },
  {
   "cell_type": "markdown",
   "metadata": {},
   "source": [
    "**4.3. Порядок событий. Все ли они выстраиваются в последовательную цепочку.**"
   ]
  },
  {
   "cell_type": "markdown",
   "metadata": {},
   "source": [
    "Посчитаем конверсию уникальных пользователей для каждого этапа."
   ]
  },
  {
   "cell_type": "code",
   "execution_count": 36,
   "metadata": {},
   "outputs": [
    {
     "data": {
      "text/html": [
       "<div>\n",
       "<style scoped>\n",
       "    .dataframe tbody tr th:only-of-type {\n",
       "        vertical-align: middle;\n",
       "    }\n",
       "\n",
       "    .dataframe tbody tr th {\n",
       "        vertical-align: top;\n",
       "    }\n",
       "\n",
       "    .dataframe thead th {\n",
       "        text-align: right;\n",
       "    }\n",
       "</style>\n",
       "<table border=\"1\" class=\"dataframe\">\n",
       "  <thead>\n",
       "    <tr style=\"text-align: right;\">\n",
       "      <th></th>\n",
       "      <th>event_name</th>\n",
       "      <th>unique_users</th>\n",
       "      <th>percent_conversion_all</th>\n",
       "      <th>step_conversion_unique</th>\n",
       "    </tr>\n",
       "  </thead>\n",
       "  <tbody>\n",
       "    <tr>\n",
       "      <th>0</th>\n",
       "      <td>MainScreenAppear</td>\n",
       "      <td>7419</td>\n",
       "      <td>0.98</td>\n",
       "      <td>NaN</td>\n",
       "    </tr>\n",
       "    <tr>\n",
       "      <th>1</th>\n",
       "      <td>OffersScreenAppear</td>\n",
       "      <td>4593</td>\n",
       "      <td>0.61</td>\n",
       "      <td>0.62</td>\n",
       "    </tr>\n",
       "    <tr>\n",
       "      <th>2</th>\n",
       "      <td>CartScreenAppear</td>\n",
       "      <td>3734</td>\n",
       "      <td>0.50</td>\n",
       "      <td>0.81</td>\n",
       "    </tr>\n",
       "    <tr>\n",
       "      <th>3</th>\n",
       "      <td>PaymentScreenSuccessful</td>\n",
       "      <td>3539</td>\n",
       "      <td>0.47</td>\n",
       "      <td>0.95</td>\n",
       "    </tr>\n",
       "    <tr>\n",
       "      <th>4</th>\n",
       "      <td>Tutorial</td>\n",
       "      <td>840</td>\n",
       "      <td>0.11</td>\n",
       "      <td>0.24</td>\n",
       "    </tr>\n",
       "  </tbody>\n",
       "</table>\n",
       "</div>"
      ],
      "text/plain": [
       "                event_name  unique_users  percent_conversion_all  \\\n",
       "0         MainScreenAppear          7419                    0.98   \n",
       "1       OffersScreenAppear          4593                    0.61   \n",
       "2         CartScreenAppear          3734                    0.50   \n",
       "3  PaymentScreenSuccessful          3539                    0.47   \n",
       "4                 Tutorial           840                    0.11   \n",
       "\n",
       "   step_conversion_unique  \n",
       "0                     NaN  \n",
       "1                    0.62  \n",
       "2                    0.81  \n",
       "3                    0.95  \n",
       "4                    0.24  "
      ]
     },
     "execution_count": 36,
     "metadata": {},
     "output_type": "execute_result"
    }
   ],
   "source": [
    "percent_unique_users[\"step_conversion_unique\"] = round(percent_unique_users[\"unique_users\"] / percent_unique_users[\"unique_users\"].shift(), 2)\n",
    "percent_unique_users"
   ]
  },
  {
   "cell_type": "markdown",
   "metadata": {},
   "source": [
    "Конверсия, как и должна, растёт от этапа к этапу. Исключение составляет этап \"Tutorial\" у которого она резко падает. Связано это с тем, что он, как правило, появляется вначале и не является обязательным, его можно пропустить. Пользователей, после оплаты, снова перемещают на этот этап, но не все туда переходят, некоторые просто закрывают приложение, поэтому и конверсия тоже резко падает. В общих расчётах его можно не учитывать.<br>\n",
    "Также возможен вариант, что часть пользователей сразу попадает на этап \"OffersScreenAppear\" (Страница с товарами, каталог), например, через рекламу."
   ]
  },
  {
   "cell_type": "markdown",
   "metadata": {},
   "source": [
    "В большинстве случаев этапы выстроены так (без учёта \"Tutorial\"):\n",
    "1. MainScreenAppear;\n",
    "2. OffersScreenAppear;\n",
    "3. CartScreenAppear;\n",
    "4. PaymentScreenSuccessful."
   ]
  },
  {
   "cell_type": "markdown",
   "metadata": {},
   "source": [
    "**4.4. Доля пользователей, которая переходит на следующий шаг воронки (от числа пользователей на предыдущем). На каком шаге теряете больше всего пользователей? Какая доля пользователей доходит от первого события до оплаты?**"
   ]
  },
  {
   "cell_type": "markdown",
   "metadata": {},
   "source": [
    "На предыдущем этапе уже был сделан похожий подсчёт. Сейчас сделаем расчёт без учёта \"Tutorial\"."
   ]
  },
  {
   "cell_type": "code",
   "execution_count": 37,
   "metadata": {},
   "outputs": [
    {
     "data": {
      "text/html": [
       "<div>\n",
       "<style scoped>\n",
       "    .dataframe tbody tr th:only-of-type {\n",
       "        vertical-align: middle;\n",
       "    }\n",
       "\n",
       "    .dataframe tbody tr th {\n",
       "        vertical-align: top;\n",
       "    }\n",
       "\n",
       "    .dataframe thead th {\n",
       "        text-align: right;\n",
       "    }\n",
       "</style>\n",
       "<table border=\"1\" class=\"dataframe\">\n",
       "  <thead>\n",
       "    <tr style=\"text-align: right;\">\n",
       "      <th></th>\n",
       "      <th>event_name</th>\n",
       "      <th>user_id</th>\n",
       "      <th>share_users</th>\n",
       "    </tr>\n",
       "  </thead>\n",
       "  <tbody>\n",
       "    <tr>\n",
       "      <th>0</th>\n",
       "      <td>MainScreenAppear</td>\n",
       "      <td>7419</td>\n",
       "      <td>1.00</td>\n",
       "    </tr>\n",
       "    <tr>\n",
       "      <th>1</th>\n",
       "      <td>OffersScreenAppear</td>\n",
       "      <td>4593</td>\n",
       "      <td>0.62</td>\n",
       "    </tr>\n",
       "    <tr>\n",
       "      <th>2</th>\n",
       "      <td>CartScreenAppear</td>\n",
       "      <td>3734</td>\n",
       "      <td>0.81</td>\n",
       "    </tr>\n",
       "    <tr>\n",
       "      <th>3</th>\n",
       "      <td>PaymentScreenSuccessful</td>\n",
       "      <td>3539</td>\n",
       "      <td>0.95</td>\n",
       "    </tr>\n",
       "  </tbody>\n",
       "</table>\n",
       "</div>"
      ],
      "text/plain": [
       "                event_name  user_id  share_users\n",
       "0         MainScreenAppear     7419         1.00\n",
       "1       OffersScreenAppear     4593         0.62\n",
       "2         CartScreenAppear     3734         0.81\n",
       "3  PaymentScreenSuccessful     3539         0.95"
      ]
     },
     "execution_count": 37,
     "metadata": {},
     "output_type": "execute_result"
    }
   ],
   "source": [
    "funnel = (\n",
    "    data_filtered\n",
    "    .groupby(\"event_name\")[\"user_id\"].nunique()\n",
    "    .sort_values(ascending = False)\n",
    "    .reset_index()\n",
    ")\n",
    "funnel = funnel.query('event_name != \"Tutorial\"')\n",
    "funnel[\"share_users\"] = round(funnel[\"user_id\"] / funnel[\"user_id\"].shift(periods = 1, fill_value = 1 * funnel[\"user_id\"][0]), 2)\n",
    "funnel"
   ]
  },
  {
   "cell_type": "code",
   "execution_count": 38,
   "metadata": {},
   "outputs": [
    {
     "name": "stdout",
     "output_type": "stream",
     "text": [
      "Процент пользователей, прошедших все этапы: 47.7 %\n"
     ]
    }
   ],
   "source": [
    "print(\"Процент пользователей, прошедших все этапы:\", round((funnel.iloc[3,1] / funnel.iloc[0,1]) * 100, 2), \"%\")"
   ]
  },
  {
   "cell_type": "markdown",
   "metadata": {},
   "source": [
    "**Вывод:**<br>\n",
    "1. Самым частым событием ожидаемо является \"MainScreenAppear\" (\"Появление главного экрана\"), но также именно после него теряется самое большое число пользователей - около 40%.\n",
    "2. В большинстве случаев этапы идут последовательно, один за другим, и конверсия от этапа к этапу растёт. Исключение составляет этап \"Tutorial\" (\"Инструкции\"), который не имеет прямого отношения к продажам и не учитывался в расчётах.\n",
    "3. Конверсия показывает хорошие результаты. Около 48% процентов пользователей проходят все этапы и доходят до покупки. Нужно также заметить, что практически все пользователи, оформившие заказ, оплачивают его."
   ]
  },
  {
   "cell_type": "markdown",
   "metadata": {},
   "source": [
    "**5. Изучение результатов эксперимента.**"
   ]
  },
  {
   "cell_type": "markdown",
   "metadata": {},
   "source": [
    "**5.1. Количество пользователей в каждой экспериментальной группе.**"
   ]
  },
  {
   "cell_type": "code",
   "execution_count": 39,
   "metadata": {},
   "outputs": [
    {
     "data": {
      "text/html": [
       "<div>\n",
       "<style scoped>\n",
       "    .dataframe tbody tr th:only-of-type {\n",
       "        vertical-align: middle;\n",
       "    }\n",
       "\n",
       "    .dataframe tbody tr th {\n",
       "        vertical-align: top;\n",
       "    }\n",
       "\n",
       "    .dataframe thead th {\n",
       "        text-align: right;\n",
       "    }\n",
       "</style>\n",
       "<table border=\"1\" class=\"dataframe\">\n",
       "  <thead>\n",
       "    <tr style=\"text-align: right;\">\n",
       "      <th></th>\n",
       "      <th>users_quantity</th>\n",
       "    </tr>\n",
       "    <tr>\n",
       "      <th>exp_id</th>\n",
       "      <th></th>\n",
       "    </tr>\n",
       "  </thead>\n",
       "  <tbody>\n",
       "    <tr>\n",
       "      <th>246</th>\n",
       "      <td>2484</td>\n",
       "    </tr>\n",
       "    <tr>\n",
       "      <th>247</th>\n",
       "      <td>2513</td>\n",
       "    </tr>\n",
       "    <tr>\n",
       "      <th>248</th>\n",
       "      <td>2537</td>\n",
       "    </tr>\n",
       "  </tbody>\n",
       "</table>\n",
       "</div>"
      ],
      "text/plain": [
       "        users_quantity\n",
       "exp_id                \n",
       "246               2484\n",
       "247               2513\n",
       "248               2537"
      ]
     },
     "execution_count": 39,
     "metadata": {},
     "output_type": "execute_result"
    }
   ],
   "source": [
    "users_quantity = (\n",
    "    data_filtered\n",
    "    .groupby(\"exp_id\")\n",
    "    .agg({\"user_id\": \"nunique\"})\n",
    "    .rename(columns = {\"exp_id\": \"group\", \"user_id\": \"users_quantity\"})\n",
    ")\n",
    "\n",
    "users_quantity"
   ]
  },
  {
   "cell_type": "markdown",
   "metadata": {},
   "source": [
    "В целом группы, примерно, равны по размеру. Разница незначительна."
   ]
  },
  {
   "cell_type": "markdown",
   "metadata": {},
   "source": [
    "**5.2. Проверка наличия разницы по статистическим критериям между выборками 246 и 247 (две контрольные группы).**"
   ]
  },
  {
   "cell_type": "markdown",
   "metadata": {},
   "source": [
    "Соберём данные по группам в отдельную таблицу."
   ]
  },
  {
   "cell_type": "code",
   "execution_count": 40,
   "metadata": {},
   "outputs": [
    {
     "data": {
      "text/html": [
       "<div>\n",
       "<style scoped>\n",
       "    .dataframe tbody tr th:only-of-type {\n",
       "        vertical-align: middle;\n",
       "    }\n",
       "\n",
       "    .dataframe tbody tr th {\n",
       "        vertical-align: top;\n",
       "    }\n",
       "\n",
       "    .dataframe thead th {\n",
       "        text-align: right;\n",
       "    }\n",
       "</style>\n",
       "<table border=\"1\" class=\"dataframe\">\n",
       "  <thead>\n",
       "    <tr style=\"text-align: right;\">\n",
       "      <th>exp_id</th>\n",
       "      <th>246</th>\n",
       "      <th>247</th>\n",
       "      <th>248</th>\n",
       "    </tr>\n",
       "    <tr>\n",
       "      <th>event_name</th>\n",
       "      <th></th>\n",
       "      <th></th>\n",
       "      <th></th>\n",
       "    </tr>\n",
       "  </thead>\n",
       "  <tbody>\n",
       "    <tr>\n",
       "      <th>CartScreenAppear</th>\n",
       "      <td>1266</td>\n",
       "      <td>1238</td>\n",
       "      <td>1230</td>\n",
       "    </tr>\n",
       "    <tr>\n",
       "      <th>MainScreenAppear</th>\n",
       "      <td>2450</td>\n",
       "      <td>2476</td>\n",
       "      <td>2493</td>\n",
       "    </tr>\n",
       "    <tr>\n",
       "      <th>OffersScreenAppear</th>\n",
       "      <td>1542</td>\n",
       "      <td>1520</td>\n",
       "      <td>1531</td>\n",
       "    </tr>\n",
       "    <tr>\n",
       "      <th>PaymentScreenSuccessful</th>\n",
       "      <td>1200</td>\n",
       "      <td>1158</td>\n",
       "      <td>1181</td>\n",
       "    </tr>\n",
       "    <tr>\n",
       "      <th>Tutorial</th>\n",
       "      <td>278</td>\n",
       "      <td>283</td>\n",
       "      <td>279</td>\n",
       "    </tr>\n",
       "  </tbody>\n",
       "</table>\n",
       "</div>"
      ],
      "text/plain": [
       "exp_id                    246   247   248\n",
       "event_name                               \n",
       "CartScreenAppear         1266  1238  1230\n",
       "MainScreenAppear         2450  2476  2493\n",
       "OffersScreenAppear       1542  1520  1531\n",
       "PaymentScreenSuccessful  1200  1158  1181\n",
       "Tutorial                  278   283   279"
      ]
     },
     "execution_count": 40,
     "metadata": {},
     "output_type": "execute_result"
    }
   ],
   "source": [
    "events = data_filtered.pivot_table(index = \"event_name\", columns = \"exp_id\", values = \"user_id\", aggfunc = \"nunique\")\n",
    "events"
   ]
  },
  {
   "cell_type": "markdown",
   "metadata": {},
   "source": [
    "Посчитаем конверсию двух контрольных групп и сколько пользователей в итоге доходят до оплаты товара."
   ]
  },
  {
   "cell_type": "markdown",
   "metadata": {},
   "source": [
    "Сформулируем гипотезы:<br>\n",
    "Нулевая гипотеза: различий между выборками контрольных групп нет.<br>\n",
    "Альтернативная гипотеза: различие между выброками контрольных групп есть.<br>\n",
    "Уровень значимости: 0,05."
   ]
  },
  {
   "cell_type": "code",
   "execution_count": 41,
   "metadata": {},
   "outputs": [
    {
     "name": "stdout",
     "output_type": "stream",
     "text": [
      "Не получилось отвергнуть нулевую гипотезу: между выборками контрольных групп нет разницы\n",
      "Отличие между группами 246 и 247 по событию MainScreenAppear статистически незначимо, p_value = 0.7570597232046099\n",
      "Не получилось отвергнуть нулевую гипотезу: между выборками контрольных групп нет разницы\n",
      "Отличие между группами 246 и 247 по событию OffersScreenAppear статистически незначимо, p_value = 0.2480954578522181\n",
      "Не получилось отвергнуть нулевую гипотезу: между выборками контрольных групп нет разницы\n",
      "Отличие между группами 246 и 247 по событию CartScreenAppear статистически незначимо, p_value = 0.22883372237997213\n",
      "Не получилось отвергнуть нулевую гипотезу: между выборками контрольных групп нет разницы\n",
      "Отличие между группами 246 и 247 по событию PaymentScreenSuccessful статистически незначимо, p_value = 0.11456679313141849\n"
     ]
    }
   ],
   "source": [
    "def hypothesis(successes1, successes2, trials1, trials2):\n",
    "    p1 = successes1 / trials1\n",
    "    p2 = successes2 / trials2\n",
    "    p_combined = (successes1 + successes2) / (trials1 + trials2)\n",
    "    difference = p1 - p2\n",
    "    z_value = difference / mth.sqrt(p_combined * (1 - p_combined) * (1 / trials1 + 1 / trials2))\n",
    "    distr = st.norm(0, 1)\n",
    "    p_value = (1 - distr.cdf(abs(z_value))) * 2\n",
    "    return p_value\n",
    "\n",
    "alpha = 0.05 / 16\n",
    "for event in ['MainScreenAppear', 'OffersScreenAppear', 'CartScreenAppear', 'PaymentScreenSuccessful']:\n",
    "    if hypothesis(events.loc[event, 246], events.loc[event, 247],\n",
    "                        users_quantity.loc[246].values[0], users_quantity.loc[247].values[0]) < alpha:\n",
    "        trig = \"значимо\"\n",
    "        print(\"Отвергаем нулевую гипотезу: между выборками контрольных групп есть разница\")\n",
    "    else:\n",
    "        trig = \"незначимо\"\n",
    "        print(\"Не получилось отвергнуть нулевую гипотезу: между выборками контрольных групп нет разницы\")\n",
    "    print(f\"Отличие между группами 246 и 247 по событию {event} статистически {trig}, p_value =\",\n",
    "         hypothesis(events.loc[event, 246], events.loc[event, 247],\n",
    "                        users_quantity.loc[246].values[0], users_quantity.loc[247].values[0]))"
   ]
  },
  {
   "cell_type": "markdown",
   "metadata": {},
   "source": [
    "Между контрольными группами нет статистически значимой разницы."
   ]
  },
  {
   "cell_type": "markdown",
   "metadata": {},
   "source": [
    "**5.3. Выберем самое популярное событие. Посчитаем число пользователей, совершивших это событие в каждой из контрольных групп. Посчитаем долю пользователей, совершивших это событие. Проверим, будет ли отличие между группами статистически достоверным. Сделаем то же самое для всех других событий. Можно ли сказать, что разбиение на группы работает корректно.**"
   ]
  },
  {
   "cell_type": "markdown",
   "metadata": {},
   "source": [
    "Как следует из предыдущих расчётов, самое популярным событием является \"MainScreenAppear\" - появление главного экрана."
   ]
  },
  {
   "cell_type": "code",
   "execution_count": 42,
   "metadata": {},
   "outputs": [
    {
     "data": {
      "text/plain": [
       "MainScreenAppear           117328\n",
       "OffersScreenAppear          46333\n",
       "CartScreenAppear            42303\n",
       "PaymentScreenSuccessful     33918\n",
       "Name: event_name, dtype: int64"
      ]
     },
     "execution_count": 42,
     "metadata": {},
     "output_type": "execute_result"
    }
   ],
   "source": [
    "events_filtered = data_filtered.query('event_name != \"Tutorial\"')\n",
    "events_filtered[\"event_name\"].value_counts()"
   ]
  },
  {
   "cell_type": "code",
   "execution_count": 43,
   "metadata": {},
   "outputs": [
    {
     "name": "stdout",
     "output_type": "stream",
     "text": [
      "Число пользователей совершивших событие \"MainScreenAppear\":  7534\n"
     ]
    }
   ],
   "source": [
    "print('Число пользователей совершивших событие \"MainScreenAppear\": ', \\\n",
    "      data_filtered.groupby(\"exp_id\")[\"user_id\"].nunique().sum())"
   ]
  },
  {
   "cell_type": "markdown",
   "metadata": {},
   "source": [
    "Посчитаем, сколько пользователей совершило это событие в каждй из контрольных групп и их долю."
   ]
  },
  {
   "cell_type": "code",
   "execution_count": 44,
   "metadata": {},
   "outputs": [
    {
     "data": {
      "text/html": [
       "<div>\n",
       "<style scoped>\n",
       "    .dataframe tbody tr th:only-of-type {\n",
       "        vertical-align: middle;\n",
       "    }\n",
       "\n",
       "    .dataframe tbody tr th {\n",
       "        vertical-align: top;\n",
       "    }\n",
       "\n",
       "    .dataframe thead th {\n",
       "        text-align: right;\n",
       "    }\n",
       "</style>\n",
       "<table border=\"1\" class=\"dataframe\">\n",
       "  <thead>\n",
       "    <tr style=\"text-align: right;\">\n",
       "      <th></th>\n",
       "      <th>users_quantity</th>\n",
       "    </tr>\n",
       "    <tr>\n",
       "      <th>exp_id</th>\n",
       "      <th></th>\n",
       "    </tr>\n",
       "  </thead>\n",
       "  <tbody>\n",
       "    <tr>\n",
       "      <th>246</th>\n",
       "      <td>2484</td>\n",
       "    </tr>\n",
       "    <tr>\n",
       "      <th>247</th>\n",
       "      <td>2513</td>\n",
       "    </tr>\n",
       "    <tr>\n",
       "      <th>248</th>\n",
       "      <td>2537</td>\n",
       "    </tr>\n",
       "  </tbody>\n",
       "</table>\n",
       "</div>"
      ],
      "text/plain": [
       "        users_quantity\n",
       "exp_id                \n",
       "246               2484\n",
       "247               2513\n",
       "248               2537"
      ]
     },
     "execution_count": 44,
     "metadata": {},
     "output_type": "execute_result"
    }
   ],
   "source": [
    "users_quantity_gr = (\n",
    "    data_filtered\n",
    "    .groupby(\"exp_id\")\n",
    "    .agg({\"user_id\": \"nunique\"})\n",
    "    .rename(columns = {\"exp_id\": \"group\", \"user_id\": \"users_quantity\"})\n",
    ")\n",
    "\n",
    "users_quantity_gr"
   ]
  },
  {
   "cell_type": "code",
   "execution_count": 45,
   "metadata": {},
   "outputs": [],
   "source": [
    "users_groups = (\n",
    "    data_filtered\n",
    "    .pivot_table(index = \"exp_id\",\n",
    "                 columns = \"event_name\",\n",
    "                 values = \"user_id\",\n",
    "                 aggfunc = \"nunique\")\n",
    "    .reset_index()\n",
    ")\n",
    "\n",
    "users_groups[\"users_quantity\"] = users_quantity_gr[\"users_quantity\"]\n",
    "users_groups.rename(columns = {\"CartScreenAppear\" : \"cart_screen_appear\",\n",
    "                               \"MainScreenAppear\" : \"main_screen_appear\",\n",
    "                               \"OffersScreenAppear\" : \"offers_screen_appear\",\n",
    "                               \"PaymentScreenSuccessful\" : \"payment_screen_successful\",\n",
    "                               \"Tutorial\" : \"tutorial\",\n",
    "                               \"exp_id\" : \"group\"}, inplace = True)"
   ]
  },
  {
   "cell_type": "code",
   "execution_count": 46,
   "metadata": {},
   "outputs": [],
   "source": [
    "def groups (g):\n",
    "    if g == 246:\n",
    "        return \"A1\"\n",
    "    elif g == 247:\n",
    "        return \"A2\"\n",
    "    elif g == 248:\n",
    "        return \"B\"\n",
    "\n",
    "users_groups[\"group\"] = users_groups[\"group\"].apply(groups)"
   ]
  },
  {
   "cell_type": "code",
   "execution_count": 47,
   "metadata": {},
   "outputs": [
    {
     "data": {
      "text/html": [
       "<div>\n",
       "<style scoped>\n",
       "    .dataframe tbody tr th:only-of-type {\n",
       "        vertical-align: middle;\n",
       "    }\n",
       "\n",
       "    .dataframe tbody tr th {\n",
       "        vertical-align: top;\n",
       "    }\n",
       "\n",
       "    .dataframe thead th {\n",
       "        text-align: right;\n",
       "    }\n",
       "</style>\n",
       "<table border=\"1\" class=\"dataframe\">\n",
       "  <thead>\n",
       "    <tr style=\"text-align: right;\">\n",
       "      <th>event_name</th>\n",
       "      <th>group</th>\n",
       "      <th>cart_screen_appear</th>\n",
       "      <th>main_screen_appear</th>\n",
       "      <th>offers_screen_appear</th>\n",
       "      <th>payment_screen_successful</th>\n",
       "      <th>tutorial</th>\n",
       "      <th>users_quantity</th>\n",
       "    </tr>\n",
       "  </thead>\n",
       "  <tbody>\n",
       "    <tr>\n",
       "      <th>0</th>\n",
       "      <td>A1</td>\n",
       "      <td>1266</td>\n",
       "      <td>2450</td>\n",
       "      <td>1542</td>\n",
       "      <td>1200</td>\n",
       "      <td>278</td>\n",
       "      <td>NaN</td>\n",
       "    </tr>\n",
       "    <tr>\n",
       "      <th>1</th>\n",
       "      <td>A2</td>\n",
       "      <td>1238</td>\n",
       "      <td>2476</td>\n",
       "      <td>1520</td>\n",
       "      <td>1158</td>\n",
       "      <td>283</td>\n",
       "      <td>NaN</td>\n",
       "    </tr>\n",
       "    <tr>\n",
       "      <th>2</th>\n",
       "      <td>B</td>\n",
       "      <td>1230</td>\n",
       "      <td>2493</td>\n",
       "      <td>1531</td>\n",
       "      <td>1181</td>\n",
       "      <td>279</td>\n",
       "      <td>NaN</td>\n",
       "    </tr>\n",
       "  </tbody>\n",
       "</table>\n",
       "</div>"
      ],
      "text/plain": [
       "event_name group  cart_screen_appear  main_screen_appear  \\\n",
       "0             A1                1266                2450   \n",
       "1             A2                1238                2476   \n",
       "2              B                1230                2493   \n",
       "\n",
       "event_name  offers_screen_appear  payment_screen_successful  tutorial  \\\n",
       "0                           1542                       1200       278   \n",
       "1                           1520                       1158       283   \n",
       "2                           1531                       1181       279   \n",
       "\n",
       "event_name  users_quantity  \n",
       "0                      NaN  \n",
       "1                      NaN  \n",
       "2                      NaN  "
      ]
     },
     "execution_count": 47,
     "metadata": {},
     "output_type": "execute_result"
    }
   ],
   "source": [
    "users_groups"
   ]
  },
  {
   "cell_type": "code",
   "execution_count": 48,
   "metadata": {},
   "outputs": [
    {
     "data": {
      "text/html": [
       "<div>\n",
       "<style scoped>\n",
       "    .dataframe tbody tr th:only-of-type {\n",
       "        vertical-align: middle;\n",
       "    }\n",
       "\n",
       "    .dataframe tbody tr th {\n",
       "        vertical-align: top;\n",
       "    }\n",
       "\n",
       "    .dataframe thead th {\n",
       "        text-align: right;\n",
       "    }\n",
       "</style>\n",
       "<table border=\"1\" class=\"dataframe\">\n",
       "  <thead>\n",
       "    <tr style=\"text-align: right;\">\n",
       "      <th>event_name</th>\n",
       "      <th>group</th>\n",
       "      <th>main_screen_appear</th>\n",
       "      <th>users_quantity</th>\n",
       "      <th>users_percent</th>\n",
       "    </tr>\n",
       "  </thead>\n",
       "  <tbody>\n",
       "    <tr>\n",
       "      <th>0</th>\n",
       "      <td>A1</td>\n",
       "      <td>2450</td>\n",
       "      <td>NaN</td>\n",
       "      <td>NaN</td>\n",
       "    </tr>\n",
       "    <tr>\n",
       "      <th>1</th>\n",
       "      <td>A2</td>\n",
       "      <td>2476</td>\n",
       "      <td>NaN</td>\n",
       "      <td>NaN</td>\n",
       "    </tr>\n",
       "    <tr>\n",
       "      <th>2</th>\n",
       "      <td>B</td>\n",
       "      <td>2493</td>\n",
       "      <td>NaN</td>\n",
       "      <td>NaN</td>\n",
       "    </tr>\n",
       "  </tbody>\n",
       "</table>\n",
       "</div>"
      ],
      "text/plain": [
       "event_name group  main_screen_appear  users_quantity  users_percent\n",
       "0             A1                2450             NaN            NaN\n",
       "1             A2                2476             NaN            NaN\n",
       "2              B                2493             NaN            NaN"
      ]
     },
     "execution_count": 48,
     "metadata": {},
     "output_type": "execute_result"
    }
   ],
   "source": [
    "top_event = users_groups[[\"group\", \"main_screen_appear\", \"users_quantity\"]].copy()\n",
    "top_event[\"users_percent\"] = round(top_event[\"main_screen_appear\"] / top_event[\"users_quantity\"], 2)\n",
    "top_event"
   ]
  },
  {
   "cell_type": "markdown",
   "metadata": {},
   "source": [
    "Практически все пользователи в каждой из групп совершили событие \"MainScreenAppear\"."
   ]
  },
  {
   "cell_type": "markdown",
   "metadata": {},
   "source": [
    "Проверим, будет ли отличие между контрольными группами A1 и A2 статистически достоверным."
   ]
  },
  {
   "cell_type": "code",
   "execution_count": 49,
   "metadata": {},
   "outputs": [
    {
     "data": {
      "text/html": [
       "<div>\n",
       "<style scoped>\n",
       "    .dataframe tbody tr th:only-of-type {\n",
       "        vertical-align: middle;\n",
       "    }\n",
       "\n",
       "    .dataframe tbody tr th {\n",
       "        vertical-align: top;\n",
       "    }\n",
       "\n",
       "    .dataframe thead th {\n",
       "        text-align: right;\n",
       "    }\n",
       "</style>\n",
       "<table border=\"1\" class=\"dataframe\">\n",
       "  <thead>\n",
       "    <tr style=\"text-align: right;\">\n",
       "      <th></th>\n",
       "      <th>event_name</th>\n",
       "      <th>user_id</th>\n",
       "      <th>event_timestamp</th>\n",
       "      <th>group</th>\n",
       "      <th>event_time</th>\n",
       "      <th>date</th>\n",
       "    </tr>\n",
       "  </thead>\n",
       "  <tbody>\n",
       "    <tr>\n",
       "      <th>2826</th>\n",
       "      <td>Tutorial</td>\n",
       "      <td>3737462046622621720</td>\n",
       "      <td>2019-08-01 00:07:28</td>\n",
       "      <td>A1</td>\n",
       "      <td>2019-08-01 00:07:28</td>\n",
       "      <td>2019-08-01</td>\n",
       "    </tr>\n",
       "    <tr>\n",
       "      <th>2827</th>\n",
       "      <td>MainScreenAppear</td>\n",
       "      <td>3737462046622621720</td>\n",
       "      <td>2019-08-01 00:08:00</td>\n",
       "      <td>A1</td>\n",
       "      <td>2019-08-01 00:08:00</td>\n",
       "      <td>2019-08-01</td>\n",
       "    </tr>\n",
       "    <tr>\n",
       "      <th>2828</th>\n",
       "      <td>MainScreenAppear</td>\n",
       "      <td>3737462046622621720</td>\n",
       "      <td>2019-08-01 00:08:55</td>\n",
       "      <td>A1</td>\n",
       "      <td>2019-08-01 00:08:55</td>\n",
       "      <td>2019-08-01</td>\n",
       "    </tr>\n",
       "    <tr>\n",
       "      <th>2829</th>\n",
       "      <td>OffersScreenAppear</td>\n",
       "      <td>3737462046622621720</td>\n",
       "      <td>2019-08-01 00:08:58</td>\n",
       "      <td>A1</td>\n",
       "      <td>2019-08-01 00:08:58</td>\n",
       "      <td>2019-08-01</td>\n",
       "    </tr>\n",
       "    <tr>\n",
       "      <th>2830</th>\n",
       "      <td>MainScreenAppear</td>\n",
       "      <td>1433840883824088890</td>\n",
       "      <td>2019-08-01 00:08:59</td>\n",
       "      <td>A2</td>\n",
       "      <td>2019-08-01 00:08:59</td>\n",
       "      <td>2019-08-01</td>\n",
       "    </tr>\n",
       "  </tbody>\n",
       "</table>\n",
       "</div>"
      ],
      "text/plain": [
       "              event_name              user_id     event_timestamp group  \\\n",
       "2826            Tutorial  3737462046622621720 2019-08-01 00:07:28    A1   \n",
       "2827    MainScreenAppear  3737462046622621720 2019-08-01 00:08:00    A1   \n",
       "2828    MainScreenAppear  3737462046622621720 2019-08-01 00:08:55    A1   \n",
       "2829  OffersScreenAppear  3737462046622621720 2019-08-01 00:08:58    A1   \n",
       "2830    MainScreenAppear  1433840883824088890 2019-08-01 00:08:59    A2   \n",
       "\n",
       "              event_time        date  \n",
       "2826 2019-08-01 00:07:28  2019-08-01  \n",
       "2827 2019-08-01 00:08:00  2019-08-01  \n",
       "2828 2019-08-01 00:08:55  2019-08-01  \n",
       "2829 2019-08-01 00:08:58  2019-08-01  \n",
       "2830 2019-08-01 00:08:59  2019-08-01  "
      ]
     },
     "execution_count": 49,
     "metadata": {},
     "output_type": "execute_result"
    }
   ],
   "source": [
    "events_group = data_filtered\n",
    "events_group.rename(columns = {\"exp_id\" : \"group\"}, inplace = True)\n",
    "events_group[\"group\"] = events_group[\"group\"].apply(groups)\n",
    "events_group[events_group[\"event_name\"] != \"Tutorial\"]\n",
    "events_group.head()"
   ]
  },
  {
   "cell_type": "code",
   "execution_count": 50,
   "metadata": {},
   "outputs": [
    {
     "data": {
      "text/html": [
       "<div>\n",
       "<style scoped>\n",
       "    .dataframe tbody tr th:only-of-type {\n",
       "        vertical-align: middle;\n",
       "    }\n",
       "\n",
       "    .dataframe tbody tr th {\n",
       "        vertical-align: top;\n",
       "    }\n",
       "\n",
       "    .dataframe thead th {\n",
       "        text-align: right;\n",
       "    }\n",
       "</style>\n",
       "<table border=\"1\" class=\"dataframe\">\n",
       "  <thead>\n",
       "    <tr style=\"text-align: right;\">\n",
       "      <th>group</th>\n",
       "      <th>event_name</th>\n",
       "      <th>A1</th>\n",
       "      <th>A2</th>\n",
       "      <th>B</th>\n",
       "      <th>control_all</th>\n",
       "    </tr>\n",
       "  </thead>\n",
       "  <tbody>\n",
       "    <tr>\n",
       "      <th>0</th>\n",
       "      <td>CartScreenAppear</td>\n",
       "      <td>1266</td>\n",
       "      <td>1238</td>\n",
       "      <td>1230</td>\n",
       "      <td>2504</td>\n",
       "    </tr>\n",
       "    <tr>\n",
       "      <th>1</th>\n",
       "      <td>MainScreenAppear</td>\n",
       "      <td>2450</td>\n",
       "      <td>2476</td>\n",
       "      <td>2493</td>\n",
       "      <td>4926</td>\n",
       "    </tr>\n",
       "    <tr>\n",
       "      <th>2</th>\n",
       "      <td>OffersScreenAppear</td>\n",
       "      <td>1542</td>\n",
       "      <td>1520</td>\n",
       "      <td>1531</td>\n",
       "      <td>3062</td>\n",
       "    </tr>\n",
       "    <tr>\n",
       "      <th>3</th>\n",
       "      <td>PaymentScreenSuccessful</td>\n",
       "      <td>1200</td>\n",
       "      <td>1158</td>\n",
       "      <td>1181</td>\n",
       "      <td>2358</td>\n",
       "    </tr>\n",
       "  </tbody>\n",
       "</table>\n",
       "</div>"
      ],
      "text/plain": [
       "group               event_name    A1    A2     B  control_all\n",
       "0             CartScreenAppear  1266  1238  1230         2504\n",
       "1             MainScreenAppear  2450  2476  2493         4926\n",
       "2           OffersScreenAppear  1542  1520  1531         3062\n",
       "3      PaymentScreenSuccessful  1200  1158  1181         2358"
      ]
     },
     "execution_count": 50,
     "metadata": {},
     "output_type": "execute_result"
    }
   ],
   "source": [
    "events_gr = (\n",
    "    events_group\n",
    "    .pivot_table(index = \"event_name\",\n",
    "                 columns = \"group\",\n",
    "                 values = \"user_id\", \n",
    "                 aggfunc = \"nunique\")\n",
    "    .reset_index()\n",
    ")\n",
    "events_gr = events_gr.query('event_name != \"Tutorial\"')\n",
    "events_gr[\"control_all\"] = events_gr[\"A1\"] + events_gr[\"A2\"]\n",
    "events_gr"
   ]
  },
  {
   "cell_type": "code",
   "execution_count": 51,
   "metadata": {},
   "outputs": [
    {
     "data": {
      "text/plain": [
       "group\n",
       "A1             2484\n",
       "A2             2513\n",
       "B              2537\n",
       "control_all    4997\n",
       "Name: user_id, dtype: int64"
      ]
     },
     "execution_count": 51,
     "metadata": {},
     "output_type": "execute_result"
    }
   ],
   "source": [
    "users_quantity_gr1 = (\n",
    "    data_filtered\n",
    "    .groupby(\"group\")[\"user_id\"]\n",
    "    .nunique()\n",
    ")\n",
    "users_quantity_gr1[\"control_all\"] = users_quantity_gr1[\"A1\"] + users_quantity_gr1[\"A2\"]\n",
    "users_quantity_gr1"
   ]
  },
  {
   "cell_type": "code",
   "execution_count": 52,
   "metadata": {},
   "outputs": [
    {
     "name": "stdout",
     "output_type": "stream",
     "text": [
      "CartScreenAppear p-значение: 0.22883372237997213\n",
      "Не получилось отвергнуть нулевую гипотезу: между выборками контрольных групп нет разницы\n",
      "\n",
      "MainScreenAppear p-значение: 0.7570597232046099\n",
      "Не получилось отвергнуть нулевую гипотезу: между выборками контрольных групп нет разницы\n",
      "\n",
      "OffersScreenAppear p-значение: 0.2480954578522181\n",
      "Не получилось отвергнуть нулевую гипотезу: между выборками контрольных групп нет разницы\n",
      "\n",
      "PaymentScreenSuccessful p-значение: 0.11456679313141849\n",
      "Не получилось отвергнуть нулевую гипотезу: между выборками контрольных групп нет разницы\n",
      "\n"
     ]
    }
   ],
   "source": [
    "def z_test(group1, group2, alpha):\n",
    "    for i in events_gr.index:\n",
    "        # Успехи в первой группе:\n",
    "        p1 = events_gr[group1][i] / users_quantity_gr1[group1]\n",
    "        # Успехи во второй группе:\n",
    "        p2 = events_gr[group2][i] / users_quantity_gr1[group2]\n",
    "        # Успехи в комбинированном датасете:\n",
    "        p_combined = ((events_gr[group1][i] + events_gr[group2][i]) / \n",
    "                      (users_quantity_gr1[group1] + users_quantity_gr1[group2]))\n",
    "        # Разница пропорций в группах:\n",
    "        difference = p1 - p2\n",
    "        # Стандартное отклонение стандартного нормального распределения\n",
    "        z_value = difference / mth.sqrt(p_combined * (1 - p_combined) * \n",
    "                                        (1/users_quantity_gr1[group1] + 1/users_quantity_gr1[group2]))\n",
    "        # Стандартное нормальное распределение (среднее - 0, стандартное отклонение - 1)\n",
    "        distr = st.norm(0, 1) \n",
    "        p_value = (1 - distr.cdf(abs(z_value))) * 2\n",
    "        print(\"{} p-значение: {}\".format(events_gr[\"event_name\"][i], p_value))\n",
    "        if (p_value < alpha):\n",
    "            print(\"Отвергаем нулевую гипотезу: между выборками контрольных групп есть разница\")\n",
    "        else:\n",
    "            print(\"Не получилось отвергнуть нулевую гипотезу: между выборками контрольных групп нет разницы\")\n",
    "        print(\"\")\n",
    "        \n",
    "z_test(\"A1\", \"A2\", 0.05)"
   ]
  },
  {
   "cell_type": "markdown",
   "metadata": {},
   "source": [
    "Статистически значимой разницы между группами нет."
   ]
  },
  {
   "cell_type": "markdown",
   "metadata": {},
   "source": [
    "Проверим насколько корректно пользователи разделены по группам. Проверим, нет ли пересекающихся пользователей."
   ]
  },
  {
   "cell_type": "code",
   "execution_count": 53,
   "metadata": {},
   "outputs": [
    {
     "name": "stdout",
     "output_type": "stream",
     "text": [
      "Количество пересекающихся пользователей в группах A1 и A2:  0\n",
      "Количество пересекающихся пользователей в группах A1 и B:  0\n",
      "Количество пересекающихся пользователей в группах A2 и B:  0\n"
     ]
    }
   ],
   "source": [
    "group_a1 = data_filtered.loc[data_filtered[\"group\"] == \"A1\"][\"user_id\"] \n",
    "group_a2 = data_filtered.loc[data_filtered[\"group\"] == \"A2\"][\"user_id\"]\n",
    "group_b = data_filtered.loc[data_filtered[\"group\"] == \"B\"][\"user_id\"]\n",
    "result_1 = list(set(group_a1) & set(group_a2)) \n",
    "result_2 = list(set(group_a1) & set(group_b))\n",
    "result_3 = list(set(group_a2) & set(group_b))\n",
    "print(\"Количество пересекающихся пользователей в группах A1 и A2: \", len(result_1))\n",
    "print(\"Количество пересекающихся пользователей в группах A1 и B: \", len(result_2))\n",
    "print(\"Количество пересекающихся пользователей в группах A2 и B: \", len(result_3))"
   ]
  },
  {
   "cell_type": "markdown",
   "metadata": {},
   "source": [
    "Самым популярным событием является \"MainScreenAppear\". Практически все пользователи из контрольных групп совершили его. При этом статистически значимой разницы между контрольными группами для всех событий нет. Пересекающихся пользователей в группах нет, сами группы по размеру практически однаковы. Можно сделать вывод, что группы разбиты корректно."
   ]
  },
  {
   "cell_type": "markdown",
   "metadata": {},
   "source": [
    "**5.4. Сравнение результатов группы \"B\" с каждой из контрольных групп в отдельности, а также с объединённой контрольной группой по каждому событию.**"
   ]
  },
  {
   "cell_type": "code",
   "execution_count": 54,
   "metadata": {},
   "outputs": [
    {
     "name": "stdout",
     "output_type": "stream",
     "text": [
      "CartScreenAppear p-значение: 0.07842923237520116\n",
      "Не получилось отвергнуть нулевую гипотезу: между выборками контрольных групп нет разницы\n",
      "\n",
      "MainScreenAppear p-значение: 0.2949721933554552\n",
      "Не получилось отвергнуть нулевую гипотезу: между выборками контрольных групп нет разницы\n",
      "\n",
      "OffersScreenAppear p-значение: 0.20836205402738917\n",
      "Не получилось отвергнуть нулевую гипотезу: между выборками контрольных групп нет разницы\n",
      "\n",
      "PaymentScreenSuccessful p-значение: 0.2122553275697796\n",
      "Не получилось отвергнуть нулевую гипотезу: между выборками контрольных групп нет разницы\n",
      "\n"
     ]
    }
   ],
   "source": [
    "z_test(\"A1\", \"B\", 0.05)"
   ]
  },
  {
   "cell_type": "code",
   "execution_count": 55,
   "metadata": {},
   "outputs": [
    {
     "name": "stdout",
     "output_type": "stream",
     "text": [
      "CartScreenAppear p-значение: 0.5786197879539783\n",
      "Не получилось отвергнуть нулевую гипотезу: между выборками контрольных групп нет разницы\n",
      "\n",
      "MainScreenAppear p-значение: 0.4587053616621515\n",
      "Не получилось отвергнуть нулевую гипотезу: между выборками контрольных групп нет разницы\n",
      "\n",
      "OffersScreenAppear p-значение: 0.9197817830592261\n",
      "Не получилось отвергнуть нулевую гипотезу: между выборками контрольных групп нет разницы\n",
      "\n",
      "PaymentScreenSuccessful p-значение: 0.7373415053803964\n",
      "Не получилось отвергнуть нулевую гипотезу: между выборками контрольных групп нет разницы\n",
      "\n"
     ]
    }
   ],
   "source": [
    "z_test(\"A2\", \"B\", 0.05)"
   ]
  },
  {
   "cell_type": "code",
   "execution_count": 56,
   "metadata": {},
   "outputs": [
    {
     "name": "stdout",
     "output_type": "stream",
     "text": [
      "CartScreenAppear p-значение: 0.18175875284404386\n",
      "Не получилось отвергнуть нулевую гипотезу: между выборками контрольных групп нет разницы\n",
      "\n",
      "MainScreenAppear p-значение: 0.29424526837179577\n",
      "Не получилось отвергнуть нулевую гипотезу: между выборками контрольных групп нет разницы\n",
      "\n",
      "OffersScreenAppear p-значение: 0.43425549655188256\n",
      "Не получилось отвергнуть нулевую гипотезу: между выборками контрольных групп нет разницы\n",
      "\n",
      "PaymentScreenSuccessful p-значение: 0.6004294282308704\n",
      "Не получилось отвергнуть нулевую гипотезу: между выборками контрольных групп нет разницы\n",
      "\n"
     ]
    }
   ],
   "source": [
    "z_test(\"control_all\", \"B\", 0.05)"
   ]
  },
  {
   "cell_type": "markdown",
   "metadata": {},
   "source": [
    "Значимой резницы между группами не выявлено."
   ]
  },
  {
   "cell_type": "markdown",
   "metadata": {},
   "source": [
    "**5.5. Уровень значимости вы выбрали при проверке статистических гипотез. Сколько проверок статистических гипотез сделано.**"
   ]
  },
  {
   "cell_type": "markdown",
   "metadata": {},
   "source": [
    "Всего провередно 20 тестов. Был выбран уровень значимости 0,05. Поскольку тесты были множественные, то с каждой новой проверкой растёт вероятность ошибки первого рода. Попробуем установить уровень 0,01 и перепроверить тесты."
   ]
  },
  {
   "cell_type": "code",
   "execution_count": 57,
   "metadata": {},
   "outputs": [
    {
     "name": "stdout",
     "output_type": "stream",
     "text": [
      "CartScreenAppear p-значение: 0.22883372237997213\n",
      "Не получилось отвергнуть нулевую гипотезу: между выборками контрольных групп нет разницы\n",
      "\n",
      "MainScreenAppear p-значение: 0.7570597232046099\n",
      "Не получилось отвергнуть нулевую гипотезу: между выборками контрольных групп нет разницы\n",
      "\n",
      "OffersScreenAppear p-значение: 0.2480954578522181\n",
      "Не получилось отвергнуть нулевую гипотезу: между выборками контрольных групп нет разницы\n",
      "\n",
      "PaymentScreenSuccessful p-значение: 0.11456679313141849\n",
      "Не получилось отвергнуть нулевую гипотезу: между выборками контрольных групп нет разницы\n",
      "\n"
     ]
    }
   ],
   "source": [
    "z_test(\"A1\", \"A2\", 0.01)"
   ]
  },
  {
   "cell_type": "code",
   "execution_count": 58,
   "metadata": {},
   "outputs": [
    {
     "name": "stdout",
     "output_type": "stream",
     "text": [
      "CartScreenAppear p-значение: 0.07842923237520116\n",
      "Не получилось отвергнуть нулевую гипотезу: между выборками контрольных групп нет разницы\n",
      "\n",
      "MainScreenAppear p-значение: 0.2949721933554552\n",
      "Не получилось отвергнуть нулевую гипотезу: между выборками контрольных групп нет разницы\n",
      "\n",
      "OffersScreenAppear p-значение: 0.20836205402738917\n",
      "Не получилось отвергнуть нулевую гипотезу: между выборками контрольных групп нет разницы\n",
      "\n",
      "PaymentScreenSuccessful p-значение: 0.2122553275697796\n",
      "Не получилось отвергнуть нулевую гипотезу: между выборками контрольных групп нет разницы\n",
      "\n"
     ]
    }
   ],
   "source": [
    "z_test(\"A1\", \"B\", 0.01)"
   ]
  },
  {
   "cell_type": "code",
   "execution_count": 59,
   "metadata": {},
   "outputs": [
    {
     "name": "stdout",
     "output_type": "stream",
     "text": [
      "CartScreenAppear p-значение: 0.5786197879539783\n",
      "Не получилось отвергнуть нулевую гипотезу: между выборками контрольных групп нет разницы\n",
      "\n",
      "MainScreenAppear p-значение: 0.4587053616621515\n",
      "Не получилось отвергнуть нулевую гипотезу: между выборками контрольных групп нет разницы\n",
      "\n",
      "OffersScreenAppear p-значение: 0.9197817830592261\n",
      "Не получилось отвергнуть нулевую гипотезу: между выборками контрольных групп нет разницы\n",
      "\n",
      "PaymentScreenSuccessful p-значение: 0.7373415053803964\n",
      "Не получилось отвергнуть нулевую гипотезу: между выборками контрольных групп нет разницы\n",
      "\n"
     ]
    }
   ],
   "source": [
    "z_test(\"A2\", \"B\", 0.01)"
   ]
  },
  {
   "cell_type": "code",
   "execution_count": 60,
   "metadata": {},
   "outputs": [
    {
     "name": "stdout",
     "output_type": "stream",
     "text": [
      "CartScreenAppear p-значение: 0.18175875284404386\n",
      "Не получилось отвергнуть нулевую гипотезу: между выборками контрольных групп нет разницы\n",
      "\n",
      "MainScreenAppear p-значение: 0.29424526837179577\n",
      "Не получилось отвергнуть нулевую гипотезу: между выборками контрольных групп нет разницы\n",
      "\n",
      "OffersScreenAppear p-значение: 0.43425549655188256\n",
      "Не получилось отвергнуть нулевую гипотезу: между выборками контрольных групп нет разницы\n",
      "\n",
      "PaymentScreenSuccessful p-значение: 0.6004294282308704\n",
      "Не получилось отвергнуть нулевую гипотезу: между выборками контрольных групп нет разницы\n",
      "\n"
     ]
    }
   ],
   "source": [
    "z_test(\"control_all\", \"B\", 0.01)"
   ]
  },
  {
   "cell_type": "markdown",
   "metadata": {},
   "source": [
    "При изменении уровня значимости, результаты не изменились."
   ]
  },
  {
   "cell_type": "markdown",
   "metadata": {},
   "source": [
    "**Вывод:**<br>\n",
    "1. Группы в целом равны и разделены корректно.\n",
    "2. Между контрольными группами (\"A1\" и \"A2\") нет статистически значимой разницы.\n",
    "3. Самым популярным событием является \"MainScreenAppear\" (\"Появление главного экрана\"), практически все пользователи всех групп его прошли.\n",
    "4. Между экспериментальной группой (\"B\") и контрольными, а также объединённой контрольной, нет статистически значимой разницы.\n",
    "5. Изменение уровня значимости не повлияло на результаты тестов."
   ]
  },
  {
   "cell_type": "markdown",
   "metadata": {},
   "source": [
    "**Общий вывод:**<br>\n",
    "1. Эксперимент, в целом, можно признать успешным. \n",
    "2. У конверсии хорошие показатели, около 48% процентов пользователей проходят все этапы и доходят до покупки. Практически все пользователи, оформившие заказ, оплачивают его.\n",
    "3. Необходимо обратить внимание на главный экран, после него теряется около 40% пользователей.\n",
    "4. Между эксперементальной группой (\"B\") и контрольными, а также объединённой контрольной, нет статистически значимой разницы. Изменение уровня значимости не повлияло на результаты тестов. **На основании этого можно сделать вывод, что изменение шрифта не повлияло на действия пользователей в приложении.**\n",
    "5. Эксперимент можно остановить. Продолжать его, учитывая показатели в тестах, нет необходимости."
   ]
  }
 ],
 "metadata": {
  "ExecuteTimeLog": [
   {
    "duration": 1404,
    "start_time": "2023-04-03T13:16:29.879Z"
   },
   {
    "duration": 949,
    "start_time": "2023-04-03T13:19:18.885Z"
   },
   {
    "duration": 18,
    "start_time": "2023-04-03T13:20:50.141Z"
   },
   {
    "duration": 31,
    "start_time": "2023-04-03T13:21:13.791Z"
   },
   {
    "duration": 3,
    "start_time": "2023-04-03T13:40:53.779Z"
   },
   {
    "duration": 37,
    "start_time": "2023-04-03T13:46:13.372Z"
   },
   {
    "duration": 54,
    "start_time": "2023-04-03T13:46:34.612Z"
   },
   {
    "duration": 54,
    "start_time": "2023-04-03T13:47:44.175Z"
   },
   {
    "duration": 16,
    "start_time": "2023-04-03T13:48:16.246Z"
   },
   {
    "duration": 56,
    "start_time": "2023-04-03T13:50:15.481Z"
   },
   {
    "duration": 89,
    "start_time": "2023-04-03T13:51:00.937Z"
   },
   {
    "duration": 83,
    "start_time": "2023-04-03T13:51:10.295Z"
   },
   {
    "duration": 21,
    "start_time": "2023-04-03T13:51:33.114Z"
   },
   {
    "duration": 18,
    "start_time": "2023-04-03T13:52:23.436Z"
   },
   {
    "duration": 11,
    "start_time": "2023-04-03T13:58:31.053Z"
   },
   {
    "duration": 58,
    "start_time": "2023-04-03T13:58:32.681Z"
   },
   {
    "duration": 1170,
    "start_time": "2023-04-03T13:58:43.981Z"
   },
   {
    "duration": 153,
    "start_time": "2023-04-03T13:58:45.152Z"
   },
   {
    "duration": 13,
    "start_time": "2023-04-03T13:58:45.306Z"
   },
   {
    "duration": 40,
    "start_time": "2023-04-03T13:58:45.321Z"
   },
   {
    "duration": 4,
    "start_time": "2023-04-03T13:58:45.364Z"
   },
   {
    "duration": 19,
    "start_time": "2023-04-03T13:58:45.370Z"
   },
   {
    "duration": 80,
    "start_time": "2023-04-03T13:58:45.391Z"
   },
   {
    "duration": 14,
    "start_time": "2023-04-03T13:58:45.473Z"
   },
   {
    "duration": 85,
    "start_time": "2023-04-03T13:58:45.491Z"
   },
   {
    "duration": 69,
    "start_time": "2023-04-03T13:58:45.578Z"
   },
   {
    "duration": 13,
    "start_time": "2023-04-03T13:58:45.648Z"
   },
   {
    "duration": 33,
    "start_time": "2023-04-03T13:58:45.662Z"
   },
   {
    "duration": 74,
    "start_time": "2023-04-03T14:03:17.622Z"
   },
   {
    "duration": 21,
    "start_time": "2023-04-03T14:03:35.710Z"
   },
   {
    "duration": 76,
    "start_time": "2023-04-04T06:56:34.497Z"
   },
   {
    "duration": 56,
    "start_time": "2023-04-04T06:56:41.051Z"
   },
   {
    "duration": 1547,
    "start_time": "2023-04-04T06:56:46.700Z"
   },
   {
    "duration": 690,
    "start_time": "2023-04-04T06:56:48.250Z"
   },
   {
    "duration": 17,
    "start_time": "2023-04-04T06:56:48.941Z"
   },
   {
    "duration": 22,
    "start_time": "2023-04-04T06:56:48.959Z"
   },
   {
    "duration": 4,
    "start_time": "2023-04-04T06:56:48.985Z"
   },
   {
    "duration": 24,
    "start_time": "2023-04-04T06:56:48.990Z"
   },
   {
    "duration": 67,
    "start_time": "2023-04-04T06:56:49.022Z"
   },
   {
    "duration": 16,
    "start_time": "2023-04-04T06:56:49.090Z"
   },
   {
    "duration": 71,
    "start_time": "2023-04-04T06:56:49.124Z"
   },
   {
    "duration": 81,
    "start_time": "2023-04-04T06:56:49.197Z"
   },
   {
    "duration": 14,
    "start_time": "2023-04-04T06:56:49.280Z"
   },
   {
    "duration": 76,
    "start_time": "2023-04-04T06:56:49.297Z"
   },
   {
    "duration": 103,
    "start_time": "2023-04-04T06:56:49.376Z"
   },
   {
    "duration": 20,
    "start_time": "2023-04-04T06:56:49.483Z"
   },
   {
    "duration": 35,
    "start_time": "2023-04-04T06:56:49.505Z"
   },
   {
    "duration": 8,
    "start_time": "2023-04-04T07:00:56.968Z"
   },
   {
    "duration": 9,
    "start_time": "2023-04-04T07:05:06.347Z"
   },
   {
    "duration": 9,
    "start_time": "2023-04-04T07:05:30.746Z"
   },
   {
    "duration": 15,
    "start_time": "2023-04-04T07:06:24.366Z"
   },
   {
    "duration": 3,
    "start_time": "2023-04-04T07:10:57.192Z"
   },
   {
    "duration": 5,
    "start_time": "2023-04-04T07:11:05.400Z"
   },
   {
    "duration": 17,
    "start_time": "2023-04-04T07:11:37.665Z"
   },
   {
    "duration": 6,
    "start_time": "2023-04-04T07:11:38.248Z"
   },
   {
    "duration": 8,
    "start_time": "2023-04-04T07:11:55.610Z"
   },
   {
    "duration": 69,
    "start_time": "2023-04-04T07:32:04.218Z"
   },
   {
    "duration": 30,
    "start_time": "2023-04-04T07:32:11.751Z"
   },
   {
    "duration": 349,
    "start_time": "2023-04-04T07:37:53.591Z"
   },
   {
    "duration": 326,
    "start_time": "2023-04-04T07:38:16.408Z"
   },
   {
    "duration": 4,
    "start_time": "2023-04-04T08:06:48.588Z"
   },
   {
    "duration": 3,
    "start_time": "2023-04-04T08:08:06.221Z"
   },
   {
    "duration": 121,
    "start_time": "2023-04-04T08:08:28.132Z"
   },
   {
    "duration": 594,
    "start_time": "2023-04-04T08:13:31.367Z"
   },
   {
    "duration": 422,
    "start_time": "2023-04-04T08:14:16.526Z"
   },
   {
    "duration": 268,
    "start_time": "2023-04-04T08:16:19.090Z"
   },
   {
    "duration": 4,
    "start_time": "2023-04-04T08:17:22.124Z"
   },
   {
    "duration": 21,
    "start_time": "2023-04-04T08:18:09.588Z"
   },
   {
    "duration": 223,
    "start_time": "2023-04-04T08:19:10.367Z"
   },
   {
    "duration": 20,
    "start_time": "2023-04-04T08:20:17.520Z"
   },
   {
    "duration": 18,
    "start_time": "2023-04-04T08:22:43.861Z"
   },
   {
    "duration": 258,
    "start_time": "2023-04-04T08:24:15.386Z"
   },
   {
    "duration": 4,
    "start_time": "2023-04-04T08:25:32.356Z"
   },
   {
    "duration": 191,
    "start_time": "2023-04-04T08:27:57.003Z"
   },
   {
    "duration": 23,
    "start_time": "2023-04-04T08:30:08.752Z"
   },
   {
    "duration": 45,
    "start_time": "2023-04-04T08:32:55.557Z"
   },
   {
    "duration": 18,
    "start_time": "2023-04-04T08:33:04.858Z"
   },
   {
    "duration": 29,
    "start_time": "2023-04-04T08:34:41.521Z"
   },
   {
    "duration": 27,
    "start_time": "2023-04-04T08:34:58.773Z"
   },
   {
    "duration": 27,
    "start_time": "2023-04-04T08:35:32.754Z"
   },
   {
    "duration": 330,
    "start_time": "2023-04-04T08:36:18.239Z"
   },
   {
    "duration": 9,
    "start_time": "2023-04-04T08:55:17.449Z"
   },
   {
    "duration": 13,
    "start_time": "2023-04-04T08:56:27.818Z"
   },
   {
    "duration": 16,
    "start_time": "2023-04-04T08:56:50.770Z"
   },
   {
    "duration": 12,
    "start_time": "2023-04-04T09:10:34.399Z"
   },
   {
    "duration": 36,
    "start_time": "2023-04-04T09:10:55.456Z"
   },
   {
    "duration": 51,
    "start_time": "2023-04-04T12:27:12.991Z"
   },
   {
    "duration": 74,
    "start_time": "2023-04-04T12:28:05.533Z"
   },
   {
    "duration": 38,
    "start_time": "2023-04-04T12:28:51.100Z"
   },
   {
    "duration": 17,
    "start_time": "2023-04-04T12:29:11.149Z"
   },
   {
    "duration": 61,
    "start_time": "2023-04-04T12:50:25.149Z"
   },
   {
    "duration": 47,
    "start_time": "2023-04-04T12:50:40.315Z"
   },
   {
    "duration": 55,
    "start_time": "2023-04-04T12:50:51.205Z"
   },
   {
    "duration": 88,
    "start_time": "2023-04-04T12:52:09.733Z"
   },
   {
    "duration": 57,
    "start_time": "2023-04-04T12:58:49.548Z"
   },
   {
    "duration": 55,
    "start_time": "2023-04-04T12:59:23.196Z"
   },
   {
    "duration": 58,
    "start_time": "2023-04-04T12:59:31.237Z"
   },
   {
    "duration": 57,
    "start_time": "2023-04-04T13:00:51.595Z"
   },
   {
    "duration": 58,
    "start_time": "2023-04-04T13:01:08.446Z"
   },
   {
    "duration": 10,
    "start_time": "2023-04-04T13:02:41.416Z"
   },
   {
    "duration": 17,
    "start_time": "2023-04-04T13:02:47.801Z"
   },
   {
    "duration": 47,
    "start_time": "2023-04-04T13:31:53.935Z"
   },
   {
    "duration": 54,
    "start_time": "2023-04-04T13:34:12.104Z"
   },
   {
    "duration": 209,
    "start_time": "2023-04-04T13:34:33.110Z"
   },
   {
    "duration": 223,
    "start_time": "2023-04-04T13:34:53.584Z"
   },
   {
    "duration": 221,
    "start_time": "2023-04-04T13:37:36.065Z"
   },
   {
    "duration": 191,
    "start_time": "2023-04-04T13:39:09.954Z"
   },
   {
    "duration": 42,
    "start_time": "2023-04-04T13:48:21.208Z"
   },
   {
    "duration": 46,
    "start_time": "2023-04-04T13:48:50.796Z"
   },
   {
    "duration": 43,
    "start_time": "2023-04-04T13:49:15.167Z"
   },
   {
    "duration": 89,
    "start_time": "2023-04-04T13:49:22.191Z"
   },
   {
    "duration": 52,
    "start_time": "2023-04-04T13:49:39.138Z"
   },
   {
    "duration": 184,
    "start_time": "2023-04-04T13:56:56.180Z"
   },
   {
    "duration": 195,
    "start_time": "2023-04-04T14:00:48.288Z"
   },
   {
    "duration": 229,
    "start_time": "2023-04-04T14:00:56.001Z"
   },
   {
    "duration": 195,
    "start_time": "2023-04-04T14:03:07.362Z"
   },
   {
    "duration": 203,
    "start_time": "2023-04-04T14:05:05.757Z"
   },
   {
    "duration": 295,
    "start_time": "2023-04-04T14:06:06.737Z"
   },
   {
    "duration": 16,
    "start_time": "2023-04-04T14:06:39.877Z"
   },
   {
    "duration": 259,
    "start_time": "2023-04-04T14:07:27.591Z"
   },
   {
    "duration": 243,
    "start_time": "2023-04-04T14:07:38.787Z"
   },
   {
    "duration": 270,
    "start_time": "2023-04-04T14:08:21.064Z"
   },
   {
    "duration": 44,
    "start_time": "2023-04-05T05:29:06.105Z"
   },
   {
    "duration": 1311,
    "start_time": "2023-04-05T05:29:13.733Z"
   },
   {
    "duration": 758,
    "start_time": "2023-04-05T05:29:15.046Z"
   },
   {
    "duration": 13,
    "start_time": "2023-04-05T05:29:15.806Z"
   },
   {
    "duration": 18,
    "start_time": "2023-04-05T05:29:15.820Z"
   },
   {
    "duration": 3,
    "start_time": "2023-04-05T05:29:15.839Z"
   },
   {
    "duration": 13,
    "start_time": "2023-04-05T05:29:15.843Z"
   },
   {
    "duration": 62,
    "start_time": "2023-04-05T05:29:15.858Z"
   },
   {
    "duration": 12,
    "start_time": "2023-04-05T05:29:15.922Z"
   },
   {
    "duration": 74,
    "start_time": "2023-04-05T05:29:15.935Z"
   },
   {
    "duration": 60,
    "start_time": "2023-04-05T05:29:16.011Z"
   },
   {
    "duration": 12,
    "start_time": "2023-04-05T05:29:16.073Z"
   },
   {
    "duration": 30,
    "start_time": "2023-04-05T05:29:16.087Z"
   },
   {
    "duration": 76,
    "start_time": "2023-04-05T05:29:16.119Z"
   },
   {
    "duration": 15,
    "start_time": "2023-04-05T05:29:16.196Z"
   },
   {
    "duration": 8,
    "start_time": "2023-04-05T05:29:16.213Z"
   },
   {
    "duration": 8,
    "start_time": "2023-04-05T05:29:16.222Z"
   },
   {
    "duration": 6,
    "start_time": "2023-04-05T05:29:16.232Z"
   },
   {
    "duration": 40,
    "start_time": "2023-04-05T05:29:16.239Z"
   },
   {
    "duration": 10,
    "start_time": "2023-04-05T05:29:16.281Z"
   },
   {
    "duration": 23,
    "start_time": "2023-04-05T05:29:16.293Z"
   },
   {
    "duration": 374,
    "start_time": "2023-04-05T05:29:16.318Z"
   },
   {
    "duration": 37,
    "start_time": "2023-04-05T05:29:16.694Z"
   },
   {
    "duration": 14,
    "start_time": "2023-04-05T05:29:16.733Z"
   },
   {
    "duration": 42,
    "start_time": "2023-04-05T05:29:16.748Z"
   },
   {
    "duration": 320,
    "start_time": "2023-04-05T05:29:16.791Z"
   },
   {
    "duration": 12,
    "start_time": "2023-04-05T05:29:17.113Z"
   },
   {
    "duration": 62,
    "start_time": "2023-04-05T05:29:17.127Z"
   },
   {
    "duration": 33,
    "start_time": "2023-04-05T05:29:17.193Z"
   },
   {
    "duration": 1071,
    "start_time": "2023-04-05T05:29:17.228Z"
   },
   {
    "duration": 0,
    "start_time": "2023-04-05T05:29:18.301Z"
   },
   {
    "duration": 0,
    "start_time": "2023-04-05T05:29:18.302Z"
   },
   {
    "duration": 0,
    "start_time": "2023-04-05T05:29:18.303Z"
   },
   {
    "duration": 302,
    "start_time": "2023-04-05T05:30:08.816Z"
   },
   {
    "duration": 1199,
    "start_time": "2023-04-05T05:32:28.704Z"
   },
   {
    "duration": 144,
    "start_time": "2023-04-05T05:32:29.905Z"
   },
   {
    "duration": 19,
    "start_time": "2023-04-05T05:32:30.051Z"
   },
   {
    "duration": 103,
    "start_time": "2023-04-05T05:32:30.075Z"
   },
   {
    "duration": 20,
    "start_time": "2023-04-05T05:32:30.181Z"
   },
   {
    "duration": 41,
    "start_time": "2023-04-05T05:32:30.203Z"
   },
   {
    "duration": 84,
    "start_time": "2023-04-05T05:32:30.246Z"
   },
   {
    "duration": 13,
    "start_time": "2023-04-05T05:32:30.331Z"
   },
   {
    "duration": 94,
    "start_time": "2023-04-05T05:32:30.345Z"
   },
   {
    "duration": 55,
    "start_time": "2023-04-05T05:32:30.440Z"
   },
   {
    "duration": 18,
    "start_time": "2023-04-05T05:32:30.496Z"
   },
   {
    "duration": 70,
    "start_time": "2023-04-05T05:32:30.515Z"
   },
   {
    "duration": 108,
    "start_time": "2023-04-05T05:32:30.587Z"
   },
   {
    "duration": 13,
    "start_time": "2023-04-05T05:32:30.698Z"
   },
   {
    "duration": 37,
    "start_time": "2023-04-05T05:32:30.713Z"
   },
   {
    "duration": 47,
    "start_time": "2023-04-05T05:32:30.752Z"
   },
   {
    "duration": 29,
    "start_time": "2023-04-05T05:32:30.801Z"
   },
   {
    "duration": 47,
    "start_time": "2023-04-05T05:32:30.831Z"
   },
   {
    "duration": 23,
    "start_time": "2023-04-05T05:32:30.880Z"
   },
   {
    "duration": 61,
    "start_time": "2023-04-05T05:32:30.905Z"
   },
   {
    "duration": 364,
    "start_time": "2023-04-05T05:32:30.970Z"
   },
   {
    "duration": 51,
    "start_time": "2023-04-05T05:32:31.335Z"
   },
   {
    "duration": 14,
    "start_time": "2023-04-05T05:32:31.388Z"
   },
   {
    "duration": 45,
    "start_time": "2023-04-05T05:32:31.404Z"
   },
   {
    "duration": 354,
    "start_time": "2023-04-05T05:32:31.451Z"
   },
   {
    "duration": 13,
    "start_time": "2023-04-05T05:32:31.807Z"
   },
   {
    "duration": 46,
    "start_time": "2023-04-05T05:32:31.822Z"
   },
   {
    "duration": 37,
    "start_time": "2023-04-05T05:32:31.872Z"
   },
   {
    "duration": 256,
    "start_time": "2023-04-05T05:32:31.911Z"
   },
   {
    "duration": 56,
    "start_time": "2023-04-05T05:32:32.174Z"
   },
   {
    "duration": 9,
    "start_time": "2023-04-05T05:32:32.231Z"
   },
   {
    "duration": 259,
    "start_time": "2023-04-05T05:32:32.242Z"
   },
   {
    "duration": 333,
    "start_time": "2023-04-05T05:33:01.082Z"
   },
   {
    "duration": 22,
    "start_time": "2023-04-05T05:34:48.859Z"
   },
   {
    "duration": 1198,
    "start_time": "2023-04-05T05:35:01.664Z"
   },
   {
    "duration": 147,
    "start_time": "2023-04-05T05:35:02.864Z"
   },
   {
    "duration": 13,
    "start_time": "2023-04-05T05:35:03.012Z"
   },
   {
    "duration": 16,
    "start_time": "2023-04-05T05:35:03.027Z"
   },
   {
    "duration": 3,
    "start_time": "2023-04-05T05:35:03.044Z"
   },
   {
    "duration": 34,
    "start_time": "2023-04-05T05:35:03.048Z"
   },
   {
    "duration": 51,
    "start_time": "2023-04-05T05:35:03.084Z"
   },
   {
    "duration": 13,
    "start_time": "2023-04-05T05:35:03.137Z"
   },
   {
    "duration": 80,
    "start_time": "2023-04-05T05:35:03.151Z"
   },
   {
    "duration": 49,
    "start_time": "2023-04-05T05:35:03.234Z"
   },
   {
    "duration": 11,
    "start_time": "2023-04-05T05:35:03.285Z"
   },
   {
    "duration": 19,
    "start_time": "2023-04-05T05:35:03.297Z"
   },
   {
    "duration": 86,
    "start_time": "2023-04-05T05:35:03.317Z"
   },
   {
    "duration": 15,
    "start_time": "2023-04-05T05:35:03.404Z"
   },
   {
    "duration": 8,
    "start_time": "2023-04-05T05:35:03.421Z"
   },
   {
    "duration": 7,
    "start_time": "2023-04-05T05:35:03.430Z"
   },
   {
    "duration": 6,
    "start_time": "2023-04-05T05:35:03.438Z"
   },
   {
    "duration": 38,
    "start_time": "2023-04-05T05:35:03.445Z"
   },
   {
    "duration": 7,
    "start_time": "2023-04-05T05:35:03.485Z"
   },
   {
    "duration": 23,
    "start_time": "2023-04-05T05:35:03.493Z"
   },
   {
    "duration": 360,
    "start_time": "2023-04-05T05:35:03.517Z"
   },
   {
    "duration": 39,
    "start_time": "2023-04-05T05:35:03.879Z"
   },
   {
    "duration": 15,
    "start_time": "2023-04-05T05:35:03.920Z"
   },
   {
    "duration": 51,
    "start_time": "2023-04-05T05:35:03.937Z"
   },
   {
    "duration": 293,
    "start_time": "2023-04-05T05:35:03.989Z"
   },
   {
    "duration": 12,
    "start_time": "2023-04-05T05:35:04.283Z"
   },
   {
    "duration": 29,
    "start_time": "2023-04-05T05:35:04.296Z"
   },
   {
    "duration": 49,
    "start_time": "2023-04-05T05:35:04.328Z"
   },
   {
    "duration": 231,
    "start_time": "2023-04-05T05:35:04.379Z"
   },
   {
    "duration": 48,
    "start_time": "2023-04-05T05:35:04.611Z"
   },
   {
    "duration": 12,
    "start_time": "2023-04-05T05:35:04.673Z"
   },
   {
    "duration": 266,
    "start_time": "2023-04-05T05:35:04.686Z"
   },
   {
    "duration": 203,
    "start_time": "2023-04-05T05:48:10.397Z"
   },
   {
    "duration": 15,
    "start_time": "2023-04-05T05:48:27.907Z"
   },
   {
    "duration": 10,
    "start_time": "2023-04-05T05:59:13.660Z"
   },
   {
    "duration": 11,
    "start_time": "2023-04-05T05:59:24.524Z"
   },
   {
    "duration": 15,
    "start_time": "2023-04-05T05:59:42.821Z"
   },
   {
    "duration": 11,
    "start_time": "2023-04-05T06:00:09.548Z"
   },
   {
    "duration": 15,
    "start_time": "2023-04-05T06:00:52.526Z"
   },
   {
    "duration": 10,
    "start_time": "2023-04-05T06:01:15.734Z"
   },
   {
    "duration": 10,
    "start_time": "2023-04-05T06:01:42.028Z"
   },
   {
    "duration": 13,
    "start_time": "2023-04-05T06:03:06.009Z"
   },
   {
    "duration": 1216,
    "start_time": "2023-04-05T06:03:15.559Z"
   },
   {
    "duration": 159,
    "start_time": "2023-04-05T06:03:16.779Z"
   },
   {
    "duration": 12,
    "start_time": "2023-04-05T06:03:16.940Z"
   },
   {
    "duration": 33,
    "start_time": "2023-04-05T06:03:16.953Z"
   },
   {
    "duration": 7,
    "start_time": "2023-04-05T06:03:16.991Z"
   },
   {
    "duration": 16,
    "start_time": "2023-04-05T06:03:17.000Z"
   },
   {
    "duration": 73,
    "start_time": "2023-04-05T06:03:17.018Z"
   },
   {
    "duration": 17,
    "start_time": "2023-04-05T06:03:17.093Z"
   },
   {
    "duration": 65,
    "start_time": "2023-04-05T06:03:17.111Z"
   },
   {
    "duration": 56,
    "start_time": "2023-04-05T06:03:17.188Z"
   },
   {
    "duration": 11,
    "start_time": "2023-04-05T06:03:17.245Z"
   },
   {
    "duration": 52,
    "start_time": "2023-04-05T06:03:17.257Z"
   },
   {
    "duration": 84,
    "start_time": "2023-04-05T06:03:17.310Z"
   },
   {
    "duration": 23,
    "start_time": "2023-04-05T06:03:17.396Z"
   },
   {
    "duration": 4,
    "start_time": "2023-04-05T06:03:17.421Z"
   },
   {
    "duration": 7,
    "start_time": "2023-04-05T06:03:17.427Z"
   },
   {
    "duration": 8,
    "start_time": "2023-04-05T06:03:17.435Z"
   },
   {
    "duration": 41,
    "start_time": "2023-04-05T06:03:17.444Z"
   },
   {
    "duration": 11,
    "start_time": "2023-04-05T06:03:17.493Z"
   },
   {
    "duration": 22,
    "start_time": "2023-04-05T06:03:17.506Z"
   },
   {
    "duration": 401,
    "start_time": "2023-04-05T06:03:17.530Z"
   },
   {
    "duration": 45,
    "start_time": "2023-04-05T06:03:17.933Z"
   },
   {
    "duration": 27,
    "start_time": "2023-04-05T06:03:17.980Z"
   },
   {
    "duration": 23,
    "start_time": "2023-04-05T06:03:18.009Z"
   },
   {
    "duration": 347,
    "start_time": "2023-04-05T06:03:18.034Z"
   },
   {
    "duration": 19,
    "start_time": "2023-04-05T06:03:18.383Z"
   },
   {
    "duration": 32,
    "start_time": "2023-04-05T06:03:18.404Z"
   },
   {
    "duration": 66,
    "start_time": "2023-04-05T06:03:18.440Z"
   },
   {
    "duration": 254,
    "start_time": "2023-04-05T06:03:18.508Z"
   },
   {
    "duration": 67,
    "start_time": "2023-04-05T06:03:18.764Z"
   },
   {
    "duration": 11,
    "start_time": "2023-04-05T06:03:18.832Z"
   },
   {
    "duration": 304,
    "start_time": "2023-04-05T06:03:18.844Z"
   },
   {
    "duration": 27,
    "start_time": "2023-04-05T06:03:19.149Z"
   },
   {
    "duration": 1265,
    "start_time": "2023-04-05T06:05:30.111Z"
   },
   {
    "duration": 184,
    "start_time": "2023-04-05T06:05:31.383Z"
   },
   {
    "duration": 25,
    "start_time": "2023-04-05T06:05:31.581Z"
   },
   {
    "duration": 37,
    "start_time": "2023-04-05T06:05:31.608Z"
   },
   {
    "duration": 33,
    "start_time": "2023-04-05T06:05:31.648Z"
   },
   {
    "duration": 43,
    "start_time": "2023-04-05T06:05:31.684Z"
   },
   {
    "duration": 116,
    "start_time": "2023-04-05T06:05:31.729Z"
   },
   {
    "duration": 28,
    "start_time": "2023-04-05T06:05:31.848Z"
   },
   {
    "duration": 95,
    "start_time": "2023-04-05T06:05:31.879Z"
   },
   {
    "duration": 77,
    "start_time": "2023-04-05T06:05:31.976Z"
   },
   {
    "duration": 25,
    "start_time": "2023-04-05T06:05:32.055Z"
   },
   {
    "duration": 37,
    "start_time": "2023-04-05T06:05:32.081Z"
   },
   {
    "duration": 118,
    "start_time": "2023-04-05T06:05:32.121Z"
   },
   {
    "duration": 45,
    "start_time": "2023-04-05T06:05:32.243Z"
   },
   {
    "duration": 5,
    "start_time": "2023-04-05T06:05:32.290Z"
   },
   {
    "duration": 29,
    "start_time": "2023-04-05T06:05:32.297Z"
   },
   {
    "duration": 7,
    "start_time": "2023-04-05T06:05:32.328Z"
   },
   {
    "duration": 28,
    "start_time": "2023-04-05T06:05:32.337Z"
   },
   {
    "duration": 21,
    "start_time": "2023-04-05T06:05:32.367Z"
   },
   {
    "duration": 47,
    "start_time": "2023-04-05T06:05:32.391Z"
   },
   {
    "duration": 683,
    "start_time": "2023-04-05T06:05:32.440Z"
   },
   {
    "duration": 71,
    "start_time": "2023-04-05T06:05:33.125Z"
   },
   {
    "duration": 20,
    "start_time": "2023-04-05T06:05:33.202Z"
   },
   {
    "duration": 35,
    "start_time": "2023-04-05T06:05:33.224Z"
   },
   {
    "duration": 469,
    "start_time": "2023-04-05T06:05:33.268Z"
   },
   {
    "duration": 17,
    "start_time": "2023-04-05T06:05:33.740Z"
   },
   {
    "duration": 65,
    "start_time": "2023-04-05T06:05:33.761Z"
   },
   {
    "duration": 73,
    "start_time": "2023-04-05T06:05:33.828Z"
   },
   {
    "duration": 290,
    "start_time": "2023-04-05T06:05:33.905Z"
   },
   {
    "duration": 60,
    "start_time": "2023-04-05T06:05:34.197Z"
   },
   {
    "duration": 0,
    "start_time": "2023-04-05T06:05:34.259Z"
   },
   {
    "duration": 0,
    "start_time": "2023-04-05T06:05:34.261Z"
   },
   {
    "duration": 0,
    "start_time": "2023-04-05T06:05:34.262Z"
   },
   {
    "duration": 1237,
    "start_time": "2023-04-05T06:06:28.384Z"
   },
   {
    "duration": 173,
    "start_time": "2023-04-05T06:06:29.623Z"
   },
   {
    "duration": 17,
    "start_time": "2023-04-05T06:06:29.798Z"
   },
   {
    "duration": 21,
    "start_time": "2023-04-05T06:06:29.816Z"
   },
   {
    "duration": 3,
    "start_time": "2023-04-05T06:06:29.840Z"
   },
   {
    "duration": 16,
    "start_time": "2023-04-05T06:06:29.845Z"
   },
   {
    "duration": 82,
    "start_time": "2023-04-05T06:06:29.863Z"
   },
   {
    "duration": 12,
    "start_time": "2023-04-05T06:06:29.947Z"
   },
   {
    "duration": 77,
    "start_time": "2023-04-05T06:06:29.969Z"
   },
   {
    "duration": 72,
    "start_time": "2023-04-05T06:06:30.048Z"
   },
   {
    "duration": 11,
    "start_time": "2023-04-05T06:06:30.122Z"
   },
   {
    "duration": 70,
    "start_time": "2023-04-05T06:06:30.134Z"
   },
   {
    "duration": 105,
    "start_time": "2023-04-05T06:06:30.207Z"
   },
   {
    "duration": 16,
    "start_time": "2023-04-05T06:06:30.315Z"
   },
   {
    "duration": 26,
    "start_time": "2023-04-05T06:06:30.332Z"
   },
   {
    "duration": 45,
    "start_time": "2023-04-05T06:06:30.359Z"
   },
   {
    "duration": 29,
    "start_time": "2023-04-05T06:06:30.406Z"
   },
   {
    "duration": 61,
    "start_time": "2023-04-05T06:06:30.436Z"
   },
   {
    "duration": 21,
    "start_time": "2023-04-05T06:06:30.499Z"
   },
   {
    "duration": 48,
    "start_time": "2023-04-05T06:06:30.522Z"
   },
   {
    "duration": 420,
    "start_time": "2023-04-05T06:06:30.586Z"
   },
   {
    "duration": 40,
    "start_time": "2023-04-05T06:06:31.008Z"
   },
   {
    "duration": 40,
    "start_time": "2023-04-05T06:06:31.049Z"
   },
   {
    "duration": 37,
    "start_time": "2023-04-05T06:06:31.092Z"
   },
   {
    "duration": 325,
    "start_time": "2023-04-05T06:06:31.130Z"
   },
   {
    "duration": 27,
    "start_time": "2023-04-05T06:06:31.457Z"
   },
   {
    "duration": 35,
    "start_time": "2023-04-05T06:06:31.492Z"
   },
   {
    "duration": 32,
    "start_time": "2023-04-05T06:06:31.529Z"
   },
   {
    "duration": 285,
    "start_time": "2023-04-05T06:06:31.571Z"
   },
   {
    "duration": 191,
    "start_time": "2023-04-05T06:06:31.858Z"
   },
   {
    "duration": 0,
    "start_time": "2023-04-05T06:06:32.051Z"
   },
   {
    "duration": 0,
    "start_time": "2023-04-05T06:06:32.053Z"
   },
   {
    "duration": 0,
    "start_time": "2023-04-05T06:06:32.055Z"
   },
   {
    "duration": 1238,
    "start_time": "2023-04-05T06:06:54.963Z"
   },
   {
    "duration": 143,
    "start_time": "2023-04-05T06:06:56.203Z"
   },
   {
    "duration": 12,
    "start_time": "2023-04-05T06:06:56.348Z"
   },
   {
    "duration": 35,
    "start_time": "2023-04-05T06:06:56.362Z"
   },
   {
    "duration": 4,
    "start_time": "2023-04-05T06:06:56.400Z"
   },
   {
    "duration": 15,
    "start_time": "2023-04-05T06:06:56.406Z"
   },
   {
    "duration": 80,
    "start_time": "2023-04-05T06:06:56.422Z"
   },
   {
    "duration": 18,
    "start_time": "2023-04-05T06:06:56.509Z"
   },
   {
    "duration": 74,
    "start_time": "2023-04-05T06:06:56.528Z"
   },
   {
    "duration": 49,
    "start_time": "2023-04-05T06:06:56.605Z"
   },
   {
    "duration": 26,
    "start_time": "2023-04-05T06:06:56.656Z"
   },
   {
    "duration": 30,
    "start_time": "2023-04-05T06:06:56.683Z"
   },
   {
    "duration": 101,
    "start_time": "2023-04-05T06:06:56.715Z"
   },
   {
    "duration": 14,
    "start_time": "2023-04-05T06:06:56.817Z"
   },
   {
    "duration": 7,
    "start_time": "2023-04-05T06:06:56.833Z"
   },
   {
    "duration": 9,
    "start_time": "2023-04-05T06:06:56.842Z"
   },
   {
    "duration": 33,
    "start_time": "2023-04-05T06:06:56.852Z"
   },
   {
    "duration": 17,
    "start_time": "2023-04-05T06:06:56.890Z"
   },
   {
    "duration": 24,
    "start_time": "2023-04-05T06:06:56.909Z"
   },
   {
    "duration": 56,
    "start_time": "2023-04-05T06:06:56.934Z"
   },
   {
    "duration": 369,
    "start_time": "2023-04-05T06:06:56.997Z"
   },
   {
    "duration": 51,
    "start_time": "2023-04-05T06:06:57.368Z"
   },
   {
    "duration": 16,
    "start_time": "2023-04-05T06:06:57.420Z"
   },
   {
    "duration": 57,
    "start_time": "2023-04-05T06:06:57.437Z"
   },
   {
    "duration": 318,
    "start_time": "2023-04-05T06:06:57.498Z"
   },
   {
    "duration": 17,
    "start_time": "2023-04-05T06:06:57.819Z"
   },
   {
    "duration": 62,
    "start_time": "2023-04-05T06:06:57.839Z"
   },
   {
    "duration": 31,
    "start_time": "2023-04-05T06:06:57.905Z"
   },
   {
    "duration": 267,
    "start_time": "2023-04-05T06:06:57.938Z"
   },
   {
    "duration": 50,
    "start_time": "2023-04-05T06:06:58.206Z"
   },
   {
    "duration": 1061,
    "start_time": "2023-04-05T06:06:58.257Z"
   },
   {
    "duration": 0,
    "start_time": "2023-04-05T06:06:59.320Z"
   },
   {
    "duration": 0,
    "start_time": "2023-04-05T06:06:59.321Z"
   },
   {
    "duration": 1368,
    "start_time": "2023-04-05T06:07:51.397Z"
   },
   {
    "duration": 175,
    "start_time": "2023-04-05T06:07:52.768Z"
   },
   {
    "duration": 12,
    "start_time": "2023-04-05T06:07:52.944Z"
   },
   {
    "duration": 34,
    "start_time": "2023-04-05T06:07:52.958Z"
   },
   {
    "duration": 6,
    "start_time": "2023-04-05T06:07:52.994Z"
   },
   {
    "duration": 16,
    "start_time": "2023-04-05T06:07:53.002Z"
   },
   {
    "duration": 77,
    "start_time": "2023-04-05T06:07:53.020Z"
   },
   {
    "duration": 14,
    "start_time": "2023-04-05T06:07:53.101Z"
   },
   {
    "duration": 82,
    "start_time": "2023-04-05T06:07:53.116Z"
   },
   {
    "duration": 50,
    "start_time": "2023-04-05T06:07:53.201Z"
   },
   {
    "duration": 12,
    "start_time": "2023-04-05T06:07:53.253Z"
   },
   {
    "duration": 37,
    "start_time": "2023-04-05T06:07:53.270Z"
   },
   {
    "duration": 84,
    "start_time": "2023-04-05T06:07:53.309Z"
   },
   {
    "duration": 14,
    "start_time": "2023-04-05T06:07:53.403Z"
   },
   {
    "duration": 5,
    "start_time": "2023-04-05T06:07:53.418Z"
   },
   {
    "duration": 11,
    "start_time": "2023-04-05T06:07:53.425Z"
   },
   {
    "duration": 9,
    "start_time": "2023-04-05T06:07:53.438Z"
   },
   {
    "duration": 45,
    "start_time": "2023-04-05T06:07:53.449Z"
   },
   {
    "duration": 11,
    "start_time": "2023-04-05T06:07:53.495Z"
   },
   {
    "duration": 83,
    "start_time": "2023-04-05T06:07:53.508Z"
   },
   {
    "duration": 432,
    "start_time": "2023-04-05T06:07:53.592Z"
   },
   {
    "duration": 52,
    "start_time": "2023-04-05T06:07:54.026Z"
   },
   {
    "duration": 18,
    "start_time": "2023-04-05T06:07:54.080Z"
   },
   {
    "duration": 29,
    "start_time": "2023-04-05T06:07:54.099Z"
   },
   {
    "duration": 329,
    "start_time": "2023-04-05T06:07:54.129Z"
   },
   {
    "duration": 36,
    "start_time": "2023-04-05T06:07:54.460Z"
   },
   {
    "duration": 50,
    "start_time": "2023-04-05T06:07:54.498Z"
   },
   {
    "duration": 50,
    "start_time": "2023-04-05T06:07:54.551Z"
   },
   {
    "duration": 250,
    "start_time": "2023-04-05T06:07:54.604Z"
   },
   {
    "duration": 69,
    "start_time": "2023-04-05T06:07:54.855Z"
   },
   {
    "duration": 1021,
    "start_time": "2023-04-05T06:07:54.926Z"
   },
   {
    "duration": 0,
    "start_time": "2023-04-05T06:07:55.949Z"
   },
   {
    "duration": 0,
    "start_time": "2023-04-05T06:07:55.950Z"
   },
   {
    "duration": 1245,
    "start_time": "2023-04-05T06:08:24.579Z"
   },
   {
    "duration": 152,
    "start_time": "2023-04-05T06:08:25.827Z"
   },
   {
    "duration": 20,
    "start_time": "2023-04-05T06:08:25.981Z"
   },
   {
    "duration": 18,
    "start_time": "2023-04-05T06:08:26.003Z"
   },
   {
    "duration": 3,
    "start_time": "2023-04-05T06:08:26.024Z"
   },
   {
    "duration": 20,
    "start_time": "2023-04-05T06:08:26.029Z"
   },
   {
    "duration": 85,
    "start_time": "2023-04-05T06:08:26.051Z"
   },
   {
    "duration": 19,
    "start_time": "2023-04-05T06:08:26.138Z"
   },
   {
    "duration": 77,
    "start_time": "2023-04-05T06:08:26.168Z"
   },
   {
    "duration": 70,
    "start_time": "2023-04-05T06:08:26.246Z"
   },
   {
    "duration": 12,
    "start_time": "2023-04-05T06:08:26.317Z"
   },
   {
    "duration": 31,
    "start_time": "2023-04-05T06:08:26.330Z"
   },
   {
    "duration": 89,
    "start_time": "2023-04-05T06:08:26.362Z"
   },
   {
    "duration": 26,
    "start_time": "2023-04-05T06:08:26.453Z"
   },
   {
    "duration": 12,
    "start_time": "2023-04-05T06:08:26.481Z"
   },
   {
    "duration": 8,
    "start_time": "2023-04-05T06:08:26.499Z"
   },
   {
    "duration": 6,
    "start_time": "2023-04-05T06:08:26.508Z"
   },
   {
    "duration": 16,
    "start_time": "2023-04-05T06:08:26.515Z"
   },
   {
    "duration": 8,
    "start_time": "2023-04-05T06:08:26.532Z"
   },
   {
    "duration": 55,
    "start_time": "2023-04-05T06:08:26.542Z"
   },
   {
    "duration": 394,
    "start_time": "2023-04-05T06:08:26.598Z"
   },
   {
    "duration": 39,
    "start_time": "2023-04-05T06:08:26.993Z"
   },
   {
    "duration": 14,
    "start_time": "2023-04-05T06:08:27.034Z"
   },
   {
    "duration": 49,
    "start_time": "2023-04-05T06:08:27.049Z"
   },
   {
    "duration": 311,
    "start_time": "2023-04-05T06:08:27.100Z"
   },
   {
    "duration": 13,
    "start_time": "2023-04-05T06:08:27.413Z"
   },
   {
    "duration": 45,
    "start_time": "2023-04-05T06:08:27.428Z"
   },
   {
    "duration": 43,
    "start_time": "2023-04-05T06:08:27.474Z"
   },
   {
    "duration": 289,
    "start_time": "2023-04-05T06:08:27.519Z"
   },
   {
    "duration": 52,
    "start_time": "2023-04-05T06:08:27.809Z"
   },
   {
    "duration": 33,
    "start_time": "2023-04-05T06:08:27.863Z"
   },
   {
    "duration": 271,
    "start_time": "2023-04-05T06:08:27.902Z"
   },
   {
    "duration": 18,
    "start_time": "2023-04-05T06:08:28.176Z"
   },
   {
    "duration": 12,
    "start_time": "2023-04-05T11:25:11.793Z"
   },
   {
    "duration": 9,
    "start_time": "2023-04-05T11:26:03.617Z"
   },
   {
    "duration": 1230,
    "start_time": "2023-04-05T11:26:14.772Z"
   },
   {
    "duration": 178,
    "start_time": "2023-04-05T11:26:16.005Z"
   },
   {
    "duration": 15,
    "start_time": "2023-04-05T11:26:16.185Z"
   },
   {
    "duration": 19,
    "start_time": "2023-04-05T11:26:16.202Z"
   },
   {
    "duration": 3,
    "start_time": "2023-04-05T11:26:16.222Z"
   },
   {
    "duration": 12,
    "start_time": "2023-04-05T11:26:16.227Z"
   },
   {
    "duration": 87,
    "start_time": "2023-04-05T11:26:16.240Z"
   },
   {
    "duration": 13,
    "start_time": "2023-04-05T11:26:16.329Z"
   },
   {
    "duration": 80,
    "start_time": "2023-04-05T11:26:16.343Z"
   },
   {
    "duration": 64,
    "start_time": "2023-04-05T11:26:16.427Z"
   },
   {
    "duration": 17,
    "start_time": "2023-04-05T11:26:16.492Z"
   },
   {
    "duration": 27,
    "start_time": "2023-04-05T11:26:16.511Z"
   },
   {
    "duration": 80,
    "start_time": "2023-04-05T11:26:16.540Z"
   },
   {
    "duration": 16,
    "start_time": "2023-04-05T11:26:16.621Z"
   },
   {
    "duration": 4,
    "start_time": "2023-04-05T11:26:16.639Z"
   },
   {
    "duration": 28,
    "start_time": "2023-04-05T11:26:16.644Z"
   },
   {
    "duration": 16,
    "start_time": "2023-04-05T11:26:16.674Z"
   },
   {
    "duration": 23,
    "start_time": "2023-04-05T11:26:16.692Z"
   },
   {
    "duration": 8,
    "start_time": "2023-04-05T11:26:16.717Z"
   },
   {
    "duration": 44,
    "start_time": "2023-04-05T11:26:16.726Z"
   },
   {
    "duration": 440,
    "start_time": "2023-04-05T11:26:16.772Z"
   },
   {
    "duration": 38,
    "start_time": "2023-04-05T11:26:17.213Z"
   },
   {
    "duration": 35,
    "start_time": "2023-04-05T11:26:17.253Z"
   },
   {
    "duration": 26,
    "start_time": "2023-04-05T11:26:17.292Z"
   },
   {
    "duration": 339,
    "start_time": "2023-04-05T11:26:17.320Z"
   },
   {
    "duration": 13,
    "start_time": "2023-04-05T11:26:17.660Z"
   },
   {
    "duration": 32,
    "start_time": "2023-04-05T11:26:17.675Z"
   },
   {
    "duration": 31,
    "start_time": "2023-04-05T11:26:17.710Z"
   },
   {
    "duration": 283,
    "start_time": "2023-04-05T11:26:17.743Z"
   },
   {
    "duration": 74,
    "start_time": "2023-04-05T11:26:18.027Z"
   },
   {
    "duration": 14,
    "start_time": "2023-04-05T11:26:18.103Z"
   },
   {
    "duration": 315,
    "start_time": "2023-04-05T11:26:18.118Z"
   },
   {
    "duration": 837,
    "start_time": "2023-04-05T11:26:18.435Z"
   },
   {
    "duration": 8,
    "start_time": "2023-04-05T11:26:47.561Z"
   },
   {
    "duration": 9,
    "start_time": "2023-04-05T11:27:27.937Z"
   },
   {
    "duration": 10,
    "start_time": "2023-04-05T11:31:19.399Z"
   },
   {
    "duration": 1227,
    "start_time": "2023-04-05T11:31:38.566Z"
   },
   {
    "duration": 148,
    "start_time": "2023-04-05T11:31:39.796Z"
   },
   {
    "duration": 12,
    "start_time": "2023-04-05T11:31:39.946Z"
   },
   {
    "duration": 23,
    "start_time": "2023-04-05T11:31:39.960Z"
   },
   {
    "duration": 3,
    "start_time": "2023-04-05T11:31:39.985Z"
   },
   {
    "duration": 13,
    "start_time": "2023-04-05T11:31:39.989Z"
   },
   {
    "duration": 79,
    "start_time": "2023-04-05T11:31:40.003Z"
   },
   {
    "duration": 14,
    "start_time": "2023-04-05T11:31:40.085Z"
   },
   {
    "duration": 83,
    "start_time": "2023-04-05T11:31:40.100Z"
   },
   {
    "duration": 54,
    "start_time": "2023-04-05T11:31:40.188Z"
   },
   {
    "duration": 11,
    "start_time": "2023-04-05T11:31:40.244Z"
   },
   {
    "duration": 36,
    "start_time": "2023-04-05T11:31:40.257Z"
   },
   {
    "duration": 102,
    "start_time": "2023-04-05T11:31:40.296Z"
   },
   {
    "duration": 15,
    "start_time": "2023-04-05T11:31:40.400Z"
   },
   {
    "duration": 3,
    "start_time": "2023-04-05T11:31:40.417Z"
   },
   {
    "duration": 14,
    "start_time": "2023-04-05T11:31:40.423Z"
   },
   {
    "duration": 7,
    "start_time": "2023-04-05T11:31:40.439Z"
   },
   {
    "duration": 29,
    "start_time": "2023-04-05T11:31:40.468Z"
   },
   {
    "duration": 8,
    "start_time": "2023-04-05T11:31:40.499Z"
   },
   {
    "duration": 23,
    "start_time": "2023-04-05T11:31:40.509Z"
   },
   {
    "duration": 469,
    "start_time": "2023-04-05T11:31:40.533Z"
   },
   {
    "duration": 37,
    "start_time": "2023-04-05T11:31:41.004Z"
   },
   {
    "duration": 13,
    "start_time": "2023-04-05T11:31:41.042Z"
   },
   {
    "duration": 34,
    "start_time": "2023-04-05T11:31:41.069Z"
   },
   {
    "duration": 337,
    "start_time": "2023-04-05T11:31:41.104Z"
   },
   {
    "duration": 12,
    "start_time": "2023-04-05T11:31:41.442Z"
   },
   {
    "duration": 54,
    "start_time": "2023-04-05T11:31:41.456Z"
   },
   {
    "duration": 30,
    "start_time": "2023-04-05T11:31:41.513Z"
   },
   {
    "duration": 291,
    "start_time": "2023-04-05T11:31:41.545Z"
   },
   {
    "duration": 71,
    "start_time": "2023-04-05T11:31:41.838Z"
   },
   {
    "duration": 10,
    "start_time": "2023-04-05T11:31:41.911Z"
   },
   {
    "duration": 294,
    "start_time": "2023-04-05T11:31:41.922Z"
   },
   {
    "duration": 8,
    "start_time": "2023-04-05T11:31:42.217Z"
   },
   {
    "duration": 11,
    "start_time": "2023-04-05T11:31:42.226Z"
   },
   {
    "duration": 11,
    "start_time": "2023-04-05T11:31:42.238Z"
   },
   {
    "duration": 1101,
    "start_time": "2023-04-05T11:33:40.327Z"
   },
   {
    "duration": 136,
    "start_time": "2023-04-05T11:33:41.430Z"
   },
   {
    "duration": 15,
    "start_time": "2023-04-05T11:33:41.568Z"
   },
   {
    "duration": 17,
    "start_time": "2023-04-05T11:33:41.585Z"
   },
   {
    "duration": 3,
    "start_time": "2023-04-05T11:33:41.603Z"
   },
   {
    "duration": 17,
    "start_time": "2023-04-05T11:33:41.607Z"
   },
   {
    "duration": 85,
    "start_time": "2023-04-05T11:33:41.626Z"
   },
   {
    "duration": 12,
    "start_time": "2023-04-05T11:33:41.712Z"
   },
   {
    "duration": 75,
    "start_time": "2023-04-05T11:33:41.725Z"
   },
   {
    "duration": 54,
    "start_time": "2023-04-05T11:33:41.802Z"
   },
   {
    "duration": 27,
    "start_time": "2023-04-05T11:33:41.858Z"
   },
   {
    "duration": 18,
    "start_time": "2023-04-05T11:33:41.888Z"
   },
   {
    "duration": 96,
    "start_time": "2023-04-05T11:33:41.907Z"
   },
   {
    "duration": 13,
    "start_time": "2023-04-05T11:33:42.005Z"
   },
   {
    "duration": 3,
    "start_time": "2023-04-05T11:33:42.019Z"
   },
   {
    "duration": 13,
    "start_time": "2023-04-05T11:33:42.024Z"
   },
   {
    "duration": 6,
    "start_time": "2023-04-05T11:33:42.038Z"
   },
   {
    "duration": 44,
    "start_time": "2023-04-05T11:33:42.045Z"
   },
   {
    "duration": 8,
    "start_time": "2023-04-05T11:33:42.091Z"
   },
   {
    "duration": 26,
    "start_time": "2023-04-05T11:33:42.100Z"
   },
   {
    "duration": 353,
    "start_time": "2023-04-05T11:33:42.127Z"
   },
   {
    "duration": 44,
    "start_time": "2023-04-05T11:33:42.481Z"
   },
   {
    "duration": 16,
    "start_time": "2023-04-05T11:33:42.527Z"
   },
   {
    "duration": 57,
    "start_time": "2023-04-05T11:33:42.544Z"
   },
   {
    "duration": 315,
    "start_time": "2023-04-05T11:33:42.602Z"
   },
   {
    "duration": 11,
    "start_time": "2023-04-05T11:33:42.918Z"
   },
   {
    "duration": 47,
    "start_time": "2023-04-05T11:33:42.931Z"
   },
   {
    "duration": 33,
    "start_time": "2023-04-05T11:33:42.980Z"
   },
   {
    "duration": 291,
    "start_time": "2023-04-05T11:33:43.014Z"
   },
   {
    "duration": 78,
    "start_time": "2023-04-05T11:33:43.307Z"
   },
   {
    "duration": 19,
    "start_time": "2023-04-05T11:33:43.387Z"
   },
   {
    "duration": 294,
    "start_time": "2023-04-05T11:33:43.408Z"
   },
   {
    "duration": 7,
    "start_time": "2023-04-05T11:33:43.704Z"
   },
   {
    "duration": 16,
    "start_time": "2023-04-05T11:33:43.713Z"
   },
   {
    "duration": 11,
    "start_time": "2023-04-05T11:35:11.697Z"
   },
   {
    "duration": 1257,
    "start_time": "2023-04-05T11:35:45.840Z"
   },
   {
    "duration": 142,
    "start_time": "2023-04-05T11:35:47.099Z"
   },
   {
    "duration": 13,
    "start_time": "2023-04-05T11:35:47.243Z"
   },
   {
    "duration": 28,
    "start_time": "2023-04-05T11:35:47.258Z"
   },
   {
    "duration": 4,
    "start_time": "2023-04-05T11:35:47.289Z"
   },
   {
    "duration": 27,
    "start_time": "2023-04-05T11:35:47.295Z"
   },
   {
    "duration": 68,
    "start_time": "2023-04-05T11:35:47.323Z"
   },
   {
    "duration": 15,
    "start_time": "2023-04-05T11:35:47.392Z"
   },
   {
    "duration": 75,
    "start_time": "2023-04-05T11:35:47.408Z"
   },
   {
    "duration": 57,
    "start_time": "2023-04-05T11:35:47.485Z"
   },
   {
    "duration": 26,
    "start_time": "2023-04-05T11:35:47.544Z"
   },
   {
    "duration": 29,
    "start_time": "2023-04-05T11:35:47.572Z"
   },
   {
    "duration": 110,
    "start_time": "2023-04-05T11:35:47.603Z"
   },
   {
    "duration": 14,
    "start_time": "2023-04-05T11:35:47.716Z"
   },
   {
    "duration": 18,
    "start_time": "2023-04-05T11:35:47.731Z"
   },
   {
    "duration": 25,
    "start_time": "2023-04-05T11:35:47.751Z"
   },
   {
    "duration": 12,
    "start_time": "2023-04-05T11:35:47.779Z"
   },
   {
    "duration": 17,
    "start_time": "2023-04-05T11:35:47.794Z"
   },
   {
    "duration": 8,
    "start_time": "2023-04-05T11:35:47.813Z"
   },
   {
    "duration": 85,
    "start_time": "2023-04-05T11:35:47.822Z"
   },
   {
    "duration": 369,
    "start_time": "2023-04-05T11:35:47.908Z"
   },
   {
    "duration": 47,
    "start_time": "2023-04-05T11:35:48.279Z"
   },
   {
    "duration": 15,
    "start_time": "2023-04-05T11:35:48.328Z"
   },
   {
    "duration": 42,
    "start_time": "2023-04-05T11:35:48.345Z"
   },
   {
    "duration": 346,
    "start_time": "2023-04-05T11:35:48.389Z"
   },
   {
    "duration": 11,
    "start_time": "2023-04-05T11:35:48.737Z"
   },
   {
    "duration": 58,
    "start_time": "2023-04-05T11:35:48.750Z"
   },
   {
    "duration": 35,
    "start_time": "2023-04-05T11:35:48.810Z"
   },
   {
    "duration": 326,
    "start_time": "2023-04-05T11:35:48.846Z"
   },
   {
    "duration": 65,
    "start_time": "2023-04-05T11:35:49.176Z"
   },
   {
    "duration": 30,
    "start_time": "2023-04-05T11:35:49.243Z"
   },
   {
    "duration": 334,
    "start_time": "2023-04-05T11:35:49.275Z"
   },
   {
    "duration": 8,
    "start_time": "2023-04-05T11:35:49.610Z"
   },
   {
    "duration": 22,
    "start_time": "2023-04-05T11:35:49.619Z"
   },
   {
    "duration": 1199,
    "start_time": "2023-04-05T11:37:47.048Z"
   },
   {
    "duration": 156,
    "start_time": "2023-04-05T11:37:48.249Z"
   },
   {
    "duration": 14,
    "start_time": "2023-04-05T11:37:48.407Z"
   },
   {
    "duration": 20,
    "start_time": "2023-04-05T11:37:48.423Z"
   },
   {
    "duration": 4,
    "start_time": "2023-04-05T11:37:48.444Z"
   },
   {
    "duration": 37,
    "start_time": "2023-04-05T11:37:48.450Z"
   },
   {
    "duration": 80,
    "start_time": "2023-04-05T11:37:48.490Z"
   },
   {
    "duration": 25,
    "start_time": "2023-04-05T11:37:48.572Z"
   },
   {
    "duration": 95,
    "start_time": "2023-04-05T11:37:48.599Z"
   },
   {
    "duration": 57,
    "start_time": "2023-04-05T11:37:48.697Z"
   },
   {
    "duration": 37,
    "start_time": "2023-04-05T11:37:48.755Z"
   },
   {
    "duration": 20,
    "start_time": "2023-04-05T11:37:48.794Z"
   },
   {
    "duration": 105,
    "start_time": "2023-04-05T11:37:48.815Z"
   },
   {
    "duration": 15,
    "start_time": "2023-04-05T11:37:48.922Z"
   },
   {
    "duration": 6,
    "start_time": "2023-04-05T11:37:48.939Z"
   },
   {
    "duration": 26,
    "start_time": "2023-04-05T11:37:48.946Z"
   },
   {
    "duration": 9,
    "start_time": "2023-04-05T11:37:48.974Z"
   },
   {
    "duration": 17,
    "start_time": "2023-04-05T11:37:48.986Z"
   },
   {
    "duration": 8,
    "start_time": "2023-04-05T11:37:49.004Z"
   },
   {
    "duration": 56,
    "start_time": "2023-04-05T11:37:49.013Z"
   },
   {
    "duration": 454,
    "start_time": "2023-04-05T11:37:49.071Z"
   },
   {
    "duration": 53,
    "start_time": "2023-04-05T11:37:49.527Z"
   },
   {
    "duration": 18,
    "start_time": "2023-04-05T11:37:49.583Z"
   },
   {
    "duration": 25,
    "start_time": "2023-04-05T11:37:49.603Z"
   },
   {
    "duration": 365,
    "start_time": "2023-04-05T11:37:49.630Z"
   },
   {
    "duration": 13,
    "start_time": "2023-04-05T11:37:49.997Z"
   },
   {
    "duration": 53,
    "start_time": "2023-04-05T11:37:50.011Z"
   },
   {
    "duration": 36,
    "start_time": "2023-04-05T11:37:50.067Z"
   },
   {
    "duration": 289,
    "start_time": "2023-04-05T11:37:50.105Z"
   },
   {
    "duration": 55,
    "start_time": "2023-04-05T11:37:50.396Z"
   },
   {
    "duration": 22,
    "start_time": "2023-04-05T11:37:50.452Z"
   },
   {
    "duration": 299,
    "start_time": "2023-04-05T11:37:50.476Z"
   },
   {
    "duration": 9,
    "start_time": "2023-04-05T11:37:50.778Z"
   },
   {
    "duration": 29,
    "start_time": "2023-04-05T11:39:39.063Z"
   },
   {
    "duration": 831,
    "start_time": "2023-04-05T11:41:37.575Z"
   },
   {
    "duration": 9,
    "start_time": "2023-04-05T11:42:29.488Z"
   },
   {
    "duration": 11,
    "start_time": "2023-04-05T12:06:48.296Z"
   },
   {
    "duration": 61,
    "start_time": "2023-04-05T12:09:09.145Z"
   },
   {
    "duration": 19,
    "start_time": "2023-04-05T12:10:33.373Z"
   },
   {
    "duration": 10,
    "start_time": "2023-04-05T12:12:52.681Z"
   },
   {
    "duration": 10,
    "start_time": "2023-04-05T12:17:09.819Z"
   },
   {
    "duration": 10,
    "start_time": "2023-04-05T12:18:19.420Z"
   },
   {
    "duration": 1157,
    "start_time": "2023-04-05T12:19:17.267Z"
   },
   {
    "duration": 136,
    "start_time": "2023-04-05T12:19:18.426Z"
   },
   {
    "duration": 14,
    "start_time": "2023-04-05T12:19:18.564Z"
   },
   {
    "duration": 19,
    "start_time": "2023-04-05T12:19:18.580Z"
   },
   {
    "duration": 3,
    "start_time": "2023-04-05T12:19:18.601Z"
   },
   {
    "duration": 13,
    "start_time": "2023-04-05T12:19:18.606Z"
   },
   {
    "duration": 72,
    "start_time": "2023-04-05T12:19:18.620Z"
   },
   {
    "duration": 12,
    "start_time": "2023-04-05T12:19:18.693Z"
   },
   {
    "duration": 73,
    "start_time": "2023-04-05T12:19:18.706Z"
   },
   {
    "duration": 55,
    "start_time": "2023-04-05T12:19:18.781Z"
   },
   {
    "duration": 10,
    "start_time": "2023-04-05T12:19:18.838Z"
   },
   {
    "duration": 29,
    "start_time": "2023-04-05T12:19:18.850Z"
   },
   {
    "duration": 67,
    "start_time": "2023-04-05T12:19:18.880Z"
   },
   {
    "duration": 31,
    "start_time": "2023-04-05T12:19:18.949Z"
   },
   {
    "duration": 13,
    "start_time": "2023-04-05T12:19:18.981Z"
   },
   {
    "duration": 9,
    "start_time": "2023-04-05T12:19:18.995Z"
   },
   {
    "duration": 6,
    "start_time": "2023-04-05T12:19:19.005Z"
   },
   {
    "duration": 13,
    "start_time": "2023-04-05T12:19:19.012Z"
   },
   {
    "duration": 8,
    "start_time": "2023-04-05T12:19:19.027Z"
   },
   {
    "duration": 47,
    "start_time": "2023-04-05T12:19:19.037Z"
   },
   {
    "duration": 370,
    "start_time": "2023-04-05T12:19:19.086Z"
   },
   {
    "duration": 38,
    "start_time": "2023-04-05T12:19:19.458Z"
   },
   {
    "duration": 14,
    "start_time": "2023-04-05T12:19:19.498Z"
   },
   {
    "duration": 23,
    "start_time": "2023-04-05T12:19:19.513Z"
   },
   {
    "duration": 311,
    "start_time": "2023-04-05T12:19:19.537Z"
   },
   {
    "duration": 18,
    "start_time": "2023-04-05T12:19:19.850Z"
   },
   {
    "duration": 32,
    "start_time": "2023-04-05T12:19:19.870Z"
   },
   {
    "duration": 31,
    "start_time": "2023-04-05T12:19:19.906Z"
   },
   {
    "duration": 256,
    "start_time": "2023-04-05T12:19:19.939Z"
   },
   {
    "duration": 60,
    "start_time": "2023-04-05T12:19:20.196Z"
   },
   {
    "duration": 13,
    "start_time": "2023-04-05T12:19:20.269Z"
   },
   {
    "duration": 279,
    "start_time": "2023-04-05T12:19:20.284Z"
   },
   {
    "duration": 8,
    "start_time": "2023-04-05T12:19:20.567Z"
   },
   {
    "duration": 30,
    "start_time": "2023-04-05T12:19:20.576Z"
   },
   {
    "duration": 101,
    "start_time": "2023-04-05T12:19:20.607Z"
   },
   {
    "duration": 54,
    "start_time": "2023-04-05T12:21:11.046Z"
   },
   {
    "duration": 1153,
    "start_time": "2023-04-05T12:21:22.268Z"
   },
   {
    "duration": 134,
    "start_time": "2023-04-05T12:21:23.423Z"
   },
   {
    "duration": 13,
    "start_time": "2023-04-05T12:21:23.559Z"
   },
   {
    "duration": 23,
    "start_time": "2023-04-05T12:21:23.574Z"
   },
   {
    "duration": 3,
    "start_time": "2023-04-05T12:21:23.599Z"
   },
   {
    "duration": 33,
    "start_time": "2023-04-05T12:21:23.603Z"
   },
   {
    "duration": 50,
    "start_time": "2023-04-05T12:21:23.638Z"
   },
   {
    "duration": 12,
    "start_time": "2023-04-05T12:21:23.690Z"
   },
   {
    "duration": 72,
    "start_time": "2023-04-05T12:21:23.704Z"
   },
   {
    "duration": 52,
    "start_time": "2023-04-05T12:21:23.778Z"
   },
   {
    "duration": 11,
    "start_time": "2023-04-05T12:21:23.831Z"
   },
   {
    "duration": 31,
    "start_time": "2023-04-05T12:21:23.844Z"
   },
   {
    "duration": 66,
    "start_time": "2023-04-05T12:21:23.876Z"
   },
   {
    "duration": 25,
    "start_time": "2023-04-05T12:21:23.944Z"
   },
   {
    "duration": 3,
    "start_time": "2023-04-05T12:21:23.971Z"
   },
   {
    "duration": 17,
    "start_time": "2023-04-05T12:21:23.975Z"
   },
   {
    "duration": 35,
    "start_time": "2023-04-05T12:21:23.993Z"
   },
   {
    "duration": 18,
    "start_time": "2023-04-05T12:21:24.029Z"
   },
   {
    "duration": 12,
    "start_time": "2023-04-05T12:21:24.049Z"
   },
   {
    "duration": 23,
    "start_time": "2023-04-05T12:21:24.063Z"
   },
   {
    "duration": 361,
    "start_time": "2023-04-05T12:21:24.087Z"
   },
   {
    "duration": 42,
    "start_time": "2023-04-05T12:21:24.450Z"
   },
   {
    "duration": 14,
    "start_time": "2023-04-05T12:21:24.493Z"
   },
   {
    "duration": 24,
    "start_time": "2023-04-05T12:21:24.509Z"
   },
   {
    "duration": 289,
    "start_time": "2023-04-05T12:21:24.535Z"
   },
   {
    "duration": 10,
    "start_time": "2023-04-05T12:21:24.825Z"
   },
   {
    "duration": 40,
    "start_time": "2023-04-05T12:21:24.837Z"
   },
   {
    "duration": 31,
    "start_time": "2023-04-05T12:21:24.879Z"
   },
   {
    "duration": 236,
    "start_time": "2023-04-05T12:21:24.911Z"
   },
   {
    "duration": 55,
    "start_time": "2023-04-05T12:21:25.149Z"
   },
   {
    "duration": 10,
    "start_time": "2023-04-05T12:21:25.206Z"
   },
   {
    "duration": 252,
    "start_time": "2023-04-05T12:21:25.217Z"
   },
   {
    "duration": 7,
    "start_time": "2023-04-05T12:21:25.470Z"
   },
   {
    "duration": 54,
    "start_time": "2023-04-05T12:21:25.478Z"
   },
   {
    "duration": 8,
    "start_time": "2023-04-05T12:21:25.534Z"
   },
   {
    "duration": 25,
    "start_time": "2023-04-05T12:21:25.544Z"
   },
   {
    "duration": 1114,
    "start_time": "2023-04-05T12:25:08.319Z"
   },
   {
    "duration": 135,
    "start_time": "2023-04-05T12:25:09.436Z"
   },
   {
    "duration": 11,
    "start_time": "2023-04-05T12:25:09.573Z"
   },
   {
    "duration": 32,
    "start_time": "2023-04-05T12:25:09.586Z"
   },
   {
    "duration": 17,
    "start_time": "2023-04-05T12:25:09.620Z"
   },
   {
    "duration": 53,
    "start_time": "2023-04-05T12:25:09.638Z"
   },
   {
    "duration": 59,
    "start_time": "2023-04-05T12:25:09.692Z"
   },
   {
    "duration": 18,
    "start_time": "2023-04-05T12:25:09.753Z"
   },
   {
    "duration": 62,
    "start_time": "2023-04-05T12:25:09.772Z"
   },
   {
    "duration": 56,
    "start_time": "2023-04-05T12:25:09.836Z"
   },
   {
    "duration": 11,
    "start_time": "2023-04-05T12:25:09.894Z"
   },
   {
    "duration": 36,
    "start_time": "2023-04-05T12:25:09.906Z"
   },
   {
    "duration": 101,
    "start_time": "2023-04-05T12:25:09.944Z"
   },
   {
    "duration": 15,
    "start_time": "2023-04-05T12:25:10.048Z"
   },
   {
    "duration": 32,
    "start_time": "2023-04-05T12:25:10.065Z"
   },
   {
    "duration": 16,
    "start_time": "2023-04-05T12:25:10.098Z"
   },
   {
    "duration": 10,
    "start_time": "2023-04-05T12:25:10.116Z"
   },
   {
    "duration": 18,
    "start_time": "2023-04-05T12:25:10.128Z"
   },
   {
    "duration": 8,
    "start_time": "2023-04-05T12:25:10.148Z"
   },
   {
    "duration": 29,
    "start_time": "2023-04-05T12:25:10.157Z"
   },
   {
    "duration": 353,
    "start_time": "2023-04-05T12:25:10.187Z"
   },
   {
    "duration": 43,
    "start_time": "2023-04-05T12:25:10.541Z"
   },
   {
    "duration": 14,
    "start_time": "2023-04-05T12:25:10.586Z"
   },
   {
    "duration": 36,
    "start_time": "2023-04-05T12:25:10.601Z"
   },
   {
    "duration": 321,
    "start_time": "2023-04-05T12:25:10.639Z"
   },
   {
    "duration": 14,
    "start_time": "2023-04-05T12:25:10.962Z"
   },
   {
    "duration": 42,
    "start_time": "2023-04-05T12:25:10.978Z"
   },
   {
    "duration": 30,
    "start_time": "2023-04-05T12:25:11.021Z"
   },
   {
    "duration": 242,
    "start_time": "2023-04-05T12:25:11.053Z"
   },
   {
    "duration": 51,
    "start_time": "2023-04-05T12:25:11.296Z"
   },
   {
    "duration": 21,
    "start_time": "2023-04-05T12:25:11.348Z"
   },
   {
    "duration": 254,
    "start_time": "2023-04-05T12:25:11.370Z"
   },
   {
    "duration": 9,
    "start_time": "2023-04-05T12:25:11.625Z"
   },
   {
    "duration": 348,
    "start_time": "2023-04-05T12:53:24.077Z"
   },
   {
    "duration": 233,
    "start_time": "2023-04-05T12:54:22.688Z"
   },
   {
    "duration": 93,
    "start_time": "2023-04-05T12:54:51.837Z"
   },
   {
    "duration": 1158,
    "start_time": "2023-04-05T12:55:54.680Z"
   },
   {
    "duration": 139,
    "start_time": "2023-04-05T12:55:55.840Z"
   },
   {
    "duration": 12,
    "start_time": "2023-04-05T12:55:55.980Z"
   },
   {
    "duration": 17,
    "start_time": "2023-04-05T12:55:55.994Z"
   },
   {
    "duration": 3,
    "start_time": "2023-04-05T12:55:56.012Z"
   },
   {
    "duration": 14,
    "start_time": "2023-04-05T12:55:56.016Z"
   },
   {
    "duration": 72,
    "start_time": "2023-04-05T12:55:56.031Z"
   },
   {
    "duration": 13,
    "start_time": "2023-04-05T12:55:56.104Z"
   },
   {
    "duration": 72,
    "start_time": "2023-04-05T12:55:56.118Z"
   },
   {
    "duration": 54,
    "start_time": "2023-04-05T12:55:56.193Z"
   },
   {
    "duration": 22,
    "start_time": "2023-04-05T12:55:56.249Z"
   },
   {
    "duration": 20,
    "start_time": "2023-04-05T12:55:56.273Z"
   },
   {
    "duration": 76,
    "start_time": "2023-04-05T12:55:56.294Z"
   },
   {
    "duration": 15,
    "start_time": "2023-04-05T12:55:56.373Z"
   },
   {
    "duration": 4,
    "start_time": "2023-04-05T12:55:56.389Z"
   },
   {
    "duration": 8,
    "start_time": "2023-04-05T12:55:56.394Z"
   },
   {
    "duration": 12,
    "start_time": "2023-04-05T12:55:56.404Z"
   },
   {
    "duration": 14,
    "start_time": "2023-04-05T12:55:56.418Z"
   },
   {
    "duration": 35,
    "start_time": "2023-04-05T12:55:56.434Z"
   },
   {
    "duration": 23,
    "start_time": "2023-04-05T12:55:56.471Z"
   },
   {
    "duration": 354,
    "start_time": "2023-04-05T12:55:56.495Z"
   },
   {
    "duration": 43,
    "start_time": "2023-04-05T12:55:56.850Z"
   },
   {
    "duration": 14,
    "start_time": "2023-04-05T12:55:56.895Z"
   },
   {
    "duration": 38,
    "start_time": "2023-04-05T12:55:56.911Z"
   },
   {
    "duration": 279,
    "start_time": "2023-04-05T12:55:56.951Z"
   },
   {
    "duration": 13,
    "start_time": "2023-04-05T12:55:57.232Z"
   },
   {
    "duration": 51,
    "start_time": "2023-04-05T12:55:57.246Z"
   },
   {
    "duration": 35,
    "start_time": "2023-04-05T12:55:57.300Z"
   },
   {
    "duration": 260,
    "start_time": "2023-04-05T12:55:57.337Z"
   },
   {
    "duration": 57,
    "start_time": "2023-04-05T12:55:57.598Z"
   },
   {
    "duration": 21,
    "start_time": "2023-04-05T12:55:57.657Z"
   },
   {
    "duration": 256,
    "start_time": "2023-04-05T12:55:57.680Z"
   },
   {
    "duration": 10,
    "start_time": "2023-04-05T12:55:57.937Z"
   },
   {
    "duration": 326,
    "start_time": "2023-04-05T12:56:11.200Z"
   },
   {
    "duration": 13,
    "start_time": "2023-04-05T13:25:48.934Z"
   },
   {
    "duration": 48,
    "start_time": "2023-04-05T13:31:13.371Z"
   },
   {
    "duration": 351,
    "start_time": "2023-04-05T13:34:15.839Z"
   },
   {
    "duration": 164,
    "start_time": "2023-04-05T13:36:57.121Z"
   },
   {
    "duration": 5,
    "start_time": "2023-04-05T13:39:11.483Z"
   },
   {
    "duration": 336,
    "start_time": "2023-04-05T13:39:51.460Z"
   },
   {
    "duration": 184,
    "start_time": "2023-04-05T13:40:14.934Z"
   },
   {
    "duration": 55,
    "start_time": "2023-04-05T13:47:52.963Z"
   },
   {
    "duration": 172,
    "start_time": "2023-04-05T13:48:05.148Z"
   },
   {
    "duration": 203,
    "start_time": "2023-04-05T13:54:49.620Z"
   },
   {
    "duration": 259,
    "start_time": "2023-04-05T13:55:28.915Z"
   },
   {
    "duration": 183,
    "start_time": "2023-04-05T13:59:46.271Z"
   },
   {
    "duration": 65,
    "start_time": "2023-04-09T15:15:27.261Z"
   },
   {
    "duration": 1533,
    "start_time": "2023-04-09T15:15:36.550Z"
   },
   {
    "duration": 711,
    "start_time": "2023-04-09T15:15:38.086Z"
   },
   {
    "duration": 23,
    "start_time": "2023-04-09T15:15:38.808Z"
   },
   {
    "duration": 45,
    "start_time": "2023-04-09T15:15:38.835Z"
   },
   {
    "duration": 3,
    "start_time": "2023-04-09T15:15:38.882Z"
   },
   {
    "duration": 49,
    "start_time": "2023-04-09T15:15:38.887Z"
   },
   {
    "duration": 79,
    "start_time": "2023-04-09T15:15:38.938Z"
   },
   {
    "duration": 21,
    "start_time": "2023-04-09T15:15:39.020Z"
   },
   {
    "duration": 82,
    "start_time": "2023-04-09T15:15:39.042Z"
   },
   {
    "duration": 71,
    "start_time": "2023-04-09T15:15:39.128Z"
   },
   {
    "duration": 26,
    "start_time": "2023-04-09T15:15:39.200Z"
   },
   {
    "duration": 34,
    "start_time": "2023-04-09T15:15:39.232Z"
   },
   {
    "duration": 104,
    "start_time": "2023-04-09T15:15:39.268Z"
   },
   {
    "duration": 28,
    "start_time": "2023-04-09T15:15:39.374Z"
   },
   {
    "duration": 29,
    "start_time": "2023-04-09T15:15:39.403Z"
   },
   {
    "duration": 10,
    "start_time": "2023-04-09T15:15:39.434Z"
   },
   {
    "duration": 9,
    "start_time": "2023-04-09T15:15:39.446Z"
   },
   {
    "duration": 23,
    "start_time": "2023-04-09T15:15:39.457Z"
   },
   {
    "duration": 29,
    "start_time": "2023-04-09T15:15:39.482Z"
   },
   {
    "duration": 47,
    "start_time": "2023-04-09T15:15:39.518Z"
   },
   {
    "duration": 482,
    "start_time": "2023-04-09T15:15:39.567Z"
   },
   {
    "duration": 59,
    "start_time": "2023-04-09T15:15:40.051Z"
   },
   {
    "duration": 28,
    "start_time": "2023-04-09T15:15:40.111Z"
   },
   {
    "duration": 39,
    "start_time": "2023-04-09T15:15:40.140Z"
   },
   {
    "duration": 438,
    "start_time": "2023-04-09T15:15:40.181Z"
   },
   {
    "duration": 20,
    "start_time": "2023-04-09T15:15:40.626Z"
   },
   {
    "duration": 66,
    "start_time": "2023-04-09T15:15:40.649Z"
   },
   {
    "duration": 52,
    "start_time": "2023-04-09T15:15:40.729Z"
   },
   {
    "duration": 373,
    "start_time": "2023-04-09T15:15:40.783Z"
   },
   {
    "duration": 92,
    "start_time": "2023-04-09T15:15:41.158Z"
   },
   {
    "duration": 16,
    "start_time": "2023-04-09T15:15:41.251Z"
   },
   {
    "duration": 369,
    "start_time": "2023-04-09T15:15:41.269Z"
   },
   {
    "duration": 13,
    "start_time": "2023-04-09T15:15:41.640Z"
   },
   {
    "duration": 83,
    "start_time": "2023-04-09T15:15:41.655Z"
   },
   {
    "duration": 4,
    "start_time": "2023-04-09T15:15:41.740Z"
   },
   {
    "duration": 62,
    "start_time": "2023-04-09T15:15:41.746Z"
   },
   {
    "duration": 76,
    "start_time": "2023-04-09T15:16:50.698Z"
   },
   {
    "duration": 38,
    "start_time": "2023-04-09T15:40:17.536Z"
   },
   {
    "duration": 116,
    "start_time": "2023-04-09T15:40:27.215Z"
   },
   {
    "duration": 124,
    "start_time": "2023-04-09T15:40:53.619Z"
   },
   {
    "duration": 134,
    "start_time": "2023-04-09T16:01:20.843Z"
   },
   {
    "duration": 1452,
    "start_time": "2023-04-09T16:03:41.753Z"
   },
   {
    "duration": 9,
    "start_time": "2023-04-09T16:03:58.205Z"
   },
   {
    "duration": 173,
    "start_time": "2023-04-09T16:05:09.269Z"
   },
   {
    "duration": 4,
    "start_time": "2023-04-09T16:05:11.323Z"
   },
   {
    "duration": 13,
    "start_time": "2023-04-09T16:05:13.026Z"
   },
   {
    "duration": 5,
    "start_time": "2023-04-09T16:05:56.829Z"
   },
   {
    "duration": 8,
    "start_time": "2023-04-09T16:05:57.355Z"
   },
   {
    "duration": 129,
    "start_time": "2023-04-09T16:06:22.668Z"
   },
   {
    "duration": 5,
    "start_time": "2023-04-09T16:06:23.810Z"
   },
   {
    "duration": 15,
    "start_time": "2023-04-09T16:06:36.012Z"
   },
   {
    "duration": 5,
    "start_time": "2023-04-09T16:21:24.919Z"
   },
   {
    "duration": 9,
    "start_time": "2023-04-09T16:22:42.715Z"
   },
   {
    "duration": 1439,
    "start_time": "2023-04-09T16:28:33.605Z"
   },
   {
    "duration": 20,
    "start_time": "2023-04-09T16:30:24.460Z"
   },
   {
    "duration": 19,
    "start_time": "2023-04-09T16:31:17.648Z"
   },
   {
    "duration": 6,
    "start_time": "2023-04-09T16:34:21.867Z"
   },
   {
    "duration": 17,
    "start_time": "2023-04-09T16:36:13.245Z"
   },
   {
    "duration": 9,
    "start_time": "2023-04-09T16:36:45.181Z"
   },
   {
    "duration": 8,
    "start_time": "2023-04-09T16:36:46.373Z"
   },
   {
    "duration": 18,
    "start_time": "2023-04-09T16:46:36.757Z"
   },
   {
    "duration": 38,
    "start_time": "2023-04-09T16:50:13.728Z"
   },
   {
    "duration": 20,
    "start_time": "2023-04-09T16:53:51.372Z"
   },
   {
    "duration": 38,
    "start_time": "2023-04-09T16:54:52.838Z"
   },
   {
    "duration": 54,
    "start_time": "2023-04-09T16:58:38.459Z"
   },
   {
    "duration": 10,
    "start_time": "2023-04-09T17:01:25.867Z"
   },
   {
    "duration": 8,
    "start_time": "2023-04-09T17:04:16.416Z"
   },
   {
    "duration": 20,
    "start_time": "2023-04-09T17:05:32.206Z"
   },
   {
    "duration": 21,
    "start_time": "2023-04-09T17:06:05.976Z"
   },
   {
    "duration": 46,
    "start_time": "2023-04-09T17:07:10.918Z"
   },
   {
    "duration": 32,
    "start_time": "2023-04-09T17:07:26.718Z"
   },
   {
    "duration": 4,
    "start_time": "2023-04-09T17:07:46.466Z"
   },
   {
    "duration": 57,
    "start_time": "2023-04-09T17:08:00.699Z"
   },
   {
    "duration": 20,
    "start_time": "2023-04-09T17:10:21.875Z"
   },
   {
    "duration": 8,
    "start_time": "2023-04-09T17:10:34.419Z"
   },
   {
    "duration": 10,
    "start_time": "2023-04-09T17:11:18.664Z"
   },
   {
    "duration": 23,
    "start_time": "2023-04-09T17:11:30.845Z"
   },
   {
    "duration": 1842,
    "start_time": "2023-04-09T17:13:40.414Z"
   },
   {
    "duration": 13,
    "start_time": "2023-04-09T17:15:02.977Z"
   },
   {
    "duration": 19,
    "start_time": "2023-04-09T17:19:11.011Z"
   },
   {
    "duration": 9,
    "start_time": "2023-04-09T17:19:21.661Z"
   },
   {
    "duration": 57,
    "start_time": "2023-04-10T05:51:40.512Z"
   },
   {
    "duration": 1486,
    "start_time": "2023-04-10T05:51:54.991Z"
   },
   {
    "duration": 682,
    "start_time": "2023-04-10T05:51:56.479Z"
   },
   {
    "duration": 16,
    "start_time": "2023-04-10T05:51:57.163Z"
   },
   {
    "duration": 24,
    "start_time": "2023-04-10T05:51:57.182Z"
   },
   {
    "duration": 16,
    "start_time": "2023-04-10T05:51:57.208Z"
   },
   {
    "duration": 23,
    "start_time": "2023-04-10T05:51:57.226Z"
   },
   {
    "duration": 75,
    "start_time": "2023-04-10T05:51:57.251Z"
   },
   {
    "duration": 15,
    "start_time": "2023-04-10T05:51:57.328Z"
   },
   {
    "duration": 83,
    "start_time": "2023-04-10T05:51:57.345Z"
   },
   {
    "duration": 61,
    "start_time": "2023-04-10T05:51:57.431Z"
   },
   {
    "duration": 30,
    "start_time": "2023-04-10T05:51:57.494Z"
   },
   {
    "duration": 25,
    "start_time": "2023-04-10T05:51:57.526Z"
   },
   {
    "duration": 118,
    "start_time": "2023-04-10T05:51:57.553Z"
   },
   {
    "duration": 24,
    "start_time": "2023-04-10T05:51:57.673Z"
   },
   {
    "duration": 3,
    "start_time": "2023-04-10T05:51:57.699Z"
   },
   {
    "duration": 28,
    "start_time": "2023-04-10T05:51:57.704Z"
   },
   {
    "duration": 30,
    "start_time": "2023-04-10T05:51:57.734Z"
   },
   {
    "duration": 22,
    "start_time": "2023-04-10T05:51:57.765Z"
   },
   {
    "duration": 12,
    "start_time": "2023-04-10T05:51:57.789Z"
   },
   {
    "duration": 37,
    "start_time": "2023-04-10T05:51:57.803Z"
   },
   {
    "duration": 477,
    "start_time": "2023-04-10T05:51:57.842Z"
   },
   {
    "duration": 54,
    "start_time": "2023-04-10T05:51:58.323Z"
   },
   {
    "duration": 23,
    "start_time": "2023-04-10T05:51:58.379Z"
   },
   {
    "duration": 63,
    "start_time": "2023-04-10T05:51:58.404Z"
   },
   {
    "duration": 359,
    "start_time": "2023-04-10T05:51:58.469Z"
   },
   {
    "duration": 13,
    "start_time": "2023-04-10T05:51:58.830Z"
   },
   {
    "duration": 41,
    "start_time": "2023-04-10T05:51:58.846Z"
   },
   {
    "duration": 69,
    "start_time": "2023-04-10T05:51:58.891Z"
   },
   {
    "duration": 352,
    "start_time": "2023-04-10T05:51:58.962Z"
   },
   {
    "duration": 66,
    "start_time": "2023-04-10T05:51:59.316Z"
   },
   {
    "duration": 16,
    "start_time": "2023-04-10T05:51:59.384Z"
   },
   {
    "duration": 331,
    "start_time": "2023-04-10T05:51:59.402Z"
   },
   {
    "duration": 14,
    "start_time": "2023-04-10T05:51:59.735Z"
   },
   {
    "duration": 80,
    "start_time": "2023-04-10T05:51:59.752Z"
   },
   {
    "duration": 5,
    "start_time": "2023-04-10T05:51:59.834Z"
   },
   {
    "duration": 48,
    "start_time": "2023-04-10T05:51:59.841Z"
   },
   {
    "duration": 180,
    "start_time": "2023-04-10T05:51:59.890Z"
   },
   {
    "duration": 5,
    "start_time": "2023-04-10T05:52:00.072Z"
   },
   {
    "duration": 47,
    "start_time": "2023-04-10T05:52:00.079Z"
   },
   {
    "duration": 39,
    "start_time": "2023-04-10T05:52:00.127Z"
   },
   {
    "duration": 53,
    "start_time": "2023-04-10T05:52:00.168Z"
   },
   {
    "duration": 46,
    "start_time": "2023-04-10T05:52:00.223Z"
   },
   {
    "duration": 53,
    "start_time": "2023-04-10T05:52:00.272Z"
   },
   {
    "duration": 72,
    "start_time": "2023-04-10T05:52:00.327Z"
   },
   {
    "duration": 54,
    "start_time": "2023-04-10T05:52:00.401Z"
   },
   {
    "duration": 14,
    "start_time": "2023-04-10T05:52:00.457Z"
   },
   {
    "duration": 30,
    "start_time": "2023-04-10T05:52:00.473Z"
   },
   {
    "duration": 171,
    "start_time": "2023-04-10T05:52:00.506Z"
   },
   {
    "duration": 17,
    "start_time": "2023-04-10T05:57:13.257Z"
   },
   {
    "duration": 715,
    "start_time": "2023-04-10T05:59:20.254Z"
   },
   {
    "duration": 611,
    "start_time": "2023-04-10T06:00:23.406Z"
   },
   {
    "duration": 18,
    "start_time": "2023-04-10T06:02:10.006Z"
   },
   {
    "duration": 21,
    "start_time": "2023-04-10T06:14:31.407Z"
   },
   {
    "duration": 80,
    "start_time": "2023-04-10T06:15:36.556Z"
   },
   {
    "duration": 8,
    "start_time": "2023-04-10T06:15:48.867Z"
   },
   {
    "duration": 64,
    "start_time": "2023-04-10T06:18:36.022Z"
   },
   {
    "duration": 58,
    "start_time": "2023-04-10T06:18:46.782Z"
   },
   {
    "duration": 78,
    "start_time": "2023-04-10T06:19:48.640Z"
   },
   {
    "duration": 9,
    "start_time": "2023-04-10T06:19:49.431Z"
   },
   {
    "duration": 8,
    "start_time": "2023-04-10T06:19:58.047Z"
   },
   {
    "duration": 85,
    "start_time": "2023-04-10T06:21:09.656Z"
   },
   {
    "duration": 7,
    "start_time": "2023-04-10T06:21:11.739Z"
   },
   {
    "duration": 85,
    "start_time": "2023-04-10T06:22:17.081Z"
   },
   {
    "duration": 831,
    "start_time": "2023-04-10T06:25:12.060Z"
   },
   {
    "duration": 88,
    "start_time": "2023-04-10T06:25:57.300Z"
   },
   {
    "duration": 92,
    "start_time": "2023-04-10T06:26:09.948Z"
   },
   {
    "duration": 87,
    "start_time": "2023-04-10T06:26:21.070Z"
   },
   {
    "duration": 7,
    "start_time": "2023-04-10T06:26:57.166Z"
   },
   {
    "duration": 92,
    "start_time": "2023-04-10T06:28:51.768Z"
   },
   {
    "duration": 20,
    "start_time": "2023-04-10T06:35:28.721Z"
   },
   {
    "duration": 842,
    "start_time": "2023-04-10T06:39:18.468Z"
   },
   {
    "duration": 842,
    "start_time": "2023-04-10T06:39:44.643Z"
   },
   {
    "duration": 14,
    "start_time": "2023-04-10T06:40:52.556Z"
   },
   {
    "duration": 38,
    "start_time": "2023-04-10T06:43:02.846Z"
   },
   {
    "duration": 8,
    "start_time": "2023-04-10T06:49:56.937Z"
   },
   {
    "duration": 19,
    "start_time": "2023-04-10T06:59:10.166Z"
   },
   {
    "duration": 38,
    "start_time": "2023-04-10T07:03:04.608Z"
   },
   {
    "duration": 7,
    "start_time": "2023-04-10T07:03:21.944Z"
   },
   {
    "duration": 21,
    "start_time": "2023-04-10T07:03:24.958Z"
   },
   {
    "duration": 21,
    "start_time": "2023-04-10T07:09:27.582Z"
   },
   {
    "duration": 86,
    "start_time": "2023-04-10T07:10:04.771Z"
   },
   {
    "duration": 29,
    "start_time": "2023-04-10T07:17:13.353Z"
   },
   {
    "duration": 41,
    "start_time": "2023-04-10T07:18:26.752Z"
   },
   {
    "duration": 39,
    "start_time": "2023-04-10T07:18:28.623Z"
   },
   {
    "duration": 12,
    "start_time": "2023-04-10T07:18:47.056Z"
   },
   {
    "duration": 11,
    "start_time": "2023-04-10T07:19:25.236Z"
   },
   {
    "duration": 96,
    "start_time": "2023-04-10T07:22:27.963Z"
   },
   {
    "duration": 4,
    "start_time": "2023-04-10T07:22:29.243Z"
   },
   {
    "duration": 10,
    "start_time": "2023-04-10T07:22:33.435Z"
   },
   {
    "duration": 54,
    "start_time": "2023-04-10T07:24:49.285Z"
   },
   {
    "duration": 41,
    "start_time": "2023-04-10T07:25:08.927Z"
   },
   {
    "duration": 38,
    "start_time": "2023-04-10T07:25:31.455Z"
   },
   {
    "duration": 83,
    "start_time": "2023-04-10T07:25:54.271Z"
   },
   {
    "duration": 5,
    "start_time": "2023-04-10T07:25:56.365Z"
   },
   {
    "duration": 9,
    "start_time": "2023-04-10T07:25:57.139Z"
   },
   {
    "duration": 14,
    "start_time": "2023-04-10T07:32:46.613Z"
   },
   {
    "duration": 1401,
    "start_time": "2023-04-10T07:34:21.556Z"
   },
   {
    "duration": 172,
    "start_time": "2023-04-10T07:34:22.959Z"
   },
   {
    "duration": 17,
    "start_time": "2023-04-10T07:34:23.139Z"
   },
   {
    "duration": 21,
    "start_time": "2023-04-10T07:34:23.159Z"
   },
   {
    "duration": 4,
    "start_time": "2023-04-10T07:34:23.182Z"
   },
   {
    "duration": 21,
    "start_time": "2023-04-10T07:34:23.188Z"
   },
   {
    "duration": 69,
    "start_time": "2023-04-10T07:34:23.225Z"
   },
   {
    "duration": 29,
    "start_time": "2023-04-10T07:34:23.295Z"
   },
   {
    "duration": 70,
    "start_time": "2023-04-10T07:34:23.339Z"
   },
   {
    "duration": 73,
    "start_time": "2023-04-10T07:34:23.412Z"
   },
   {
    "duration": 13,
    "start_time": "2023-04-10T07:34:23.486Z"
   },
   {
    "duration": 39,
    "start_time": "2023-04-10T07:34:23.501Z"
   },
   {
    "duration": 92,
    "start_time": "2023-04-10T07:34:23.542Z"
   },
   {
    "duration": 19,
    "start_time": "2023-04-10T07:34:23.635Z"
   },
   {
    "duration": 4,
    "start_time": "2023-04-10T07:34:23.656Z"
   },
   {
    "duration": 16,
    "start_time": "2023-04-10T07:34:23.661Z"
   },
   {
    "duration": 8,
    "start_time": "2023-04-10T07:34:23.679Z"
   },
   {
    "duration": 48,
    "start_time": "2023-04-10T07:34:23.689Z"
   },
   {
    "duration": 10,
    "start_time": "2023-04-10T07:34:23.739Z"
   },
   {
    "duration": 33,
    "start_time": "2023-04-10T07:34:23.751Z"
   },
   {
    "duration": 457,
    "start_time": "2023-04-10T07:34:23.786Z"
   },
   {
    "duration": 45,
    "start_time": "2023-04-10T07:34:24.245Z"
   },
   {
    "duration": 16,
    "start_time": "2023-04-10T07:34:24.292Z"
   },
   {
    "duration": 45,
    "start_time": "2023-04-10T07:34:24.310Z"
   },
   {
    "duration": 396,
    "start_time": "2023-04-10T07:34:24.357Z"
   },
   {
    "duration": 16,
    "start_time": "2023-04-10T07:34:24.758Z"
   },
   {
    "duration": 49,
    "start_time": "2023-04-10T07:34:24.776Z"
   },
   {
    "duration": 40,
    "start_time": "2023-04-10T07:34:24.832Z"
   },
   {
    "duration": 304,
    "start_time": "2023-04-10T07:34:24.875Z"
   },
   {
    "duration": 74,
    "start_time": "2023-04-10T07:34:25.181Z"
   },
   {
    "duration": 12,
    "start_time": "2023-04-10T07:34:25.257Z"
   },
   {
    "duration": 328,
    "start_time": "2023-04-10T07:34:25.271Z"
   },
   {
    "duration": 10,
    "start_time": "2023-04-10T07:34:25.601Z"
   },
   {
    "duration": 70,
    "start_time": "2023-04-10T07:34:25.613Z"
   },
   {
    "duration": 4,
    "start_time": "2023-04-10T07:34:25.685Z"
   },
   {
    "duration": 61,
    "start_time": "2023-04-10T07:34:25.690Z"
   },
   {
    "duration": 187,
    "start_time": "2023-04-10T07:34:25.753Z"
   },
   {
    "duration": 123,
    "start_time": "2023-04-10T07:34:25.942Z"
   },
   {
    "duration": 0,
    "start_time": "2023-04-10T07:34:26.067Z"
   },
   {
    "duration": 0,
    "start_time": "2023-04-10T07:34:26.069Z"
   },
   {
    "duration": 0,
    "start_time": "2023-04-10T07:34:26.071Z"
   },
   {
    "duration": 0,
    "start_time": "2023-04-10T07:34:26.072Z"
   },
   {
    "duration": 0,
    "start_time": "2023-04-10T07:34:26.074Z"
   },
   {
    "duration": 0,
    "start_time": "2023-04-10T07:34:26.076Z"
   },
   {
    "duration": 0,
    "start_time": "2023-04-10T07:34:26.078Z"
   },
   {
    "duration": 0,
    "start_time": "2023-04-10T07:34:26.079Z"
   },
   {
    "duration": 22,
    "start_time": "2023-04-10T07:35:03.464Z"
   },
   {
    "duration": 1450,
    "start_time": "2023-04-10T07:35:11.912Z"
   },
   {
    "duration": 179,
    "start_time": "2023-04-10T07:35:13.364Z"
   },
   {
    "duration": 15,
    "start_time": "2023-04-10T07:35:13.545Z"
   },
   {
    "duration": 20,
    "start_time": "2023-04-10T07:35:13.563Z"
   },
   {
    "duration": 4,
    "start_time": "2023-04-10T07:35:13.585Z"
   },
   {
    "duration": 17,
    "start_time": "2023-04-10T07:35:13.590Z"
   },
   {
    "duration": 80,
    "start_time": "2023-04-10T07:35:13.609Z"
   },
   {
    "duration": 15,
    "start_time": "2023-04-10T07:35:13.691Z"
   },
   {
    "duration": 95,
    "start_time": "2023-04-10T07:35:13.707Z"
   },
   {
    "duration": 78,
    "start_time": "2023-04-10T07:35:13.806Z"
   },
   {
    "duration": 13,
    "start_time": "2023-04-10T07:35:13.886Z"
   },
   {
    "duration": 46,
    "start_time": "2023-04-10T07:35:13.900Z"
   },
   {
    "duration": 92,
    "start_time": "2023-04-10T07:35:13.948Z"
   },
   {
    "duration": 18,
    "start_time": "2023-04-10T07:35:14.042Z"
   },
   {
    "duration": 5,
    "start_time": "2023-04-10T07:35:14.061Z"
   },
   {
    "duration": 11,
    "start_time": "2023-04-10T07:35:14.067Z"
   },
   {
    "duration": 8,
    "start_time": "2023-04-10T07:35:14.079Z"
   },
   {
    "duration": 51,
    "start_time": "2023-04-10T07:35:14.088Z"
   },
   {
    "duration": 10,
    "start_time": "2023-04-10T07:35:14.141Z"
   },
   {
    "duration": 27,
    "start_time": "2023-04-10T07:35:14.153Z"
   },
   {
    "duration": 458,
    "start_time": "2023-04-10T07:35:14.182Z"
   },
   {
    "duration": 45,
    "start_time": "2023-04-10T07:35:14.642Z"
   },
   {
    "duration": 17,
    "start_time": "2023-04-10T07:35:14.689Z"
   },
   {
    "duration": 49,
    "start_time": "2023-04-10T07:35:14.708Z"
   },
   {
    "duration": 368,
    "start_time": "2023-04-10T07:35:14.759Z"
   },
   {
    "duration": 21,
    "start_time": "2023-04-10T07:35:15.128Z"
   },
   {
    "duration": 36,
    "start_time": "2023-04-10T07:35:15.150Z"
   },
   {
    "duration": 58,
    "start_time": "2023-04-10T07:35:15.189Z"
   },
   {
    "duration": 305,
    "start_time": "2023-04-10T07:35:15.248Z"
   },
   {
    "duration": 71,
    "start_time": "2023-04-10T07:35:15.555Z"
   },
   {
    "duration": 16,
    "start_time": "2023-04-10T07:35:15.628Z"
   },
   {
    "duration": 311,
    "start_time": "2023-04-10T07:35:15.646Z"
   },
   {
    "duration": 11,
    "start_time": "2023-04-10T07:35:15.959Z"
   },
   {
    "duration": 86,
    "start_time": "2023-04-10T07:35:15.972Z"
   },
   {
    "duration": 5,
    "start_time": "2023-04-10T07:35:16.059Z"
   },
   {
    "duration": 75,
    "start_time": "2023-04-10T07:35:16.066Z"
   },
   {
    "duration": 158,
    "start_time": "2023-04-10T07:35:16.144Z"
   },
   {
    "duration": 25,
    "start_time": "2023-04-10T07:35:16.304Z"
   },
   {
    "duration": 40,
    "start_time": "2023-04-10T07:35:16.334Z"
   },
   {
    "duration": 52,
    "start_time": "2023-04-10T07:35:16.376Z"
   },
   {
    "duration": 42,
    "start_time": "2023-04-10T07:35:16.430Z"
   },
   {
    "duration": 100,
    "start_time": "2023-04-10T07:35:16.474Z"
   },
   {
    "duration": 5,
    "start_time": "2023-04-10T07:35:16.576Z"
   },
   {
    "duration": 17,
    "start_time": "2023-04-10T07:35:16.583Z"
   },
   {
    "duration": 38,
    "start_time": "2023-04-10T07:35:16.601Z"
   },
   {
    "duration": 125,
    "start_time": "2023-04-10T07:35:16.642Z"
   },
   {
    "duration": 24,
    "start_time": "2023-04-10T07:47:22.730Z"
   },
   {
    "duration": 114,
    "start_time": "2023-04-10T07:50:42.263Z"
   },
   {
    "duration": 162,
    "start_time": "2023-04-10T07:50:57.176Z"
   },
   {
    "duration": 17,
    "start_time": "2023-04-10T07:53:59.080Z"
   },
   {
    "duration": 566,
    "start_time": "2023-04-10T07:58:10.823Z"
   },
   {
    "duration": 20,
    "start_time": "2023-04-10T07:59:07.207Z"
   },
   {
    "duration": 55,
    "start_time": "2023-04-10T08:01:13.720Z"
   },
   {
    "duration": 187,
    "start_time": "2023-04-10T08:02:46.781Z"
   },
   {
    "duration": 211,
    "start_time": "2023-04-10T08:03:13.739Z"
   },
   {
    "duration": 3,
    "start_time": "2023-04-10T08:04:04.083Z"
   },
   {
    "duration": 87,
    "start_time": "2023-04-10T08:04:30.018Z"
   },
   {
    "duration": 154,
    "start_time": "2023-04-10T08:04:37.587Z"
   },
   {
    "duration": 110,
    "start_time": "2023-04-10T08:04:46.323Z"
   },
   {
    "duration": 81,
    "start_time": "2023-04-10T08:06:07.229Z"
   },
   {
    "duration": 76,
    "start_time": "2023-04-10T08:06:15.157Z"
   },
   {
    "duration": 18,
    "start_time": "2023-04-10T08:06:21.764Z"
   },
   {
    "duration": 20,
    "start_time": "2023-04-10T08:06:42.982Z"
   },
   {
    "duration": 16,
    "start_time": "2023-04-10T08:06:56.517Z"
   },
   {
    "duration": 1298,
    "start_time": "2023-04-10T08:07:07.449Z"
   },
   {
    "duration": 157,
    "start_time": "2023-04-10T08:07:08.750Z"
   },
   {
    "duration": 20,
    "start_time": "2023-04-10T08:07:08.909Z"
   },
   {
    "duration": 22,
    "start_time": "2023-04-10T08:07:08.932Z"
   },
   {
    "duration": 4,
    "start_time": "2023-04-10T08:07:08.955Z"
   },
   {
    "duration": 16,
    "start_time": "2023-04-10T08:07:08.960Z"
   },
   {
    "duration": 91,
    "start_time": "2023-04-10T08:07:08.977Z"
   },
   {
    "duration": 17,
    "start_time": "2023-04-10T08:07:09.071Z"
   },
   {
    "duration": 95,
    "start_time": "2023-04-10T08:07:09.091Z"
   },
   {
    "duration": 75,
    "start_time": "2023-04-10T08:07:09.189Z"
   },
   {
    "duration": 14,
    "start_time": "2023-04-10T08:07:09.266Z"
   },
   {
    "duration": 19,
    "start_time": "2023-04-10T08:07:09.282Z"
   },
   {
    "duration": 82,
    "start_time": "2023-04-10T08:07:09.323Z"
   },
   {
    "duration": 31,
    "start_time": "2023-04-10T08:07:09.407Z"
   },
   {
    "duration": 4,
    "start_time": "2023-04-10T08:07:09.440Z"
   },
   {
    "duration": 10,
    "start_time": "2023-04-10T08:07:09.446Z"
   },
   {
    "duration": 10,
    "start_time": "2023-04-10T08:07:09.458Z"
   },
   {
    "duration": 64,
    "start_time": "2023-04-10T08:07:09.469Z"
   },
   {
    "duration": 11,
    "start_time": "2023-04-10T08:07:09.536Z"
   },
   {
    "duration": 38,
    "start_time": "2023-04-10T08:07:09.551Z"
   },
   {
    "duration": 447,
    "start_time": "2023-04-10T08:07:09.591Z"
   },
   {
    "duration": 46,
    "start_time": "2023-04-10T08:07:10.040Z"
   },
   {
    "duration": 36,
    "start_time": "2023-04-10T08:07:10.088Z"
   },
   {
    "duration": 34,
    "start_time": "2023-04-10T08:07:10.126Z"
   },
   {
    "duration": 468,
    "start_time": "2023-04-10T08:07:10.162Z"
   },
   {
    "duration": 14,
    "start_time": "2023-04-10T08:07:10.632Z"
   },
   {
    "duration": 38,
    "start_time": "2023-04-10T08:07:10.649Z"
   },
   {
    "duration": 73,
    "start_time": "2023-04-10T08:07:10.692Z"
   },
   {
    "duration": 355,
    "start_time": "2023-04-10T08:07:10.768Z"
   },
   {
    "duration": 66,
    "start_time": "2023-04-10T08:07:11.125Z"
   },
   {
    "duration": 40,
    "start_time": "2023-04-10T08:07:11.193Z"
   },
   {
    "duration": 290,
    "start_time": "2023-04-10T08:07:11.236Z"
   },
   {
    "duration": 12,
    "start_time": "2023-04-10T08:07:11.528Z"
   },
   {
    "duration": 62,
    "start_time": "2023-04-10T08:07:11.541Z"
   },
   {
    "duration": 33,
    "start_time": "2023-04-10T08:07:11.605Z"
   },
   {
    "duration": 42,
    "start_time": "2023-04-10T08:07:11.640Z"
   },
   {
    "duration": 179,
    "start_time": "2023-04-10T08:07:11.684Z"
   },
   {
    "duration": 27,
    "start_time": "2023-04-10T08:07:11.865Z"
   },
   {
    "duration": 55,
    "start_time": "2023-04-10T08:07:11.894Z"
   },
   {
    "duration": 35,
    "start_time": "2023-04-10T08:07:11.950Z"
   },
   {
    "duration": 58,
    "start_time": "2023-04-10T08:07:11.987Z"
   },
   {
    "duration": 122,
    "start_time": "2023-04-10T08:07:12.048Z"
   },
   {
    "duration": 5,
    "start_time": "2023-04-10T08:07:12.172Z"
   },
   {
    "duration": 13,
    "start_time": "2023-04-10T08:07:12.179Z"
   },
   {
    "duration": 31,
    "start_time": "2023-04-10T08:07:12.194Z"
   },
   {
    "duration": 19,
    "start_time": "2023-04-10T08:07:12.227Z"
   },
   {
    "duration": 31,
    "start_time": "2023-04-10T08:07:12.248Z"
   },
   {
    "duration": 139,
    "start_time": "2023-04-10T08:07:12.281Z"
   },
   {
    "duration": 0,
    "start_time": "2023-04-10T08:07:12.423Z"
   },
   {
    "duration": 20,
    "start_time": "2023-04-10T08:07:22.766Z"
   },
   {
    "duration": 56,
    "start_time": "2023-04-10T08:07:27.134Z"
   },
   {
    "duration": 208,
    "start_time": "2023-04-10T08:07:46.508Z"
   },
   {
    "duration": 1251,
    "start_time": "2023-04-10T08:08:04.331Z"
   },
   {
    "duration": 158,
    "start_time": "2023-04-10T08:08:05.584Z"
   },
   {
    "duration": 15,
    "start_time": "2023-04-10T08:08:05.744Z"
   },
   {
    "duration": 33,
    "start_time": "2023-04-10T08:08:05.761Z"
   },
   {
    "duration": 3,
    "start_time": "2023-04-10T08:08:05.797Z"
   },
   {
    "duration": 14,
    "start_time": "2023-04-10T08:08:05.823Z"
   },
   {
    "duration": 67,
    "start_time": "2023-04-10T08:08:05.839Z"
   },
   {
    "duration": 16,
    "start_time": "2023-04-10T08:08:05.924Z"
   },
   {
    "duration": 88,
    "start_time": "2023-04-10T08:08:05.941Z"
   },
   {
    "duration": 66,
    "start_time": "2023-04-10T08:08:06.032Z"
   },
   {
    "duration": 27,
    "start_time": "2023-04-10T08:08:06.100Z"
   },
   {
    "duration": 54,
    "start_time": "2023-04-10T08:08:06.129Z"
   },
   {
    "duration": 81,
    "start_time": "2023-04-10T08:08:06.185Z"
   },
   {
    "duration": 19,
    "start_time": "2023-04-10T08:08:06.268Z"
   },
   {
    "duration": 24,
    "start_time": "2023-04-10T08:08:06.289Z"
   },
   {
    "duration": 11,
    "start_time": "2023-04-10T08:08:06.315Z"
   },
   {
    "duration": 9,
    "start_time": "2023-04-10T08:08:06.329Z"
   },
   {
    "duration": 28,
    "start_time": "2023-04-10T08:08:06.340Z"
   },
   {
    "duration": 11,
    "start_time": "2023-04-10T08:08:06.370Z"
   },
   {
    "duration": 59,
    "start_time": "2023-04-10T08:08:06.383Z"
   },
   {
    "duration": 455,
    "start_time": "2023-04-10T08:08:06.444Z"
   },
   {
    "duration": 50,
    "start_time": "2023-04-10T08:08:06.902Z"
   },
   {
    "duration": 18,
    "start_time": "2023-04-10T08:08:06.954Z"
   },
   {
    "duration": 52,
    "start_time": "2023-04-10T08:08:06.974Z"
   },
   {
    "duration": 360,
    "start_time": "2023-04-10T08:08:07.028Z"
   },
   {
    "duration": 16,
    "start_time": "2023-04-10T08:08:07.391Z"
   },
   {
    "duration": 46,
    "start_time": "2023-04-10T08:08:07.424Z"
   },
   {
    "duration": 57,
    "start_time": "2023-04-10T08:08:07.475Z"
   },
   {
    "duration": 310,
    "start_time": "2023-04-10T08:08:07.534Z"
   },
   {
    "duration": 90,
    "start_time": "2023-04-10T08:08:07.846Z"
   },
   {
    "duration": 15,
    "start_time": "2023-04-10T08:08:07.940Z"
   },
   {
    "duration": 396,
    "start_time": "2023-04-10T08:08:07.958Z"
   },
   {
    "duration": 11,
    "start_time": "2023-04-10T08:08:08.355Z"
   },
   {
    "duration": 81,
    "start_time": "2023-04-10T08:08:08.368Z"
   },
   {
    "duration": 4,
    "start_time": "2023-04-10T08:08:08.451Z"
   },
   {
    "duration": 46,
    "start_time": "2023-04-10T08:08:08.457Z"
   },
   {
    "duration": 184,
    "start_time": "2023-04-10T08:08:08.505Z"
   },
   {
    "duration": 19,
    "start_time": "2023-04-10T08:08:08.691Z"
   },
   {
    "duration": 51,
    "start_time": "2023-04-10T08:08:08.724Z"
   },
   {
    "duration": 64,
    "start_time": "2023-04-10T08:08:08.778Z"
   },
   {
    "duration": 40,
    "start_time": "2023-04-10T08:08:08.843Z"
   },
   {
    "duration": 95,
    "start_time": "2023-04-10T08:08:08.885Z"
   },
   {
    "duration": 4,
    "start_time": "2023-04-10T08:08:08.982Z"
   },
   {
    "duration": 11,
    "start_time": "2023-04-10T08:08:08.988Z"
   },
   {
    "duration": 30,
    "start_time": "2023-04-10T08:08:09.000Z"
   },
   {
    "duration": 21,
    "start_time": "2023-04-10T08:08:09.032Z"
   },
   {
    "duration": 191,
    "start_time": "2023-04-10T08:08:09.055Z"
   },
   {
    "duration": 133,
    "start_time": "2023-04-10T08:08:09.248Z"
   },
   {
    "duration": 0,
    "start_time": "2023-04-10T08:08:09.383Z"
   },
   {
    "duration": 173,
    "start_time": "2023-04-10T08:09:05.311Z"
   },
   {
    "duration": 170,
    "start_time": "2023-04-10T08:09:14.920Z"
   },
   {
    "duration": 1304,
    "start_time": "2023-04-10T08:17:05.751Z"
   },
   {
    "duration": 156,
    "start_time": "2023-04-10T08:17:07.057Z"
   },
   {
    "duration": 15,
    "start_time": "2023-04-10T08:17:07.215Z"
   },
   {
    "duration": 23,
    "start_time": "2023-04-10T08:17:07.231Z"
   },
   {
    "duration": 4,
    "start_time": "2023-04-10T08:17:07.256Z"
   },
   {
    "duration": 22,
    "start_time": "2023-04-10T08:17:07.262Z"
   },
   {
    "duration": 100,
    "start_time": "2023-04-10T08:17:07.286Z"
   },
   {
    "duration": 18,
    "start_time": "2023-04-10T08:17:07.388Z"
   },
   {
    "duration": 95,
    "start_time": "2023-04-10T08:17:07.408Z"
   },
   {
    "duration": 80,
    "start_time": "2023-04-10T08:17:07.505Z"
   },
   {
    "duration": 13,
    "start_time": "2023-04-10T08:17:07.587Z"
   },
   {
    "duration": 39,
    "start_time": "2023-04-10T08:17:07.602Z"
   },
   {
    "duration": 93,
    "start_time": "2023-04-10T08:17:07.643Z"
   },
   {
    "duration": 18,
    "start_time": "2023-04-10T08:17:07.739Z"
   },
   {
    "duration": 4,
    "start_time": "2023-04-10T08:17:07.758Z"
   },
   {
    "duration": 21,
    "start_time": "2023-04-10T08:17:07.763Z"
   },
   {
    "duration": 8,
    "start_time": "2023-04-10T08:17:07.786Z"
   },
   {
    "duration": 37,
    "start_time": "2023-04-10T08:17:07.796Z"
   },
   {
    "duration": 9,
    "start_time": "2023-04-10T08:17:07.835Z"
   },
   {
    "duration": 29,
    "start_time": "2023-04-10T08:17:07.846Z"
   },
   {
    "duration": 451,
    "start_time": "2023-04-10T08:17:07.876Z"
   },
   {
    "duration": 61,
    "start_time": "2023-04-10T08:17:08.329Z"
   },
   {
    "duration": 38,
    "start_time": "2023-04-10T08:17:08.392Z"
   },
   {
    "duration": 27,
    "start_time": "2023-04-10T08:17:08.432Z"
   },
   {
    "duration": 362,
    "start_time": "2023-04-10T08:17:08.461Z"
   },
   {
    "duration": 13,
    "start_time": "2023-04-10T08:17:08.825Z"
   },
   {
    "duration": 38,
    "start_time": "2023-04-10T08:17:08.840Z"
   },
   {
    "duration": 61,
    "start_time": "2023-04-10T08:17:08.880Z"
   },
   {
    "duration": 287,
    "start_time": "2023-04-10T08:17:08.943Z"
   },
   {
    "duration": 64,
    "start_time": "2023-04-10T08:17:09.232Z"
   },
   {
    "duration": 34,
    "start_time": "2023-04-10T08:17:09.298Z"
   },
   {
    "duration": 289,
    "start_time": "2023-04-10T08:17:09.334Z"
   },
   {
    "duration": 11,
    "start_time": "2023-04-10T08:17:09.625Z"
   },
   {
    "duration": 73,
    "start_time": "2023-04-10T08:17:09.637Z"
   },
   {
    "duration": 13,
    "start_time": "2023-04-10T08:17:09.712Z"
   },
   {
    "duration": 38,
    "start_time": "2023-04-10T08:17:09.726Z"
   },
   {
    "duration": 178,
    "start_time": "2023-04-10T08:17:09.766Z"
   },
   {
    "duration": 21,
    "start_time": "2023-04-10T08:17:09.945Z"
   },
   {
    "duration": 69,
    "start_time": "2023-04-10T08:17:09.968Z"
   },
   {
    "duration": 41,
    "start_time": "2023-04-10T08:17:10.038Z"
   },
   {
    "duration": 53,
    "start_time": "2023-04-10T08:17:10.084Z"
   },
   {
    "duration": 100,
    "start_time": "2023-04-10T08:17:10.139Z"
   },
   {
    "duration": 5,
    "start_time": "2023-04-10T08:17:10.242Z"
   },
   {
    "duration": 30,
    "start_time": "2023-04-10T08:17:10.250Z"
   },
   {
    "duration": 19,
    "start_time": "2023-04-10T08:17:10.283Z"
   },
   {
    "duration": 29,
    "start_time": "2023-04-10T08:17:10.304Z"
   },
   {
    "duration": 124,
    "start_time": "2023-04-10T08:17:10.336Z"
   },
   {
    "duration": 161,
    "start_time": "2023-04-10T08:17:10.463Z"
   },
   {
    "duration": 77,
    "start_time": "2023-04-10T08:21:28.436Z"
   },
   {
    "duration": 65,
    "start_time": "2023-04-10T08:21:48.698Z"
   },
   {
    "duration": 12,
    "start_time": "2023-04-10T08:22:41.485Z"
   },
   {
    "duration": 1369,
    "start_time": "2023-04-10T08:23:00.295Z"
   },
   {
    "duration": 168,
    "start_time": "2023-04-10T08:23:01.666Z"
   },
   {
    "duration": 13,
    "start_time": "2023-04-10T08:23:01.837Z"
   },
   {
    "duration": 35,
    "start_time": "2023-04-10T08:23:01.853Z"
   },
   {
    "duration": 12,
    "start_time": "2023-04-10T08:23:01.889Z"
   },
   {
    "duration": 30,
    "start_time": "2023-04-10T08:23:01.903Z"
   },
   {
    "duration": 66,
    "start_time": "2023-04-10T08:23:01.935Z"
   },
   {
    "duration": 32,
    "start_time": "2023-04-10T08:23:02.003Z"
   },
   {
    "duration": 71,
    "start_time": "2023-04-10T08:23:02.037Z"
   },
   {
    "duration": 68,
    "start_time": "2023-04-10T08:23:02.111Z"
   },
   {
    "duration": 14,
    "start_time": "2023-04-10T08:23:02.181Z"
   },
   {
    "duration": 49,
    "start_time": "2023-04-10T08:23:02.197Z"
   },
   {
    "duration": 94,
    "start_time": "2023-04-10T08:23:02.248Z"
   },
   {
    "duration": 17,
    "start_time": "2023-04-10T08:23:02.344Z"
   },
   {
    "duration": 22,
    "start_time": "2023-04-10T08:23:02.362Z"
   },
   {
    "duration": 35,
    "start_time": "2023-04-10T08:23:02.386Z"
   },
   {
    "duration": 19,
    "start_time": "2023-04-10T08:23:02.422Z"
   },
   {
    "duration": 30,
    "start_time": "2023-04-10T08:23:02.443Z"
   },
   {
    "duration": 17,
    "start_time": "2023-04-10T08:23:02.475Z"
   },
   {
    "duration": 60,
    "start_time": "2023-04-10T08:23:02.494Z"
   },
   {
    "duration": 458,
    "start_time": "2023-04-10T08:23:02.556Z"
   },
   {
    "duration": 55,
    "start_time": "2023-04-10T08:23:03.016Z"
   },
   {
    "duration": 15,
    "start_time": "2023-04-10T08:23:03.073Z"
   },
   {
    "duration": 50,
    "start_time": "2023-04-10T08:23:03.090Z"
   },
   {
    "duration": 343,
    "start_time": "2023-04-10T08:23:03.141Z"
   },
   {
    "duration": 14,
    "start_time": "2023-04-10T08:23:03.486Z"
   },
   {
    "duration": 56,
    "start_time": "2023-04-10T08:23:03.501Z"
   },
   {
    "duration": 37,
    "start_time": "2023-04-10T08:23:03.560Z"
   },
   {
    "duration": 314,
    "start_time": "2023-04-10T08:23:03.598Z"
   },
   {
    "duration": 68,
    "start_time": "2023-04-10T08:23:03.913Z"
   },
   {
    "duration": 13,
    "start_time": "2023-04-10T08:23:03.983Z"
   },
   {
    "duration": 309,
    "start_time": "2023-04-10T08:23:03.998Z"
   },
   {
    "duration": 17,
    "start_time": "2023-04-10T08:23:04.308Z"
   },
   {
    "duration": 77,
    "start_time": "2023-04-10T08:23:04.327Z"
   },
   {
    "duration": 4,
    "start_time": "2023-04-10T08:23:04.406Z"
   },
   {
    "duration": 49,
    "start_time": "2023-04-10T08:23:04.411Z"
   },
   {
    "duration": 183,
    "start_time": "2023-04-10T08:23:04.462Z"
   },
   {
    "duration": 20,
    "start_time": "2023-04-10T08:23:04.646Z"
   },
   {
    "duration": 69,
    "start_time": "2023-04-10T08:23:04.668Z"
   },
   {
    "duration": 42,
    "start_time": "2023-04-10T08:23:04.739Z"
   },
   {
    "duration": 55,
    "start_time": "2023-04-10T08:23:04.783Z"
   },
   {
    "duration": 99,
    "start_time": "2023-04-10T08:23:04.840Z"
   },
   {
    "duration": 4,
    "start_time": "2023-04-10T08:23:04.941Z"
   },
   {
    "duration": 14,
    "start_time": "2023-04-10T08:23:04.946Z"
   },
   {
    "duration": 14,
    "start_time": "2023-04-10T08:23:04.962Z"
   },
   {
    "duration": 17,
    "start_time": "2023-04-10T08:23:04.978Z"
   },
   {
    "duration": 122,
    "start_time": "2023-04-10T08:23:04.996Z"
   },
   {
    "duration": 128,
    "start_time": "2023-04-10T08:23:05.124Z"
   },
   {
    "duration": 0,
    "start_time": "2023-04-10T08:23:05.254Z"
   },
   {
    "duration": 6,
    "start_time": "2023-04-10T08:24:51.936Z"
   },
   {
    "duration": 56,
    "start_time": "2023-04-10T08:26:09.553Z"
   },
   {
    "duration": 10,
    "start_time": "2023-04-10T08:27:33.321Z"
   },
   {
    "duration": 5,
    "start_time": "2023-04-10T08:27:42.440Z"
   },
   {
    "duration": 64,
    "start_time": "2023-04-10T08:28:31.633Z"
   },
   {
    "duration": 66,
    "start_time": "2023-04-10T08:29:19.306Z"
   },
   {
    "duration": 93,
    "start_time": "2023-04-10T08:30:39.572Z"
   },
   {
    "duration": 76,
    "start_time": "2023-04-10T08:32:37.751Z"
   },
   {
    "duration": 54,
    "start_time": "2023-04-10T08:32:56.783Z"
   },
   {
    "duration": 58,
    "start_time": "2023-04-10T08:33:38.567Z"
   },
   {
    "duration": 72,
    "start_time": "2023-04-10T08:33:46.626Z"
   },
   {
    "duration": 86,
    "start_time": "2023-04-10T08:34:49.464Z"
   },
   {
    "duration": 100,
    "start_time": "2023-04-10T08:35:37.354Z"
   },
   {
    "duration": 108,
    "start_time": "2023-04-10T08:36:03.080Z"
   },
   {
    "duration": 16,
    "start_time": "2023-04-10T08:39:25.644Z"
   },
   {
    "duration": 1340,
    "start_time": "2023-04-10T08:42:07.484Z"
   },
   {
    "duration": 184,
    "start_time": "2023-04-10T08:42:08.826Z"
   },
   {
    "duration": 20,
    "start_time": "2023-04-10T08:42:09.012Z"
   },
   {
    "duration": 22,
    "start_time": "2023-04-10T08:42:09.035Z"
   },
   {
    "duration": 4,
    "start_time": "2023-04-10T08:42:09.059Z"
   },
   {
    "duration": 34,
    "start_time": "2023-04-10T08:42:09.064Z"
   },
   {
    "duration": 82,
    "start_time": "2023-04-10T08:42:09.100Z"
   },
   {
    "duration": 16,
    "start_time": "2023-04-10T08:42:09.184Z"
   },
   {
    "duration": 92,
    "start_time": "2023-04-10T08:42:09.201Z"
   },
   {
    "duration": 78,
    "start_time": "2023-04-10T08:42:09.296Z"
   },
   {
    "duration": 15,
    "start_time": "2023-04-10T08:42:09.376Z"
   },
   {
    "duration": 39,
    "start_time": "2023-04-10T08:42:09.393Z"
   },
   {
    "duration": 90,
    "start_time": "2023-04-10T08:42:09.435Z"
   },
   {
    "duration": 20,
    "start_time": "2023-04-10T08:42:09.529Z"
   },
   {
    "duration": 5,
    "start_time": "2023-04-10T08:42:09.551Z"
   },
   {
    "duration": 11,
    "start_time": "2023-04-10T08:42:09.557Z"
   },
   {
    "duration": 7,
    "start_time": "2023-04-10T08:42:09.570Z"
   },
   {
    "duration": 47,
    "start_time": "2023-04-10T08:42:09.579Z"
   },
   {
    "duration": 13,
    "start_time": "2023-04-10T08:42:09.629Z"
   },
   {
    "duration": 28,
    "start_time": "2023-04-10T08:42:09.644Z"
   },
   {
    "duration": 478,
    "start_time": "2023-04-10T08:42:09.674Z"
   },
   {
    "duration": 48,
    "start_time": "2023-04-10T08:42:10.154Z"
   },
   {
    "duration": 34,
    "start_time": "2023-04-10T08:42:10.204Z"
   },
   {
    "duration": 35,
    "start_time": "2023-04-10T08:42:10.240Z"
   },
   {
    "duration": 487,
    "start_time": "2023-04-10T08:42:10.278Z"
   },
   {
    "duration": 16,
    "start_time": "2023-04-10T08:42:10.768Z"
   },
   {
    "duration": 59,
    "start_time": "2023-04-10T08:42:10.786Z"
   },
   {
    "duration": 39,
    "start_time": "2023-04-10T08:42:10.850Z"
   },
   {
    "duration": 314,
    "start_time": "2023-04-10T08:42:10.890Z"
   },
   {
    "duration": 74,
    "start_time": "2023-04-10T08:42:11.205Z"
   },
   {
    "duration": 19,
    "start_time": "2023-04-10T08:42:11.281Z"
   },
   {
    "duration": 344,
    "start_time": "2023-04-10T08:42:11.303Z"
   },
   {
    "duration": 12,
    "start_time": "2023-04-10T08:42:11.648Z"
   },
   {
    "duration": 89,
    "start_time": "2023-04-10T08:42:11.662Z"
   },
   {
    "duration": 4,
    "start_time": "2023-04-10T08:42:11.752Z"
   },
   {
    "duration": 53,
    "start_time": "2023-04-10T08:42:11.758Z"
   },
   {
    "duration": 196,
    "start_time": "2023-04-10T08:42:11.813Z"
   },
   {
    "duration": 36,
    "start_time": "2023-04-10T08:42:12.011Z"
   },
   {
    "duration": 45,
    "start_time": "2023-04-10T08:42:12.048Z"
   },
   {
    "duration": 54,
    "start_time": "2023-04-10T08:42:12.095Z"
   },
   {
    "duration": 39,
    "start_time": "2023-04-10T08:42:12.151Z"
   },
   {
    "duration": 101,
    "start_time": "2023-04-10T08:42:12.192Z"
   },
   {
    "duration": 4,
    "start_time": "2023-04-10T08:42:12.295Z"
   },
   {
    "duration": 14,
    "start_time": "2023-04-10T08:42:12.301Z"
   },
   {
    "duration": 16,
    "start_time": "2023-04-10T08:42:12.323Z"
   },
   {
    "duration": 109,
    "start_time": "2023-04-10T08:42:12.341Z"
   },
   {
    "duration": 105,
    "start_time": "2023-04-10T08:42:12.452Z"
   },
   {
    "duration": 131,
    "start_time": "2023-04-10T08:42:12.559Z"
   },
   {
    "duration": 856,
    "start_time": "2023-04-10T08:42:53.767Z"
   },
   {
    "duration": 882,
    "start_time": "2023-04-10T08:44:00.784Z"
   },
   {
    "duration": 7,
    "start_time": "2023-04-10T08:45:19.713Z"
   },
   {
    "duration": 825,
    "start_time": "2023-04-10T08:45:40.997Z"
   },
   {
    "duration": 8,
    "start_time": "2023-04-10T08:56:58.845Z"
   },
   {
    "duration": 857,
    "start_time": "2023-04-10T08:57:43.437Z"
   },
   {
    "duration": 92,
    "start_time": "2023-04-10T09:02:17.736Z"
   },
   {
    "duration": 1041,
    "start_time": "2023-04-10T09:02:29.555Z"
   },
   {
    "duration": 1168,
    "start_time": "2023-04-10T09:03:27.901Z"
   },
   {
    "duration": 1027,
    "start_time": "2023-04-10T09:03:45.562Z"
   },
   {
    "duration": 1608,
    "start_time": "2023-04-10T09:03:58.824Z"
   },
   {
    "duration": 192,
    "start_time": "2023-04-10T09:04:00.435Z"
   },
   {
    "duration": 19,
    "start_time": "2023-04-10T09:04:00.629Z"
   },
   {
    "duration": 75,
    "start_time": "2023-04-10T09:04:00.650Z"
   },
   {
    "duration": 41,
    "start_time": "2023-04-10T09:04:00.728Z"
   },
   {
    "duration": 73,
    "start_time": "2023-04-10T09:04:00.771Z"
   },
   {
    "duration": 116,
    "start_time": "2023-04-10T09:04:00.846Z"
   },
   {
    "duration": 23,
    "start_time": "2023-04-10T09:04:00.964Z"
   },
   {
    "duration": 126,
    "start_time": "2023-04-10T09:04:00.989Z"
   },
   {
    "duration": 144,
    "start_time": "2023-04-10T09:04:01.119Z"
   },
   {
    "duration": 15,
    "start_time": "2023-04-10T09:04:01.265Z"
   },
   {
    "duration": 99,
    "start_time": "2023-04-10T09:04:01.282Z"
   },
   {
    "duration": 171,
    "start_time": "2023-04-10T09:04:01.383Z"
   },
   {
    "duration": 18,
    "start_time": "2023-04-10T09:04:01.556Z"
   },
   {
    "duration": 36,
    "start_time": "2023-04-10T09:04:01.576Z"
   },
   {
    "duration": 126,
    "start_time": "2023-04-10T09:04:01.614Z"
   },
   {
    "duration": 66,
    "start_time": "2023-04-10T09:04:01.743Z"
   },
   {
    "duration": 60,
    "start_time": "2023-04-10T09:04:01.811Z"
   },
   {
    "duration": 29,
    "start_time": "2023-04-10T09:04:01.873Z"
   },
   {
    "duration": 53,
    "start_time": "2023-04-10T09:04:01.904Z"
   },
   {
    "duration": 482,
    "start_time": "2023-04-10T09:04:01.959Z"
   },
   {
    "duration": 46,
    "start_time": "2023-04-10T09:04:02.443Z"
   },
   {
    "duration": 33,
    "start_time": "2023-04-10T09:04:02.491Z"
   },
   {
    "duration": 39,
    "start_time": "2023-04-10T09:04:02.526Z"
   },
   {
    "duration": 375,
    "start_time": "2023-04-10T09:04:02.567Z"
   },
   {
    "duration": 13,
    "start_time": "2023-04-10T09:04:02.943Z"
   },
   {
    "duration": 38,
    "start_time": "2023-04-10T09:04:02.958Z"
   },
   {
    "duration": 63,
    "start_time": "2023-04-10T09:04:03.001Z"
   },
   {
    "duration": 288,
    "start_time": "2023-04-10T09:04:03.066Z"
   },
   {
    "duration": 82,
    "start_time": "2023-04-10T09:04:03.356Z"
   },
   {
    "duration": 13,
    "start_time": "2023-04-10T09:04:03.440Z"
   },
   {
    "duration": 309,
    "start_time": "2023-04-10T09:04:03.455Z"
   },
   {
    "duration": 11,
    "start_time": "2023-04-10T09:04:03.766Z"
   },
   {
    "duration": 90,
    "start_time": "2023-04-10T09:04:03.779Z"
   },
   {
    "duration": 4,
    "start_time": "2023-04-10T09:04:03.871Z"
   },
   {
    "duration": 57,
    "start_time": "2023-04-10T09:04:03.877Z"
   },
   {
    "duration": 174,
    "start_time": "2023-04-10T09:04:03.936Z"
   },
   {
    "duration": 28,
    "start_time": "2023-04-10T09:04:04.112Z"
   },
   {
    "duration": 39,
    "start_time": "2023-04-10T09:04:04.142Z"
   },
   {
    "duration": 65,
    "start_time": "2023-04-10T09:04:04.183Z"
   },
   {
    "duration": 40,
    "start_time": "2023-04-10T09:04:04.250Z"
   },
   {
    "duration": 98,
    "start_time": "2023-04-10T09:04:04.292Z"
   },
   {
    "duration": 4,
    "start_time": "2023-04-10T09:04:04.392Z"
   },
   {
    "duration": 26,
    "start_time": "2023-04-10T09:04:04.398Z"
   },
   {
    "duration": 14,
    "start_time": "2023-04-10T09:04:04.426Z"
   },
   {
    "duration": 108,
    "start_time": "2023-04-10T09:04:04.442Z"
   },
   {
    "duration": 1022,
    "start_time": "2023-04-10T09:04:04.552Z"
   },
   {
    "duration": 0,
    "start_time": "2023-04-10T09:04:05.576Z"
   },
   {
    "duration": 0,
    "start_time": "2023-04-10T09:04:05.577Z"
   },
   {
    "duration": 96,
    "start_time": "2023-04-10T09:04:23.796Z"
   },
   {
    "duration": 9,
    "start_time": "2023-04-10T09:04:37.996Z"
   },
   {
    "duration": 1192,
    "start_time": "2023-04-10T09:06:45.409Z"
   },
   {
    "duration": 11,
    "start_time": "2023-04-10T09:07:46.848Z"
   },
   {
    "duration": 1310,
    "start_time": "2023-04-10T09:07:55.989Z"
   },
   {
    "duration": 166,
    "start_time": "2023-04-10T09:07:57.301Z"
   },
   {
    "duration": 15,
    "start_time": "2023-04-10T09:07:57.468Z"
   },
   {
    "duration": 24,
    "start_time": "2023-04-10T09:07:57.485Z"
   },
   {
    "duration": 13,
    "start_time": "2023-04-10T09:07:57.511Z"
   },
   {
    "duration": 15,
    "start_time": "2023-04-10T09:07:57.526Z"
   },
   {
    "duration": 93,
    "start_time": "2023-04-10T09:07:57.543Z"
   },
   {
    "duration": 16,
    "start_time": "2023-04-10T09:07:57.637Z"
   },
   {
    "duration": 91,
    "start_time": "2023-04-10T09:07:57.655Z"
   },
   {
    "duration": 63,
    "start_time": "2023-04-10T09:07:57.748Z"
   },
   {
    "duration": 15,
    "start_time": "2023-04-10T09:07:57.824Z"
   },
   {
    "duration": 20,
    "start_time": "2023-04-10T09:07:57.840Z"
   },
   {
    "duration": 100,
    "start_time": "2023-04-10T09:07:57.862Z"
   },
   {
    "duration": 19,
    "start_time": "2023-04-10T09:07:57.965Z"
   },
   {
    "duration": 4,
    "start_time": "2023-04-10T09:07:57.985Z"
   },
   {
    "duration": 33,
    "start_time": "2023-04-10T09:07:57.990Z"
   },
   {
    "duration": 9,
    "start_time": "2023-04-10T09:07:58.025Z"
   },
   {
    "duration": 26,
    "start_time": "2023-04-10T09:07:58.036Z"
   },
   {
    "duration": 10,
    "start_time": "2023-04-10T09:07:58.064Z"
   },
   {
    "duration": 59,
    "start_time": "2023-04-10T09:07:58.076Z"
   },
   {
    "duration": 516,
    "start_time": "2023-04-10T09:07:58.137Z"
   },
   {
    "duration": 49,
    "start_time": "2023-04-10T09:07:58.655Z"
   },
   {
    "duration": 31,
    "start_time": "2023-04-10T09:07:58.706Z"
   },
   {
    "duration": 55,
    "start_time": "2023-04-10T09:07:58.740Z"
   },
   {
    "duration": 357,
    "start_time": "2023-04-10T09:07:58.798Z"
   },
   {
    "duration": 13,
    "start_time": "2023-04-10T09:07:59.157Z"
   },
   {
    "duration": 54,
    "start_time": "2023-04-10T09:07:59.172Z"
   },
   {
    "duration": 40,
    "start_time": "2023-04-10T09:07:59.229Z"
   },
   {
    "duration": 330,
    "start_time": "2023-04-10T09:07:59.271Z"
   },
   {
    "duration": 78,
    "start_time": "2023-04-10T09:07:59.603Z"
   },
   {
    "duration": 13,
    "start_time": "2023-04-10T09:07:59.683Z"
   },
   {
    "duration": 317,
    "start_time": "2023-04-10T09:07:59.697Z"
   },
   {
    "duration": 18,
    "start_time": "2023-04-10T09:08:00.016Z"
   },
   {
    "duration": 89,
    "start_time": "2023-04-10T09:08:00.036Z"
   },
   {
    "duration": 5,
    "start_time": "2023-04-10T09:08:00.128Z"
   },
   {
    "duration": 88,
    "start_time": "2023-04-10T09:08:00.135Z"
   },
   {
    "duration": 212,
    "start_time": "2023-04-10T09:08:00.226Z"
   },
   {
    "duration": 24,
    "start_time": "2023-04-10T09:08:00.440Z"
   },
   {
    "duration": 132,
    "start_time": "2023-04-10T09:08:00.467Z"
   },
   {
    "duration": 41,
    "start_time": "2023-04-10T09:08:00.600Z"
   },
   {
    "duration": 58,
    "start_time": "2023-04-10T09:08:00.645Z"
   },
   {
    "duration": 92,
    "start_time": "2023-04-10T09:08:00.705Z"
   },
   {
    "duration": 5,
    "start_time": "2023-04-10T09:08:00.800Z"
   },
   {
    "duration": 67,
    "start_time": "2023-04-10T09:08:00.807Z"
   },
   {
    "duration": 45,
    "start_time": "2023-04-10T09:08:00.877Z"
   },
   {
    "duration": 177,
    "start_time": "2023-04-10T09:08:00.925Z"
   },
   {
    "duration": 126,
    "start_time": "2023-04-10T09:08:01.104Z"
   },
   {
    "duration": 9,
    "start_time": "2023-04-10T09:08:01.233Z"
   },
   {
    "duration": 1011,
    "start_time": "2023-04-10T09:08:01.244Z"
   },
   {
    "duration": 15,
    "start_time": "2023-04-10T09:09:25.069Z"
   },
   {
    "duration": 1305,
    "start_time": "2023-04-10T09:09:43.849Z"
   },
   {
    "duration": 162,
    "start_time": "2023-04-10T09:09:45.156Z"
   },
   {
    "duration": 17,
    "start_time": "2023-04-10T09:09:45.320Z"
   },
   {
    "duration": 21,
    "start_time": "2023-04-10T09:09:45.339Z"
   },
   {
    "duration": 3,
    "start_time": "2023-04-10T09:09:45.361Z"
   },
   {
    "duration": 17,
    "start_time": "2023-04-10T09:09:45.366Z"
   },
   {
    "duration": 91,
    "start_time": "2023-04-10T09:09:45.385Z"
   },
   {
    "duration": 14,
    "start_time": "2023-04-10T09:09:45.478Z"
   },
   {
    "duration": 93,
    "start_time": "2023-04-10T09:09:45.494Z"
   },
   {
    "duration": 75,
    "start_time": "2023-04-10T09:09:45.589Z"
   },
   {
    "duration": 13,
    "start_time": "2023-04-10T09:09:45.666Z"
   },
   {
    "duration": 18,
    "start_time": "2023-04-10T09:09:45.681Z"
   },
   {
    "duration": 106,
    "start_time": "2023-04-10T09:09:45.701Z"
   },
   {
    "duration": 32,
    "start_time": "2023-04-10T09:09:45.808Z"
   },
   {
    "duration": 4,
    "start_time": "2023-04-10T09:09:45.842Z"
   },
   {
    "duration": 8,
    "start_time": "2023-04-10T09:09:45.848Z"
   },
   {
    "duration": 7,
    "start_time": "2023-04-10T09:09:45.857Z"
   },
   {
    "duration": 16,
    "start_time": "2023-04-10T09:09:45.866Z"
   },
   {
    "duration": 40,
    "start_time": "2023-04-10T09:09:45.884Z"
   },
   {
    "duration": 35,
    "start_time": "2023-04-10T09:09:45.926Z"
   },
   {
    "duration": 446,
    "start_time": "2023-04-10T09:09:45.962Z"
   },
   {
    "duration": 58,
    "start_time": "2023-04-10T09:09:46.410Z"
   },
   {
    "duration": 16,
    "start_time": "2023-04-10T09:09:46.470Z"
   },
   {
    "duration": 48,
    "start_time": "2023-04-10T09:09:46.488Z"
   },
   {
    "duration": 364,
    "start_time": "2023-04-10T09:09:46.538Z"
   },
   {
    "duration": 29,
    "start_time": "2023-04-10T09:09:46.905Z"
   },
   {
    "duration": 37,
    "start_time": "2023-04-10T09:09:46.936Z"
   },
   {
    "duration": 62,
    "start_time": "2023-04-10T09:09:46.977Z"
   },
   {
    "duration": 302,
    "start_time": "2023-04-10T09:09:47.042Z"
   },
   {
    "duration": 65,
    "start_time": "2023-04-10T09:09:47.345Z"
   },
   {
    "duration": 26,
    "start_time": "2023-04-10T09:09:47.411Z"
   },
   {
    "duration": 307,
    "start_time": "2023-04-10T09:09:47.438Z"
   },
   {
    "duration": 12,
    "start_time": "2023-04-10T09:09:47.747Z"
   },
   {
    "duration": 88,
    "start_time": "2023-04-10T09:09:47.761Z"
   },
   {
    "duration": 4,
    "start_time": "2023-04-10T09:09:47.851Z"
   },
   {
    "duration": 37,
    "start_time": "2023-04-10T09:09:47.857Z"
   },
   {
    "duration": 187,
    "start_time": "2023-04-10T09:09:47.895Z"
   },
   {
    "duration": 20,
    "start_time": "2023-04-10T09:09:48.084Z"
   },
   {
    "duration": 39,
    "start_time": "2023-04-10T09:09:48.125Z"
   },
   {
    "duration": 38,
    "start_time": "2023-04-10T09:09:48.166Z"
   },
   {
    "duration": 1037,
    "start_time": "2023-04-10T09:09:48.206Z"
   },
   {
    "duration": 0,
    "start_time": "2023-04-10T09:09:49.245Z"
   },
   {
    "duration": 0,
    "start_time": "2023-04-10T09:09:49.246Z"
   },
   {
    "duration": 0,
    "start_time": "2023-04-10T09:09:49.248Z"
   },
   {
    "duration": 0,
    "start_time": "2023-04-10T09:09:49.249Z"
   },
   {
    "duration": 0,
    "start_time": "2023-04-10T09:09:49.251Z"
   },
   {
    "duration": 0,
    "start_time": "2023-04-10T09:09:49.252Z"
   },
   {
    "duration": 0,
    "start_time": "2023-04-10T09:09:49.253Z"
   },
   {
    "duration": 0,
    "start_time": "2023-04-10T09:09:49.254Z"
   },
   {
    "duration": 959,
    "start_time": "2023-04-10T09:11:19.847Z"
   },
   {
    "duration": 39,
    "start_time": "2023-04-10T09:11:38.092Z"
   },
   {
    "duration": 13,
    "start_time": "2023-04-10T09:14:27.568Z"
   },
   {
    "duration": 1236,
    "start_time": "2023-04-10T09:14:38.062Z"
   },
   {
    "duration": 170,
    "start_time": "2023-04-10T09:14:39.300Z"
   },
   {
    "duration": 16,
    "start_time": "2023-04-10T09:14:39.474Z"
   },
   {
    "duration": 37,
    "start_time": "2023-04-10T09:14:39.492Z"
   },
   {
    "duration": 4,
    "start_time": "2023-04-10T09:14:39.531Z"
   },
   {
    "duration": 16,
    "start_time": "2023-04-10T09:14:39.537Z"
   },
   {
    "duration": 91,
    "start_time": "2023-04-10T09:14:39.555Z"
   },
   {
    "duration": 15,
    "start_time": "2023-04-10T09:14:39.648Z"
   },
   {
    "duration": 92,
    "start_time": "2023-04-10T09:14:39.666Z"
   },
   {
    "duration": 83,
    "start_time": "2023-04-10T09:14:39.759Z"
   },
   {
    "duration": 18,
    "start_time": "2023-04-10T09:14:39.844Z"
   },
   {
    "duration": 31,
    "start_time": "2023-04-10T09:14:39.864Z"
   },
   {
    "duration": 111,
    "start_time": "2023-04-10T09:14:39.898Z"
   },
   {
    "duration": 28,
    "start_time": "2023-04-10T09:14:40.011Z"
   },
   {
    "duration": 4,
    "start_time": "2023-04-10T09:14:40.041Z"
   },
   {
    "duration": 20,
    "start_time": "2023-04-10T09:14:40.047Z"
   },
   {
    "duration": 9,
    "start_time": "2023-04-10T09:14:40.069Z"
   },
   {
    "duration": 45,
    "start_time": "2023-04-10T09:14:40.080Z"
   },
   {
    "duration": 10,
    "start_time": "2023-04-10T09:14:40.127Z"
   },
   {
    "duration": 28,
    "start_time": "2023-04-10T09:14:40.139Z"
   },
   {
    "duration": 572,
    "start_time": "2023-04-10T09:14:40.168Z"
   },
   {
    "duration": 50,
    "start_time": "2023-04-10T09:14:40.742Z"
   },
   {
    "duration": 34,
    "start_time": "2023-04-10T09:14:40.795Z"
   },
   {
    "duration": 28,
    "start_time": "2023-04-10T09:14:40.831Z"
   },
   {
    "duration": 374,
    "start_time": "2023-04-10T09:14:40.861Z"
   },
   {
    "duration": 13,
    "start_time": "2023-04-10T09:14:41.237Z"
   },
   {
    "duration": 37,
    "start_time": "2023-04-10T09:14:41.253Z"
   },
   {
    "duration": 65,
    "start_time": "2023-04-10T09:14:41.292Z"
   },
   {
    "duration": 326,
    "start_time": "2023-04-10T09:14:41.359Z"
   },
   {
    "duration": 75,
    "start_time": "2023-04-10T09:14:41.687Z"
   },
   {
    "duration": 13,
    "start_time": "2023-04-10T09:14:41.764Z"
   },
   {
    "duration": 298,
    "start_time": "2023-04-10T09:14:41.778Z"
   },
   {
    "duration": 11,
    "start_time": "2023-04-10T09:14:42.078Z"
   },
   {
    "duration": 77,
    "start_time": "2023-04-10T09:14:42.091Z"
   },
   {
    "duration": 6,
    "start_time": "2023-04-10T09:14:42.169Z"
   },
   {
    "duration": 52,
    "start_time": "2023-04-10T09:14:42.177Z"
   },
   {
    "duration": 172,
    "start_time": "2023-04-10T09:14:42.231Z"
   },
   {
    "duration": 139,
    "start_time": "2023-04-10T09:14:42.405Z"
   },
   {
    "duration": 0,
    "start_time": "2023-04-10T09:14:42.545Z"
   },
   {
    "duration": 0,
    "start_time": "2023-04-10T09:14:42.546Z"
   },
   {
    "duration": 0,
    "start_time": "2023-04-10T09:14:42.548Z"
   },
   {
    "duration": 0,
    "start_time": "2023-04-10T09:14:42.549Z"
   },
   {
    "duration": 0,
    "start_time": "2023-04-10T09:14:42.550Z"
   },
   {
    "duration": 0,
    "start_time": "2023-04-10T09:14:42.552Z"
   },
   {
    "duration": 0,
    "start_time": "2023-04-10T09:14:42.553Z"
   },
   {
    "duration": 0,
    "start_time": "2023-04-10T09:14:42.554Z"
   },
   {
    "duration": 0,
    "start_time": "2023-04-10T09:14:42.556Z"
   },
   {
    "duration": 0,
    "start_time": "2023-04-10T09:14:42.557Z"
   },
   {
    "duration": 0,
    "start_time": "2023-04-10T09:14:42.558Z"
   },
   {
    "duration": 19,
    "start_time": "2023-04-10T09:15:34.335Z"
   },
   {
    "duration": 1394,
    "start_time": "2023-04-10T09:15:59.319Z"
   },
   {
    "duration": 195,
    "start_time": "2023-04-10T09:16:00.716Z"
   },
   {
    "duration": 27,
    "start_time": "2023-04-10T09:16:00.913Z"
   },
   {
    "duration": 45,
    "start_time": "2023-04-10T09:16:00.943Z"
   },
   {
    "duration": 23,
    "start_time": "2023-04-10T09:16:00.990Z"
   },
   {
    "duration": 85,
    "start_time": "2023-04-10T09:16:01.016Z"
   },
   {
    "duration": 97,
    "start_time": "2023-04-10T09:16:01.103Z"
   },
   {
    "duration": 17,
    "start_time": "2023-04-10T09:16:01.202Z"
   },
   {
    "duration": 124,
    "start_time": "2023-04-10T09:16:01.223Z"
   },
   {
    "duration": 63,
    "start_time": "2023-04-10T09:16:01.350Z"
   },
   {
    "duration": 39,
    "start_time": "2023-04-10T09:16:01.415Z"
   },
   {
    "duration": 50,
    "start_time": "2023-04-10T09:16:01.456Z"
   },
   {
    "duration": 104,
    "start_time": "2023-04-10T09:16:01.508Z"
   },
   {
    "duration": 21,
    "start_time": "2023-04-10T09:16:01.613Z"
   },
   {
    "duration": 16,
    "start_time": "2023-04-10T09:16:01.635Z"
   },
   {
    "duration": 41,
    "start_time": "2023-04-10T09:16:01.653Z"
   },
   {
    "duration": 42,
    "start_time": "2023-04-10T09:16:01.696Z"
   },
   {
    "duration": 35,
    "start_time": "2023-04-10T09:16:01.740Z"
   },
   {
    "duration": 18,
    "start_time": "2023-04-10T09:16:01.777Z"
   },
   {
    "duration": 49,
    "start_time": "2023-04-10T09:16:01.796Z"
   },
   {
    "duration": 462,
    "start_time": "2023-04-10T09:16:01.847Z"
   },
   {
    "duration": 52,
    "start_time": "2023-04-10T09:16:02.311Z"
   },
   {
    "duration": 56,
    "start_time": "2023-04-10T09:16:02.365Z"
   },
   {
    "duration": 79,
    "start_time": "2023-04-10T09:16:02.422Z"
   },
   {
    "duration": 396,
    "start_time": "2023-04-10T09:16:02.503Z"
   },
   {
    "duration": 22,
    "start_time": "2023-04-10T09:16:02.901Z"
   },
   {
    "duration": 50,
    "start_time": "2023-04-10T09:16:02.925Z"
   },
   {
    "duration": 45,
    "start_time": "2023-04-10T09:16:02.978Z"
   },
   {
    "duration": 303,
    "start_time": "2023-04-10T09:16:03.025Z"
   },
   {
    "duration": 65,
    "start_time": "2023-04-10T09:16:03.330Z"
   },
   {
    "duration": 28,
    "start_time": "2023-04-10T09:16:03.397Z"
   },
   {
    "duration": 299,
    "start_time": "2023-04-10T09:16:03.427Z"
   },
   {
    "duration": 13,
    "start_time": "2023-04-10T09:16:03.728Z"
   },
   {
    "duration": 62,
    "start_time": "2023-04-10T09:16:03.742Z"
   },
   {
    "duration": 12,
    "start_time": "2023-04-10T09:16:03.823Z"
   },
   {
    "duration": 41,
    "start_time": "2023-04-10T09:16:03.838Z"
   },
   {
    "duration": 187,
    "start_time": "2023-04-10T09:16:03.881Z"
   },
   {
    "duration": 136,
    "start_time": "2023-04-10T09:16:04.070Z"
   },
   {
    "duration": 0,
    "start_time": "2023-04-10T09:16:04.208Z"
   },
   {
    "duration": 0,
    "start_time": "2023-04-10T09:16:04.210Z"
   },
   {
    "duration": 0,
    "start_time": "2023-04-10T09:16:04.212Z"
   },
   {
    "duration": 0,
    "start_time": "2023-04-10T09:16:04.213Z"
   },
   {
    "duration": 0,
    "start_time": "2023-04-10T09:16:04.223Z"
   },
   {
    "duration": 0,
    "start_time": "2023-04-10T09:16:04.225Z"
   },
   {
    "duration": 0,
    "start_time": "2023-04-10T09:16:04.226Z"
   },
   {
    "duration": 0,
    "start_time": "2023-04-10T09:16:04.228Z"
   },
   {
    "duration": 1,
    "start_time": "2023-04-10T09:16:04.229Z"
   },
   {
    "duration": 0,
    "start_time": "2023-04-10T09:16:04.231Z"
   },
   {
    "duration": 0,
    "start_time": "2023-04-10T09:16:04.232Z"
   },
   {
    "duration": 38,
    "start_time": "2023-04-10T09:16:47.377Z"
   },
   {
    "duration": 1434,
    "start_time": "2023-04-10T09:16:59.175Z"
   },
   {
    "duration": 202,
    "start_time": "2023-04-10T09:17:00.611Z"
   },
   {
    "duration": 16,
    "start_time": "2023-04-10T09:17:00.815Z"
   },
   {
    "duration": 58,
    "start_time": "2023-04-10T09:17:00.833Z"
   },
   {
    "duration": 38,
    "start_time": "2023-04-10T09:17:00.893Z"
   },
   {
    "duration": 38,
    "start_time": "2023-04-10T09:17:00.933Z"
   },
   {
    "duration": 135,
    "start_time": "2023-04-10T09:17:00.973Z"
   },
   {
    "duration": 16,
    "start_time": "2023-04-10T09:17:01.110Z"
   },
   {
    "duration": 108,
    "start_time": "2023-04-10T09:17:01.128Z"
   },
   {
    "duration": 69,
    "start_time": "2023-04-10T09:17:01.240Z"
   },
   {
    "duration": 19,
    "start_time": "2023-04-10T09:17:01.311Z"
   },
   {
    "duration": 61,
    "start_time": "2023-04-10T09:17:01.332Z"
   },
   {
    "duration": 123,
    "start_time": "2023-04-10T09:17:01.395Z"
   },
   {
    "duration": 22,
    "start_time": "2023-04-10T09:17:01.520Z"
   },
   {
    "duration": 31,
    "start_time": "2023-04-10T09:17:01.544Z"
   },
   {
    "duration": 27,
    "start_time": "2023-04-10T09:17:01.577Z"
   },
   {
    "duration": 25,
    "start_time": "2023-04-10T09:17:01.605Z"
   },
   {
    "duration": 35,
    "start_time": "2023-04-10T09:17:01.632Z"
   },
   {
    "duration": 25,
    "start_time": "2023-04-10T09:17:01.669Z"
   },
   {
    "duration": 55,
    "start_time": "2023-04-10T09:17:01.696Z"
   },
   {
    "duration": 480,
    "start_time": "2023-04-10T09:17:01.753Z"
   },
   {
    "duration": 46,
    "start_time": "2023-04-10T09:17:02.235Z"
   },
   {
    "duration": 17,
    "start_time": "2023-04-10T09:17:02.283Z"
   },
   {
    "duration": 49,
    "start_time": "2023-04-10T09:17:02.301Z"
   },
   {
    "duration": 369,
    "start_time": "2023-04-10T09:17:02.352Z"
   },
   {
    "duration": 16,
    "start_time": "2023-04-10T09:17:02.723Z"
   },
   {
    "duration": 41,
    "start_time": "2023-04-10T09:17:02.741Z"
   },
   {
    "duration": 68,
    "start_time": "2023-04-10T09:17:02.785Z"
   },
   {
    "duration": 299,
    "start_time": "2023-04-10T09:17:02.855Z"
   },
   {
    "duration": 75,
    "start_time": "2023-04-10T09:17:03.155Z"
   },
   {
    "duration": 13,
    "start_time": "2023-04-10T09:17:03.232Z"
   },
   {
    "duration": 306,
    "start_time": "2023-04-10T09:17:03.247Z"
   },
   {
    "duration": 12,
    "start_time": "2023-04-10T09:17:03.554Z"
   },
   {
    "duration": 86,
    "start_time": "2023-04-10T09:17:03.567Z"
   },
   {
    "duration": 4,
    "start_time": "2023-04-10T09:17:03.654Z"
   },
   {
    "duration": 54,
    "start_time": "2023-04-10T09:17:03.661Z"
   },
   {
    "duration": 178,
    "start_time": "2023-04-10T09:17:03.717Z"
   },
   {
    "duration": 28,
    "start_time": "2023-04-10T09:17:03.897Z"
   },
   {
    "duration": 67,
    "start_time": "2023-04-10T09:17:03.935Z"
   },
   {
    "duration": 43,
    "start_time": "2023-04-10T09:17:04.004Z"
   },
   {
    "duration": 36,
    "start_time": "2023-04-10T09:17:04.049Z"
   },
   {
    "duration": 101,
    "start_time": "2023-04-10T09:17:04.087Z"
   },
   {
    "duration": 4,
    "start_time": "2023-04-10T09:17:04.190Z"
   },
   {
    "duration": 54,
    "start_time": "2023-04-10T09:17:04.196Z"
   },
   {
    "duration": 15,
    "start_time": "2023-04-10T09:17:04.253Z"
   },
   {
    "duration": 97,
    "start_time": "2023-04-10T09:17:04.269Z"
   },
   {
    "duration": 102,
    "start_time": "2023-04-10T09:17:04.367Z"
   },
   {
    "duration": 1050,
    "start_time": "2023-04-10T09:17:04.470Z"
   },
   {
    "duration": 0,
    "start_time": "2023-04-10T09:17:05.521Z"
   },
   {
    "duration": 7,
    "start_time": "2023-04-10T09:18:21.434Z"
   },
   {
    "duration": 3,
    "start_time": "2023-04-10T09:19:55.980Z"
   },
   {
    "duration": 11,
    "start_time": "2023-04-10T09:20:08.924Z"
   },
   {
    "duration": 884,
    "start_time": "2023-04-10T09:20:53.957Z"
   },
   {
    "duration": 763,
    "start_time": "2023-04-10T09:21:27.119Z"
   },
   {
    "duration": 794,
    "start_time": "2023-04-10T09:21:44.710Z"
   },
   {
    "duration": 13,
    "start_time": "2023-04-10T09:28:45.462Z"
   },
   {
    "duration": 17,
    "start_time": "2023-04-10T09:30:18.423Z"
   },
   {
    "duration": 28,
    "start_time": "2023-04-10T09:30:39.166Z"
   },
   {
    "duration": 51,
    "start_time": "2023-04-10T09:31:20.090Z"
   },
   {
    "duration": 51,
    "start_time": "2023-04-10T09:32:37.617Z"
   },
   {
    "duration": 47,
    "start_time": "2023-04-10T09:36:38.012Z"
   },
   {
    "duration": 46,
    "start_time": "2023-04-10T09:37:40.061Z"
   },
   {
    "duration": 15,
    "start_time": "2023-04-10T10:51:05.871Z"
   },
   {
    "duration": 15,
    "start_time": "2023-04-10T10:53:01.454Z"
   },
   {
    "duration": 91,
    "start_time": "2023-04-10T11:00:59.155Z"
   },
   {
    "duration": 75,
    "start_time": "2023-04-10T11:01:08.503Z"
   },
   {
    "duration": 22,
    "start_time": "2023-04-10T11:01:09.301Z"
   },
   {
    "duration": 74,
    "start_time": "2023-04-10T11:10:21.242Z"
   },
   {
    "duration": 13,
    "start_time": "2023-04-10T11:10:45.687Z"
   },
   {
    "duration": 123,
    "start_time": "2023-04-10T11:17:55.489Z"
   },
   {
    "duration": 15,
    "start_time": "2023-04-10T11:25:23.395Z"
   },
   {
    "duration": 10,
    "start_time": "2023-04-10T11:25:38.083Z"
   },
   {
    "duration": 11,
    "start_time": "2023-04-10T11:25:47.939Z"
   },
   {
    "duration": 14,
    "start_time": "2023-04-10T11:26:43.803Z"
   },
   {
    "duration": 13,
    "start_time": "2023-04-10T11:47:26.801Z"
   },
   {
    "duration": 10,
    "start_time": "2023-04-10T11:47:54.474Z"
   },
   {
    "duration": 11,
    "start_time": "2023-04-10T11:48:15.747Z"
   },
   {
    "duration": 10,
    "start_time": "2023-04-10T11:49:12.017Z"
   },
   {
    "duration": 10,
    "start_time": "2023-04-10T11:49:28.266Z"
   },
   {
    "duration": 1342,
    "start_time": "2023-04-10T12:31:30.820Z"
   },
   {
    "duration": 167,
    "start_time": "2023-04-10T12:31:32.164Z"
   },
   {
    "duration": 12,
    "start_time": "2023-04-10T12:31:32.333Z"
   },
   {
    "duration": 35,
    "start_time": "2023-04-10T12:31:32.347Z"
   },
   {
    "duration": 3,
    "start_time": "2023-04-10T12:31:32.383Z"
   },
   {
    "duration": 30,
    "start_time": "2023-04-10T12:31:32.388Z"
   },
   {
    "duration": 63,
    "start_time": "2023-04-10T12:31:32.420Z"
   },
   {
    "duration": 16,
    "start_time": "2023-04-10T12:31:32.485Z"
   },
   {
    "duration": 88,
    "start_time": "2023-04-10T12:31:32.502Z"
   },
   {
    "duration": 66,
    "start_time": "2023-04-10T12:31:32.593Z"
   },
   {
    "duration": 11,
    "start_time": "2023-04-10T12:31:32.661Z"
   },
   {
    "duration": 38,
    "start_time": "2023-04-10T12:31:32.674Z"
   },
   {
    "duration": 77,
    "start_time": "2023-04-10T12:31:32.713Z"
   },
   {
    "duration": 16,
    "start_time": "2023-04-10T12:31:32.791Z"
   },
   {
    "duration": 15,
    "start_time": "2023-04-10T12:31:32.808Z"
   },
   {
    "duration": 10,
    "start_time": "2023-04-10T12:31:32.824Z"
   },
   {
    "duration": 14,
    "start_time": "2023-04-10T12:31:32.835Z"
   },
   {
    "duration": 20,
    "start_time": "2023-04-10T12:31:32.851Z"
   },
   {
    "duration": 10,
    "start_time": "2023-04-10T12:31:32.872Z"
   },
   {
    "duration": 76,
    "start_time": "2023-04-10T12:31:32.884Z"
   },
   {
    "duration": 410,
    "start_time": "2023-04-10T12:31:32.962Z"
   },
   {
    "duration": 47,
    "start_time": "2023-04-10T12:31:33.373Z"
   },
   {
    "duration": 25,
    "start_time": "2023-04-10T12:31:33.421Z"
   },
   {
    "duration": 40,
    "start_time": "2023-04-10T12:31:33.448Z"
   },
   {
    "duration": 318,
    "start_time": "2023-04-10T12:31:33.490Z"
   },
   {
    "duration": 24,
    "start_time": "2023-04-10T12:31:33.810Z"
   },
   {
    "duration": 33,
    "start_time": "2023-04-10T12:31:33.836Z"
   },
   {
    "duration": 34,
    "start_time": "2023-04-10T12:31:33.873Z"
   },
   {
    "duration": 277,
    "start_time": "2023-04-10T12:31:33.908Z"
   },
   {
    "duration": 61,
    "start_time": "2023-04-10T12:31:34.187Z"
   },
   {
    "duration": 11,
    "start_time": "2023-04-10T12:31:34.250Z"
   },
   {
    "duration": 260,
    "start_time": "2023-04-10T12:31:34.263Z"
   },
   {
    "duration": 13,
    "start_time": "2023-04-10T12:31:34.524Z"
   },
   {
    "duration": 58,
    "start_time": "2023-04-10T12:31:34.539Z"
   },
   {
    "duration": 4,
    "start_time": "2023-04-10T12:31:34.598Z"
   },
   {
    "duration": 46,
    "start_time": "2023-04-10T12:31:34.604Z"
   },
   {
    "duration": 158,
    "start_time": "2023-04-10T12:31:34.651Z"
   },
   {
    "duration": 29,
    "start_time": "2023-04-10T12:31:34.811Z"
   },
   {
    "duration": 47,
    "start_time": "2023-04-10T12:31:34.843Z"
   },
   {
    "duration": 48,
    "start_time": "2023-04-10T12:31:34.892Z"
   },
   {
    "duration": 36,
    "start_time": "2023-04-10T12:31:34.941Z"
   },
   {
    "duration": 88,
    "start_time": "2023-04-10T12:31:34.979Z"
   },
   {
    "duration": 4,
    "start_time": "2023-04-10T12:31:35.068Z"
   },
   {
    "duration": 13,
    "start_time": "2023-04-10T12:31:35.073Z"
   },
   {
    "duration": 14,
    "start_time": "2023-04-10T12:31:35.087Z"
   },
   {
    "duration": 94,
    "start_time": "2023-04-10T12:31:35.102Z"
   },
   {
    "duration": 95,
    "start_time": "2023-04-10T12:31:35.197Z"
   },
   {
    "duration": 48,
    "start_time": "2023-04-10T12:31:35.294Z"
   },
   {
    "duration": 11,
    "start_time": "2023-04-10T12:31:35.344Z"
   },
   {
    "duration": 124,
    "start_time": "2023-04-10T12:31:35.357Z"
   },
   {
    "duration": 8,
    "start_time": "2023-04-10T12:31:35.483Z"
   },
   {
    "duration": 25,
    "start_time": "2023-04-10T12:31:35.494Z"
   },
   {
    "duration": 13,
    "start_time": "2023-04-10T12:31:35.521Z"
   },
   {
    "duration": 8,
    "start_time": "2023-04-10T12:31:35.535Z"
   },
   {
    "duration": 44,
    "start_time": "2023-04-10T12:31:35.544Z"
   },
   {
    "duration": 18,
    "start_time": "2023-04-10T12:31:35.589Z"
   },
   {
    "duration": 17,
    "start_time": "2023-04-10T12:31:35.609Z"
   },
   {
    "duration": 718,
    "start_time": "2023-04-10T13:16:05.720Z"
   },
   {
    "duration": 19,
    "start_time": "2023-04-10T13:28:38.780Z"
   },
   {
    "duration": 12,
    "start_time": "2023-04-10T13:33:59.862Z"
   },
   {
    "duration": 5,
    "start_time": "2023-04-10T13:39:14.961Z"
   },
   {
    "duration": 16,
    "start_time": "2023-04-10T13:39:33.748Z"
   },
   {
    "duration": 6189,
    "start_time": "2023-05-20T17:00:07.586Z"
   },
   {
    "duration": 255,
    "start_time": "2023-05-20T17:01:06.587Z"
   },
   {
    "duration": 175,
    "start_time": "2023-05-20T17:14:50.388Z"
   },
   {
    "duration": 57,
    "start_time": "2023-05-20T17:15:32.303Z"
   },
   {
    "duration": 61,
    "start_time": "2023-05-20T17:17:34.801Z"
   },
   {
    "duration": 116,
    "start_time": "2023-05-20T17:18:48.658Z"
   },
   {
    "duration": 50,
    "start_time": "2023-05-20T17:20:14.078Z"
   },
   {
    "duration": 51,
    "start_time": "2023-05-29T07:02:28.946Z"
   },
   {
    "duration": 1432,
    "start_time": "2023-05-29T07:02:37.891Z"
   },
   {
    "duration": 661,
    "start_time": "2023-05-29T07:02:39.325Z"
   },
   {
    "duration": 20,
    "start_time": "2023-05-29T07:02:39.989Z"
   },
   {
    "duration": 20,
    "start_time": "2023-05-29T07:02:40.011Z"
   },
   {
    "duration": 4,
    "start_time": "2023-05-29T07:02:40.032Z"
   },
   {
    "duration": 28,
    "start_time": "2023-05-29T07:02:40.038Z"
   },
   {
    "duration": 90,
    "start_time": "2023-05-29T07:02:40.067Z"
   },
   {
    "duration": 31,
    "start_time": "2023-05-29T07:02:40.159Z"
   },
   {
    "duration": 81,
    "start_time": "2023-05-29T07:02:40.192Z"
   },
   {
    "duration": 75,
    "start_time": "2023-05-29T07:02:40.277Z"
   },
   {
    "duration": 18,
    "start_time": "2023-05-29T07:02:40.354Z"
   },
   {
    "duration": 22,
    "start_time": "2023-05-29T07:02:40.386Z"
   },
   {
    "duration": 111,
    "start_time": "2023-05-29T07:02:40.410Z"
   },
   {
    "duration": 19,
    "start_time": "2023-05-29T07:02:40.523Z"
   },
   {
    "duration": 11,
    "start_time": "2023-05-29T07:02:40.545Z"
   },
   {
    "duration": 37,
    "start_time": "2023-05-29T07:02:40.558Z"
   },
   {
    "duration": 10,
    "start_time": "2023-05-29T07:02:40.596Z"
   },
   {
    "duration": 20,
    "start_time": "2023-05-29T07:02:40.608Z"
   },
   {
    "duration": 9,
    "start_time": "2023-05-29T07:02:40.630Z"
   },
   {
    "duration": 50,
    "start_time": "2023-05-29T07:02:40.641Z"
   },
   {
    "duration": 387,
    "start_time": "2023-05-29T07:02:40.693Z"
   },
   {
    "duration": 551,
    "start_time": "2023-05-29T07:02:41.084Z"
   },
   {
    "duration": 57,
    "start_time": "2023-05-29T07:02:41.636Z"
   },
   {
    "duration": 15,
    "start_time": "2023-05-29T07:02:41.694Z"
   },
   {
    "duration": 41,
    "start_time": "2023-05-29T07:02:41.711Z"
   },
   {
    "duration": 381,
    "start_time": "2023-05-29T07:02:41.753Z"
   },
   {
    "duration": 12,
    "start_time": "2023-05-29T07:02:42.136Z"
   },
   {
    "duration": 11,
    "start_time": "2023-05-29T07:02:42.152Z"
   },
   {
    "duration": 31,
    "start_time": "2023-05-29T07:02:42.165Z"
   },
   {
    "duration": 33,
    "start_time": "2023-05-29T07:02:42.198Z"
   },
   {
    "duration": 56,
    "start_time": "2023-05-29T07:02:42.233Z"
   },
   {
    "duration": 273,
    "start_time": "2023-05-29T07:02:42.291Z"
   },
   {
    "duration": 73,
    "start_time": "2023-05-29T07:02:42.565Z"
   },
   {
    "duration": 11,
    "start_time": "2023-05-29T07:02:42.640Z"
   },
   {
    "duration": 275,
    "start_time": "2023-05-29T07:02:42.653Z"
   },
   {
    "duration": 10,
    "start_time": "2023-05-29T07:02:42.929Z"
   },
   {
    "duration": 78,
    "start_time": "2023-05-29T07:02:42.940Z"
   },
   {
    "duration": 4,
    "start_time": "2023-05-29T07:02:43.019Z"
   },
   {
    "duration": 59,
    "start_time": "2023-05-29T07:02:43.025Z"
   },
   {
    "duration": 119,
    "start_time": "2023-05-29T07:02:43.087Z"
   },
   {
    "duration": 0,
    "start_time": "2023-05-29T07:02:43.207Z"
   },
   {
    "duration": 0,
    "start_time": "2023-05-29T07:02:43.208Z"
   },
   {
    "duration": 0,
    "start_time": "2023-05-29T07:02:43.209Z"
   },
   {
    "duration": 0,
    "start_time": "2023-05-29T07:02:43.210Z"
   },
   {
    "duration": 0,
    "start_time": "2023-05-29T07:02:43.211Z"
   },
   {
    "duration": 0,
    "start_time": "2023-05-29T07:02:43.212Z"
   },
   {
    "duration": 0,
    "start_time": "2023-05-29T07:02:43.213Z"
   },
   {
    "duration": 0,
    "start_time": "2023-05-29T07:02:43.214Z"
   },
   {
    "duration": 0,
    "start_time": "2023-05-29T07:02:43.216Z"
   },
   {
    "duration": 0,
    "start_time": "2023-05-29T07:02:43.217Z"
   },
   {
    "duration": 0,
    "start_time": "2023-05-29T07:02:43.219Z"
   },
   {
    "duration": 0,
    "start_time": "2023-05-29T07:02:43.221Z"
   },
   {
    "duration": 0,
    "start_time": "2023-05-29T07:02:43.222Z"
   },
   {
    "duration": 0,
    "start_time": "2023-05-29T07:02:43.224Z"
   },
   {
    "duration": 0,
    "start_time": "2023-05-29T07:02:43.225Z"
   },
   {
    "duration": 0,
    "start_time": "2023-05-29T07:02:43.226Z"
   },
   {
    "duration": 0,
    "start_time": "2023-05-29T07:02:43.227Z"
   },
   {
    "duration": 0,
    "start_time": "2023-05-29T07:02:43.229Z"
   },
   {
    "duration": 0,
    "start_time": "2023-05-29T07:02:43.230Z"
   },
   {
    "duration": 0,
    "start_time": "2023-05-29T07:02:43.231Z"
   },
   {
    "duration": 0,
    "start_time": "2023-05-29T07:02:43.232Z"
   },
   {
    "duration": 0,
    "start_time": "2023-05-29T07:02:43.234Z"
   },
   {
    "duration": 1162,
    "start_time": "2023-05-29T07:03:37.182Z"
   },
   {
    "duration": 156,
    "start_time": "2023-05-29T07:03:38.346Z"
   },
   {
    "duration": 12,
    "start_time": "2023-05-29T07:03:38.504Z"
   },
   {
    "duration": 33,
    "start_time": "2023-05-29T07:03:38.518Z"
   },
   {
    "duration": 3,
    "start_time": "2023-05-29T07:03:38.552Z"
   },
   {
    "duration": 22,
    "start_time": "2023-05-29T07:03:38.556Z"
   },
   {
    "duration": 64,
    "start_time": "2023-05-29T07:03:38.580Z"
   },
   {
    "duration": 14,
    "start_time": "2023-05-29T07:03:38.645Z"
   },
   {
    "duration": 64,
    "start_time": "2023-05-29T07:03:38.661Z"
   },
   {
    "duration": 79,
    "start_time": "2023-05-29T07:03:38.728Z"
   },
   {
    "duration": 12,
    "start_time": "2023-05-29T07:03:38.809Z"
   },
   {
    "duration": 19,
    "start_time": "2023-05-29T07:03:38.823Z"
   },
   {
    "duration": 85,
    "start_time": "2023-05-29T07:03:38.844Z"
   },
   {
    "duration": 14,
    "start_time": "2023-05-29T07:03:38.931Z"
   },
   {
    "duration": 8,
    "start_time": "2023-05-29T07:03:38.946Z"
   },
   {
    "duration": 11,
    "start_time": "2023-05-29T07:03:38.955Z"
   },
   {
    "duration": 20,
    "start_time": "2023-05-29T07:03:38.967Z"
   },
   {
    "duration": 15,
    "start_time": "2023-05-29T07:03:38.988Z"
   },
   {
    "duration": 7,
    "start_time": "2023-05-29T07:03:39.004Z"
   },
   {
    "duration": 24,
    "start_time": "2023-05-29T07:03:39.012Z"
   },
   {
    "duration": 375,
    "start_time": "2023-05-29T07:03:39.037Z"
   },
   {
    "duration": 532,
    "start_time": "2023-05-29T07:03:39.414Z"
   },
   {
    "duration": 48,
    "start_time": "2023-05-29T07:03:39.948Z"
   },
   {
    "duration": 15,
    "start_time": "2023-05-29T07:03:39.997Z"
   },
   {
    "duration": 40,
    "start_time": "2023-05-29T07:03:40.014Z"
   },
   {
    "duration": 363,
    "start_time": "2023-05-29T07:03:40.056Z"
   },
   {
    "duration": 15,
    "start_time": "2023-05-29T07:03:40.421Z"
   },
   {
    "duration": 18,
    "start_time": "2023-05-29T07:03:40.440Z"
   },
   {
    "duration": 26,
    "start_time": "2023-05-29T07:03:40.459Z"
   },
   {
    "duration": 32,
    "start_time": "2023-05-29T07:03:40.487Z"
   },
   {
    "duration": 35,
    "start_time": "2023-05-29T07:03:40.520Z"
   },
   {
    "duration": 267,
    "start_time": "2023-05-29T07:03:40.556Z"
   },
   {
    "duration": 60,
    "start_time": "2023-05-29T07:03:40.825Z"
   },
   {
    "duration": 10,
    "start_time": "2023-05-29T07:03:40.887Z"
   },
   {
    "duration": 269,
    "start_time": "2023-05-29T07:03:40.898Z"
   },
   {
    "duration": 17,
    "start_time": "2023-05-29T07:03:41.168Z"
   },
   {
    "duration": 75,
    "start_time": "2023-05-29T07:03:41.186Z"
   },
   {
    "duration": 4,
    "start_time": "2023-05-29T07:03:41.262Z"
   },
   {
    "duration": 41,
    "start_time": "2023-05-29T07:03:41.267Z"
   },
   {
    "duration": 66,
    "start_time": "2023-05-29T07:03:41.309Z"
   },
   {
    "duration": 17,
    "start_time": "2023-05-29T07:03:41.384Z"
   },
   {
    "duration": 43,
    "start_time": "2023-05-29T07:03:41.402Z"
   },
   {
    "duration": 39,
    "start_time": "2023-05-29T07:03:41.446Z"
   },
   {
    "duration": 30,
    "start_time": "2023-05-29T07:03:41.487Z"
   },
   {
    "duration": 79,
    "start_time": "2023-05-29T07:03:41.519Z"
   },
   {
    "duration": 3,
    "start_time": "2023-05-29T07:03:41.600Z"
   },
   {
    "duration": 11,
    "start_time": "2023-05-29T07:03:41.605Z"
   },
   {
    "duration": 10,
    "start_time": "2023-05-29T07:03:41.617Z"
   },
   {
    "duration": 83,
    "start_time": "2023-05-29T07:03:41.628Z"
   },
   {
    "duration": 93,
    "start_time": "2023-05-29T07:03:41.713Z"
   },
   {
    "duration": 38,
    "start_time": "2023-05-29T07:03:41.807Z"
   },
   {
    "duration": 10,
    "start_time": "2023-05-29T07:03:41.847Z"
   },
   {
    "duration": 112,
    "start_time": "2023-05-29T07:03:41.858Z"
   },
   {
    "duration": 15,
    "start_time": "2023-05-29T07:03:41.972Z"
   },
   {
    "duration": 15,
    "start_time": "2023-05-29T07:03:41.988Z"
   },
   {
    "duration": 9,
    "start_time": "2023-05-29T07:03:42.004Z"
   },
   {
    "duration": 9,
    "start_time": "2023-05-29T07:03:42.014Z"
   },
   {
    "duration": 17,
    "start_time": "2023-05-29T07:03:42.024Z"
   },
   {
    "duration": 10,
    "start_time": "2023-05-29T07:03:42.042Z"
   },
   {
    "duration": 32,
    "start_time": "2023-05-29T07:03:42.053Z"
   }
  ],
  "kernelspec": {
   "display_name": "Python 3 (ipykernel)",
   "language": "python",
   "name": "python3"
  },
  "language_info": {
   "codemirror_mode": {
    "name": "ipython",
    "version": 3
   },
   "file_extension": ".py",
   "mimetype": "text/x-python",
   "name": "python",
   "nbconvert_exporter": "python",
   "pygments_lexer": "ipython3",
   "version": "3.9.5"
  },
  "toc": {
   "base_numbering": 1,
   "nav_menu": {},
   "number_sections": false,
   "sideBar": true,
   "skip_h1_title": false,
   "title_cell": "Table of Contents",
   "title_sidebar": "Contents",
   "toc_cell": false,
   "toc_position": {
    "height": "calc(100% - 180px)",
    "left": "10px",
    "top": "150px",
    "width": "165px"
   },
   "toc_section_display": true,
   "toc_window_display": false
  }
 },
 "nbformat": 4,
 "nbformat_minor": 2
}
