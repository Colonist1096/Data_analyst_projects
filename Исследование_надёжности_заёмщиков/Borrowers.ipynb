{
 "cells": [
  {
   "cell_type": "markdown",
   "id": "ce804024",
   "metadata": {
    "deletable": false,
    "editable": false,
    "id": "c81daeeb"
   },
   "source": [
    "# Исследование надежности заемщиков\n"
   ]
  },
  {
   "cell_type": "markdown",
   "id": "6ab128c4",
   "metadata": {
    "deletable": false,
    "editable": false,
    "id": "827c20bf"
   },
   "source": [
    "Во второй части проекта вы выполните шаги 3 и 4. Их вручную проверит ревьюер.\n",
    "Чтобы вам не пришлось писать код заново для шагов 1 и 2, мы добавили авторские решения в ячейки с кодом. \n",
    "\n"
   ]
  },
  {
   "cell_type": "markdown",
   "id": "009e542c",
   "metadata": {
    "deletable": false,
    "editable": false,
    "id": "744d7639"
   },
   "source": [
    "## Откройте таблицу и изучите общую информацию о данных"
   ]
  },
  {
   "cell_type": "markdown",
   "id": "0dccc895",
   "metadata": {
    "deletable": false,
    "editable": false,
    "id": "e7a14c31"
   },
   "source": [
    "**Задание 1. Импортируйте библиотеку pandas. Считайте данные из csv-файла в датафрейм и сохраните в переменную `data`. Путь к файлу:**\n",
    "\n",
    "`/datasets/data.csv`"
   ]
  },
  {
   "cell_type": "code",
   "execution_count": 1,
   "id": "c58b100a",
   "metadata": {
    "deletable": false,
    "id": "7bcf75c9"
   },
   "outputs": [],
   "source": [
    "import pandas as pd\n",
    "\n",
    "try:\n",
    "    data = pd.read_csv('/datasets/data.csv')\n",
    "except:\n",
    "    data = pd.read_csv('https://code.s3.yandex.net/datasets/data.csv')"
   ]
  },
  {
   "cell_type": "markdown",
   "id": "2ca6750a",
   "metadata": {
    "deletable": false,
    "editable": false,
    "id": "b8038fe3"
   },
   "source": [
    "**Задание 2. Выведите первые 20 строчек датафрейма `data` на экран.**"
   ]
  },
  {
   "cell_type": "code",
   "execution_count": 2,
   "id": "10159546",
   "metadata": {
    "deletable": false,
    "id": "2a7cab99",
    "outputId": "1a8f3ef2-d323-4ec2-ddf7-89670b5944c4"
   },
   "outputs": [
    {
     "data": {
      "text/html": [
       "<div>\n",
       "<style scoped>\n",
       "    .dataframe tbody tr th:only-of-type {\n",
       "        vertical-align: middle;\n",
       "    }\n",
       "\n",
       "    .dataframe tbody tr th {\n",
       "        vertical-align: top;\n",
       "    }\n",
       "\n",
       "    .dataframe thead th {\n",
       "        text-align: right;\n",
       "    }\n",
       "</style>\n",
       "<table border=\"1\" class=\"dataframe\">\n",
       "  <thead>\n",
       "    <tr style=\"text-align: right;\">\n",
       "      <th></th>\n",
       "      <th>children</th>\n",
       "      <th>days_employed</th>\n",
       "      <th>dob_years</th>\n",
       "      <th>education</th>\n",
       "      <th>education_id</th>\n",
       "      <th>family_status</th>\n",
       "      <th>family_status_id</th>\n",
       "      <th>gender</th>\n",
       "      <th>income_type</th>\n",
       "      <th>debt</th>\n",
       "      <th>total_income</th>\n",
       "      <th>purpose</th>\n",
       "    </tr>\n",
       "  </thead>\n",
       "  <tbody>\n",
       "    <tr>\n",
       "      <th>0</th>\n",
       "      <td>1</td>\n",
       "      <td>-8437.673028</td>\n",
       "      <td>42</td>\n",
       "      <td>высшее</td>\n",
       "      <td>0</td>\n",
       "      <td>женат / замужем</td>\n",
       "      <td>0</td>\n",
       "      <td>F</td>\n",
       "      <td>сотрудник</td>\n",
       "      <td>0</td>\n",
       "      <td>253875.639453</td>\n",
       "      <td>покупка жилья</td>\n",
       "    </tr>\n",
       "    <tr>\n",
       "      <th>1</th>\n",
       "      <td>1</td>\n",
       "      <td>-4024.803754</td>\n",
       "      <td>36</td>\n",
       "      <td>среднее</td>\n",
       "      <td>1</td>\n",
       "      <td>женат / замужем</td>\n",
       "      <td>0</td>\n",
       "      <td>F</td>\n",
       "      <td>сотрудник</td>\n",
       "      <td>0</td>\n",
       "      <td>112080.014102</td>\n",
       "      <td>приобретение автомобиля</td>\n",
       "    </tr>\n",
       "    <tr>\n",
       "      <th>2</th>\n",
       "      <td>0</td>\n",
       "      <td>-5623.422610</td>\n",
       "      <td>33</td>\n",
       "      <td>Среднее</td>\n",
       "      <td>1</td>\n",
       "      <td>женат / замужем</td>\n",
       "      <td>0</td>\n",
       "      <td>M</td>\n",
       "      <td>сотрудник</td>\n",
       "      <td>0</td>\n",
       "      <td>145885.952297</td>\n",
       "      <td>покупка жилья</td>\n",
       "    </tr>\n",
       "    <tr>\n",
       "      <th>3</th>\n",
       "      <td>3</td>\n",
       "      <td>-4124.747207</td>\n",
       "      <td>32</td>\n",
       "      <td>среднее</td>\n",
       "      <td>1</td>\n",
       "      <td>женат / замужем</td>\n",
       "      <td>0</td>\n",
       "      <td>M</td>\n",
       "      <td>сотрудник</td>\n",
       "      <td>0</td>\n",
       "      <td>267628.550329</td>\n",
       "      <td>дополнительное образование</td>\n",
       "    </tr>\n",
       "    <tr>\n",
       "      <th>4</th>\n",
       "      <td>0</td>\n",
       "      <td>340266.072047</td>\n",
       "      <td>53</td>\n",
       "      <td>среднее</td>\n",
       "      <td>1</td>\n",
       "      <td>гражданский брак</td>\n",
       "      <td>1</td>\n",
       "      <td>F</td>\n",
       "      <td>пенсионер</td>\n",
       "      <td>0</td>\n",
       "      <td>158616.077870</td>\n",
       "      <td>сыграть свадьбу</td>\n",
       "    </tr>\n",
       "    <tr>\n",
       "      <th>5</th>\n",
       "      <td>0</td>\n",
       "      <td>-926.185831</td>\n",
       "      <td>27</td>\n",
       "      <td>высшее</td>\n",
       "      <td>0</td>\n",
       "      <td>гражданский брак</td>\n",
       "      <td>1</td>\n",
       "      <td>M</td>\n",
       "      <td>компаньон</td>\n",
       "      <td>0</td>\n",
       "      <td>255763.565419</td>\n",
       "      <td>покупка жилья</td>\n",
       "    </tr>\n",
       "    <tr>\n",
       "      <th>6</th>\n",
       "      <td>0</td>\n",
       "      <td>-2879.202052</td>\n",
       "      <td>43</td>\n",
       "      <td>высшее</td>\n",
       "      <td>0</td>\n",
       "      <td>женат / замужем</td>\n",
       "      <td>0</td>\n",
       "      <td>F</td>\n",
       "      <td>компаньон</td>\n",
       "      <td>0</td>\n",
       "      <td>240525.971920</td>\n",
       "      <td>операции с жильем</td>\n",
       "    </tr>\n",
       "    <tr>\n",
       "      <th>7</th>\n",
       "      <td>0</td>\n",
       "      <td>-152.779569</td>\n",
       "      <td>50</td>\n",
       "      <td>СРЕДНЕЕ</td>\n",
       "      <td>1</td>\n",
       "      <td>женат / замужем</td>\n",
       "      <td>0</td>\n",
       "      <td>M</td>\n",
       "      <td>сотрудник</td>\n",
       "      <td>0</td>\n",
       "      <td>135823.934197</td>\n",
       "      <td>образование</td>\n",
       "    </tr>\n",
       "    <tr>\n",
       "      <th>8</th>\n",
       "      <td>2</td>\n",
       "      <td>-6929.865299</td>\n",
       "      <td>35</td>\n",
       "      <td>ВЫСШЕЕ</td>\n",
       "      <td>0</td>\n",
       "      <td>гражданский брак</td>\n",
       "      <td>1</td>\n",
       "      <td>F</td>\n",
       "      <td>сотрудник</td>\n",
       "      <td>0</td>\n",
       "      <td>95856.832424</td>\n",
       "      <td>на проведение свадьбы</td>\n",
       "    </tr>\n",
       "    <tr>\n",
       "      <th>9</th>\n",
       "      <td>0</td>\n",
       "      <td>-2188.756445</td>\n",
       "      <td>41</td>\n",
       "      <td>среднее</td>\n",
       "      <td>1</td>\n",
       "      <td>женат / замужем</td>\n",
       "      <td>0</td>\n",
       "      <td>M</td>\n",
       "      <td>сотрудник</td>\n",
       "      <td>0</td>\n",
       "      <td>144425.938277</td>\n",
       "      <td>покупка жилья для семьи</td>\n",
       "    </tr>\n",
       "    <tr>\n",
       "      <th>10</th>\n",
       "      <td>2</td>\n",
       "      <td>-4171.483647</td>\n",
       "      <td>36</td>\n",
       "      <td>высшее</td>\n",
       "      <td>0</td>\n",
       "      <td>женат / замужем</td>\n",
       "      <td>0</td>\n",
       "      <td>M</td>\n",
       "      <td>компаньон</td>\n",
       "      <td>0</td>\n",
       "      <td>113943.491460</td>\n",
       "      <td>покупка недвижимости</td>\n",
       "    </tr>\n",
       "    <tr>\n",
       "      <th>11</th>\n",
       "      <td>0</td>\n",
       "      <td>-792.701887</td>\n",
       "      <td>40</td>\n",
       "      <td>среднее</td>\n",
       "      <td>1</td>\n",
       "      <td>женат / замужем</td>\n",
       "      <td>0</td>\n",
       "      <td>F</td>\n",
       "      <td>сотрудник</td>\n",
       "      <td>0</td>\n",
       "      <td>77069.234271</td>\n",
       "      <td>покупка коммерческой недвижимости</td>\n",
       "    </tr>\n",
       "    <tr>\n",
       "      <th>12</th>\n",
       "      <td>0</td>\n",
       "      <td>NaN</td>\n",
       "      <td>65</td>\n",
       "      <td>среднее</td>\n",
       "      <td>1</td>\n",
       "      <td>гражданский брак</td>\n",
       "      <td>1</td>\n",
       "      <td>M</td>\n",
       "      <td>пенсионер</td>\n",
       "      <td>0</td>\n",
       "      <td>NaN</td>\n",
       "      <td>сыграть свадьбу</td>\n",
       "    </tr>\n",
       "    <tr>\n",
       "      <th>13</th>\n",
       "      <td>0</td>\n",
       "      <td>-1846.641941</td>\n",
       "      <td>54</td>\n",
       "      <td>неоконченное высшее</td>\n",
       "      <td>2</td>\n",
       "      <td>женат / замужем</td>\n",
       "      <td>0</td>\n",
       "      <td>F</td>\n",
       "      <td>сотрудник</td>\n",
       "      <td>0</td>\n",
       "      <td>130458.228857</td>\n",
       "      <td>приобретение автомобиля</td>\n",
       "    </tr>\n",
       "    <tr>\n",
       "      <th>14</th>\n",
       "      <td>0</td>\n",
       "      <td>-1844.956182</td>\n",
       "      <td>56</td>\n",
       "      <td>высшее</td>\n",
       "      <td>0</td>\n",
       "      <td>гражданский брак</td>\n",
       "      <td>1</td>\n",
       "      <td>F</td>\n",
       "      <td>компаньон</td>\n",
       "      <td>1</td>\n",
       "      <td>165127.911772</td>\n",
       "      <td>покупка жилой недвижимости</td>\n",
       "    </tr>\n",
       "    <tr>\n",
       "      <th>15</th>\n",
       "      <td>1</td>\n",
       "      <td>-972.364419</td>\n",
       "      <td>26</td>\n",
       "      <td>среднее</td>\n",
       "      <td>1</td>\n",
       "      <td>женат / замужем</td>\n",
       "      <td>0</td>\n",
       "      <td>F</td>\n",
       "      <td>сотрудник</td>\n",
       "      <td>0</td>\n",
       "      <td>116820.904450</td>\n",
       "      <td>строительство собственной недвижимости</td>\n",
       "    </tr>\n",
       "    <tr>\n",
       "      <th>16</th>\n",
       "      <td>0</td>\n",
       "      <td>-1719.934226</td>\n",
       "      <td>35</td>\n",
       "      <td>среднее</td>\n",
       "      <td>1</td>\n",
       "      <td>женат / замужем</td>\n",
       "      <td>0</td>\n",
       "      <td>F</td>\n",
       "      <td>сотрудник</td>\n",
       "      <td>0</td>\n",
       "      <td>289202.704229</td>\n",
       "      <td>недвижимость</td>\n",
       "    </tr>\n",
       "    <tr>\n",
       "      <th>17</th>\n",
       "      <td>0</td>\n",
       "      <td>-2369.999720</td>\n",
       "      <td>33</td>\n",
       "      <td>высшее</td>\n",
       "      <td>0</td>\n",
       "      <td>гражданский брак</td>\n",
       "      <td>1</td>\n",
       "      <td>M</td>\n",
       "      <td>сотрудник</td>\n",
       "      <td>0</td>\n",
       "      <td>90410.586745</td>\n",
       "      <td>строительство недвижимости</td>\n",
       "    </tr>\n",
       "    <tr>\n",
       "      <th>18</th>\n",
       "      <td>0</td>\n",
       "      <td>400281.136913</td>\n",
       "      <td>53</td>\n",
       "      <td>среднее</td>\n",
       "      <td>1</td>\n",
       "      <td>вдовец / вдова</td>\n",
       "      <td>2</td>\n",
       "      <td>F</td>\n",
       "      <td>пенсионер</td>\n",
       "      <td>0</td>\n",
       "      <td>56823.777243</td>\n",
       "      <td>на покупку подержанного автомобиля</td>\n",
       "    </tr>\n",
       "    <tr>\n",
       "      <th>19</th>\n",
       "      <td>0</td>\n",
       "      <td>-10038.818549</td>\n",
       "      <td>48</td>\n",
       "      <td>СРЕДНЕЕ</td>\n",
       "      <td>1</td>\n",
       "      <td>в разводе</td>\n",
       "      <td>3</td>\n",
       "      <td>F</td>\n",
       "      <td>сотрудник</td>\n",
       "      <td>0</td>\n",
       "      <td>242831.107982</td>\n",
       "      <td>на покупку своего автомобиля</td>\n",
       "    </tr>\n",
       "  </tbody>\n",
       "</table>\n",
       "</div>"
      ],
      "text/plain": [
       "    children  days_employed  dob_years            education  education_id  \\\n",
       "0          1   -8437.673028         42               высшее             0   \n",
       "1          1   -4024.803754         36              среднее             1   \n",
       "2          0   -5623.422610         33              Среднее             1   \n",
       "3          3   -4124.747207         32              среднее             1   \n",
       "4          0  340266.072047         53              среднее             1   \n",
       "5          0    -926.185831         27               высшее             0   \n",
       "6          0   -2879.202052         43               высшее             0   \n",
       "7          0    -152.779569         50              СРЕДНЕЕ             1   \n",
       "8          2   -6929.865299         35               ВЫСШЕЕ             0   \n",
       "9          0   -2188.756445         41              среднее             1   \n",
       "10         2   -4171.483647         36               высшее             0   \n",
       "11         0    -792.701887         40              среднее             1   \n",
       "12         0            NaN         65              среднее             1   \n",
       "13         0   -1846.641941         54  неоконченное высшее             2   \n",
       "14         0   -1844.956182         56               высшее             0   \n",
       "15         1    -972.364419         26              среднее             1   \n",
       "16         0   -1719.934226         35              среднее             1   \n",
       "17         0   -2369.999720         33               высшее             0   \n",
       "18         0  400281.136913         53              среднее             1   \n",
       "19         0  -10038.818549         48              СРЕДНЕЕ             1   \n",
       "\n",
       "       family_status  family_status_id gender income_type  debt  \\\n",
       "0    женат / замужем                 0      F   сотрудник     0   \n",
       "1    женат / замужем                 0      F   сотрудник     0   \n",
       "2    женат / замужем                 0      M   сотрудник     0   \n",
       "3    женат / замужем                 0      M   сотрудник     0   \n",
       "4   гражданский брак                 1      F   пенсионер     0   \n",
       "5   гражданский брак                 1      M   компаньон     0   \n",
       "6    женат / замужем                 0      F   компаньон     0   \n",
       "7    женат / замужем                 0      M   сотрудник     0   \n",
       "8   гражданский брак                 1      F   сотрудник     0   \n",
       "9    женат / замужем                 0      M   сотрудник     0   \n",
       "10   женат / замужем                 0      M   компаньон     0   \n",
       "11   женат / замужем                 0      F   сотрудник     0   \n",
       "12  гражданский брак                 1      M   пенсионер     0   \n",
       "13   женат / замужем                 0      F   сотрудник     0   \n",
       "14  гражданский брак                 1      F   компаньон     1   \n",
       "15   женат / замужем                 0      F   сотрудник     0   \n",
       "16   женат / замужем                 0      F   сотрудник     0   \n",
       "17  гражданский брак                 1      M   сотрудник     0   \n",
       "18    вдовец / вдова                 2      F   пенсионер     0   \n",
       "19         в разводе                 3      F   сотрудник     0   \n",
       "\n",
       "     total_income                                 purpose  \n",
       "0   253875.639453                           покупка жилья  \n",
       "1   112080.014102                 приобретение автомобиля  \n",
       "2   145885.952297                           покупка жилья  \n",
       "3   267628.550329              дополнительное образование  \n",
       "4   158616.077870                         сыграть свадьбу  \n",
       "5   255763.565419                           покупка жилья  \n",
       "6   240525.971920                       операции с жильем  \n",
       "7   135823.934197                             образование  \n",
       "8    95856.832424                   на проведение свадьбы  \n",
       "9   144425.938277                 покупка жилья для семьи  \n",
       "10  113943.491460                    покупка недвижимости  \n",
       "11   77069.234271       покупка коммерческой недвижимости  \n",
       "12            NaN                         сыграть свадьбу  \n",
       "13  130458.228857                 приобретение автомобиля  \n",
       "14  165127.911772              покупка жилой недвижимости  \n",
       "15  116820.904450  строительство собственной недвижимости  \n",
       "16  289202.704229                            недвижимость  \n",
       "17   90410.586745              строительство недвижимости  \n",
       "18   56823.777243      на покупку подержанного автомобиля  \n",
       "19  242831.107982            на покупку своего автомобиля  "
      ]
     },
     "execution_count": 2,
     "metadata": {},
     "output_type": "execute_result"
    }
   ],
   "source": [
    "data.head(20)"
   ]
  },
  {
   "cell_type": "markdown",
   "id": "4b8c247d",
   "metadata": {
    "deletable": false,
    "editable": false,
    "id": "1c12e233"
   },
   "source": [
    "**Задание 3. Выведите основную информацию о датафрейме с помощью метода `info()`.**"
   ]
  },
  {
   "cell_type": "code",
   "execution_count": 3,
   "id": "400cf066",
   "metadata": {
    "deletable": false,
    "id": "2b757bca",
    "outputId": "15376089-8dad-46c9-b520-c05248d43158"
   },
   "outputs": [
    {
     "name": "stdout",
     "output_type": "stream",
     "text": [
      "<class 'pandas.core.frame.DataFrame'>\n",
      "RangeIndex: 21525 entries, 0 to 21524\n",
      "Data columns (total 12 columns):\n",
      " #   Column            Non-Null Count  Dtype  \n",
      "---  ------            --------------  -----  \n",
      " 0   children          21525 non-null  int64  \n",
      " 1   days_employed     19351 non-null  float64\n",
      " 2   dob_years         21525 non-null  int64  \n",
      " 3   education         21525 non-null  object \n",
      " 4   education_id      21525 non-null  int64  \n",
      " 5   family_status     21525 non-null  object \n",
      " 6   family_status_id  21525 non-null  int64  \n",
      " 7   gender            21525 non-null  object \n",
      " 8   income_type       21525 non-null  object \n",
      " 9   debt              21525 non-null  int64  \n",
      " 10  total_income      19351 non-null  float64\n",
      " 11  purpose           21525 non-null  object \n",
      "dtypes: float64(2), int64(5), object(5)\n",
      "memory usage: 2.0+ MB\n"
     ]
    }
   ],
   "source": [
    "data.info()"
   ]
  },
  {
   "cell_type": "markdown",
   "id": "83dc6bc5",
   "metadata": {
    "deletable": false,
    "editable": false,
    "id": "333ec665"
   },
   "source": [
    "## Предобработка данных"
   ]
  },
  {
   "cell_type": "markdown",
   "id": "acdf8e66",
   "metadata": {
    "deletable": false,
    "editable": false,
    "id": "02d92d53"
   },
   "source": [
    "### Удаление пропусков"
   ]
  },
  {
   "cell_type": "markdown",
   "id": "bb96a7fe",
   "metadata": {
    "deletable": false,
    "editable": false,
    "id": "cd84967c"
   },
   "source": [
    "**Задание 4. Выведите количество пропущенных значений для каждого столбца. Используйте комбинацию двух методов.**"
   ]
  },
  {
   "cell_type": "code",
   "execution_count": 4,
   "id": "f93187bd",
   "metadata": {
    "deletable": false,
    "id": "7f9b2309",
    "outputId": "81f4d817-781c-465c-ed15-91ce4446810d"
   },
   "outputs": [
    {
     "data": {
      "text/plain": [
       "children               0\n",
       "days_employed       2174\n",
       "dob_years              0\n",
       "education              0\n",
       "education_id           0\n",
       "family_status          0\n",
       "family_status_id       0\n",
       "gender                 0\n",
       "income_type            0\n",
       "debt                   0\n",
       "total_income        2174\n",
       "purpose                0\n",
       "dtype: int64"
      ]
     },
     "execution_count": 4,
     "metadata": {},
     "output_type": "execute_result"
    }
   ],
   "source": [
    "data.isna().sum()"
   ]
  },
  {
   "cell_type": "markdown",
   "id": "ed44b513",
   "metadata": {
    "deletable": false,
    "editable": false,
    "id": "db86e27b"
   },
   "source": [
    "**Задание 5. В двух столбцах есть пропущенные значения. Один из них — `days_employed`. Пропуски в этом столбце вы обработаете на следующем этапе. Другой столбец с пропущенными значениями — `total_income` — хранит данные о доходах. На сумму дохода сильнее всего влияет тип занятости, поэтому заполнить пропуски в этом столбце нужно медианным значением по каждому типу из столбца `income_type`. Например, у человека с типом занятости `сотрудник` пропуск в столбце `total_income` должен быть заполнен медианным доходом среди всех записей с тем же типом.**"
   ]
  },
  {
   "cell_type": "code",
   "execution_count": 5,
   "id": "125f664d",
   "metadata": {
    "deletable": false,
    "id": "42006a93"
   },
   "outputs": [],
   "source": [
    "for t in data['income_type'].unique():\n",
    "    data.loc[(data['income_type'] == t) & (data['total_income'].isna()), 'total_income'] = \\\n",
    "    data.loc[(data['income_type'] == t), 'total_income'].median()"
   ]
  },
  {
   "cell_type": "markdown",
   "id": "9f6d246d",
   "metadata": {
    "deletable": false,
    "editable": false,
    "id": "89da5ece"
   },
   "source": [
    "### Обработка аномальных значений"
   ]
  },
  {
   "cell_type": "markdown",
   "id": "f1e5b397",
   "metadata": {
    "deletable": false,
    "editable": false,
    "id": "57964554"
   },
   "source": [
    "**Задание 6. В данных могут встречаться артефакты (аномалии) — значения, которые не отражают действительность и появились по какой-то ошибке. таким артефактом будет отрицательное количество дней трудового стажа в столбце `days_employed`. Для реальных данных это нормально. Обработайте значения в этом столбце: замените все отрицательные значения положительными с помощью метода `abs()`.**"
   ]
  },
  {
   "cell_type": "code",
   "execution_count": 6,
   "id": "e52ac7b6",
   "metadata": {
    "deletable": false,
    "id": "f6f055bf"
   },
   "outputs": [],
   "source": [
    "data['days_employed'] = data['days_employed'].abs()"
   ]
  },
  {
   "cell_type": "markdown",
   "id": "3abc58af",
   "metadata": {
    "deletable": false,
    "editable": false,
    "id": "6107dd2f"
   },
   "source": [
    "**Задание 7. Для каждого типа занятости выведите медианное значение трудового стажа `days_employed` в днях.**"
   ]
  },
  {
   "cell_type": "code",
   "execution_count": 7,
   "id": "bb0944c9",
   "metadata": {
    "deletable": false,
    "id": "85a5faf6",
    "outputId": "801ef80e-522b-4668-f34e-565af7432bcf"
   },
   "outputs": [
    {
     "data": {
      "text/plain": [
       "income_type\n",
       "безработный        366413.652744\n",
       "в декрете            3296.759962\n",
       "госслужащий          2689.368353\n",
       "компаньон            1547.382223\n",
       "пенсионер          365213.306266\n",
       "предприниматель       520.848083\n",
       "сотрудник            1574.202821\n",
       "студент               578.751554\n",
       "Name: days_employed, dtype: float64"
      ]
     },
     "execution_count": 7,
     "metadata": {},
     "output_type": "execute_result"
    }
   ],
   "source": [
    "data.groupby('income_type')['days_employed'].agg('median')"
   ]
  },
  {
   "cell_type": "markdown",
   "id": "7c84e48c",
   "metadata": {
    "deletable": false,
    "editable": false,
    "id": "38d1a030"
   },
   "source": [
    "У двух типов (безработные и пенсионеры) получатся аномально большие значения. Исправить такие значения сложно, поэтому оставьте их как есть. Тем более этот столбец не понадобится вам для исследования."
   ]
  },
  {
   "cell_type": "markdown",
   "id": "f746b43d",
   "metadata": {
    "deletable": false,
    "editable": false,
    "id": "d8a9f147"
   },
   "source": [
    "**Задание 8. Выведите перечень уникальных значений столбца `children`.**"
   ]
  },
  {
   "cell_type": "code",
   "execution_count": 8,
   "id": "be0f63e0",
   "metadata": {
    "deletable": false,
    "id": "ef5056eb",
    "outputId": "6975b15c-7f95-4697-d16d-a0c79b657b03"
   },
   "outputs": [
    {
     "data": {
      "text/plain": [
       "array([ 1,  0,  3,  2, -1,  4, 20,  5])"
      ]
     },
     "execution_count": 8,
     "metadata": {},
     "output_type": "execute_result"
    }
   ],
   "source": [
    "data['children'].unique()"
   ]
  },
  {
   "cell_type": "markdown",
   "id": "d665caef",
   "metadata": {
    "deletable": false,
    "editable": false,
    "id": "40b9ebf2"
   },
   "source": [
    "**Задание 9. В столбце `children` есть два аномальных значения. Удалите строки, в которых встречаются такие аномальные значения из датафрейма `data`.**"
   ]
  },
  {
   "cell_type": "code",
   "execution_count": 9,
   "id": "b00e1a2a",
   "metadata": {
    "deletable": false,
    "id": "3ff9801d"
   },
   "outputs": [],
   "source": [
    "data = data[(data['children'] != -1) & (data['children'] != 20)]"
   ]
  },
  {
   "cell_type": "markdown",
   "id": "a8a842c7",
   "metadata": {
    "deletable": false,
    "editable": false,
    "id": "bbc4d0ce"
   },
   "source": [
    "**Задание 10. Ещё раз выведите перечень уникальных значений столбца `children`, чтобы убедиться, что артефакты удалены.**"
   ]
  },
  {
   "cell_type": "code",
   "execution_count": 10,
   "id": "d50b7dc5",
   "metadata": {
    "deletable": false,
    "id": "ad4fa8b7",
    "outputId": "b2097101-d49d-44d9-901b-32a65c9463d1"
   },
   "outputs": [
    {
     "data": {
      "text/plain": [
       "array([1, 0, 3, 2, 4, 5])"
      ]
     },
     "execution_count": 10,
     "metadata": {},
     "output_type": "execute_result"
    }
   ],
   "source": [
    "data['children'].unique()"
   ]
  },
  {
   "cell_type": "markdown",
   "id": "4c9a4acc",
   "metadata": {
    "deletable": false,
    "editable": false,
    "id": "75440b63"
   },
   "source": [
    "### Удаление пропусков (продолжение)"
   ]
  },
  {
   "cell_type": "markdown",
   "id": "cd2e1a9b",
   "metadata": {
    "deletable": false,
    "editable": false,
    "id": "f4ea573f"
   },
   "source": [
    "**Задание 11. Заполните пропуски в столбце `days_employed` медианными значениями по каждого типа занятости `income_type`.**"
   ]
  },
  {
   "cell_type": "code",
   "execution_count": 11,
   "id": "2b40db9e",
   "metadata": {
    "deletable": false,
    "id": "af6b1a7e"
   },
   "outputs": [],
   "source": [
    "for t in data['income_type'].unique():\n",
    "    data.loc[(data['income_type'] == t) & (data['days_employed'].isna()), 'days_employed'] = \\\n",
    "    data.loc[(data['income_type'] == t), 'days_employed'].median()"
   ]
  },
  {
   "cell_type": "markdown",
   "id": "b5661c69",
   "metadata": {
    "deletable": false,
    "editable": false,
    "id": "2753f40d"
   },
   "source": [
    "**Задание 12. Убедитесь, что все пропуски заполнены. Проверьте себя и ещё раз выведите количество пропущенных значений для каждого столбца с помощью двух методов.**"
   ]
  },
  {
   "cell_type": "code",
   "execution_count": 12,
   "id": "b524b255",
   "metadata": {
    "deletable": false,
    "id": "55f78bc2",
    "outputId": "8da1e4e1-358e-4e87-98c9-f261bce0a7b2"
   },
   "outputs": [
    {
     "data": {
      "text/plain": [
       "children            0\n",
       "days_employed       0\n",
       "dob_years           0\n",
       "education           0\n",
       "education_id        0\n",
       "family_status       0\n",
       "family_status_id    0\n",
       "gender              0\n",
       "income_type         0\n",
       "debt                0\n",
       "total_income        0\n",
       "purpose             0\n",
       "dtype: int64"
      ]
     },
     "execution_count": 12,
     "metadata": {},
     "output_type": "execute_result"
    }
   ],
   "source": [
    "data.isna().sum()"
   ]
  },
  {
   "cell_type": "markdown",
   "id": "e7d1e745",
   "metadata": {
    "deletable": false,
    "editable": false,
    "id": "ddc81e43"
   },
   "source": [
    "### Изменение типов данных"
   ]
  },
  {
   "cell_type": "markdown",
   "id": "7ba187a2",
   "metadata": {
    "deletable": false,
    "editable": false,
    "id": "42d19d24"
   },
   "source": [
    "**Задание 13. Замените вещественный тип данных в столбце `total_income` на целочисленный с помощью метода `astype()`.**"
   ]
  },
  {
   "cell_type": "code",
   "execution_count": 13,
   "id": "c33d0dbd",
   "metadata": {
    "deletable": false,
    "id": "920b65ad"
   },
   "outputs": [],
   "source": [
    "data['total_income'] = data['total_income'].astype(int)"
   ]
  },
  {
   "cell_type": "markdown",
   "id": "1b4146b0",
   "metadata": {
    "deletable": false,
    "editable": false,
    "id": "80c420ba"
   },
   "source": [
    "### Обработка дубликатов"
   ]
  },
  {
   "cell_type": "markdown",
   "id": "84f25742",
   "metadata": {
    "deletable": false,
    "editable": false
   },
   "source": [
    "**Задание 14. Обработайте неявные дубликаты в столбце `education`. В этом столбце есть одни и те же значения, но записанные по-разному: с использованием заглавных и строчных букв. Приведите их к нижнему регистру. Проверьте остальные столбцы.**"
   ]
  },
  {
   "cell_type": "code",
   "execution_count": 14,
   "id": "1d661c87",
   "metadata": {
    "deletable": false
   },
   "outputs": [],
   "source": [
    "data['education'] = data['education'].str.lower()"
   ]
  },
  {
   "cell_type": "markdown",
   "id": "a2b8867a",
   "metadata": {
    "deletable": false,
    "editable": false,
    "id": "dc587695"
   },
   "source": [
    "**Задание 15. Выведите на экран количество строк-дубликатов в данных. Если такие строки присутствуют, удалите их.**"
   ]
  },
  {
   "cell_type": "code",
   "execution_count": 15,
   "id": "c3467995",
   "metadata": {
    "deletable": false,
    "id": "3ee445e4",
    "outputId": "9684deba-1934-42d1-99e1-cda61740f822"
   },
   "outputs": [
    {
     "data": {
      "text/plain": [
       "71"
      ]
     },
     "execution_count": 15,
     "metadata": {},
     "output_type": "execute_result"
    }
   ],
   "source": [
    "data.duplicated().sum()"
   ]
  },
  {
   "cell_type": "code",
   "execution_count": 16,
   "id": "620a4034",
   "metadata": {
    "deletable": false,
    "id": "8575fe05"
   },
   "outputs": [],
   "source": [
    "data = data.drop_duplicates()"
   ]
  },
  {
   "cell_type": "markdown",
   "id": "ed231a14",
   "metadata": {
    "deletable": false,
    "editable": false,
    "id": "9904cf55"
   },
   "source": [
    "### Категоризация данных"
   ]
  },
  {
   "cell_type": "markdown",
   "id": "66265678",
   "metadata": {
    "deletable": false,
    "editable": false,
    "id": "72fcc8a2"
   },
   "source": [
    "**Задание 16. На основании диапазонов, указанных ниже, создайте в датафрейме `data` столбец `total_income_category` с категориями:**\n",
    "\n",
    "- 0–30000 — `'E'`;\n",
    "- 30001–50000 — `'D'`;\n",
    "- 50001–200000 — `'C'`;\n",
    "- 200001–1000000 — `'B'`;\n",
    "- 1000001 и выше — `'A'`.\n",
    "\n",
    "\n",
    "**Например, кредитополучателю с доходом 25000 нужно назначить категорию `'E'`, а клиенту, получающему 235000, — `'B'`. Используйте собственную функцию с именем `categorize_income()` и метод `apply()`.**"
   ]
  },
  {
   "cell_type": "code",
   "execution_count": 17,
   "id": "bfc06ee7",
   "metadata": {
    "deletable": false,
    "id": "e1771346"
   },
   "outputs": [],
   "source": [
    "def categorize_income(income):\n",
    "    try:\n",
    "        if 0 <= income <= 30000:\n",
    "            return 'E'\n",
    "        elif 30001 <= income <= 50000:\n",
    "            return 'D'\n",
    "        elif 50001 <= income <= 200000:\n",
    "            return 'C'\n",
    "        elif 200001 <= income <= 1000000:\n",
    "            return 'B'\n",
    "        elif income >= 1000001:\n",
    "            return 'A'\n",
    "    except:\n",
    "        pass"
   ]
  },
  {
   "cell_type": "code",
   "execution_count": 18,
   "id": "35698496",
   "metadata": {
    "deletable": false,
    "id": "d5f3586d"
   },
   "outputs": [],
   "source": [
    "data['total_income_category'] = data['total_income'].apply(categorize_income)"
   ]
  },
  {
   "cell_type": "markdown",
   "id": "f763047a",
   "metadata": {
    "deletable": false,
    "editable": false,
    "id": "dde49b5c"
   },
   "source": [
    "**Задание 17. Выведите на экран перечень уникальных целей взятия кредита из столбца `purpose`.**"
   ]
  },
  {
   "cell_type": "code",
   "execution_count": 19,
   "id": "a7ba43d9",
   "metadata": {
    "deletable": false,
    "id": "f67ce9b3",
    "outputId": "673c12d9-7d7e-4ae0-9812-c622c89dd244"
   },
   "outputs": [
    {
     "data": {
      "text/plain": [
       "array(['покупка жилья', 'приобретение автомобиля',\n",
       "       'дополнительное образование', 'сыграть свадьбу',\n",
       "       'операции с жильем', 'образование', 'на проведение свадьбы',\n",
       "       'покупка жилья для семьи', 'покупка недвижимости',\n",
       "       'покупка коммерческой недвижимости', 'покупка жилой недвижимости',\n",
       "       'строительство собственной недвижимости', 'недвижимость',\n",
       "       'строительство недвижимости', 'на покупку подержанного автомобиля',\n",
       "       'на покупку своего автомобиля',\n",
       "       'операции с коммерческой недвижимостью',\n",
       "       'строительство жилой недвижимости', 'жилье',\n",
       "       'операции со своей недвижимостью', 'автомобили',\n",
       "       'заняться образованием', 'сделка с подержанным автомобилем',\n",
       "       'получение образования', 'автомобиль', 'свадьба',\n",
       "       'получение дополнительного образования', 'покупка своего жилья',\n",
       "       'операции с недвижимостью', 'получение высшего образования',\n",
       "       'свой автомобиль', 'сделка с автомобилем',\n",
       "       'профильное образование', 'высшее образование',\n",
       "       'покупка жилья для сдачи', 'на покупку автомобиля', 'ремонт жилью',\n",
       "       'заняться высшим образованием'], dtype=object)"
      ]
     },
     "execution_count": 19,
     "metadata": {},
     "output_type": "execute_result"
    }
   ],
   "source": [
    "data['purpose'].unique()"
   ]
  },
  {
   "cell_type": "markdown",
   "id": "31326dbd",
   "metadata": {
    "deletable": false,
    "editable": false,
    "id": "85d0aef0"
   },
   "source": [
    "**Задание 18. Создайте функцию, которая на основании данных из столбца `purpose` сформирует новый столбец `purpose_category`, в который войдут следующие категории:**\n",
    "\n",
    "- `'операции с автомобилем'`,\n",
    "- `'операции с недвижимостью'`,\n",
    "- `'проведение свадьбы'`,\n",
    "- `'получение образования'`.\n",
    "\n",
    "**Например, если в столбце `purpose` находится подстрока `'на покупку автомобиля'`, то в столбце `purpose_category` должна появиться строка `'операции с автомобилем'`.**\n",
    "\n",
    "**Используйте собственную функцию с именем `categorize_purpose()` и метод `apply()`. Изучите данные в столбце `purpose` и определите, какие подстроки помогут вам правильно определить категорию.**"
   ]
  },
  {
   "cell_type": "code",
   "execution_count": 20,
   "id": "a4440a63",
   "metadata": {
    "deletable": false,
    "id": "e149fab4"
   },
   "outputs": [],
   "source": [
    "def categorize_purpose(row):\n",
    "    try:\n",
    "        if 'автом' in row:\n",
    "            return 'операции с автомобилем'\n",
    "        elif 'жил' in row or 'недвиж' in row:\n",
    "            return 'операции с недвижимостью'\n",
    "        elif 'свад' in row:\n",
    "            return 'проведение свадьбы'\n",
    "        elif 'образов' in row:\n",
    "            return 'получение образования'\n",
    "    except:\n",
    "        return 'нет категории'"
   ]
  },
  {
   "cell_type": "code",
   "execution_count": 21,
   "id": "4174ce9c",
   "metadata": {
    "deletable": false,
    "id": "bf36e69b"
   },
   "outputs": [],
   "source": [
    "data['purpose_category'] = data['purpose'].apply(categorize_purpose)"
   ]
  },
  {
   "cell_type": "markdown",
   "id": "cd4f4c69",
   "metadata": {},
   "source": [
    "<div id='link'></div> "
   ]
  },
  {
   "cell_type": "markdown",
   "id": "9b34663d",
   "metadata": {
    "deletable": false,
    "editable": false,
    "id": "09b242bf"
   },
   "source": [
    "### Шаг 3. Исследуйте данные и ответьте на вопросы"
   ]
  },
  {
   "cell_type": "markdown",
   "id": "eabd2fb2",
   "metadata": {
    "deletable": false,
    "editable": false,
    "id": "c5d66278"
   },
   "source": [
    "#### 3.1 Есть ли зависимость между количеством детей и возвратом кредита в срок?"
   ]
  },
  {
   "cell_type": "markdown",
   "id": "69bf1677",
   "metadata": {},
   "source": [
    "   Для проверки данной гипотезы, т.е возможной зависимости количества детей от вероятности возникновения задолженности по возврату кредита, создадим сводную таблицу для оценки соотношения данных показателей."
   ]
  },
  {
   "cell_type": "code",
   "execution_count": 22,
   "id": "3ece37f6",
   "metadata": {
    "deletable": false,
    "id": "2cacfc4a"
   },
   "outputs": [
    {
     "data": {
      "text/html": [
       "<div>\n",
       "<style scoped>\n",
       "    .dataframe tbody tr th:only-of-type {\n",
       "        vertical-align: middle;\n",
       "    }\n",
       "\n",
       "    .dataframe tbody tr th {\n",
       "        vertical-align: top;\n",
       "    }\n",
       "\n",
       "    .dataframe thead th {\n",
       "        text-align: right;\n",
       "    }\n",
       "</style>\n",
       "<table border=\"1\" class=\"dataframe\">\n",
       "  <thead>\n",
       "    <tr style=\"text-align: right;\">\n",
       "      <th></th>\n",
       "      <th>children</th>\n",
       "      <th>count_debt</th>\n",
       "      <th>sum_debt</th>\n",
       "      <th>mean_debt</th>\n",
       "    </tr>\n",
       "  </thead>\n",
       "  <tbody>\n",
       "    <tr>\n",
       "      <th>0</th>\n",
       "      <td>0</td>\n",
       "      <td>14091</td>\n",
       "      <td>1063</td>\n",
       "      <td>0.075438</td>\n",
       "    </tr>\n",
       "    <tr>\n",
       "      <th>1</th>\n",
       "      <td>1</td>\n",
       "      <td>4808</td>\n",
       "      <td>444</td>\n",
       "      <td>0.092346</td>\n",
       "    </tr>\n",
       "    <tr>\n",
       "      <th>2</th>\n",
       "      <td>2</td>\n",
       "      <td>2052</td>\n",
       "      <td>194</td>\n",
       "      <td>0.094542</td>\n",
       "    </tr>\n",
       "    <tr>\n",
       "      <th>3</th>\n",
       "      <td>3</td>\n",
       "      <td>330</td>\n",
       "      <td>27</td>\n",
       "      <td>0.081818</td>\n",
       "    </tr>\n",
       "    <tr>\n",
       "      <th>4</th>\n",
       "      <td>4</td>\n",
       "      <td>41</td>\n",
       "      <td>4</td>\n",
       "      <td>0.097561</td>\n",
       "    </tr>\n",
       "    <tr>\n",
       "      <th>5</th>\n",
       "      <td>5</td>\n",
       "      <td>9</td>\n",
       "      <td>0</td>\n",
       "      <td>0.000000</td>\n",
       "    </tr>\n",
       "  </tbody>\n",
       "</table>\n",
       "</div>"
      ],
      "text/plain": [
       "   children  count_debt  sum_debt  mean_debt\n",
       "0         0       14091      1063   0.075438\n",
       "1         1        4808       444   0.092346\n",
       "2         2        2052       194   0.094542\n",
       "3         3         330        27   0.081818\n",
       "4         4          41         4   0.097561\n",
       "5         5           9         0   0.000000"
      ]
     },
     "execution_count": 22,
     "metadata": {},
     "output_type": "execute_result"
    }
   ],
   "source": [
    "data_children_pivot = data.pivot_table(index = \"children\", values = \"debt\", aggfunc = [\"count\", \"sum\", \"mean\"])\n",
    "data_children_pivot.reset_index ()\n",
    "data_children_pivot.columns = [\"_\".join(col).strip() for col in data_children_pivot.columns.values]\n",
    "data_children_pivot = data_children_pivot.reset_index ()\n",
    "\n",
    "data_children_pivot"
   ]
  },
  {
   "cell_type": "markdown",
   "id": "c64a086e",
   "metadata": {
    "deletable": false,
    "id": "3a6b99ec"
   },
   "source": [
    "**Вывод:** Как видно из полученных данных, больше всего должников приходится на людей, имеющих 1, 2 либо 4 детей. При этом, наиболее низкий процент задолженностей, среди тех, ко не имеет детей вовсе. Люди, имеющие по 5 детей не допускают задолженностей вовсе.\n",
    "   Необходимо также учитывать, что бездетных почти в два раза больше, чем остальных категорий вместе взятых. При этом, не допускающих задолженностей людей, имеющих 5 детей меньше всего вообще и, соответственно, среди заёмщиков также.\n",
    "   Поскольку, больше всего займов приходится на бездетных и среди них, же и наименьший процент задолженностей, можно утверждать, что предварительные данные косвенно указывают на возможную зависимость риска возникновения задолженности от количества детей."
   ]
  },
  {
   "cell_type": "markdown",
   "id": "2a61728d",
   "metadata": {
    "deletable": false,
    "editable": false,
    "id": "97be82ca"
   },
   "source": [
    "#### 3.2 Есть ли зависимость между семейным положением и возвратом кредита в срок?"
   ]
  },
  {
   "cell_type": "markdown",
   "id": "1865769d",
   "metadata": {},
   "source": [
    "   Чтобы проверить эту гипотезу, составим сводную таблицу и остортируем данные по семейному положению."
   ]
  },
  {
   "cell_type": "code",
   "execution_count": 23,
   "id": "ec2cffe5",
   "metadata": {
    "deletable": false,
    "id": "dc3f7ee8",
    "scrolled": true
   },
   "outputs": [
    {
     "data": {
      "text/html": [
       "<div>\n",
       "<style scoped>\n",
       "    .dataframe tbody tr th:only-of-type {\n",
       "        vertical-align: middle;\n",
       "    }\n",
       "\n",
       "    .dataframe tbody tr th {\n",
       "        vertical-align: top;\n",
       "    }\n",
       "\n",
       "    .dataframe thead th {\n",
       "        text-align: right;\n",
       "    }\n",
       "</style>\n",
       "<table border=\"1\" class=\"dataframe\">\n",
       "  <thead>\n",
       "    <tr style=\"text-align: right;\">\n",
       "      <th></th>\n",
       "      <th>family_status</th>\n",
       "      <th>count_debt</th>\n",
       "      <th>sum_debt</th>\n",
       "      <th>mean_debt</th>\n",
       "    </tr>\n",
       "  </thead>\n",
       "  <tbody>\n",
       "    <tr>\n",
       "      <th>0</th>\n",
       "      <td>Не женат / не замужем</td>\n",
       "      <td>2796</td>\n",
       "      <td>273</td>\n",
       "      <td>0.097639</td>\n",
       "    </tr>\n",
       "    <tr>\n",
       "      <th>1</th>\n",
       "      <td>в разводе</td>\n",
       "      <td>1189</td>\n",
       "      <td>84</td>\n",
       "      <td>0.070648</td>\n",
       "    </tr>\n",
       "    <tr>\n",
       "      <th>2</th>\n",
       "      <td>вдовец / вдова</td>\n",
       "      <td>951</td>\n",
       "      <td>63</td>\n",
       "      <td>0.066246</td>\n",
       "    </tr>\n",
       "    <tr>\n",
       "      <th>3</th>\n",
       "      <td>гражданский брак</td>\n",
       "      <td>4134</td>\n",
       "      <td>385</td>\n",
       "      <td>0.093130</td>\n",
       "    </tr>\n",
       "    <tr>\n",
       "      <th>4</th>\n",
       "      <td>женат / замужем</td>\n",
       "      <td>12261</td>\n",
       "      <td>927</td>\n",
       "      <td>0.075606</td>\n",
       "    </tr>\n",
       "  </tbody>\n",
       "</table>\n",
       "</div>"
      ],
      "text/plain": [
       "           family_status  count_debt  sum_debt  mean_debt\n",
       "0  Не женат / не замужем        2796       273   0.097639\n",
       "1              в разводе        1189        84   0.070648\n",
       "2         вдовец / вдова         951        63   0.066246\n",
       "3       гражданский брак        4134       385   0.093130\n",
       "4        женат / замужем       12261       927   0.075606"
      ]
     },
     "execution_count": 23,
     "metadata": {},
     "output_type": "execute_result"
    }
   ],
   "source": [
    "data_family_pivot = data.pivot_table(index = \"family_status\", values = \"debt\", aggfunc = [\"count\", \"sum\", \"mean\"])\n",
    "data_family_pivot.reset_index ()\n",
    "data_family_pivot.columns = [\"_\".join(col).strip() for col in data_family_pivot.columns.values]\n",
    "data_family_pivot = data_family_pivot.reset_index ()\n",
    "\n",
    "data_family_pivot"
   ]
  },
  {
   "cell_type": "markdown",
   "id": "d8bd7fd8",
   "metadata": {
    "deletable": false,
    "id": "1cef7837"
   },
   "source": [
    "**Вывод:**\n",
    "   Как следует из полученных данных, среди людей, никогда не состоящих в браке, задолженности возникают чаще, чем среди остальных категорий. При этом наибольшая доля кредитов приходится на состоящих в браке."
   ]
  },
  {
   "cell_type": "markdown",
   "id": "681f8624",
   "metadata": {
    "deletable": false,
    "editable": false,
    "id": "1e8b2fca"
   },
   "source": [
    "#### 3.3 Есть ли зависимость между уровнем дохода и возвратом кредита в срок?"
   ]
  },
  {
   "cell_type": "code",
   "execution_count": 27,
   "id": "f17cf54d",
   "metadata": {
    "deletable": false,
    "id": "cd7e3720"
   },
   "outputs": [
    {
     "data": {
      "text/html": [
       "<div>\n",
       "<style scoped>\n",
       "    .dataframe tbody tr th:only-of-type {\n",
       "        vertical-align: middle;\n",
       "    }\n",
       "\n",
       "    .dataframe tbody tr th {\n",
       "        vertical-align: top;\n",
       "    }\n",
       "\n",
       "    .dataframe thead th {\n",
       "        text-align: right;\n",
       "    }\n",
       "</style>\n",
       "<table border=\"1\" class=\"dataframe\">\n",
       "  <thead>\n",
       "    <tr style=\"text-align: right;\">\n",
       "      <th></th>\n",
       "      <th>total_income_category</th>\n",
       "      <th>count_debt</th>\n",
       "      <th>sum_debt</th>\n",
       "      <th>mean_debt</th>\n",
       "    </tr>\n",
       "  </thead>\n",
       "  <tbody>\n",
       "    <tr>\n",
       "      <th>0</th>\n",
       "      <td>A</td>\n",
       "      <td>25</td>\n",
       "      <td>2</td>\n",
       "      <td>0.080000</td>\n",
       "    </tr>\n",
       "    <tr>\n",
       "      <th>1</th>\n",
       "      <td>B</td>\n",
       "      <td>5014</td>\n",
       "      <td>354</td>\n",
       "      <td>0.070602</td>\n",
       "    </tr>\n",
       "    <tr>\n",
       "      <th>2</th>\n",
       "      <td>C</td>\n",
       "      <td>15921</td>\n",
       "      <td>1353</td>\n",
       "      <td>0.084982</td>\n",
       "    </tr>\n",
       "    <tr>\n",
       "      <th>3</th>\n",
       "      <td>D</td>\n",
       "      <td>349</td>\n",
       "      <td>21</td>\n",
       "      <td>0.060172</td>\n",
       "    </tr>\n",
       "    <tr>\n",
       "      <th>4</th>\n",
       "      <td>E</td>\n",
       "      <td>22</td>\n",
       "      <td>2</td>\n",
       "      <td>0.090909</td>\n",
       "    </tr>\n",
       "  </tbody>\n",
       "</table>\n",
       "</div>"
      ],
      "text/plain": [
       "  total_income_category  count_debt  sum_debt  mean_debt\n",
       "0                     A          25         2   0.080000\n",
       "1                     B        5014       354   0.070602\n",
       "2                     C       15921      1353   0.084982\n",
       "3                     D         349        21   0.060172\n",
       "4                     E          22         2   0.090909"
      ]
     },
     "execution_count": 27,
     "metadata": {},
     "output_type": "execute_result"
    }
   ],
   "source": [
    "data_income_pivot = data.pivot_table(index = \"total_income_category\", values = \"debt\", aggfunc = [\"count\", \"sum\", \"mean\"])\n",
    "data_income_pivot.reset_index ()\n",
    "data_income_pivot.columns = [\"_\".join(col).strip() for col in data_income_pivot.columns.values]\n",
    "data_income_pivot = data_income_pivot.reset_index ()\n",
    "\n",
    "data_income_pivot"
   ]
  },
  {
   "cell_type": "markdown",
   "id": "15596821",
   "metadata": {
    "deletable": false,
    "id": "e8593def"
   },
   "source": [
    "**Вывод:** Судя по полученным данным, большинство задолженностей в процентном соотношении возникает среди людей, с доходом до 30 тыс. рублей (категория \"E\"). Однако, наиболее многочисленную группу заёмщиков составляют люди со средним (категория \"C\" - 50 000-200 000 тыс. руб.) и выше среднего (категория \"B\" - до 1 000 000 руб.) доходом. Учитывая преобладающее количество займов среди категории \"C\", больше всего задолженностей возникает среди этой группы."
   ]
  },
  {
   "cell_type": "markdown",
   "id": "40b5f38f",
   "metadata": {
    "deletable": false,
    "editable": false,
    "id": "99ecbd1f"
   },
   "source": [
    "#### 3.4 Как разные цели кредита влияют на его возврат в срок?"
   ]
  },
  {
   "cell_type": "code",
   "execution_count": 28,
   "id": "e7ec6a45",
   "metadata": {
    "deletable": false,
    "id": "2b687290",
    "scrolled": false
   },
   "outputs": [
    {
     "data": {
      "text/html": [
       "<div>\n",
       "<style scoped>\n",
       "    .dataframe tbody tr th:only-of-type {\n",
       "        vertical-align: middle;\n",
       "    }\n",
       "\n",
       "    .dataframe tbody tr th {\n",
       "        vertical-align: top;\n",
       "    }\n",
       "\n",
       "    .dataframe thead tr th {\n",
       "        text-align: left;\n",
       "    }\n",
       "</style>\n",
       "<table border=\"1\" class=\"dataframe\">\n",
       "  <thead>\n",
       "    <tr>\n",
       "      <th></th>\n",
       "      <th>purpose_category</th>\n",
       "      <th>count</th>\n",
       "      <th>sum</th>\n",
       "      <th>mean</th>\n",
       "    </tr>\n",
       "    <tr>\n",
       "      <th></th>\n",
       "      <th></th>\n",
       "      <th>debt</th>\n",
       "      <th>debt</th>\n",
       "      <th>debt</th>\n",
       "    </tr>\n",
       "  </thead>\n",
       "  <tbody>\n",
       "    <tr>\n",
       "      <th>0</th>\n",
       "      <td>операции с автомобилем</td>\n",
       "      <td>4279</td>\n",
       "      <td>400</td>\n",
       "      <td>0.093480</td>\n",
       "    </tr>\n",
       "    <tr>\n",
       "      <th>1</th>\n",
       "      <td>операции с недвижимостью</td>\n",
       "      <td>10751</td>\n",
       "      <td>780</td>\n",
       "      <td>0.072551</td>\n",
       "    </tr>\n",
       "    <tr>\n",
       "      <th>2</th>\n",
       "      <td>получение образования</td>\n",
       "      <td>3988</td>\n",
       "      <td>369</td>\n",
       "      <td>0.092528</td>\n",
       "    </tr>\n",
       "    <tr>\n",
       "      <th>3</th>\n",
       "      <td>проведение свадьбы</td>\n",
       "      <td>2313</td>\n",
       "      <td>183</td>\n",
       "      <td>0.079118</td>\n",
       "    </tr>\n",
       "  </tbody>\n",
       "</table>\n",
       "</div>"
      ],
      "text/plain": [
       "           purpose_category  count  sum      mean\n",
       "                              debt debt      debt\n",
       "0    операции с автомобилем   4279  400  0.093480\n",
       "1  операции с недвижимостью  10751  780  0.072551\n",
       "2     получение образования   3988  369  0.092528\n",
       "3        проведение свадьбы   2313  183  0.079118"
      ]
     },
     "execution_count": 28,
     "metadata": {},
     "output_type": "execute_result"
    }
   ],
   "source": [
    "data_purpose_pivot = data.pivot_table(index = \"purpose_category\", values = \"debt\", aggfunc = [\"count\", \"sum\", \"mean\"])\n",
    "data_purpose_pivot = data_purpose_pivot.reset_index ()\n",
    "\n",
    "data_purpose_pivot"
   ]
  },
  {
   "cell_type": "markdown",
   "id": "525ac5db",
   "metadata": {
    "deletable": false,
    "id": "b4bb2ce6"
   },
   "source": [
    "**Вывод:** Как следует из полученных данных, больше всего займов приходится на операции с недвижимостью, а также среди этой категории наименьшее число задолженностей. Наибольшее среди тех, кто берёт кредит на какие-то операции с автомобилем и получение образования. Задолженностей среди этих категори почти поровну."
   ]
  },
  {
   "cell_type": "markdown",
   "id": "453b6588",
   "metadata": {
    "deletable": false,
    "editable": false,
    "id": "09c3ac4c"
   },
   "source": [
    "#### 3.5 Приведите возможные причины появления пропусков в исходных данных."
   ]
  },
  {
   "cell_type": "markdown",
   "id": "f741774f",
   "metadata": {
    "deletable": false,
    "id": "9da2ceda"
   },
   "source": [
    "*Ответ:* Пропуски могут появляться по техническим причинам, т.е возникают по причине сбоев при копировании, считывании, смене формата, а также во время записи данных. Кроме этого, они обусловлены человеческим фактором: ошибки при записи, случайные или намеренные пропуски. Например, в списке с электронными адресами пользователей, согласных на рассылку, может быть много пропусков, потому, что далеко не все предоставляют свой email."
   ]
  },
  {
   "cell_type": "markdown",
   "id": "127e77b9",
   "metadata": {},
   "source": [
    "Пропуски допущены только в двух столбца - это общий трудовой стаж и уровень дохода. Поскольку в данных столбцах находятся основные данные для оценки платёжеспособности заёмщика и количество пропусков в них одинаковое, то это, скорее всего, говорит об отсутствии точных данных о конкретных заёмщиках. Иными словами, если нет данных о трудовом стаже заёмщика, то нет данных и о его ежемесячном доходе."
   ]
  },
  {
   "cell_type": "markdown",
   "id": "620e27ee",
   "metadata": {
    "deletable": false,
    "editable": false,
    "id": "7b0487d6"
   },
   "source": [
    "#### 3.6 Объясните, почему заполнить пропуски медианным значением — лучшее решение для количественных переменных."
   ]
  },
  {
   "cell_type": "markdown",
   "id": "288e64f2",
   "metadata": {
    "deletable": false,
    "id": "7ecf2b8e"
   },
   "source": [
    "*Ответ:* Это наиболее оптимальное и точное значение при подсчитывании среднего показателя среди отобранных данных (например, в столбце, с указанием зарплат), которе позволяет избежать искажения при возникновении отдельных пиковых значений, смещающих средний показатель в ту или иную сторону, как при прямом подсчёте среднего значения."
   ]
  },
  {
   "cell_type": "markdown",
   "id": "a6887443",
   "metadata": {
    "deletable": false,
    "editable": false,
    "id": "6db5255a"
   },
   "source": [
    "### Шаг 4: общий вывод."
   ]
  },
  {
   "cell_type": "markdown",
   "id": "ad649f31",
   "metadata": {
    "deletable": false,
    "id": "bad65432"
   },
   "source": [
    "Напишите ваш общий вывод."
   ]
  },
  {
   "cell_type": "code",
   "execution_count": 30,
   "id": "61fca18f",
   "metadata": {},
   "outputs": [
    {
     "name": "stdout",
     "output_type": "stream",
     "text": [
      "Соотношение между количеством детей и возвратом кредита в срок:\n",
      "   children  count_debt  sum_debt  mean_debt\n",
      "0         0       14091      1063   0.075438\n",
      "1         1        4808       444   0.092346\n",
      "2         2        2052       194   0.094542\n",
      "3         3         330        27   0.081818\n",
      "4         4          41         4   0.097561\n",
      "5         5           9         0   0.000000\n",
      "\n",
      "Соотношение между семейным положением и возвратом кредита в срок:\n",
      "           family_status  count_debt  sum_debt  mean_debt\n",
      "0  Не женат / не замужем        2796       273   0.097639\n",
      "1              в разводе        1189        84   0.070648\n",
      "2         вдовец / вдова         951        63   0.066246\n",
      "3       гражданский брак        4134       385   0.093130\n",
      "4        женат / замужем       12261       927   0.075606\n",
      "\n",
      "Соотношение между уровнем дохода и возвратом кредита в срок:\n",
      "  total_income_category  count_debt  sum_debt  mean_debt\n",
      "0                     A          25         2   0.080000\n",
      "1                     B        5014       354   0.070602\n",
      "2                     C       15921      1353   0.084982\n",
      "3                     D         349        21   0.060172\n",
      "4                     E          22         2   0.090909\n",
      "\n",
      "Соотношение между целями кредита и возвратом его в срок:\n",
      "           purpose_category  count  sum      mean\n",
      "                              debt debt      debt\n",
      "0    операции с автомобилем   4279  400  0.093480\n",
      "1  операции с недвижимостью  10751  780  0.072551\n",
      "2     получение образования   3988  369  0.092528\n",
      "3        проведение свадьбы   2313  183  0.079118\n"
     ]
    }
   ],
   "source": [
    "print (\"Соотношение между количеством детей и возвратом кредита в срок:\")\n",
    "print (data_children_pivot)\n",
    "print ()\n",
    "print (\"Соотношение между семейным положением и возвратом кредита в срок:\")\n",
    "print (data_family_pivot)\n",
    "print ()\n",
    "print (\"Соотношение между уровнем дохода и возвратом кредита в срок:\")\n",
    "print (data_income_pivot)\n",
    "print ()\n",
    "print (\"Соотношение между целями кредита и возвратом его в срок:\")\n",
    "print (data_purpose_pivot)"
   ]
  },
  {
   "cell_type": "markdown",
   "id": "ae161c9a",
   "metadata": {},
   "source": [
    "Как следует из полученных данных, наибольший риск возникновения задолженностей возникает среди людей, никогда не состоявших в браке, со сравнительно небольшим уровнем дохода и берущих кредит либо на операции с автомобилем, либо на получение образования. Эти цели характерны для данной категории населения. Кроме того, наличие детей также влияет на этот параметр. Среди людей, имеющих одного и более детей, риск возникновения задолженности выше, чем среди бездетных."
   ]
  },
  {
   "cell_type": "markdown",
   "id": "a1bc5a28",
   "metadata": {},
   "source": [
    "Для более полной картины можно было бы ещё сопоставить возраст и уровень дохода, а также возраст и цели, наличие и количество детей с уровнем дохода."
   ]
  }
 ],
 "metadata": {
  "ExecuteTimeLog": [
   {
    "duration": 44,
    "start_time": "2022-12-08T12:01:25.429Z"
   },
   {
    "duration": 511,
    "start_time": "2022-12-08T12:02:32.568Z"
   },
   {
    "duration": 23,
    "start_time": "2022-12-08T12:02:33.081Z"
   },
   {
    "duration": 26,
    "start_time": "2022-12-08T12:02:33.106Z"
   },
   {
    "duration": 32,
    "start_time": "2022-12-08T12:02:33.135Z"
   },
   {
    "duration": 32,
    "start_time": "2022-12-08T12:02:33.169Z"
   },
   {
    "duration": 5,
    "start_time": "2022-12-08T12:02:33.203Z"
   },
   {
    "duration": 53,
    "start_time": "2022-12-08T12:02:33.209Z"
   },
   {
    "duration": 35,
    "start_time": "2022-12-08T12:02:33.264Z"
   },
   {
    "duration": 43,
    "start_time": "2022-12-08T12:02:33.301Z"
   },
   {
    "duration": 26,
    "start_time": "2022-12-08T12:02:33.348Z"
   },
   {
    "duration": 63,
    "start_time": "2022-12-08T12:02:33.376Z"
   },
   {
    "duration": 13,
    "start_time": "2022-12-08T12:02:33.440Z"
   },
   {
    "duration": 30,
    "start_time": "2022-12-08T12:02:33.455Z"
   },
   {
    "duration": 49,
    "start_time": "2022-12-08T12:02:33.487Z"
   },
   {
    "duration": 30,
    "start_time": "2022-12-08T12:02:33.537Z"
   },
   {
    "duration": 32,
    "start_time": "2022-12-08T12:02:33.569Z"
   },
   {
    "duration": 25,
    "start_time": "2022-12-08T12:02:33.603Z"
   },
   {
    "duration": 41,
    "start_time": "2022-12-08T12:02:33.630Z"
   },
   {
    "duration": 55,
    "start_time": "2022-12-08T12:02:33.673Z"
   },
   {
    "duration": 11,
    "start_time": "2022-12-08T12:02:33.730Z"
   },
   {
    "duration": 26,
    "start_time": "2022-12-08T12:02:33.743Z"
   },
   {
    "duration": 23,
    "start_time": "2022-12-08T12:02:33.771Z"
   },
   {
    "duration": 2,
    "start_time": "2022-12-08T12:02:33.796Z"
   },
   {
    "duration": 25,
    "start_time": "2022-12-08T12:02:33.800Z"
   },
   {
    "duration": 9,
    "start_time": "2022-12-08T12:02:33.827Z"
   },
   {
    "duration": 30,
    "start_time": "2022-12-08T12:02:40.869Z"
   },
   {
    "duration": 32,
    "start_time": "2022-12-08T12:03:04.284Z"
   },
   {
    "duration": 12,
    "start_time": "2022-12-08T12:04:11.853Z"
   },
   {
    "duration": 16,
    "start_time": "2022-12-08T13:17:34.014Z"
   },
   {
    "duration": 67,
    "start_time": "2022-12-08T13:19:00.205Z"
   },
   {
    "duration": 13,
    "start_time": "2022-12-08T13:19:11.716Z"
   },
   {
    "duration": 441,
    "start_time": "2022-12-08T13:19:33.395Z"
   },
   {
    "duration": 22,
    "start_time": "2022-12-08T13:19:33.837Z"
   },
   {
    "duration": 14,
    "start_time": "2022-12-08T13:19:33.861Z"
   },
   {
    "duration": 10,
    "start_time": "2022-12-08T13:19:33.877Z"
   },
   {
    "duration": 47,
    "start_time": "2022-12-08T13:19:33.889Z"
   },
   {
    "duration": 4,
    "start_time": "2022-12-08T13:19:33.938Z"
   },
   {
    "duration": 19,
    "start_time": "2022-12-08T13:19:33.943Z"
   },
   {
    "duration": 16,
    "start_time": "2022-12-08T13:19:33.965Z"
   },
   {
    "duration": 17,
    "start_time": "2022-12-08T13:19:33.983Z"
   },
   {
    "duration": 7,
    "start_time": "2022-12-08T13:19:34.003Z"
   },
   {
    "duration": 52,
    "start_time": "2022-12-08T13:19:34.012Z"
   },
   {
    "duration": 23,
    "start_time": "2022-12-08T13:19:34.066Z"
   },
   {
    "duration": 11,
    "start_time": "2022-12-08T13:19:34.091Z"
   },
   {
    "duration": 19,
    "start_time": "2022-12-08T13:19:34.104Z"
   },
   {
    "duration": 54,
    "start_time": "2022-12-08T13:19:34.126Z"
   },
   {
    "duration": 18,
    "start_time": "2022-12-08T13:19:34.182Z"
   },
   {
    "duration": 3,
    "start_time": "2022-12-08T13:19:34.202Z"
   },
   {
    "duration": 11,
    "start_time": "2022-12-08T13:19:34.207Z"
   },
   {
    "duration": 15,
    "start_time": "2022-12-08T13:19:34.220Z"
   },
   {
    "duration": 6,
    "start_time": "2022-12-08T13:19:34.237Z"
   },
   {
    "duration": 14,
    "start_time": "2022-12-08T13:19:34.245Z"
   },
   {
    "duration": 24,
    "start_time": "2022-12-08T13:19:34.260Z"
   },
   {
    "duration": 71,
    "start_time": "2022-12-08T13:19:34.287Z"
   },
   {
    "duration": 0,
    "start_time": "2022-12-08T13:19:34.378Z"
   },
   {
    "duration": 0,
    "start_time": "2022-12-08T13:19:34.380Z"
   },
   {
    "duration": 13,
    "start_time": "2022-12-08T13:19:51.300Z"
   },
   {
    "duration": 14,
    "start_time": "2022-12-08T13:21:50.686Z"
   },
   {
    "duration": 11,
    "start_time": "2022-12-08T13:22:51.127Z"
   },
   {
    "duration": 12,
    "start_time": "2022-12-08T13:23:08.589Z"
   },
   {
    "duration": 12,
    "start_time": "2022-12-08T13:26:57.468Z"
   },
   {
    "duration": 10,
    "start_time": "2022-12-08T13:35:18.363Z"
   },
   {
    "duration": 13,
    "start_time": "2022-12-08T13:35:37.499Z"
   },
   {
    "duration": 10,
    "start_time": "2022-12-08T13:36:10.233Z"
   },
   {
    "duration": 11,
    "start_time": "2022-12-08T13:36:20.787Z"
   },
   {
    "duration": 14,
    "start_time": "2022-12-08T13:38:13.918Z"
   },
   {
    "duration": 11,
    "start_time": "2022-12-08T13:38:27.414Z"
   },
   {
    "duration": 17,
    "start_time": "2022-12-08T13:42:19.274Z"
   },
   {
    "duration": 17,
    "start_time": "2022-12-08T13:44:20.563Z"
   },
   {
    "duration": 1581,
    "start_time": "2022-12-08T13:44:28.739Z"
   },
   {
    "duration": 20,
    "start_time": "2022-12-08T13:44:50.283Z"
   },
   {
    "duration": 19,
    "start_time": "2022-12-08T13:45:05.603Z"
   },
   {
    "duration": 11,
    "start_time": "2022-12-08T13:48:24.398Z"
   },
   {
    "duration": 50,
    "start_time": "2022-12-09T07:48:58.188Z"
   },
   {
    "duration": 714,
    "start_time": "2022-12-09T07:49:07.596Z"
   },
   {
    "duration": 25,
    "start_time": "2022-12-09T07:49:08.313Z"
   },
   {
    "duration": 18,
    "start_time": "2022-12-09T07:49:08.340Z"
   },
   {
    "duration": 12,
    "start_time": "2022-12-09T07:49:08.360Z"
   },
   {
    "duration": 60,
    "start_time": "2022-12-09T07:49:08.375Z"
   },
   {
    "duration": 5,
    "start_time": "2022-12-09T07:49:08.437Z"
   },
   {
    "duration": 14,
    "start_time": "2022-12-09T07:49:08.443Z"
   },
   {
    "duration": 18,
    "start_time": "2022-12-09T07:49:08.459Z"
   },
   {
    "duration": 23,
    "start_time": "2022-12-09T07:49:08.479Z"
   },
   {
    "duration": 7,
    "start_time": "2022-12-09T07:49:08.504Z"
   },
   {
    "duration": 38,
    "start_time": "2022-12-09T07:49:08.513Z"
   },
   {
    "duration": 10,
    "start_time": "2022-12-09T07:49:08.553Z"
   },
   {
    "duration": 6,
    "start_time": "2022-12-09T07:49:08.564Z"
   },
   {
    "duration": 21,
    "start_time": "2022-12-09T07:49:08.572Z"
   },
   {
    "duration": 22,
    "start_time": "2022-12-09T07:49:08.595Z"
   },
   {
    "duration": 24,
    "start_time": "2022-12-09T07:49:08.619Z"
   },
   {
    "duration": 4,
    "start_time": "2022-12-09T07:49:08.645Z"
   },
   {
    "duration": 18,
    "start_time": "2022-12-09T07:49:08.650Z"
   },
   {
    "duration": 9,
    "start_time": "2022-12-09T07:49:08.670Z"
   },
   {
    "duration": 9,
    "start_time": "2022-12-09T07:49:08.681Z"
   },
   {
    "duration": 29,
    "start_time": "2022-12-09T07:49:08.691Z"
   },
   {
    "duration": 29,
    "start_time": "2022-12-09T07:49:08.721Z"
   },
   {
    "duration": 12,
    "start_time": "2022-12-09T07:49:08.752Z"
   },
   {
    "duration": 4,
    "start_time": "2022-12-09T07:49:08.765Z"
   },
   {
    "duration": 13,
    "start_time": "2022-12-09T07:49:08.771Z"
   },
   {
    "duration": 24,
    "start_time": "2022-12-09T07:50:18.977Z"
   },
   {
    "duration": 24,
    "start_time": "2022-12-09T07:51:36.003Z"
   },
   {
    "duration": 25,
    "start_time": "2022-12-09T08:09:02.506Z"
   },
   {
    "duration": 82,
    "start_time": "2022-12-09T10:17:12.092Z"
   },
   {
    "duration": 484,
    "start_time": "2022-12-09T10:17:26.349Z"
   },
   {
    "duration": 21,
    "start_time": "2022-12-09T10:17:26.835Z"
   },
   {
    "duration": 19,
    "start_time": "2022-12-09T10:17:26.858Z"
   },
   {
    "duration": 12,
    "start_time": "2022-12-09T10:17:26.880Z"
   },
   {
    "duration": 51,
    "start_time": "2022-12-09T10:17:26.893Z"
   },
   {
    "duration": 4,
    "start_time": "2022-12-09T10:17:26.945Z"
   },
   {
    "duration": 24,
    "start_time": "2022-12-09T10:17:26.950Z"
   },
   {
    "duration": 20,
    "start_time": "2022-12-09T10:17:26.976Z"
   },
   {
    "duration": 30,
    "start_time": "2022-12-09T10:17:26.997Z"
   },
   {
    "duration": 6,
    "start_time": "2022-12-09T10:17:27.029Z"
   },
   {
    "duration": 37,
    "start_time": "2022-12-09T10:17:27.037Z"
   },
   {
    "duration": 9,
    "start_time": "2022-12-09T10:17:27.075Z"
   },
   {
    "duration": 9,
    "start_time": "2022-12-09T10:17:27.086Z"
   },
   {
    "duration": 16,
    "start_time": "2022-12-09T10:17:27.096Z"
   },
   {
    "duration": 35,
    "start_time": "2022-12-09T10:17:27.113Z"
   },
   {
    "duration": 16,
    "start_time": "2022-12-09T10:17:27.149Z"
   },
   {
    "duration": 4,
    "start_time": "2022-12-09T10:17:27.166Z"
   },
   {
    "duration": 13,
    "start_time": "2022-12-09T10:17:27.171Z"
   },
   {
    "duration": 14,
    "start_time": "2022-12-09T10:17:27.185Z"
   },
   {
    "duration": 8,
    "start_time": "2022-12-09T10:17:27.200Z"
   },
   {
    "duration": 16,
    "start_time": "2022-12-09T10:17:27.209Z"
   },
   {
    "duration": 51,
    "start_time": "2022-12-09T10:17:27.227Z"
   },
   {
    "duration": 87,
    "start_time": "2022-12-09T10:17:27.280Z"
   },
   {
    "duration": 0,
    "start_time": "2022-12-09T10:17:27.368Z"
   },
   {
    "duration": 0,
    "start_time": "2022-12-09T10:17:27.370Z"
   },
   {
    "duration": 29,
    "start_time": "2022-12-09T10:17:36.356Z"
   },
   {
    "duration": 29,
    "start_time": "2022-12-09T10:17:57.829Z"
   },
   {
    "duration": 23,
    "start_time": "2022-12-09T10:18:33.662Z"
   },
   {
    "duration": 28,
    "start_time": "2022-12-09T10:18:36.758Z"
   },
   {
    "duration": 25,
    "start_time": "2022-12-09T10:18:55.102Z"
   },
   {
    "duration": 25,
    "start_time": "2022-12-09T10:19:54.272Z"
   },
   {
    "duration": 28,
    "start_time": "2022-12-09T10:20:04.680Z"
   },
   {
    "duration": 31,
    "start_time": "2022-12-09T10:20:20.320Z"
   },
   {
    "duration": 29,
    "start_time": "2022-12-09T10:22:15.018Z"
   },
   {
    "duration": 29,
    "start_time": "2022-12-09T10:22:34.193Z"
   },
   {
    "duration": 28,
    "start_time": "2022-12-09T10:22:46.969Z"
   },
   {
    "duration": 43,
    "start_time": "2022-12-09T10:23:35.257Z"
   },
   {
    "duration": 27,
    "start_time": "2022-12-09T10:24:48.616Z"
   },
   {
    "duration": 32,
    "start_time": "2022-12-09T10:56:13.391Z"
   },
   {
    "duration": 37,
    "start_time": "2022-12-09T10:56:35.367Z"
   },
   {
    "duration": 42,
    "start_time": "2022-12-09T10:58:45.803Z"
   },
   {
    "duration": 40,
    "start_time": "2022-12-09T11:00:16.923Z"
   },
   {
    "duration": 31,
    "start_time": "2022-12-09T11:01:17.732Z"
   },
   {
    "duration": 40,
    "start_time": "2022-12-09T11:01:36.133Z"
   },
   {
    "duration": 30,
    "start_time": "2022-12-09T11:01:56.621Z"
   },
   {
    "duration": 26,
    "start_time": "2022-12-09T11:07:35.266Z"
   },
   {
    "duration": 32,
    "start_time": "2022-12-09T11:08:22.578Z"
   },
   {
    "duration": 28,
    "start_time": "2022-12-09T11:09:56.915Z"
   },
   {
    "duration": 23,
    "start_time": "2022-12-09T11:10:13.419Z"
   },
   {
    "duration": 27,
    "start_time": "2022-12-09T11:11:13.356Z"
   },
   {
    "duration": 33,
    "start_time": "2022-12-09T11:12:37.789Z"
   },
   {
    "duration": 754,
    "start_time": "2022-12-09T11:12:57.582Z"
   },
   {
    "duration": 29,
    "start_time": "2022-12-09T11:13:51.800Z"
   },
   {
    "duration": 28,
    "start_time": "2022-12-09T11:13:59.759Z"
   },
   {
    "duration": 33,
    "start_time": "2022-12-09T11:15:56.225Z"
   },
   {
    "duration": 23,
    "start_time": "2022-12-09T12:22:39.717Z"
   },
   {
    "duration": 25,
    "start_time": "2022-12-09T12:22:59.677Z"
   },
   {
    "duration": 14,
    "start_time": "2022-12-09T12:53:53.172Z"
   },
   {
    "duration": 16,
    "start_time": "2022-12-09T13:01:50.983Z"
   },
   {
    "duration": 3,
    "start_time": "2022-12-09T13:08:00.488Z"
   },
   {
    "duration": 45,
    "start_time": "2022-12-12T07:06:07.035Z"
   },
   {
    "duration": 667,
    "start_time": "2022-12-12T07:08:05.661Z"
   },
   {
    "duration": 19,
    "start_time": "2022-12-12T07:08:06.330Z"
   },
   {
    "duration": 17,
    "start_time": "2022-12-12T07:08:06.350Z"
   },
   {
    "duration": 9,
    "start_time": "2022-12-12T07:08:06.369Z"
   },
   {
    "duration": 43,
    "start_time": "2022-12-12T07:08:06.379Z"
   },
   {
    "duration": 3,
    "start_time": "2022-12-12T07:08:06.423Z"
   },
   {
    "duration": 9,
    "start_time": "2022-12-12T07:08:06.428Z"
   },
   {
    "duration": 4,
    "start_time": "2022-12-12T07:08:06.438Z"
   },
   {
    "duration": 8,
    "start_time": "2022-12-12T07:08:06.443Z"
   },
   {
    "duration": 4,
    "start_time": "2022-12-12T07:08:06.454Z"
   },
   {
    "duration": 53,
    "start_time": "2022-12-12T07:08:06.459Z"
   },
   {
    "duration": 10,
    "start_time": "2022-12-12T07:08:06.513Z"
   },
   {
    "duration": 7,
    "start_time": "2022-12-12T07:08:06.524Z"
   },
   {
    "duration": 13,
    "start_time": "2022-12-12T07:08:06.532Z"
   },
   {
    "duration": 17,
    "start_time": "2022-12-12T07:08:06.547Z"
   },
   {
    "duration": 40,
    "start_time": "2022-12-12T07:08:06.566Z"
   },
   {
    "duration": 4,
    "start_time": "2022-12-12T07:08:06.608Z"
   },
   {
    "duration": 12,
    "start_time": "2022-12-12T07:08:06.614Z"
   },
   {
    "duration": 5,
    "start_time": "2022-12-12T07:08:06.628Z"
   },
   {
    "duration": 5,
    "start_time": "2022-12-12T07:08:06.635Z"
   },
   {
    "duration": 12,
    "start_time": "2022-12-12T07:08:06.642Z"
   },
   {
    "duration": 46,
    "start_time": "2022-12-12T07:08:06.655Z"
   },
   {
    "duration": 24,
    "start_time": "2022-12-12T07:08:06.702Z"
   },
   {
    "duration": 20,
    "start_time": "2022-12-12T07:08:06.728Z"
   },
   {
    "duration": 22,
    "start_time": "2022-12-12T07:08:06.749Z"
   },
   {
    "duration": 48,
    "start_time": "2022-12-12T07:08:06.773Z"
   },
   {
    "duration": 25,
    "start_time": "2022-12-12T07:08:17.400Z"
   },
   {
    "duration": 26,
    "start_time": "2022-12-12T07:09:24.411Z"
   },
   {
    "duration": 25,
    "start_time": "2022-12-12T07:10:31.867Z"
   },
   {
    "duration": 84,
    "start_time": "2022-12-12T07:11:33.075Z"
   },
   {
    "duration": 468,
    "start_time": "2022-12-12T07:11:54.150Z"
   },
   {
    "duration": 26,
    "start_time": "2022-12-12T07:11:54.620Z"
   },
   {
    "duration": 19,
    "start_time": "2022-12-12T07:11:54.648Z"
   },
   {
    "duration": 12,
    "start_time": "2022-12-12T07:11:54.669Z"
   },
   {
    "duration": 45,
    "start_time": "2022-12-12T07:11:54.698Z"
   },
   {
    "duration": 4,
    "start_time": "2022-12-12T07:11:54.745Z"
   },
   {
    "duration": 21,
    "start_time": "2022-12-12T07:11:54.751Z"
   },
   {
    "duration": 11,
    "start_time": "2022-12-12T07:11:54.774Z"
   },
   {
    "duration": 9,
    "start_time": "2022-12-12T07:11:54.797Z"
   },
   {
    "duration": 11,
    "start_time": "2022-12-12T07:11:54.809Z"
   },
   {
    "duration": 41,
    "start_time": "2022-12-12T07:11:54.822Z"
   },
   {
    "duration": 9,
    "start_time": "2022-12-12T07:11:54.864Z"
   },
   {
    "duration": 5,
    "start_time": "2022-12-12T07:11:54.875Z"
   },
   {
    "duration": 23,
    "start_time": "2022-12-12T07:11:54.881Z"
   },
   {
    "duration": 17,
    "start_time": "2022-12-12T07:11:54.905Z"
   },
   {
    "duration": 15,
    "start_time": "2022-12-12T07:11:54.924Z"
   },
   {
    "duration": 3,
    "start_time": "2022-12-12T07:11:54.941Z"
   },
   {
    "duration": 18,
    "start_time": "2022-12-12T07:11:54.945Z"
   },
   {
    "duration": 5,
    "start_time": "2022-12-12T07:11:54.964Z"
   },
   {
    "duration": 13,
    "start_time": "2022-12-12T07:11:54.970Z"
   },
   {
    "duration": 18,
    "start_time": "2022-12-12T07:11:54.985Z"
   },
   {
    "duration": 30,
    "start_time": "2022-12-12T07:11:55.005Z"
   },
   {
    "duration": 26,
    "start_time": "2022-12-12T07:11:55.036Z"
   },
   {
    "duration": 43,
    "start_time": "2022-12-12T07:11:55.064Z"
   },
   {
    "duration": 89,
    "start_time": "2022-12-12T07:11:55.108Z"
   },
   {
    "duration": 0,
    "start_time": "2022-12-12T07:11:55.199Z"
   },
   {
    "duration": 30,
    "start_time": "2022-12-12T07:12:05.109Z"
   },
   {
    "duration": 23,
    "start_time": "2022-12-12T07:12:29.656Z"
   },
   {
    "duration": 32,
    "start_time": "2022-12-12T07:12:54.062Z"
   },
   {
    "duration": 25,
    "start_time": "2022-12-12T07:12:59.334Z"
   },
   {
    "duration": 25,
    "start_time": "2022-12-12T07:13:09.270Z"
   },
   {
    "duration": 26,
    "start_time": "2022-12-12T07:13:16.446Z"
   },
   {
    "duration": 30,
    "start_time": "2022-12-12T07:13:24.606Z"
   },
   {
    "duration": 25,
    "start_time": "2022-12-12T07:13:41.718Z"
   },
   {
    "duration": 10,
    "start_time": "2022-12-12T07:15:52.193Z"
   },
   {
    "duration": 53,
    "start_time": "2022-12-12T07:16:46.460Z"
   },
   {
    "duration": 44,
    "start_time": "2022-12-12T07:16:57.660Z"
   },
   {
    "duration": 438,
    "start_time": "2022-12-12T07:17:06.560Z"
   },
   {
    "duration": 20,
    "start_time": "2022-12-12T07:17:07.000Z"
   },
   {
    "duration": 14,
    "start_time": "2022-12-12T07:17:07.021Z"
   },
   {
    "duration": 9,
    "start_time": "2022-12-12T07:17:07.037Z"
   },
   {
    "duration": 55,
    "start_time": "2022-12-12T07:17:07.047Z"
   },
   {
    "duration": 3,
    "start_time": "2022-12-12T07:17:07.103Z"
   },
   {
    "duration": 22,
    "start_time": "2022-12-12T07:17:07.108Z"
   },
   {
    "duration": 6,
    "start_time": "2022-12-12T07:17:07.132Z"
   },
   {
    "duration": 14,
    "start_time": "2022-12-12T07:17:07.139Z"
   },
   {
    "duration": 5,
    "start_time": "2022-12-12T07:17:07.156Z"
   },
   {
    "duration": 40,
    "start_time": "2022-12-12T07:17:07.162Z"
   },
   {
    "duration": 9,
    "start_time": "2022-12-12T07:17:07.204Z"
   },
   {
    "duration": 11,
    "start_time": "2022-12-12T07:17:07.215Z"
   },
   {
    "duration": 22,
    "start_time": "2022-12-12T07:17:07.227Z"
   },
   {
    "duration": 23,
    "start_time": "2022-12-12T07:17:07.251Z"
   },
   {
    "duration": 15,
    "start_time": "2022-12-12T07:17:07.276Z"
   },
   {
    "duration": 3,
    "start_time": "2022-12-12T07:17:07.292Z"
   },
   {
    "duration": 13,
    "start_time": "2022-12-12T07:17:07.297Z"
   },
   {
    "duration": 5,
    "start_time": "2022-12-12T07:17:07.312Z"
   },
   {
    "duration": 3,
    "start_time": "2022-12-12T07:17:07.319Z"
   },
   {
    "duration": 10,
    "start_time": "2022-12-12T07:17:07.324Z"
   },
   {
    "duration": 25,
    "start_time": "2022-12-12T07:17:07.335Z"
   },
   {
    "duration": 50,
    "start_time": "2022-12-12T07:17:07.361Z"
   },
   {
    "duration": 24,
    "start_time": "2022-12-12T07:17:07.412Z"
   },
   {
    "duration": 28,
    "start_time": "2022-12-12T07:17:07.437Z"
   },
   {
    "duration": 68,
    "start_time": "2022-12-12T07:17:07.466Z"
   },
   {
    "duration": 53,
    "start_time": "2022-12-12T07:19:37.707Z"
   },
   {
    "duration": 13,
    "start_time": "2022-12-12T07:20:11.932Z"
   },
   {
    "duration": 13,
    "start_time": "2022-12-12T07:20:54.572Z"
   },
   {
    "duration": 757,
    "start_time": "2022-12-12T08:10:01.751Z"
   },
   {
    "duration": 21,
    "start_time": "2022-12-12T08:10:02.510Z"
   },
   {
    "duration": 46,
    "start_time": "2022-12-12T08:10:02.533Z"
   },
   {
    "duration": 32,
    "start_time": "2022-12-12T08:10:02.581Z"
   },
   {
    "duration": 46,
    "start_time": "2022-12-12T08:10:02.615Z"
   },
   {
    "duration": 3,
    "start_time": "2022-12-12T08:10:02.663Z"
   },
   {
    "duration": 12,
    "start_time": "2022-12-12T08:10:02.667Z"
   },
   {
    "duration": 17,
    "start_time": "2022-12-12T08:10:02.681Z"
   },
   {
    "duration": 7,
    "start_time": "2022-12-12T08:10:02.700Z"
   },
   {
    "duration": 5,
    "start_time": "2022-12-12T08:10:02.710Z"
   },
   {
    "duration": 42,
    "start_time": "2022-12-12T08:10:02.716Z"
   },
   {
    "duration": 9,
    "start_time": "2022-12-12T08:10:02.759Z"
   },
   {
    "duration": 5,
    "start_time": "2022-12-12T08:10:02.770Z"
   },
   {
    "duration": 44,
    "start_time": "2022-12-12T08:10:02.776Z"
   },
   {
    "duration": 38,
    "start_time": "2022-12-12T08:10:02.821Z"
   },
   {
    "duration": 16,
    "start_time": "2022-12-12T08:10:02.860Z"
   },
   {
    "duration": 3,
    "start_time": "2022-12-12T08:10:02.878Z"
   },
   {
    "duration": 20,
    "start_time": "2022-12-12T08:10:02.883Z"
   },
   {
    "duration": 6,
    "start_time": "2022-12-12T08:10:02.905Z"
   },
   {
    "duration": 4,
    "start_time": "2022-12-12T08:10:02.913Z"
   },
   {
    "duration": 17,
    "start_time": "2022-12-12T08:10:02.918Z"
   },
   {
    "duration": 49,
    "start_time": "2022-12-12T08:10:02.936Z"
   },
   {
    "duration": 25,
    "start_time": "2022-12-12T08:10:02.987Z"
   },
   {
    "duration": 32,
    "start_time": "2022-12-12T08:10:03.014Z"
   },
   {
    "duration": 26,
    "start_time": "2022-12-12T08:10:03.048Z"
   },
   {
    "duration": 31,
    "start_time": "2022-12-12T08:10:03.076Z"
   },
   {
    "duration": 49,
    "start_time": "2022-12-12T11:51:55.331Z"
   },
   {
    "duration": 538,
    "start_time": "2022-12-12T11:52:04.481Z"
   },
   {
    "duration": 25,
    "start_time": "2022-12-12T11:52:05.021Z"
   },
   {
    "duration": 18,
    "start_time": "2022-12-12T11:52:05.048Z"
   },
   {
    "duration": 13,
    "start_time": "2022-12-12T11:52:05.068Z"
   },
   {
    "duration": 33,
    "start_time": "2022-12-12T11:52:05.083Z"
   },
   {
    "duration": 4,
    "start_time": "2022-12-12T11:52:05.118Z"
   },
   {
    "duration": 14,
    "start_time": "2022-12-12T11:52:05.124Z"
   },
   {
    "duration": 9,
    "start_time": "2022-12-12T11:52:05.139Z"
   },
   {
    "duration": 17,
    "start_time": "2022-12-12T11:52:05.149Z"
   },
   {
    "duration": 5,
    "start_time": "2022-12-12T11:52:05.179Z"
   },
   {
    "duration": 35,
    "start_time": "2022-12-12T11:52:05.185Z"
   },
   {
    "duration": 9,
    "start_time": "2022-12-12T11:52:05.222Z"
   },
   {
    "duration": 5,
    "start_time": "2022-12-12T11:52:05.233Z"
   },
   {
    "duration": 24,
    "start_time": "2022-12-12T11:52:05.240Z"
   },
   {
    "duration": 28,
    "start_time": "2022-12-12T11:52:05.266Z"
   },
   {
    "duration": 17,
    "start_time": "2022-12-12T11:52:05.295Z"
   },
   {
    "duration": 3,
    "start_time": "2022-12-12T11:52:05.314Z"
   },
   {
    "duration": 16,
    "start_time": "2022-12-12T11:52:05.318Z"
   },
   {
    "duration": 19,
    "start_time": "2022-12-12T11:52:05.336Z"
   },
   {
    "duration": 4,
    "start_time": "2022-12-12T11:52:05.356Z"
   },
   {
    "duration": 17,
    "start_time": "2022-12-12T11:52:05.362Z"
   },
   {
    "duration": 48,
    "start_time": "2022-12-12T11:52:05.381Z"
   },
   {
    "duration": 30,
    "start_time": "2022-12-12T11:52:05.431Z"
   },
   {
    "duration": 27,
    "start_time": "2022-12-12T11:52:05.463Z"
   },
   {
    "duration": 30,
    "start_time": "2022-12-12T11:52:05.491Z"
   },
   {
    "duration": 11,
    "start_time": "2022-12-12T11:52:05.523Z"
   },
   {
    "duration": 30,
    "start_time": "2022-12-12T11:52:31.795Z"
   },
   {
    "duration": 32,
    "start_time": "2022-12-12T11:52:45.292Z"
   },
   {
    "duration": 12,
    "start_time": "2022-12-12T11:53:12.316Z"
   },
   {
    "duration": 19,
    "start_time": "2022-12-12T11:54:14.229Z"
   },
   {
    "duration": 56,
    "start_time": "2022-12-12T12:06:21.553Z"
   },
   {
    "duration": 75,
    "start_time": "2022-12-12T12:08:22.090Z"
   },
   {
    "duration": 69,
    "start_time": "2022-12-12T12:09:01.706Z"
   },
   {
    "duration": 8,
    "start_time": "2022-12-12T12:09:32.732Z"
   },
   {
    "duration": 71,
    "start_time": "2022-12-12T13:41:24.391Z"
   }
  ],
  "colab": {
   "name": "dpp_template_part2.ipynb",
   "provenance": []
  },
  "kernelspec": {
   "display_name": "Python 3 (ipykernel)",
   "language": "python",
   "name": "python3"
  },
  "language_info": {
   "codemirror_mode": {
    "name": "ipython",
    "version": 3
   },
   "file_extension": ".py",
   "mimetype": "text/x-python",
   "name": "python",
   "nbconvert_exporter": "python",
   "pygments_lexer": "ipython3",
   "version": "3.9.5"
  },
  "toc": {
   "base_numbering": 1,
   "nav_menu": {},
   "number_sections": true,
   "sideBar": true,
   "skip_h1_title": true,
   "title_cell": "Table of Contents",
   "title_sidebar": "Contents",
   "toc_cell": false,
   "toc_position": {},
   "toc_section_display": true,
   "toc_window_display": false
  }
 },
 "nbformat": 4,
 "nbformat_minor": 5
}
