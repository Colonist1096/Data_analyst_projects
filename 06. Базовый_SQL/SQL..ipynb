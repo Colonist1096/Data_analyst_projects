{
 "cells": [
  {
   "cell_type": "markdown",
   "id": "96f4e562",
   "metadata": {},
   "source": [
    "# \"Исследование данных об инвестиции венчурных фондов в компании-стартапы.\""
   ]
  },
  {
   "cell_type": "markdown",
   "id": "2fb9bf25",
   "metadata": {},
   "source": [
    "1. Посчитайте, сколько компаний закрылось."
   ]
  },
  {
   "cell_type": "code",
   "execution_count": null,
   "id": "20a3e2f7",
   "metadata": {},
   "outputs": [],
   "source": [
    "SELECT COUNT(status) AS company_closed\n",
    "FROM company\n",
    "WHERE status = 'closed';\n",
    "\n",
    "Результат:\n",
    "2584"
   ]
  },
  {
   "cell_type": "markdown",
   "id": "028bb5a7",
   "metadata": {},
   "source": [
    "2. Отобразите количество привлечённых средств для новостных компаний США. Используйте данные из таблицы company. Отсортируйте таблицу по убыванию значений в поле funding_total."
   ]
  },
  {
   "cell_type": "code",
   "execution_count": null,
   "id": "db2830e5",
   "metadata": {},
   "outputs": [],
   "source": [
    "SELECT funding_total\n",
    "FROM company\n",
    "WHERE country_code = 'USA'\n",
    "    AND category_code = 'news' \n",
    "ORDER BY funding_total DESC;\n",
    "\n",
    "Результат:\n",
    "6.22553e+08\n",
    "2.5e+08\n",
    "1.605e+08\n",
    "1.28e+08\n",
    "1.265e+08"
   ]
  },
  {
   "cell_type": "markdown",
   "id": "d9d0c8a2",
   "metadata": {},
   "source": [
    "3. Найдите общую сумму сделок по покупке одних компаний другими в долларах. Отберите сделки, которые осуществлялись только за наличные с 2011 по 2013 год включительно."
   ]
  },
  {
   "cell_type": "code",
   "execution_count": null,
   "id": "344cc93f",
   "metadata": {},
   "outputs": [],
   "source": [
    "SELECT SUM(price_amount)\n",
    "FROM acquisition\n",
    "WHERE term_code = 'cash'\n",
    "      AND EXTRACT(YEAR FROM CAST (acquired_at AS date)) BETWEEN '2011' AND '2013'\n",
    "\n",
    "Результат:\n",
    "1.37762e+11"
   ]
  },
  {
   "cell_type": "markdown",
   "id": "ff952054",
   "metadata": {},
   "source": [
    "4. Отобразите имя, фамилию и названия аккаунтов людей в твиттере, у которых названия аккаунтов начинаются на 'Silver'."
   ]
  },
  {
   "cell_type": "code",
   "execution_count": null,
   "id": "6f4f057c",
   "metadata": {},
   "outputs": [],
   "source": [
    "SELECT first_name,\n",
    "       last_name,\n",
    "       twitter_username\n",
    "FROM people\n",
    "WHERE twitter_username LIKE 'Silver%'\n",
    "\n",
    "Результат:\n",
    "first_name last_name twitter_username\n",
    "Rebecca    Silver    SilverRebecca\n",
    "Silver     Teede     SilverMatrixx\n",
    "Mattias    Guilotte  Silverreven"
   ]
  },
  {
   "cell_type": "markdown",
   "id": "119f7e63",
   "metadata": {},
   "source": [
    "5. Выведите на экран всю информацию о людях, у которых названия аккаунтов в твиттере содержат подстроку 'money', а фамилия начинается на 'K'."
   ]
  },
  {
   "cell_type": "code",
   "execution_count": null,
   "id": "f4a44cc7",
   "metadata": {},
   "outputs": [],
   "source": [
    "SELECT *\n",
    "FROM people\n",
    "WHERE last_name LIKE 'K%' AND twitter_username LIKE '%money%'\n",
    "\n",
    "Результат:\n",
    "id    first_name last_name company_id twitter_username created_at updated_at\n",
    "63081 Gregory    Kim                   gmoney75        2010-07-13 2011-12-12\n",
    "                                                       03:46:28   22:01:34                                       "
   ]
  },
  {
   "cell_type": "markdown",
   "id": "ee59081b",
   "metadata": {},
   "source": [
    "6. Для каждой страны отобразите общую сумму привлечённых инвестиций, которые получили компании, зарегистрированные в этой стране. Страну, в которой зарегистрирована компания, можно определить по коду страны. Отсортируйте данные по убыванию суммы."
   ]
  },
  {
   "cell_type": "code",
   "execution_count": null,
   "id": "7890f56e",
   "metadata": {},
   "outputs": [],
   "source": [
    "SELECT country_code,\n",
    "       SUM(funding_total)\n",
    "FROM company\n",
    "GROUP BY country_code\n",
    "ORDER BY SUM(funding_total) DESC\n",
    "\n",
    "Результат:\n",
    "country_code sum\n",
    "USA          3.10588e+11\n",
    "GBR          1.77056e+10\n",
    "             1.08559e+10\n",
    "CHN          1.06897e+10\n",
    "CAN          9.86636e+09\n",
    "IND          6.14141e+09\n",
    "DEU          5.76577e+09\n",
    "FRA          4.59514e+09\n",
    "ISR          4.48009e+09\n",
    "CHE          2.82925e+09\n",
    "NLD          2.35397e+09\n",
    "RUS          2.29394e+09\n",
    "ESP          2.13734e+09\n",
    "IRL          2.08067e+09\n",
    "AUS          1.67241e+09\n",
    "JPN          1.62262e+09\n",
    "SWE          1.60811e+09\n",
    "MYS          1.52436e+09\n",
    "LUX          1.11175e+09\n",
    "BRA          1.1036e+09\n",
    "DNK          1.09057e+09\n",
    "BEL          1.07745e+09\n",
    "FIN          1.05192e+09\n",
    "SGP          8.22763e+08\n",
    "NOR          7.85523e+08\n",
    "BMU          7.51666e+08\n",
    "ITA          6.24829e+08\n",
    "TWN          5.47836e+08\n",
    "CZE          5.42211e+08\n",
    "AUT          5.40677e+08\n",
    "NZL          5.29353e+08"
   ]
  },
  {
   "cell_type": "markdown",
   "id": "115d5ab9",
   "metadata": {},
   "source": [
    "7. Составьте таблицу, в которую войдёт дата проведения раунда, а также минимальное и максимальное значения суммы инвестиций, привлечённых в эту дату.\n",
    "Оставьте в итоговой таблице только те записи, в которых минимальное значение суммы инвестиций не равно нулю и не равно максимальному значению."
   ]
  },
  {
   "cell_type": "code",
   "execution_count": null,
   "id": "b86ff847",
   "metadata": {},
   "outputs": [],
   "source": [
    "SELECT funded_at,\n",
    "       MAX(raised_amount),\n",
    "       MIN(raised_amount)\n",
    "FROM funding_round\n",
    "GROUP BY funded_at\n",
    "HAVING MIN(raised_amount) != 0 AND MIN(raised_amount) != MAX(raised_amount)\n",
    "\n",
    "Результат:\n",
    "funded_at    max         min\n",
    "2012-08-22   7.5e+07     40000\n",
    "2010-07-25   9e+06       3.27825e+06\n",
    "2002-03-01   8.95915e+06 2.84418e+06\n",
    "2010-10-11   2e+08       28000\n",
    "2007-01-18   2.3e+07     5.5e+06\n",
    "2007-02-27   3.6e+07     1.29e+06\n",
    "2006-01-05   2.65e+07    8.9e+06\n",
    "2011-10-31   2.5e+07     35000\n",
    "2012-10-27   9.3e+06     500000\n",
    "2007-08-16   9e+06       2.51989e+06"
   ]
  },
  {
   "cell_type": "markdown",
   "id": "1cc73382",
   "metadata": {},
   "source": [
    "8. Создайте поле с категориями:\n",
    "- Для фондов, которые инвестируют в 100 и более компаний, назначьте категорию \"high_activity\".\n",
    "- Для фондов, которые инвестируют в 20 и более компаний до 100, назначьте категорию \"middle_activity\".\n",
    "- Если количество инвестируемых компаний фонда не достигает 20, назначьте категорию \"low_activity\".<br>\n",
    "Отобразите все поля таблицы fund и новое поле с категориями."
   ]
  },
  {
   "cell_type": "code",
   "execution_count": null,
   "id": "376025a1",
   "metadata": {},
   "outputs": [],
   "source": [
    "SELECT *,\n",
    "CASE\n",
    "    WHEN invested_companies >= 100 THEN 'high_activity'\n",
    "    WHEN invested_companies >= 20 AND invested_companies < 100 THEN 'middle_activity'\n",
    "    WHEN invested_companies < 20 THEN 'low_activity'\n",
    "    END\n",
    "FROM fund;\n",
    "\n",
    "Результат:\n",
    "id    name             founded_at  domain      twitter_username  country_code  investment_rounds  invested_companies  milestones сreated_at          updated_at          case\n",
    "13131                                                                          0                  0                   0          2013-08-19 18:46:55 2013-08-19 19:55:07 low_activity\n",
    "1    Greylock Partners 1965-01-01 greylock.com greylockvc        USA           307                196                 0          2007-05-25 20:18:23 2012-12-27 00:42:24 high_activity"
   ]
  },
  {
   "cell_type": "markdown",
   "id": "c70727b6",
   "metadata": {},
   "source": [
    "9. Для каждой из категорий, назначенных в предыдущем задании, посчитайте округлённое до ближайшего целого числа среднее количество инвестиционных раундов, в которых фонд принимал участие. Выведите на экран категории и среднее число инвестиционных раундов. Отсортируйте таблицу по возрастанию среднего."
   ]
  },
  {
   "cell_type": "code",
   "execution_count": null,
   "id": "e5f10a93",
   "metadata": {},
   "outputs": [],
   "source": [
    "SELECT\n",
    "       CASE\n",
    "           WHEN invested_companies>=100 THEN 'high_activity'\n",
    "           WHEN invested_companies>=20 THEN 'middle_activity'\n",
    "           ELSE 'low_activity'\n",
    "       END AS activity,\n",
    "       ROUND(AVG(investment_rounds))\n",
    "FROM fund\n",
    "GROUP BY activity\n",
    "ORDER BY AVG(investment_rounds);\n",
    "\n",
    "Результат:\n",
    "activity        round\n",
    "low_activity    2\n",
    "middle_activity 51\n",
    "high_activity   252"
   ]
  },
  {
   "cell_type": "markdown",
   "id": "d3034677",
   "metadata": {},
   "source": [
    "10. Проанализируйте, в каких странах находятся фонды, которые чаще всего инвестируют в стартапы. \n",
    "Для каждой страны посчитайте минимальное, максимальное и среднее число компаний, в которые инвестировали фонды этой страны, основанные с 2010 по 2012 год включительно. Исключите страны с фондами, у которых минимальное число компаний, получивших инвестиции, равно нулю. \n",
    "Выгрузите десять самых активных стран-инвесторов: отсортируйте таблицу по среднему количеству компаний от большего к меньшему. Затем добавьте сортировку по коду страны в лексикографическом порядке."
   ]
  },
  {
   "cell_type": "code",
   "execution_count": null,
   "id": "cf48fd9a",
   "metadata": {},
   "outputs": [],
   "source": [
    "SELECT country_code,\n",
    "       MIN(invested_companies),\n",
    "       MAX(invested_companies),\n",
    "       AVG(invested_companies)\n",
    "FROM fund\n",
    "WHERE EXTRACT(YEAR FROM CAST (founded_at AS date)) BETWEEN '2010' AND '2012'\n",
    "GROUP BY country_code\n",
    "HAVING MIN(invested_companies) > 0\n",
    "ORDER BY AVG(invested_companies) DESC\n",
    "LIMIT 10;\n",
    "\n",
    "Результат:\n",
    "country_code min max avg\n",
    "BGR          25  35  30\n",
    "CHL          29  29  29\n",
    "UKR          8   10  9\n",
    "LTU          5   5   5\n",
    "IRL          4   5   4.5\n",
    "KEN          3   3   3\n",
    "LBN          3   3   3\n",
    "MUS          3   3   3\n",
    "JPN          1   6   2.83333\n",
    "HKG          2   3   2.66667"
   ]
  },
  {
   "cell_type": "markdown",
   "id": "8de5afe1",
   "metadata": {},
   "source": [
    "11. Отобразите имя и фамилию всех сотрудников стартапов. Добавьте поле с названием учебного заведения, которое окончил сотрудник, если эта информация известна."
   ]
  },
  {
   "cell_type": "code",
   "execution_count": null,
   "id": "13395c76",
   "metadata": {},
   "outputs": [],
   "source": [
    "SELECT p.first_name,\n",
    "       p.last_name,\n",
    "       e.instituition\n",
    "FROM people AS p\n",
    "LEFT OUTER JOIN education AS e ON p.id = e.person_id\n",
    "\n",
    "Результат:\n",
    "first_name last_name     instituition\n",
    "John       Green         Washington University, St. Louis\n",
    "John       Green         Boston University\n",
    "David      Peters        Rice University\n",
    "Dan        Birdwhistell  University of Cambridge\n",
    "Gal        Cohen         Tel Aviv University\n",
    "Chris      Treadaway     University of Texas\n",
    "Chris      Treadaway     Louisiana State University\n",
    "Sam        Lessin        Harvard University\n",
    "Guy        Levy-Yurista  University of Pennsylvania - The Wharton School\n",
    "James M.   Butler        University of Maryland"
   ]
  },
  {
   "cell_type": "markdown",
   "id": "146337ac",
   "metadata": {},
   "source": [
    "12. Для каждой компании найдите количество учебных заведений, которые окончили её сотрудники. Выведите название компании и число уникальных названий учебных заведений. Составьте топ-5 компаний по количеству университетов."
   ]
  },
  {
   "cell_type": "code",
   "execution_count": null,
   "id": "c89d4952",
   "metadata": {},
   "outputs": [],
   "source": [
    "SELECT c.name,\n",
    "       COUNT(DISTINCT e.instituition) AS inst\n",
    "FROM education AS e\n",
    "LEFT OUTER JOIN people AS p ON e.person_id = p.id\n",
    "LEFT OUTER JOIN company AS c ON p.company_id = c.id\n",
    "WHERE c.name IS NOT NULL\n",
    "GROUP BY c.name\n",
    "ORDER BY inst DESC\n",
    "LIMIT 5;\n",
    "\n",
    "Результат:\n",
    "name               inst\n",
    "Google             167\n",
    "Yahoo!             115\n",
    "Microsoft          111\n",
    "Knight Foundation  74\n",
    "Comcast            66"
   ]
  },
  {
   "cell_type": "markdown",
   "id": "36a67052",
   "metadata": {},
   "source": [
    "13. Составьте список с уникальными названиями закрытых компаний, для которых первый раунд финансирования оказался последним."
   ]
  },
  {
   "cell_type": "code",
   "execution_count": null,
   "id": "725ac5a6",
   "metadata": {},
   "outputs": [],
   "source": [
    "SELECT DISTINCT name\n",
    "FROM company\n",
    "WHERE id IN (SELECT c.id\n",
    "                    FROM company AS c\n",
    "                    JOIN funding_round AS fr ON c.id = fr.company_id AND (is_first_round = 1 AND is_last_round = 1))\n",
    "      AND status = 'closed';\n",
    "    \n",
    "Результат:\n",
    "name\n",
    "10BestThings\n",
    "11i Solutions\n",
    "169 ST.\n",
    "1bib\n",
    "1Cast\n",
    "1DayMakeover\n",
    "25eight\n",
    "27 Perry\n",
    "2Win-Solutions\n",
    "3Touch"
   ]
  },
  {
   "cell_type": "markdown",
   "id": "7509f3d8",
   "metadata": {},
   "source": [
    "14. Составьте список уникальных номеров сотрудников, которые работают в компаниях, отобранных в предыдущем задании."
   ]
  },
  {
   "cell_type": "code",
   "execution_count": null,
   "id": "9f59a984",
   "metadata": {},
   "outputs": [],
   "source": [
    "SELECT id\n",
    "FROM people\n",
    "WHERE company_id IN (SELECT id\n",
    "                     FROM company\n",
    "                     WHERE status = 'closed')\n",
    "      AND company_id IN (SELECT c.id\n",
    "                     FROM company AS c\n",
    "                     JOIN funding_round AS fr ON c.id = fr.company_id AND (is_first_round = 1 AND is_last_round = 1));\n",
    "\n",
    "Результат:\n",
    "id\n",
    "100690\n",
    "10000\n",
    "10053\n",
    "101946\n",
    "102421\n",
    "102056\n",
    "102997\n",
    "10347\n",
    "103086\n",
    "1036"
   ]
  },
  {
   "cell_type": "markdown",
   "id": "92b6b764",
   "metadata": {},
   "source": [
    "15. Составьте таблицу, куда войдут уникальные пары с номерами сотрудников из предыдущей задачи и учебным заведением, которое окончил сотрудник."
   ]
  },
  {
   "cell_type": "code",
   "execution_count": null,
   "id": "ff38611d",
   "metadata": {},
   "outputs": [],
   "source": [
    "SELECT DISTINCT p.id,\n",
    "       e.instituition\n",
    "FROM people AS p JOIN education AS e ON p.id = e.person_id\n",
    "WHERE company_id IN (SELECT id\n",
    "                     FROM company\n",
    "                     WHERE status = 'closed')\n",
    "      AND company_id IN (SELECT c.id\n",
    "                     FROM company AS c\n",
    "                     JOIN funding_round AS fr ON c.id = fr.company_id AND (is_first_round = 1 AND is_last_round = 1));\n",
    "    \n",
    "Результат:\n",
    "id    instituition\n",
    "349   AKI\n",
    "349   ArtEZ Hogeschool voor de Kunsten\n",
    "349   Rijks Akademie\n",
    "699   Imperial College\n",
    "779   Harvard University\n",
    "779   Stanford University\n",
    "968   University of Notre Dame\n",
    "972   The University of Texas at Austin\n",
    "1107  CDI, Sydney\n",
    "1444  Brown University"
   ]
  },
  {
   "cell_type": "markdown",
   "id": "dcf2787e",
   "metadata": {},
   "source": [
    "16. Посчитайте количество учебных заведений для каждого сотрудника из предыдущего задания. При подсчёте учитывайте, что некоторые сотрудники могли окончить одно и то же заведение дважды."
   ]
  },
  {
   "cell_type": "code",
   "execution_count": null,
   "id": "af89c4a6",
   "metadata": {},
   "outputs": [],
   "source": [
    "SELECT DISTINCT p.id,\n",
    "       COUNT(e.instituition)\n",
    "FROM people AS p JOIN education AS e ON p.id = e.person_id\n",
    "WHERE company_id IN (SELECT id\n",
    "                     FROM company\n",
    "                     WHERE status = 'closed')\n",
    "      AND company_id IN (SELECT c.id\n",
    "                     FROM company AS c\n",
    "                     JOIN funding_round AS fr ON c.id = fr.company_id AND                              (is_first_round = 1 AND is_last_round = 1))\n",
    "GROUP BY p.id;\n",
    "\n",
    "Результат:\n",
    "id    count\n",
    "349   3\n",
    "699   1\n",
    "779   2\n",
    "968   1\n",
    "972   1\n",
    "1107  1\n",
    "1444  2\n",
    "1833  1\n",
    "1911  1\n",
    "2008  2"
   ]
  },
  {
   "cell_type": "markdown",
   "id": "9038916b",
   "metadata": {},
   "source": [
    "17. Дополните предыдущий запрос и выведите среднее число учебных заведений (всех, не только уникальных), которые окончили сотрудники разных компаний. Нужно вывести только одну запись, группировка здесь не понадобится."
   ]
  },
  {
   "cell_type": "code",
   "execution_count": null,
   "id": "54dc1cb6",
   "metadata": {},
   "outputs": [],
   "source": [
    "WITH company_instituition AS (\n",
    "SELECT p.id, COUNT(instituition) as count_inst\n",
    "FROM education e \n",
    "       JOIN people p ON e.person_id = p.id\n",
    "       JOIN company c ON c.id = p.company_id\n",
    "WHERE company_id IN (SELECT id\n",
    "                     FROM company \n",
    "                     WHERE id IN (SELECT company_id\n",
    "                                  FROM funding_round\n",
    "                                  WHERE is_first_round = 1 AND is_last_round =1)\n",
    "                                  AND status = 'closed')   \n",
    "GROUP BY p.id\n",
    ")\n",
    "SELECT SUM(count_inst)/COUNT(id) as avg_inst\n",
    "FROM company_instituition\n",
    "\n",
    "Результат:\n",
    "avg_inst\n",
    "1.41509"
   ]
  },
  {
   "cell_type": "markdown",
   "id": "aa347cc6",
   "metadata": {},
   "source": [
    "18. Напишите похожий запрос: выведите среднее число учебных заведений (всех, не только уникальных), которые окончили сотрудники Facebook*.\n",
    "*(сервис, запрещённый на территории РФ)"
   ]
  },
  {
   "cell_type": "code",
   "execution_count": null,
   "id": "2275eb49",
   "metadata": {},
   "outputs": [],
   "source": [
    "WITH company_instituition AS (\n",
    "SELECT p.id, c.name ,COUNT(instituition) as count_inst\n",
    "FROM education e \n",
    "       JOIN people p ON e.person_id = p.id\n",
    "       JOIN company c ON c.id = p.company_id\n",
    "WHERE c.name='Facebook'       \n",
    "GROUP BY c.name , p.id\n",
    ")\n",
    "SELECT SUM(count_inst)/COUNT(id) as avg_inst\n",
    "FROM company_instituition\n",
    "\n",
    "Результат:\n",
    "avg_inst\n",
    "1.51111"
   ]
  },
  {
   "cell_type": "markdown",
   "id": "817ca72c",
   "metadata": {},
   "source": [
    "19. Составьте таблицу из полей:\n",
    "- name_of_fund — название фонда;\n",
    "- name_of_company — название компании;\n",
    "- amount — сумма инвестиций, которую привлекла компания в раунде.<br>\n",
    "В таблицу войдут данные о компаниях, в истории которых было больше шести важных этапов, а раунды финансирования проходили с 2012 по 2013 год включительно."
   ]
  },
  {
   "cell_type": "code",
   "execution_count": null,
   "id": "ad5edeaa",
   "metadata": {},
   "outputs": [],
   "source": [
    "SELECT fu.name AS name_of_fund,\n",
    "       co.name AS name_of_company,\n",
    "     fr.raised_amount AS amount\n",
    "FROM investment i\n",
    "   JOIN fund fu ON i.fund_id=fu.id\n",
    "     JOIN company co ON i.company_id=co.id\n",
    "         JOIN funding_round fr on i.funding_round_id=fr.id\n",
    "WHERE EXTRACT(YEAR FROM fr.funded_at) in (2012,2013)  AND  co.milestones>6\n",
    "\n",
    "Результат:\n",
    "name_of_fund        name_of_company        amount\n",
    "SAP Ventures        OpenX                  2.50112e+07\n",
    "Samsung Ventures    OpenX                  2.50112e+07\n",
    "Index Ventures      OpenX                  2.50112e+07\n",
    "Presidio Ventures   OpenX                  2.50112e+07\n",
    "DAG Ventures        Gigya                  2.5e+07"
   ]
  },
  {
   "cell_type": "markdown",
   "id": "e3d6795b",
   "metadata": {},
   "source": [
    "20. Выгрузите таблицу, в которой будут такие поля:\n",
    "- название компании-покупателя;\n",
    "- сумма сделки;\n",
    "- название компании, которую купили;\n",
    "- сумма инвестиций, вложенных в купленную компанию;\n",
    "- доля, которая отображает, во сколько раз сумма покупки превысила сумму вложенных в компанию инвестиций, округлённая до ближайшего целого числа.<br>\n",
    "Не учитывайте те сделки, в которых сумма покупки равна нулю. Если сумма инвестиций в компанию равна нулю, исключите такую компанию из таблицы.<br>\n",
    "Отсортируйте таблицу по сумме сделки от большей к меньшей, а затем по названию купленной компании в лексикографическом порядке. Ограничьте таблицу первыми десятью записями."
   ]
  },
  {
   "cell_type": "code",
   "execution_count": null,
   "id": "61949939",
   "metadata": {},
   "outputs": [],
   "source": [
    "WITH company_buyer  AS (\n",
    "SELECT c.name as company_buyer,\n",
    "       a.price_amount as sum_buyer,\n",
    "       a.id \n",
    "FROM acquisition AS a \n",
    "     JOIN company c ON c.id = a.acquiring_company_id\n",
    "WHERE  a.price_amount != 0),\n",
    "       company_seller AS (\n",
    "       SELECT a.id,\n",
    "              c.name AS company_seller,\n",
    "              funding_total AS sum_invest\n",
    "       FROM acquisition AS a \n",
    "            JOIN company c ON c.id = a.acquired_company_id\n",
    "       WHERE funding_total != 0)\n",
    "    \n",
    "Результат:\n",
    "company_buyer           sum_buyer            company_seller        sum_invest        part\n",
    "Microsoft               8.5e+09              Skype                 7.6805e+07        111\n",
    "Scout Labs              4.9e+09              Varian Semiconductor  4.8e+06           1021\n",
    "                                             Equipment Associates  \n",
    "Broadcom                3.7e+09              Aeluros               7.97e+06          464\n",
    "Broadcom                3.7e+09              NetLogic Microsystems 1.88527e+08       20\n",
    "Level 3 Communications  3e+09                Global Crossing       4.1e+07           73"
   ]
  },
  {
   "cell_type": "markdown",
   "id": "c8d95623",
   "metadata": {},
   "source": [
    "21. Выгрузите таблицу, в которую войдут названия компаний из категории social, получившие финансирование с 2010 по 2013 год включительно. Проверьте, что сумма инвестиций не равна нулю. Выведите также номер месяца, в котором проходил раунд финансирования."
   ]
  },
  {
   "cell_type": "code",
   "execution_count": null,
   "id": "c579427f",
   "metadata": {},
   "outputs": [],
   "source": [
    "SELECT c.name AS category_name,\n",
    "       EXTRACT(MONTH FROM CAST(fr.funded_at AS date)) AS fr_month     \n",
    "FROM funding_round AS fr LEFT JOIN company AS c ON fr.company_id = c.id\n",
    "WHERE EXTRACT(YEAR FROM cast(fr.funded_at AS date)) BETWEEN '2010' AND '2013'\n",
    "     AND c.category_code = 'social'\n",
    "     AND fr.raised_amount != 0;\n",
    "        \n",
    "Результат:\n",
    "category_name        fr_month\n",
    "Klout                1\n",
    "WorkSimple           3\n",
    "HengZhi              1\n",
    "Twitter              1\n",
    "SocialGO             1\n",
    "ThisNext             1\n",
    "Tagged               1\n",
    "LikeMe.Net           2\n",
    "Busuu                10\n",
    "NetBase Solutions    3"
   ]
  },
  {
   "cell_type": "markdown",
   "id": "ad039ffd",
   "metadata": {},
   "source": [
    "22. Отберите данные по месяцам с 2010 по 2013 год, когда проходили инвестиционные раунды. Сгруппируйте данные по номеру месяца и получите таблицу, в которой будут поля:\n",
    "- номер месяца, в котором проходили раунды;\n",
    "- количество уникальных названий фондов из США, которые инвестировали в этом месяце;\n",
    "- количество компаний, купленных за этот месяц;\n",
    "- общая сумма сделок по покупкам в этом месяце."
   ]
  },
  {
   "cell_type": "code",
   "execution_count": null,
   "id": "d455f4aa",
   "metadata": {},
   "outputs": [],
   "source": [
    "WITH table_1 AS\n",
    "  (SELECT EXTRACT(MONTH\n",
    "                  FROM fr.funded_at) AS month_1,\n",
    "          COUNT(DISTINCT f.name) AS uniq\n",
    "   FROM funding_round AS fr\n",
    "   LEFT JOIN investment AS i ON fr.id = i.funding_round_id\n",
    "   LEFT JOIN fund AS f ON f.id = i.fund_id\n",
    "   WHERE EXTRACT(YEAR\n",
    "                 FROM fr.funded_at) BETWEEN 2010 AND 2013\n",
    "     AND f.country_code = 'USA'\n",
    "   GROUP BY month_1),\n",
    "     table_2 AS\n",
    "  (SELECT EXTRACT(MONTH\n",
    "                  FROM a.acquired_at) AS month_2,\n",
    "          COUNT(a.acquired_company_id) AS comp,\n",
    "          SUM(a.price_amount) AS summa\n",
    "   FROM acquisition AS a\n",
    "   WHERE EXTRACT(YEAR\n",
    "                 FROM a.acquired_at) BETWEEN 2010 AND 2013\n",
    "   GROUP BY month_2)\n",
    "SELECT table_1.month_1,\n",
    "       table_1.uniq,\n",
    "       table_2.comp,\n",
    "       table_2.summa\n",
    "FROM table_1\n",
    "JOIN table_2 ON table_1.month_1 = table_2.month_2\n",
    "\n",
    "Результат:\n",
    "month_1    uniq    comp    summa\n",
    "1          815     600     2.71083e+10\n",
    "2          637     418     4.13903e+10\n",
    "3          695     458     5.95016e+10\n",
    "4          718     411     3.03837e+10\n",
    "5          695     532     8.60122e+10\n",
    "6          785     525     5.20883e+10\n",
    "7          803     488     4.98541e+10\n",
    "8          726     454     7.77093e+10\n",
    "9          793     491     6.97409e+10\n",
    "10         764     473     4.85567e+10"
   ]
  },
  {
   "cell_type": "markdown",
   "id": "fe24cad7",
   "metadata": {},
   "source": [
    "23. Составьте сводную таблицу и выведите среднюю сумму инвестиций для стран, в которых есть стартапы, зарегистрированные в 2011, 2012 и 2013 годах. Данные за каждый год должны быть в отдельном поле. Отсортируйте таблицу по среднему значению инвестиций за 2011 год от большего к меньшему."
   ]
  },
  {
   "cell_type": "code",
   "execution_count": null,
   "id": "070054a8",
   "metadata": {},
   "outputs": [],
   "source": [
    "WITH\n",
    "table_1 AS (SELECT country_code,\n",
    "                   AVG(funding_total) as avg_2011\n",
    "            FROM company\n",
    "            WHERE EXTRACT(YEAR FROM founded_at) = 2011\n",
    "            GROUP BY country_code),\n",
    "table_2 AS (SELECT country_code,\n",
    "                   AVG(funding_total) as avg_2012\n",
    "            FROM company\n",
    "            WHERE EXTRACT(YEAR FROM founded_at) = 2012\n",
    "            GROUP BY country_code),\n",
    "table_3 AS (SELECT country_code,\n",
    "                   AVG(funding_total) as avg_2013\n",
    "            FROM company\n",
    "            WHERE EXTRACT(YEAR FROM founded_at) = 2013\n",
    "            GROUP BY country_code) \n",
    "            \n",
    "SELECT (table_1.country_code) as country,\n",
    "       table_1.avg_2011,\n",
    "       table_2.avg_2012,\n",
    "       table_3.avg_2013\n",
    "FROM table_1 LEFT JOIN table_2 ON table_1.country_code=table_2.country_code\n",
    "JOIN table_3 ON table_2.country_code=table_3.country_code\n",
    "ORDER BY table_1.avg_2011 DESC;\n",
    "\n",
    "Результат:\n",
    "country    avg_2011      avg_2012      avg_2013\n",
    "PER        4e+06         41000         25000\n",
    "USA        2.24396e+06   1.20671e+06   1.09336e+06\n",
    "HKG        2.18078e+06   226227        0\n",
    "PHL        1.75e+06      4218.75       2500\n",
    "ARE        1.718e+06     197222        35333.3\n",
    "JPN        1.66431e+06   674720        50000\n",
    "AUT        1.5342e+06    147806        85773.3\n",
    "BRA        1.38007e+06   240639        67944.4\n",
    "DEU        1.1288e+06    1.32915e+06   66612.7\n",
    "ISR        1.03076e+06   1.27121e+06   294022"
   ]
  }
 ],
 "metadata": {
  "ExecuteTimeLog": [
   {
    "duration": 181,
    "start_time": "2023-08-17T06:57:05.212Z"
   },
   {
    "duration": 122,
    "start_time": "2023-08-17T06:57:24.421Z"
   },
   {
    "duration": 3,
    "start_time": "2023-08-17T07:18:00.204Z"
   },
   {
    "duration": 11,
    "start_time": "2023-08-17T07:18:38.687Z"
   },
   {
    "duration": 562,
    "start_time": "2023-08-17T07:18:38.701Z"
   },
   {
    "duration": 117,
    "start_time": "2023-08-17T07:18:39.264Z"
   },
   {
    "duration": 121,
    "start_time": "2023-08-17T07:20:15.036Z"
   },
   {
    "duration": 69,
    "start_time": "2023-08-17T07:22:27.798Z"
   },
   {
    "duration": 8,
    "start_time": "2023-08-17T07:23:55.181Z"
   },
   {
    "duration": 514,
    "start_time": "2023-08-17T07:23:55.191Z"
   },
   {
    "duration": 90,
    "start_time": "2023-08-17T07:23:55.707Z"
   },
   {
    "duration": 9,
    "start_time": "2023-08-17T07:25:07.664Z"
   },
   {
    "duration": 14790,
    "start_time": "2023-08-17T07:25:07.674Z"
   },
   {
    "duration": 174,
    "start_time": "2023-08-17T07:25:22.466Z"
   },
   {
    "duration": 120,
    "start_time": "2023-08-17T08:06:26.027Z"
   }
  ],
  "kernelspec": {
   "display_name": "Python 3 (ipykernel)",
   "language": "python",
   "name": "python3"
  },
  "language_info": {
   "codemirror_mode": {
    "name": "ipython",
    "version": 3
   },
   "file_extension": ".py",
   "mimetype": "text/x-python",
   "name": "python",
   "nbconvert_exporter": "python",
   "pygments_lexer": "ipython3",
   "version": "3.9.5"
  },
  "toc": {
   "base_numbering": 1,
   "nav_menu": {},
   "number_sections": true,
   "sideBar": true,
   "skip_h1_title": true,
   "title_cell": "Table of Contents",
   "title_sidebar": "Contents",
   "toc_cell": false,
   "toc_position": {},
   "toc_section_display": true,
   "toc_window_display": false
  }
 },
 "nbformat": 4,
 "nbformat_minor": 5
}
