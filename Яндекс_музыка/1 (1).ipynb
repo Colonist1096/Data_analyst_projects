{
 "cells": [
  {
   "cell_type": "markdown",
   "metadata": {
    "deletable": false,
    "editable": false,
    "id": "E0vqbgi9ay0H"
   },
   "source": [
    "# Яндекс Музыка"
   ]
  },
  {
   "cell_type": "markdown",
   "metadata": {
    "deletable": false,
    "editable": false,
    "id": "VUC88oWjTJw2"
   },
   "source": [
    "Сравнение Москвы и Петербурга окружено мифами. Например:\n",
    " * Москва — мегаполис, подчинённый жёсткому ритму рабочей недели;\n",
    " * Петербург — культурная столица, со своими вкусами.\n",
    "\n",
    "На данных Яндекс Музыки вы сравните поведение пользователей двух столиц.\n",
    "\n",
    "**Цель исследования** — проверьте три гипотезы:\n",
    "1. Активность пользователей зависит от дня недели. Причём в Москве и Петербурге это проявляется по-разному.\n",
    "2. В понедельник утром в Москве преобладают одни жанры, а в Петербурге — другие. Так же и вечером пятницы преобладают разные жанры — в зависимости от города. \n",
    "3. Москва и Петербург предпочитают разные жанры музыки. В Москве чаще слушают поп-музыку, в Петербурге — русский рэп.\n",
    "\n",
    "**Ход исследования**\n",
    "\n",
    "Данные о поведении пользователей вы получите из файла `yandex_music_project.csv`. О качестве данных ничего не известно. Поэтому перед проверкой гипотез понадобится обзор данных. \n",
    "\n",
    "Вы проверите данные на ошибки и оцените их влияние на исследование. Затем, на этапе предобработки вы поищете возможность исправить самые критичные ошибки данных.\n",
    " \n",
    "Таким образом, исследование пройдёт в три этапа:\n",
    " 1. Обзор данных.\n",
    " 2. Предобработка данных.\n",
    " 3. Проверка гипотез.\n",
    "\n"
   ]
  },
  {
   "cell_type": "markdown",
   "metadata": {
    "deletable": false,
    "editable": false,
    "id": "Ml1hmfXC_Zcs"
   },
   "source": [
    "## Обзор данных\n",
    "\n",
    "Составьте первое представление о данных Яндекс Музыки.\n",
    "\n",
    "\n"
   ]
  },
  {
   "cell_type": "markdown",
   "metadata": {
    "deletable": false,
    "editable": false,
    "id": "57eAOGIz_Zcs",
    "tags": [
     "start_task"
    ]
   },
   "source": [
    "**Задание 1**\n",
    "\n",
    "Основной инструмент аналитика — `pandas`. Импортируйте эту библиотеку."
   ]
  },
  {
   "cell_type": "code",
   "execution_count": 1,
   "metadata": {
    "deletable": false,
    "id": "AXN7PHPN_Zcs"
   },
   "outputs": [],
   "source": [
    "import pandas as pd"
   ]
  },
  {
   "cell_type": "markdown",
   "metadata": {
    "deletable": false,
    "editable": false,
    "id": "SG23P8tt_Zcs",
    "tags": [
     "start_task"
    ]
   },
   "source": [
    "**Задание 2**\n",
    "\n",
    "Прочитайте файл `yandex_music_project.csv` из папки `/datasets` и сохраните его в переменной `df`:"
   ]
  },
  {
   "cell_type": "code",
   "execution_count": 2,
   "metadata": {
    "deletable": false,
    "id": "fFVu7vqh_Zct"
   },
   "outputs": [],
   "source": [
    "df = pd.read_csv (\"/datasets/yandex_music_project.csv\")"
   ]
  },
  {
   "cell_type": "markdown",
   "metadata": {
    "deletable": false,
    "editable": false,
    "id": "rDoOMd3uTqnZ",
    "tags": [
     "start_task"
    ]
   },
   "source": [
    "**Задание 3**\n",
    "\n",
    "\n",
    "Выведите на экран первые десять строк таблицы:"
   ]
  },
  {
   "cell_type": "code",
   "execution_count": 3,
   "metadata": {
    "deletable": false,
    "id": "oWTVX3gW_Zct"
   },
   "outputs": [
    {
     "name": "stdout",
     "output_type": "stream",
     "text": [
      "     userID                        Track            artist   genre  \\\n",
      "0  FFB692EC            Kamigata To Boots  The Mass Missile    rock   \n",
      "1  55204538  Delayed Because of Accident  Andreas Rönnberg    rock   \n",
      "2    20EC38            Funiculì funiculà       Mario Lanza     pop   \n",
      "3  A3DD03C9        Dragons in the Sunset        Fire + Ice    folk   \n",
      "4  E2DC1FAE                  Soul People        Space Echo   dance   \n",
      "5  842029A1                    Преданная         IMPERVTOR  rusrap   \n",
      "6  4CB90AA5                         True      Roman Messer   dance   \n",
      "7  F03E1C1F             Feeling This Way   Polina Griffith   dance   \n",
      "8  8FA1D3BE     И вновь продолжается бой               NaN  ruspop   \n",
      "9  E772D5C0                    Pessimist               NaN   dance   \n",
      "\n",
      "             City        time        Day  \n",
      "0  Saint-Petersburg  20:28:33  Wednesday  \n",
      "1            Moscow  14:07:09     Friday  \n",
      "2  Saint-Petersburg  20:58:07  Wednesday  \n",
      "3  Saint-Petersburg  08:37:09     Monday  \n",
      "4            Moscow  08:34:34     Monday  \n",
      "5  Saint-Petersburg  13:09:41     Friday  \n",
      "6            Moscow  13:00:07  Wednesday  \n",
      "7            Moscow  20:47:49  Wednesday  \n",
      "8            Moscow  09:17:40     Friday  \n",
      "9  Saint-Petersburg  21:20:49  Wednesday  \n"
     ]
    }
   ],
   "source": [
    "print (df.head(10))"
   ]
  },
  {
   "cell_type": "markdown",
   "metadata": {
    "deletable": false,
    "editable": false,
    "id": "EO73Kwic_Zct",
    "tags": [
     "start_task"
    ]
   },
   "source": [
    "**Задание 4**\n",
    "\n",
    "\n",
    "Одной командой получить общую информацию о таблице c помощью метода `info()`:"
   ]
  },
  {
   "cell_type": "code",
   "execution_count": 4,
   "metadata": {
    "deletable": false,
    "id": "DSf2kIb-_Zct"
   },
   "outputs": [
    {
     "name": "stdout",
     "output_type": "stream",
     "text": [
      "<class 'pandas.core.frame.DataFrame'>\n",
      "RangeIndex: 65079 entries, 0 to 65078\n",
      "Data columns (total 7 columns):\n",
      " #   Column    Non-Null Count  Dtype \n",
      "---  ------    --------------  ----- \n",
      " 0     userID  65079 non-null  object\n",
      " 1   Track     63848 non-null  object\n",
      " 2   artist    57876 non-null  object\n",
      " 3   genre     63881 non-null  object\n",
      " 4     City    65079 non-null  object\n",
      " 5   time      65079 non-null  object\n",
      " 6   Day       65079 non-null  object\n",
      "dtypes: object(7)\n",
      "memory usage: 3.5+ MB\n"
     ]
    }
   ],
   "source": [
    "df.info ()"
   ]
  },
  {
   "cell_type": "markdown",
   "metadata": {
    "deletable": false,
    "editable": false,
    "id": "TaQ2Iwbr_Zct"
   },
   "source": [
    "Итак, в таблице семь столбцов. Тип данных во всех столбцах — `object`.\n",
    "\n",
    "Согласно документации к данным:\n",
    "* `userID` — идентификатор пользователя;\n",
    "* `Track` — название трека;  \n",
    "* `artist` — имя исполнителя;\n",
    "* `genre` — название жанра;\n",
    "* `City` — город пользователя;\n",
    "* `time` — время начала прослушивания;\n",
    "* `Day` — день недели.\n",
    "\n",
    "Количество значений в столбцах различается. Значит, в данных есть пропущенные значения."
   ]
  },
  {
   "cell_type": "markdown",
   "metadata": {
    "deletable": false,
    "editable": false,
    "id": "rAfziTBDmf2h",
    "tags": [
     "start_task"
    ]
   },
   "source": [
    "**Задание 5**\n",
    "\n",
    "**Вопрос со свободной формой ответа**\n",
    "\n",
    "В названиях колонок видны нарушения стиля:\n",
    "* Строчные буквы сочетаются с прописными.\n",
    "* Встречаются пробелы.\n",
    "\n",
    "Какое третье нарушение?"
   ]
  },
  {
   "cell_type": "code",
   "execution_count": 5,
   "metadata": {
    "id": "jD8EXEIvmf2h"
   },
   "outputs": [],
   "source": [
    "# По названию столбцов \"time\" и \"Day\" непонятно, какием именно данные в них записаны."
   ]
  },
  {
   "cell_type": "markdown",
   "metadata": {
    "deletable": false,
    "editable": false,
    "id": "MCB6-dXG_Zct"
   },
   "source": [
    "**Выводы**\n",
    "\n",
    "В каждой строке таблицы — данные о прослушанном треке. Часть колонок описывает саму композицию: название, исполнителя и жанр. Остальные данные рассказывают о пользователе: из какого он города, когда он слушал музыку. \n",
    "\n",
    "Предварительно можно утверждать, что данных достаточно для проверки гипотез. Но встречаются пропуски в данных, а в названиях колонок — расхождения с хорошим стилем.\n",
    "\n",
    "Чтобы двигаться дальше, нужно устранить проблемы в данных."
   ]
  },
  {
   "cell_type": "markdown",
   "metadata": {
    "deletable": false,
    "editable": false,
    "id": "SjYF6Ub9_Zct"
   },
   "source": [
    "## Предобработка данных\n",
    "Исправьте стиль в заголовках столбцов, исключите пропуски. Затем проверьте данные на дубликаты."
   ]
  },
  {
   "cell_type": "markdown",
   "metadata": {
    "deletable": false,
    "editable": false,
    "id": "dIaKXr29_Zct",
    "tags": [
     "start_task"
    ]
   },
   "source": [
    "### Стиль заголовков\n",
    "\n",
    "**Задание 6**\n",
    "\n",
    "Выведите на экран названия столбцов:"
   ]
  },
  {
   "cell_type": "code",
   "execution_count": 6,
   "metadata": {
    "deletable": false,
    "id": "oKOTdF_Q_Zct"
   },
   "outputs": [
    {
     "data": {
      "text/plain": [
       "Index(['  userID', 'Track', 'artist', 'genre', '  City  ', 'time', 'Day'], dtype='object')"
      ]
     },
     "execution_count": 6,
     "metadata": {},
     "output_type": "execute_result"
    }
   ],
   "source": [
    "df.columns"
   ]
  },
  {
   "cell_type": "markdown",
   "metadata": {
    "deletable": false,
    "editable": false,
    "id": "zj5534cv_Zct",
    "tags": [
     "start_task"
    ]
   },
   "source": [
    "**Задание 7**\n",
    "\n",
    "\n",
    "Приведите названия в соответствие с хорошим стилем:\n",
    "* несколько слов в названии запишите в «змеином_регистре»,\n",
    "* все символы сделайте строчными,\n",
    "* устраните пробелы.\n",
    "\n",
    "Для этого переименуйте колонки так:\n",
    "* `'  userID'` → `'user_id'`;\n",
    "* `'Track'` → `'track'`;\n",
    "* `'  City  '` → `'city'`;\n",
    "* `'Day'` → `'day'`."
   ]
  },
  {
   "cell_type": "code",
   "execution_count": 7,
   "metadata": {
    "deletable": false,
    "id": "ISlFqs5y_Zct"
   },
   "outputs": [],
   "source": [
    "df = df.rename(columns={'  userID': 'user_id', 'Track': 'track', \"  City  \" : \"city\", \"Day\": \"day\"})"
   ]
  },
  {
   "cell_type": "markdown",
   "metadata": {
    "deletable": false,
    "editable": false,
    "id": "1dqbh00J_Zct",
    "tags": [
     "start_task"
    ]
   },
   "source": [
    "**Задание 8**\n",
    "\n",
    "\n",
    "Проверьте результат. Для этого ещё раз выведите на экран названия столбцов:"
   ]
  },
  {
   "cell_type": "code",
   "execution_count": 8,
   "metadata": {
    "deletable": false,
    "id": "d4NOAmTW_Zct"
   },
   "outputs": [
    {
     "data": {
      "text/plain": [
       "Index(['user_id', 'track', 'artist', 'genre', 'city', 'time', 'day'], dtype='object')"
      ]
     },
     "execution_count": 8,
     "metadata": {},
     "output_type": "execute_result"
    }
   ],
   "source": [
    "df.columns"
   ]
  },
  {
   "cell_type": "markdown",
   "metadata": {
    "deletable": false,
    "editable": false,
    "id": "5ISfbcfY_Zct",
    "tags": [
     "start_task"
    ]
   },
   "source": [
    "### Пропуски значений\n",
    "\n",
    "**Задание 9**\n",
    "\n",
    "Сначала посчитайте, сколько в таблице пропущенных значений. Для этого достаточно двух методов `pandas`:"
   ]
  },
  {
   "cell_type": "code",
   "execution_count": 9,
   "metadata": {
    "deletable": false,
    "id": "RskX29qr_Zct"
   },
   "outputs": [
    {
     "name": "stdout",
     "output_type": "stream",
     "text": [
      "user_id       0\n",
      "track      1231\n",
      "artist     7203\n",
      "genre      1198\n",
      "city          0\n",
      "time          0\n",
      "day           0\n",
      "dtype: int64\n"
     ]
    }
   ],
   "source": [
    "print (df.isna().sum())"
   ]
  },
  {
   "cell_type": "markdown",
   "metadata": {
    "deletable": false,
    "editable": false,
    "id": "qubhgnlO_Zct"
   },
   "source": [
    "Не все пропущенные значения влияют на исследование. Так в `track` и `artist` пропуски не важны для вашей работы. Достаточно заменить их явными обозначениями.\n",
    "\n",
    "Но пропуски в `genre` могут помешать сравнению музыкальных вкусов в Москве и Санкт-Петербурге. На практике было бы правильно установить причину пропусков и восстановить данные. Такой возможности нет в учебном проекте. Придётся:\n",
    "* заполнить и эти пропуски явными обозначениями;\n",
    "* оценить, насколько они повредят расчётам. "
   ]
  },
  {
   "cell_type": "markdown",
   "metadata": {
    "deletable": false,
    "editable": false,
    "id": "fSv2laPA_Zct",
    "tags": [
     "start_task"
    ]
   },
   "source": [
    "**Задание 10**\n",
    "\n",
    "Замените пропущенные значения в столбцах `track`, `artist` и `genre` на строку `'unknown'`. Для этого создайте список `columns_to_replace`, переберите его элементы циклом `for` и для каждого столбца выполните замену пропущенных значений:"
   ]
  },
  {
   "cell_type": "code",
   "execution_count": 10,
   "metadata": {
    "deletable": false,
    "id": "KplB5qWs_Zct"
   },
   "outputs": [],
   "source": [
    "columns_to_replace = ['track', 'artist', 'genre']\n",
    "\n",
    "for column in columns_to_replace:\n",
    "    df[column] = df[column].fillna('unknown')"
   ]
  },
  {
   "cell_type": "markdown",
   "metadata": {
    "deletable": false,
    "editable": false,
    "id": "Ilsm-MZo_Zct",
    "tags": [
     "start_task"
    ]
   },
   "source": [
    "**Задание 11**\n",
    "\n",
    "Убедитесь, что в таблице не осталось пропусков. Для этого ещё раз посчитайте пропущенные значения."
   ]
  },
  {
   "cell_type": "code",
   "execution_count": 11,
   "metadata": {
    "deletable": false,
    "id": "Tq4nYRX4_Zct"
   },
   "outputs": [
    {
     "name": "stdout",
     "output_type": "stream",
     "text": [
      "user_id    0\n",
      "track      0\n",
      "artist     0\n",
      "genre      0\n",
      "city       0\n",
      "time       0\n",
      "day        0\n",
      "dtype: int64\n"
     ]
    }
   ],
   "source": [
    "print (df.isna().sum())"
   ]
  },
  {
   "cell_type": "markdown",
   "metadata": {
    "deletable": false,
    "editable": false,
    "id": "BWKRtBJ3_Zct",
    "tags": [
     "start_task"
    ]
   },
   "source": [
    "### Дубликаты\n",
    "\n",
    "**Задание 12**\n",
    "\n",
    "Посчитайте явные дубликаты в таблице одной командой:"
   ]
  },
  {
   "cell_type": "code",
   "execution_count": 41,
   "metadata": {
    "deletable": false,
    "id": "36eES_S0_Zct"
   },
   "outputs": [
    {
     "data": {
      "text/plain": [
       "0"
      ]
     },
     "execution_count": 41,
     "metadata": {},
     "output_type": "execute_result"
    }
   ],
   "source": [
    "df.duplicated().sum()"
   ]
  },
  {
   "cell_type": "markdown",
   "metadata": {
    "deletable": false,
    "editable": false,
    "id": "Ot25h6XR_Zct",
    "tags": [
     "start_task"
    ]
   },
   "source": [
    "**Задание 13**\n",
    "\n",
    "Вызовите специальный метод `pandas`, чтобы удалить явные дубликаты:"
   ]
  },
  {
   "cell_type": "code",
   "execution_count": 13,
   "metadata": {
    "deletable": false,
    "id": "exFHq6tt_Zct"
   },
   "outputs": [],
   "source": [
    "df = df.drop_duplicates().reset_index(drop=True)"
   ]
  },
  {
   "cell_type": "markdown",
   "metadata": {
    "deletable": false,
    "editable": false,
    "id": "Im2YwBEG_Zct",
    "tags": [
     "start_task"
    ]
   },
   "source": [
    "**Задание 14**\n",
    "\n",
    "Ещё раз посчитайте явные дубликаты в таблице — убедитесь, что полностью от них избавились:"
   ]
  },
  {
   "cell_type": "code",
   "execution_count": 42,
   "metadata": {
    "deletable": false,
    "id": "-8PuNWQ0_Zct"
   },
   "outputs": [
    {
     "data": {
      "text/plain": [
       "0"
      ]
     },
     "execution_count": 42,
     "metadata": {},
     "output_type": "execute_result"
    }
   ],
   "source": [
    "df.duplicated().sum()"
   ]
  },
  {
   "cell_type": "markdown",
   "metadata": {
    "deletable": false,
    "editable": false,
    "id": "QlFBsxAr_Zct"
   },
   "source": [
    "Теперь избавьтесь от неявных дубликатов в колонке `genre`. Например, название одного и того же жанра может быть записано немного по-разному. Такие ошибки тоже повлияют на результат исследования."
   ]
  },
  {
   "cell_type": "markdown",
   "metadata": {
    "deletable": false,
    "editable": false,
    "id": "eSjWwsOh_Zct",
    "tags": [
     "start_task"
    ]
   },
   "source": [
    "**Задание 15**\n",
    "\n",
    "Выведите на экран список уникальных названий жанров, отсортированный в алфавитном порядке. Для этого:\n",
    "1. извлеките нужный столбец датафрейма; \n",
    "2. примените к нему метод сортировки;\n",
    "3. для отсортированного столбца вызовите метод, который вернёт уникальные значения из столбца."
   ]
  },
  {
   "cell_type": "code",
   "execution_count": 44,
   "metadata": {
    "deletable": false,
    "id": "JIUcqzZN_Zct"
   },
   "outputs": [
    {
     "name": "stdout",
     "output_type": "stream",
     "text": [
      "['acid' 'acoustic' 'action' 'adult' 'africa' 'afrikaans' 'alternative'\n",
      " 'alternativepunk' 'ambient' 'americana' 'animated' 'anime' 'arabesk'\n",
      " 'arabic' 'arena' 'argentinetango' 'art' 'audiobook' 'author' 'avantgarde'\n",
      " 'axé' 'baile' 'balkan' 'beats' 'bigroom' 'black' 'bluegrass' 'blues'\n",
      " 'bollywood' 'bossa' 'brazilian' 'breakbeat' 'breaks' 'broadway'\n",
      " 'cantautori' 'cantopop' 'canzone' 'caribbean' 'caucasian' 'celtic'\n",
      " 'chamber' 'chanson' 'children' 'chill' 'chinese' 'choral' 'christian'\n",
      " 'christmas' 'classical' 'classicmetal' 'club' 'colombian' 'comedy'\n",
      " 'conjazz' 'contemporary' 'country' 'cuban' 'dance' 'dancehall' 'dancepop'\n",
      " 'dark' 'death' 'deep' 'deutschrock' 'deutschspr' 'dirty' 'disco' 'dnb'\n",
      " 'documentary' 'downbeat' 'downtempo' 'drum' 'dub' 'dubstep' 'eastern'\n",
      " 'easy' 'electronic' 'electropop' 'emo' 'entehno' 'epicmetal' 'estrada'\n",
      " 'ethnic' 'eurofolk' 'european' 'experimental' 'extrememetal' 'fado'\n",
      " 'fairytail' 'film' 'fitness' 'flamenco' 'folk' 'folklore' 'folkmetal'\n",
      " 'folkrock' 'folktronica' 'forró' 'frankreich' 'französisch' 'french'\n",
      " 'funk' 'future' 'gangsta' 'garage' 'german' 'ghazal' 'gitarre' 'glitch'\n",
      " 'gospel' 'gothic' 'grime' 'grunge' 'gypsy' 'handsup' \"hard'n'heavy\"\n",
      " 'hardcore' 'hardstyle' 'hardtechno' 'hiphop' 'historisch' 'holiday'\n",
      " 'horror' 'house' 'hymn' 'idm' 'independent' 'indian' 'indie' 'indipop'\n",
      " 'industrial' 'inspirational' 'instrumental' 'international' 'irish' 'jam'\n",
      " 'japanese' 'jazz' 'jewish' 'jpop' 'jungle' 'k-pop' 'karadeniz' 'karaoke'\n",
      " 'kayokyoku' 'korean' 'laiko' 'latin' 'latino' 'leftfield' 'local'\n",
      " 'lounge' 'loungeelectronic' 'lovers' 'malaysian' 'mandopop' 'marschmusik'\n",
      " 'meditative' 'mediterranean' 'melodic' 'metal' 'metalcore' 'mexican'\n",
      " 'middle' 'minimal' 'miscellaneous' 'modern' 'mood' 'mpb' 'muslim'\n",
      " 'native' 'neoklassik' 'neue' 'new' 'newage' 'newwave' 'nu' 'nujazz'\n",
      " 'numetal' 'oceania' 'old' 'opera' 'orchestral' 'other' 'piano' 'podcasts'\n",
      " 'pop' 'popdance' 'popelectronic' 'popeurodance' 'poprussian' 'post'\n",
      " 'posthardcore' 'postrock' 'power' 'progmetal' 'progressive' 'psychedelic'\n",
      " 'punjabi' 'punk' 'quebecois' 'ragga' 'ram' 'rancheras' 'rap' 'rave'\n",
      " 'reggae' 'reggaeton' 'regional' 'relax' 'religious' 'retro' 'rhythm'\n",
      " 'rnb' 'rnr' 'rock' 'rockabilly' 'rockalternative' 'rockindie' 'rockother'\n",
      " 'romance' 'roots' 'ruspop' 'rusrap' 'rusrock' 'russian' 'salsa' 'samba'\n",
      " 'scenic' 'schlager' 'self' 'sertanejo' 'shanson' 'shoegazing' 'showtunes'\n",
      " 'singer' 'ska' 'skarock' 'slow' 'smooth' 'soft' 'soul' 'soulful' 'sound'\n",
      " 'soundtrack' 'southern' 'specialty' 'speech' 'spiritual' 'sport'\n",
      " 'stonerrock' 'surf' 'swing' 'synthpop' 'synthrock' 'sängerportrait'\n",
      " 'tango' 'tanzorchester' 'taraftar' 'tatar' 'tech' 'techno' 'teen'\n",
      " 'thrash' 'top' 'traditional' 'tradjazz' 'trance' 'tribal' 'trip'\n",
      " 'triphop' 'tropical' 'türk' 'türkçe' 'ukrrock' 'unknown' 'urban' 'uzbek'\n",
      " 'variété' 'vi' 'videogame' 'vocal' 'western' 'world' 'worldbeat' 'ïîï'\n",
      " 'электроника']\n"
     ]
    }
   ],
   "source": [
    "print(df['genre'].sort_values().unique())"
   ]
  },
  {
   "cell_type": "markdown",
   "metadata": {
    "deletable": false,
    "editable": false,
    "id": "qej-Qmuo_Zct",
    "tags": [
     "start_task"
    ]
   },
   "source": [
    "**Задание 16**\n",
    "\n",
    "Просмотрите список и найдите неявные дубликаты названия `hiphop`. Это могут быть названия с ошибками или альтернативные названия того же жанра.\n",
    "\n",
    "Вы увидите следующие неявные дубликаты:\n",
    "* *hip*,\n",
    "* *hop*,\n",
    "* *hip-hop*.\n",
    "\n",
    "Чтобы очистить от них таблицу используйте метод `replace()` с двумя аргументами: списком строк-дубликатов (включащий *hip*, *hop* и *hip-hop*) и строкой с правильным значением. Вам нужно исправить колонку `genre` в таблице `df`: заменить каждое значение из списка дубликатов на верное. Вместо `hip`, `hop` и `hip-hop` в таблице должно быть значение `hiphop`:"
   ]
  },
  {
   "cell_type": "code",
   "execution_count": 16,
   "metadata": {
    "deletable": false,
    "id": "ErNDkmns_Zct"
   },
   "outputs": [
    {
     "name": "stdout",
     "output_type": "stream",
     "text": [
      "0              rock\n",
      "1              rock\n",
      "2               pop\n",
      "3              folk\n",
      "4             dance\n",
      "            ...    \n",
      "61248           rnb\n",
      "61249        hiphop\n",
      "61250    industrial\n",
      "61251          rock\n",
      "61252       country\n",
      "Name: genre, Length: 61253, dtype: object\n"
     ]
    }
   ],
   "source": [
    "duplicates = ['hip', 'hop', 'hip-hop']\n",
    "name = 'hiphop'\n",
    "df['genre'] = df['genre'].replace(duplicates, name)\n",
    "print(df['genre'])"
   ]
  },
  {
   "cell_type": "markdown",
   "metadata": {
    "deletable": false,
    "editable": false,
    "id": "zQKF16_RG15m",
    "tags": [
     "start_task"
    ]
   },
   "source": [
    "**Задание 17**\n",
    "\n",
    "Проверьте, что заменили неправильные названия:\n",
    "\n",
    "*   hip,\n",
    "*   hop,\n",
    "*   hip-hop.\n",
    "\n",
    "Выведите отсортированный список уникальных значений столбца `genre`:"
   ]
  },
  {
   "cell_type": "code",
   "execution_count": 46,
   "metadata": {
    "deletable": false,
    "id": "wvixALnFG15m"
   },
   "outputs": [
    {
     "data": {
      "text/plain": [
       "array(['acid', 'acoustic', 'action', 'adult', 'africa', 'afrikaans',\n",
       "       'alternative', 'alternativepunk', 'ambient', 'americana',\n",
       "       'animated', 'anime', 'arabesk', 'arabic', 'arena',\n",
       "       'argentinetango', 'art', 'audiobook', 'author', 'avantgarde',\n",
       "       'axé', 'baile', 'balkan', 'beats', 'bigroom', 'black', 'bluegrass',\n",
       "       'blues', 'bollywood', 'bossa', 'brazilian', 'breakbeat', 'breaks',\n",
       "       'broadway', 'cantautori', 'cantopop', 'canzone', 'caribbean',\n",
       "       'caucasian', 'celtic', 'chamber', 'chanson', 'children', 'chill',\n",
       "       'chinese', 'choral', 'christian', 'christmas', 'classical',\n",
       "       'classicmetal', 'club', 'colombian', 'comedy', 'conjazz',\n",
       "       'contemporary', 'country', 'cuban', 'dance', 'dancehall',\n",
       "       'dancepop', 'dark', 'death', 'deep', 'deutschrock', 'deutschspr',\n",
       "       'dirty', 'disco', 'dnb', 'documentary', 'downbeat', 'downtempo',\n",
       "       'drum', 'dub', 'dubstep', 'eastern', 'easy', 'electronic',\n",
       "       'electropop', 'emo', 'entehno', 'epicmetal', 'estrada', 'ethnic',\n",
       "       'eurofolk', 'european', 'experimental', 'extrememetal', 'fado',\n",
       "       'fairytail', 'film', 'fitness', 'flamenco', 'folk', 'folklore',\n",
       "       'folkmetal', 'folkrock', 'folktronica', 'forró', 'frankreich',\n",
       "       'französisch', 'french', 'funk', 'future', 'gangsta', 'garage',\n",
       "       'german', 'ghazal', 'gitarre', 'glitch', 'gospel', 'gothic',\n",
       "       'grime', 'grunge', 'gypsy', 'handsup', \"hard'n'heavy\", 'hardcore',\n",
       "       'hardstyle', 'hardtechno', 'hiphop', 'historisch', 'holiday',\n",
       "       'horror', 'house', 'hymn', 'idm', 'independent', 'indian', 'indie',\n",
       "       'indipop', 'industrial', 'inspirational', 'instrumental',\n",
       "       'international', 'irish', 'jam', 'japanese', 'jazz', 'jewish',\n",
       "       'jpop', 'jungle', 'k-pop', 'karadeniz', 'karaoke', 'kayokyoku',\n",
       "       'korean', 'laiko', 'latin', 'latino', 'leftfield', 'local',\n",
       "       'lounge', 'loungeelectronic', 'lovers', 'malaysian', 'mandopop',\n",
       "       'marschmusik', 'meditative', 'mediterranean', 'melodic', 'metal',\n",
       "       'metalcore', 'mexican', 'middle', 'minimal', 'miscellaneous',\n",
       "       'modern', 'mood', 'mpb', 'muslim', 'native', 'neoklassik', 'neue',\n",
       "       'new', 'newage', 'newwave', 'nu', 'nujazz', 'numetal', 'oceania',\n",
       "       'old', 'opera', 'orchestral', 'other', 'piano', 'podcasts', 'pop',\n",
       "       'popdance', 'popelectronic', 'popeurodance', 'poprussian', 'post',\n",
       "       'posthardcore', 'postrock', 'power', 'progmetal', 'progressive',\n",
       "       'psychedelic', 'punjabi', 'punk', 'quebecois', 'ragga', 'ram',\n",
       "       'rancheras', 'rap', 'rave', 'reggae', 'reggaeton', 'regional',\n",
       "       'relax', 'religious', 'retro', 'rhythm', 'rnb', 'rnr', 'rock',\n",
       "       'rockabilly', 'rockalternative', 'rockindie', 'rockother',\n",
       "       'romance', 'roots', 'ruspop', 'rusrap', 'rusrock', 'russian',\n",
       "       'salsa', 'samba', 'scenic', 'schlager', 'self', 'sertanejo',\n",
       "       'shanson', 'shoegazing', 'showtunes', 'singer', 'ska', 'skarock',\n",
       "       'slow', 'smooth', 'soft', 'soul', 'soulful', 'sound', 'soundtrack',\n",
       "       'southern', 'specialty', 'speech', 'spiritual', 'sport',\n",
       "       'stonerrock', 'surf', 'swing', 'synthpop', 'synthrock',\n",
       "       'sängerportrait', 'tango', 'tanzorchester', 'taraftar', 'tatar',\n",
       "       'tech', 'techno', 'teen', 'thrash', 'top', 'traditional',\n",
       "       'tradjazz', 'trance', 'tribal', 'trip', 'triphop', 'tropical',\n",
       "       'türk', 'türkçe', 'ukrrock', 'unknown', 'urban', 'uzbek',\n",
       "       'variété', 'vi', 'videogame', 'vocal', 'western', 'world',\n",
       "       'worldbeat', 'ïîï', 'электроника'], dtype=object)"
      ]
     },
     "execution_count": 46,
     "metadata": {},
     "output_type": "execute_result"
    }
   ],
   "source": [
    "genre_unique = df['genre']\n",
    "genre_unique = genre_unique.sort_values().unique()\n",
    "genre_unique"
   ]
  },
  {
   "cell_type": "markdown",
   "metadata": {
    "deletable": false,
    "editable": false,
    "id": "jz6a9-7HQUDd"
   },
   "source": [
    "**Выводы**\n",
    "\n",
    "Предобработка обнаружила три проблемы в данных:\n",
    "\n",
    "- нарушения в стиле заголовков,\n",
    "- пропущенные значения,\n",
    "- дубликаты — явные и неявные.\n",
    "\n",
    "Вы исправили заголовки, чтобы упростить работу с таблицей. Без дубликатов исследование станет более точным.\n",
    "\n",
    "Пропущенные значения вы заменили на `'unknown'`. Ещё предстоит увидеть, не повредят ли исследованию пропуски в колонке `genre`.\n",
    "\n",
    "Теперь можно перейти к проверке гипотез. "
   ]
  },
  {
   "cell_type": "markdown",
   "metadata": {
    "deletable": false,
    "editable": false,
    "id": "WttZHXH0SqKk"
   },
   "source": [
    "## Проверка гипотез"
   ]
  },
  {
   "cell_type": "markdown",
   "metadata": {
    "deletable": false,
    "editable": false,
    "id": "Im936VVi_Zcu"
   },
   "source": [
    "### Сравнение поведения пользователей двух столиц"
   ]
  },
  {
   "cell_type": "markdown",
   "metadata": {
    "deletable": false,
    "editable": false,
    "id": "nwt_MuaL_Zcu"
   },
   "source": [
    "Первая гипотеза утверждает, что пользователи по-разному слушают музыку в Москве и Санкт-Петербурге. Проверьте это предположение по данным о трёх днях недели — понедельнике, среде и пятнице. Для этого:\n",
    "\n",
    "* Разделите пользователей Москвы и Санкт-Петербурга.\n",
    "* Сравните, сколько треков послушала каждая группа пользователей в понедельник, среду и пятницу.\n"
   ]
  },
  {
   "cell_type": "markdown",
   "metadata": {
    "deletable": false,
    "editable": false,
    "id": "8Dw_YMmT_Zcu",
    "tags": [
     "start_task"
    ]
   },
   "source": [
    "**Задание 18**\n",
    "\n",
    "Для тренировки сначала выполните каждый из расчётов по отдельности. \n",
    "\n",
    "Оцените активность пользователей в каждом городе. Сгруппируйте данные по городу и посчитайте прослушивания в каждой группе.\n",
    "\n"
   ]
  },
  {
   "cell_type": "code",
   "execution_count": 18,
   "metadata": {
    "deletable": false,
    "id": "0_Qs96oh_Zcu"
   },
   "outputs": [
    {
     "data": {
      "text/plain": [
       "city\n",
       "Moscow              42741\n",
       "Saint-Petersburg    18512\n",
       "Name: genre, dtype: int64"
      ]
     },
     "execution_count": 18,
     "metadata": {},
     "output_type": "execute_result"
    }
   ],
   "source": [
    "df.groupby('city')['genre'].count()"
   ]
  },
  {
   "cell_type": "markdown",
   "metadata": {
    "deletable": false,
    "editable": false,
    "id": "dzli3w8o_Zcu",
    "tags": [
     "start_task"
    ]
   },
   "source": [
    "В Москве прослушиваний больше, чем в Петербурге. Из этого не следует, что московские пользователи чаще слушают музыку. Просто самих пользователей в Москве больше.\n",
    "\n",
    "**Задание 19**\n",
    "\n",
    "Теперь сгруппируйте данные по дню недели и посчитайте прослушивания в понедельник, среду и пятницу. Учтите, что в данных есть информация о прослушиваниях только за эти дни.\n"
   ]
  },
  {
   "cell_type": "code",
   "execution_count": 19,
   "metadata": {
    "deletable": false,
    "id": "uZMKjiJz_Zcu"
   },
   "outputs": [
    {
     "data": {
      "text/plain": [
       "day\n",
       "Friday       21840\n",
       "Monday       21354\n",
       "Wednesday    18059\n",
       "Name: genre, dtype: int64"
      ]
     },
     "execution_count": 19,
     "metadata": {},
     "output_type": "execute_result"
    }
   ],
   "source": [
    "df.groupby('day')['genre'].count()"
   ]
  },
  {
   "cell_type": "markdown",
   "metadata": {
    "deletable": false,
    "editable": false,
    "id": "cC2tNrlL_Zcu"
   },
   "source": [
    "В среднем пользователи из двух городов менее активны по средам. Но картина может измениться, если рассмотреть каждый город в отдельности."
   ]
  },
  {
   "cell_type": "markdown",
   "metadata": {
    "deletable": false,
    "editable": false,
    "id": "POzs8bGa_Zcu",
    "tags": [
     "start_task"
    ]
   },
   "source": [
    "**Задание 20**\n",
    "\n",
    "\n",
    "Вы видели, как работает группировка по городу и по дням недели. Теперь напишите функцию, которая объединит два эти расчёта.\n",
    "\n",
    "Создайте функцию `number_tracks()`, которая посчитает прослушивания для заданного дня и города. Ей понадобятся два параметра:\n",
    "* день недели,\n",
    "* название города.\n",
    "\n",
    "В функции сохраните в переменную строки исходной таблицы, у которых значение:\n",
    "  * в колонке `day` равно параметру `day`,\n",
    "  * в колонке `city` равно параметру `city`.\n",
    "\n",
    "Для этого примените последовательную фильтрацию с логической индексацией (или сложные логические выражения в одну строку, если вы уже знакомы с ними).\n",
    "\n",
    "Затем посчитайте значения в столбце `user_id` получившейся таблицы. Результат сохраните в новую переменную. Верните эту переменную из функции."
   ]
  },
  {
   "cell_type": "code",
   "execution_count": 20,
   "metadata": {
    "deletable": false,
    "id": "Nz3GdQB1_Zcu"
   },
   "outputs": [],
   "source": [
    "def number_tracks(day, city):\n",
    "    track_list = df[(df['day']==day) & (df['city']==city)]\n",
    "    track_list_count = track_list['user_id'].count()\n",
    "    return track_list_count"
   ]
  },
  {
   "cell_type": "markdown",
   "metadata": {
    "deletable": false,
    "editable": false,
    "id": "ytf7xFrFJQ2r",
    "tags": [
     "start_task"
    ]
   },
   "source": [
    "**Задание 21**\n",
    "\n",
    "Вызовите `number_tracks()` шесть раз, меняя значение параметров — так, чтобы получить данные для каждого города в каждый из трёх дней."
   ]
  },
  {
   "cell_type": "code",
   "execution_count": 21,
   "metadata": {
    "deletable": false,
    "id": "rJcRATNQ_Zcu"
   },
   "outputs": [
    {
     "data": {
      "text/plain": [
       "15740"
      ]
     },
     "execution_count": 21,
     "metadata": {},
     "output_type": "execute_result"
    }
   ],
   "source": [
    "number_tracks(\"Monday\", \"Moscow\")"
   ]
  },
  {
   "cell_type": "code",
   "execution_count": 22,
   "metadata": {
    "deletable": false,
    "id": "hq_ncZ5T_Zcu"
   },
   "outputs": [
    {
     "data": {
      "text/plain": [
       "5614"
      ]
     },
     "execution_count": 22,
     "metadata": {},
     "output_type": "execute_result"
    }
   ],
   "source": [
    "number_tracks(\"Monday\", \"Saint-Petersburg\")"
   ]
  },
  {
   "cell_type": "code",
   "execution_count": 23,
   "metadata": {
    "deletable": false,
    "id": "_NTy2VPU_Zcu"
   },
   "outputs": [
    {
     "data": {
      "text/plain": [
       "11056"
      ]
     },
     "execution_count": 23,
     "metadata": {},
     "output_type": "execute_result"
    }
   ],
   "source": [
    "number_tracks(\"Wednesday\", \"Moscow\")"
   ]
  },
  {
   "cell_type": "code",
   "execution_count": 24,
   "metadata": {
    "deletable": false,
    "id": "j2y3TAwo_Zcu"
   },
   "outputs": [
    {
     "data": {
      "text/plain": [
       "7003"
      ]
     },
     "execution_count": 24,
     "metadata": {},
     "output_type": "execute_result"
    }
   ],
   "source": [
    "number_tracks(\"Wednesday\", \"Saint-Petersburg\")"
   ]
  },
  {
   "cell_type": "code",
   "execution_count": 25,
   "metadata": {
    "deletable": false,
    "id": "vYDw5u_K_Zcu"
   },
   "outputs": [
    {
     "data": {
      "text/plain": [
       "15945"
      ]
     },
     "execution_count": 25,
     "metadata": {},
     "output_type": "execute_result"
    }
   ],
   "source": [
    "number_tracks(\"Friday\", \"Moscow\")"
   ]
  },
  {
   "cell_type": "code",
   "execution_count": 26,
   "metadata": {
    "deletable": false,
    "id": "8_yzFtW3_Zcu"
   },
   "outputs": [
    {
     "data": {
      "text/plain": [
       "5895"
      ]
     },
     "execution_count": 26,
     "metadata": {},
     "output_type": "execute_result"
    }
   ],
   "source": [
    "number_tracks(\"Friday\", \"Saint-Petersburg\")"
   ]
  },
  {
   "cell_type": "markdown",
   "metadata": {
    "deletable": false,
    "editable": false,
    "id": "7QXffbO-_Zcu",
    "tags": [
     "start_task"
    ]
   },
   "source": [
    "**Задание 22**\n",
    "\n",
    "Создайте c помощью конструктора `pd.DataFrame` таблицу, где\n",
    "* названия колонок — `['city', 'monday', 'wednesday', 'friday']`;\n",
    "* данные — результаты, которые вы получили с помощью `number_tracks`."
   ]
  },
  {
   "cell_type": "code",
   "execution_count": 27,
   "metadata": {
    "deletable": false,
    "id": "APAcLpOr_Zcu"
   },
   "outputs": [
    {
     "name": "stdout",
     "output_type": "stream",
     "text": [
      "              city  monday  wednesday  friday\n",
      "0           Москва   15740      11056   15945\n",
      "1  Санкт-Петербург    5614       7003    5895\n"
     ]
    }
   ],
   "source": [
    "info = pd.DataFrame(data=[['Москва', 15740, 11056, 15945], ['Санкт-Петербург', 5614, 7003, 5895]], columns=['city', 'monday', 'wednesday', 'friday'])\n",
    "print (info)"
   ]
  },
  {
   "cell_type": "markdown",
   "metadata": {
    "deletable": false,
    "editable": false,
    "id": "-EgPIHYu_Zcu"
   },
   "source": [
    "**Выводы**\n",
    "\n",
    "Данные показывают разницу поведения пользователей:\n",
    "\n",
    "- В Москве пик прослушиваний приходится на понедельник и пятницу, а в среду заметен спад.\n",
    "- В Петербурге, наоборот, больше слушают музыку по средам. Активность в понедельник и пятницу здесь почти в равной мере уступает среде.\n",
    "\n",
    "Значит, данные говорят в пользу первой гипотезы."
   ]
  },
  {
   "cell_type": "markdown",
   "metadata": {
    "deletable": false,
    "editable": false,
    "id": "atZAxtq4_Zcu"
   },
   "source": [
    "### Музыка в начале и в конце недели"
   ]
  },
  {
   "cell_type": "markdown",
   "metadata": {
    "deletable": false,
    "editable": false,
    "id": "eXrQqXFH_Zcu"
   },
   "source": [
    "Согласно второй гипотезе, утром в понедельник в Москве преобладают одни жанры, а в Петербурге — другие. Так же и вечером пятницы преобладают разные жанры — в зависимости от города."
   ]
  },
  {
   "cell_type": "markdown",
   "metadata": {
    "deletable": false,
    "editable": false,
    "id": "S8UcW6Hw_Zcu",
    "tags": [
     "start_task"
    ]
   },
   "source": [
    "**Задание 23**\n",
    "\n",
    "Сохраните таблицы с данными в две переменные:\n",
    "* по Москве — в `moscow_general`;\n",
    "* по Санкт-Петербургу — в `spb_general`."
   ]
  },
  {
   "cell_type": "code",
   "execution_count": 28,
   "metadata": {
    "deletable": false,
    "id": "qeaFfM_P_Zcu",
    "scrolled": true
   },
   "outputs": [],
   "source": [
    "moscow_general = df[df['city'] == \"Moscow\"]"
   ]
  },
  {
   "cell_type": "code",
   "execution_count": 29,
   "metadata": {
    "deletable": false,
    "id": "ORaVRKto_Zcu"
   },
   "outputs": [],
   "source": [
    "spb_general = df[df['city'] == \"Saint-Petersburg\"]"
   ]
  },
  {
   "cell_type": "markdown",
   "metadata": {
    "deletable": false,
    "editable": false,
    "id": "MEJV-CX2_Zcu",
    "tags": [
     "start_task"
    ]
   },
   "source": [
    "**Задание 24**\n",
    "\n",
    "Создайте функцию `genre_weekday()` с четырьмя параметрами:\n",
    "* таблица (датафрейм) с данными,\n",
    "* день недели,\n",
    "* начальная временная метка в формате 'hh:mm', \n",
    "* последняя временная метка в формате 'hh:mm'.\n",
    "\n",
    "Функция должна вернуть информацию о топ-10 жанров тех треков, которые прослушивали в указанный день, в промежутке между двумя отметками времени."
   ]
  },
  {
   "cell_type": "code",
   "execution_count": 30,
   "metadata": {
    "deletable": false,
    "id": "laJT9BYl_Zcu"
   },
   "outputs": [],
   "source": [
    "# Объявление функции genre_weekday() с параметрами table, day, time1, time2,\n",
    "# которая возвращает информацию о самых популярных жанрах в указанный день в\n",
    "# заданное время:\n",
    "# 1) в переменную genre_df сохраняются те строки переданного датафрейма table, для\n",
    "#    которых одновременно:\n",
    "#    - значение в столбце day равно значению аргумента day\n",
    "#    - значение в столбце time больше значения аргумента time1\n",
    "#    - значение в столбце time меньше значения аргумента time2\n",
    "#    Используйте последовательную фильтрацию с помощью логической индексации.\n",
    "# 2) сгруппировать датафрейм genre_df по столбцу genre, взять один из его\n",
    "#    столбцов и посчитать методом count() количество записей для каждого из\n",
    "#    присутствующих жанров, получившийся Series записать в переменную\n",
    "#    genre_df_count\n",
    "# 3) отсортировать genre_df_count по убыванию встречаемости и сохранить\n",
    "#    в переменную genre_df_sorted\n",
    "# 4) вернуть Series из 10 первых значений genre_df_sorted, это будут топ-10\n",
    "#    популярных жанров (в указанный день, в заданное время)\n",
    "\n",
    "def genre_weekday(df, day, time1, time2):\n",
    "    # последовательная фильтрация\n",
    "    # оставляем в genre_df только те строки df, у которых день равен day\n",
    "    genre_df = df[df['day']==day]# ваш код здесь\n",
    "    # оставляем в genre_df только те строки genre_df, у которых время меньше time2\n",
    "    genre_df = genre_df[genre_df['time']<time2]# ваш код здесь\n",
    "    # оставляем в genre_df только те строки genre_df, у которых время больше time1\n",
    "    genre_df = genre_df[genre_df['time']>time1]# ваш код здесь\n",
    "    # сгруппируем отфильтрованный датафрейм по столбцу с названиями жанров, возьмём столбец genre и посчитаем кол-во строк для каждого жанра методом count()\n",
    "    genre_df_grouped = genre_df.groupby('genre')['genre'].count()# ваш код здесь\n",
    "    # отсортируем результат по убыванию (чтобы в начале Series оказались самые популярные жанры)\n",
    "    genre_df_sorted =genre_df_grouped.sort_values(ascending=False)# ваш код здесь\n",
    "    # вернём Series с 10 самыми популярными жанрами в указанный отрезок времени заданного дня\n",
    "    return genre_df_sorted[:10]"
   ]
  },
  {
   "cell_type": "markdown",
   "metadata": {
    "deletable": false,
    "editable": false,
    "id": "la2s2_PF_Zcu",
    "tags": [
     "start_task"
    ]
   },
   "source": [
    "**Задание 25**\n",
    "\n",
    "\n",
    "Cравните результаты функции `genre_weekday()` для Москвы и Санкт-Петербурга в понедельник утром (с 7:00 до 11:00) и в пятницу вечером (с 17:00 до 23:00):"
   ]
  },
  {
   "cell_type": "code",
   "execution_count": 31,
   "metadata": {
    "deletable": false,
    "id": "yz7itPUQ_Zcu",
    "scrolled": true
   },
   "outputs": [
    {
     "data": {
      "text/plain": [
       "genre\n",
       "pop            781\n",
       "dance          549\n",
       "electronic     480\n",
       "rock           474\n",
       "hiphop         286\n",
       "ruspop         186\n",
       "world          181\n",
       "rusrap         175\n",
       "alternative    164\n",
       "unknown        161\n",
       "Name: genre, dtype: int64"
      ]
     },
     "execution_count": 31,
     "metadata": {},
     "output_type": "execute_result"
    }
   ],
   "source": [
    "genre_weekday(moscow_general, 'Monday', '07:00', '11:00')"
   ]
  },
  {
   "cell_type": "code",
   "execution_count": 32,
   "metadata": {
    "deletable": false,
    "id": "kwUcHPdy_Zcu"
   },
   "outputs": [
    {
     "data": {
      "text/plain": [
       "genre\n",
       "pop            218\n",
       "dance          182\n",
       "rock           162\n",
       "electronic     147\n",
       "hiphop          80\n",
       "ruspop          64\n",
       "alternative     58\n",
       "rusrap          55\n",
       "jazz            44\n",
       "classical       40\n",
       "Name: genre, dtype: int64"
      ]
     },
     "execution_count": 32,
     "metadata": {},
     "output_type": "execute_result"
    }
   ],
   "source": [
    "genre_weekday(spb_general, 'Monday', '07:00', '11:00')"
   ]
  },
  {
   "cell_type": "code",
   "execution_count": 33,
   "metadata": {
    "deletable": false,
    "id": "EzXVRE1o_Zcu"
   },
   "outputs": [
    {
     "data": {
      "text/plain": [
       "genre\n",
       "pop            713\n",
       "rock           517\n",
       "dance          495\n",
       "electronic     482\n",
       "hiphop         273\n",
       "world          208\n",
       "ruspop         170\n",
       "alternative    163\n",
       "classical      163\n",
       "rusrap         142\n",
       "Name: genre, dtype: int64"
      ]
     },
     "execution_count": 33,
     "metadata": {},
     "output_type": "execute_result"
    }
   ],
   "source": [
    "genre_weekday(moscow_general, 'Friday', '17:00', '23:00')"
   ]
  },
  {
   "cell_type": "code",
   "execution_count": 34,
   "metadata": {
    "deletable": false,
    "id": "JZaEKu5v_Zcu"
   },
   "outputs": [
    {
     "data": {
      "text/plain": [
       "genre\n",
       "pop            256\n",
       "electronic     216\n",
       "rock           216\n",
       "dance          210\n",
       "hiphop          97\n",
       "alternative     63\n",
       "jazz            61\n",
       "classical       60\n",
       "rusrap          59\n",
       "world           54\n",
       "Name: genre, dtype: int64"
      ]
     },
     "execution_count": 34,
     "metadata": {},
     "output_type": "execute_result"
    }
   ],
   "source": [
    "genre_weekday(spb_general, 'Friday', '17:00', '23:00')"
   ]
  },
  {
   "cell_type": "markdown",
   "metadata": {
    "deletable": false,
    "editable": false,
    "id": "wrCe4MNX_Zcu"
   },
   "source": [
    "**Выводы**\n",
    "\n",
    "Если сравнить топ-10 жанров в понедельник утром, можно сделать такие выводы:\n",
    "\n",
    "1. В Москве и Петербурге слушают похожую музыку. Единственное отличие — в московский рейтинг вошёл жанр “world”, а в петербургский — джаз и классика.\n",
    "\n",
    "2. В Москве пропущенных значений оказалось так много, что значение `'unknown'` заняло десятое место среди самых популярных жанров. Значит, пропущенные значения занимают существенную долю в данных и угрожают достоверности исследования.\n",
    "\n",
    "Вечер пятницы не меняет эту картину. Некоторые жанры поднимаются немного выше, другие спускаются, но в целом топ-10 остаётся тем же самым.\n",
    "\n",
    "Таким образом, вторая гипотеза подтвердилась лишь частично:\n",
    "* Пользователи слушают похожую музыку в начале недели и в конце.\n",
    "* Разница между Москвой и Петербургом не слишком выражена. В Москве чаще слушают русскую популярную музыку, в Петербурге — джаз.\n",
    "\n",
    "Однако пропуски в данных ставят под сомнение этот результат. В Москве их так много, что рейтинг топ-10 мог бы выглядеть иначе, если бы не утерянные  данные о жанрах."
   ]
  },
  {
   "cell_type": "markdown",
   "metadata": {
    "deletable": false,
    "editable": false,
    "id": "JolODAqr_Zcu"
   },
   "source": [
    "### Жанровые предпочтения в Москве и Петербурге\n",
    "\n",
    "Гипотеза: Петербург — столица рэпа, музыку этого жанра там слушают чаще, чем в Москве.  А Москва — город контрастов, в котором, тем не менее, преобладает поп-музыка."
   ]
  },
  {
   "cell_type": "markdown",
   "metadata": {
    "deletable": false,
    "editable": false,
    "id": "DlegSvaT_Zcu",
    "tags": [
     "start_task"
    ]
   },
   "source": [
    "**Задание 26**\n",
    "\n",
    "Сгруппируйте таблицу `moscow_general` по жанру и посчитайте прослушивания треков каждого жанра методом `count()`. Затем отсортируйте результат в порядке убывания и сохраните его в таблице `moscow_genres`."
   ]
  },
  {
   "cell_type": "code",
   "execution_count": 35,
   "metadata": {
    "deletable": false,
    "id": "r19lIPke_Zcu"
   },
   "outputs": [],
   "source": [
    "moscow_genres = moscow_general.groupby('genre')['genre'].count()\n",
    "moscow_genres = moscow_genres.sort_values(ascending=False)"
   ]
  },
  {
   "cell_type": "markdown",
   "metadata": {
    "deletable": false,
    "editable": false,
    "id": "6kMuomxTiIr8",
    "tags": [
     "start_task"
    ]
   },
   "source": [
    "**Задание 27**\n",
    "\n",
    "Выведите на экран первые десять строк `moscow_genres`:"
   ]
  },
  {
   "cell_type": "code",
   "execution_count": 36,
   "metadata": {
    "deletable": false,
    "id": "WhCSooF8_Zcv"
   },
   "outputs": [
    {
     "data": {
      "text/plain": [
       "genre\n",
       "pop            5892\n",
       "dance          4435\n",
       "rock           3965\n",
       "electronic     3786\n",
       "hiphop         2096\n",
       "classical      1616\n",
       "world          1432\n",
       "alternative    1379\n",
       "ruspop         1372\n",
       "rusrap         1161\n",
       "Name: genre, dtype: int64"
      ]
     },
     "execution_count": 36,
     "metadata": {},
     "output_type": "execute_result"
    }
   ],
   "source": [
    "moscow_genres.head (10)"
   ]
  },
  {
   "cell_type": "markdown",
   "metadata": {
    "deletable": false,
    "editable": false,
    "id": "cnPG2vnN_Zcv",
    "tags": [
     "start_task"
    ]
   },
   "source": [
    "**Задание 28**\n",
    "\n",
    "\n",
    "Теперь повторите то же и для Петербурга.\n",
    "\n",
    "Сгруппируйте таблицу `spb_general` по жанру. Посчитайте прослушивания треков каждого жанра. Результат отсортируйте в порядке убывания и сохраните в таблице `spb_genres`:\n"
   ]
  },
  {
   "cell_type": "code",
   "execution_count": 39,
   "metadata": {
    "deletable": false,
    "id": "gluLIpE7_Zcv"
   },
   "outputs": [],
   "source": [
    "spb_genres = spb_general.groupby('genre')['genre'].count()\n",
    "spb_genres = spb_genres.sort_values(ascending=False)"
   ]
  },
  {
   "cell_type": "markdown",
   "metadata": {
    "deletable": false,
    "editable": false,
    "id": "5Doha_ODgyQ8",
    "tags": [
     "start_task"
    ]
   },
   "source": [
    "**Задание 29**\n",
    "\n",
    "Выведите на экран первые десять строк `spb_genres`:"
   ]
  },
  {
   "cell_type": "code",
   "execution_count": 40,
   "metadata": {
    "deletable": false,
    "id": "uaGJHjVU_Zcv"
   },
   "outputs": [
    {
     "data": {
      "text/plain": [
       "genre\n",
       "pop            2431\n",
       "dance          1932\n",
       "rock           1879\n",
       "electronic     1736\n",
       "hiphop          960\n",
       "alternative     649\n",
       "classical       646\n",
       "rusrap          564\n",
       "ruspop          538\n",
       "world           515\n",
       "Name: genre, dtype: int64"
      ]
     },
     "execution_count": 40,
     "metadata": {},
     "output_type": "execute_result"
    }
   ],
   "source": [
    "spb_genres.head (10)"
   ]
  },
  {
   "cell_type": "markdown",
   "metadata": {
    "deletable": false,
    "editable": false,
    "id": "RY51YJYu_Zcv"
   },
   "source": [
    "**Выводы**"
   ]
  },
  {
   "cell_type": "markdown",
   "metadata": {
    "deletable": false,
    "editable": false,
    "id": "nVhnJEm__Zcv"
   },
   "source": [
    "Гипотеза частично подтвердилась:\n",
    "* Поп-музыка — самый популярный жанр в Москве, как и предполагала гипотеза. Более того, в топ-10 жанров встречается близкий жанр — русская популярная музыка.\n",
    "* Вопреки ожиданиям, рэп одинаково популярен в Москве и Петербурге. \n"
   ]
  },
  {
   "cell_type": "markdown",
   "metadata": {
    "deletable": false,
    "editable": false,
    "id": "ykKQ0N65_Zcv"
   },
   "source": [
    "## Итоги исследования"
   ]
  },
  {
   "cell_type": "markdown",
   "metadata": {
    "deletable": false,
    "editable": false,
    "id": "tjUwbHb3_Zcv"
   },
   "source": [
    "Вы проверили три гипотезы и установили:\n",
    "\n",
    "1. День недели по-разному влияет на активность пользователей в Москве и Петербурге. \n",
    "\n",
    "Первая гипотеза полностью подтвердилась.\n",
    "\n",
    "2. Музыкальные предпочтения не сильно меняются в течение недели — будь то Москва или Петербург. Небольшие различия заметны в начале недели, по понедельникам:\n",
    "* в Москве слушают музыку жанра “world”,\n",
    "* в Петербурге — джаз и классику.\n",
    "\n",
    "Таким образом, вторая гипотеза подтвердилась лишь отчасти. Этот результат мог оказаться иным, если бы не пропуски в данных.\n",
    "\n",
    "3. Во вкусах пользователей Москвы и Петербурга больше общего чем различий. Вопреки ожиданиям, предпочтения жанров в Петербурге напоминают московские.\n",
    "\n",
    "Третья гипотеза не подтвердилась. Если различия в предпочтениях и существуют, на основной массе пользователей они незаметны.\n",
    "\n",
    "**На практике исследования содержат проверки статистических гипотез.**\n",
    "Из данных одного сервиса не всегда можно сделать вывод о всех жителях города.\n",
    "Проверки статистических гипотез покажут, насколько они достоверны, исходя из имеющихся данных. \n",
    "С методами проверок гипотез вы ещё познакомитесь в следующих темах."
   ]
  }
 ],
 "metadata": {
  "ExecuteTimeLog": [
   {
    "duration": 3,
    "start_time": "2022-11-27T15:08:21.688Z"
   },
   {
    "duration": 71,
    "start_time": "2022-11-27T15:09:58.126Z"
   },
   {
    "duration": 78,
    "start_time": "2022-11-27T15:10:18.076Z"
   },
   {
    "duration": 431,
    "start_time": "2022-11-27T15:10:34.045Z"
   },
   {
    "duration": 182,
    "start_time": "2022-11-27T15:10:36.908Z"
   },
   {
    "duration": 8,
    "start_time": "2022-11-27T15:11:16.829Z"
   },
   {
    "duration": 29,
    "start_time": "2022-11-27T15:11:40.518Z"
   },
   {
    "duration": 8,
    "start_time": "2022-11-27T15:38:23.449Z"
   },
   {
    "duration": 13,
    "start_time": "2022-11-27T15:42:48.149Z"
   },
   {
    "duration": 4,
    "start_time": "2022-11-27T15:43:15.620Z"
   },
   {
    "duration": 13,
    "start_time": "2022-11-27T15:44:29.194Z"
   },
   {
    "duration": 4,
    "start_time": "2022-11-27T15:44:33.310Z"
   },
   {
    "duration": 8,
    "start_time": "2022-11-27T15:45:08.679Z"
   },
   {
    "duration": 4,
    "start_time": "2022-11-27T15:45:18.344Z"
   },
   {
    "duration": 3,
    "start_time": "2022-11-27T15:47:15.498Z"
   },
   {
    "duration": 23,
    "start_time": "2022-11-27T15:53:21.629Z"
   },
   {
    "duration": 17,
    "start_time": "2022-11-27T16:02:00.713Z"
   },
   {
    "duration": 28,
    "start_time": "2022-11-27T16:02:28.210Z"
   },
   {
    "duration": 63,
    "start_time": "2022-11-27T16:04:26.263Z"
   },
   {
    "duration": 60,
    "start_time": "2022-11-27T16:06:22.720Z"
   },
   {
    "duration": 63,
    "start_time": "2022-11-27T16:07:19.900Z"
   },
   {
    "duration": 62,
    "start_time": "2022-11-27T16:08:00.726Z"
   },
   {
    "duration": 79,
    "start_time": "2022-11-27T16:09:57.848Z"
   },
   {
    "duration": 51,
    "start_time": "2022-11-27T16:10:20.722Z"
   },
   {
    "duration": 6,
    "start_time": "2022-11-27T16:14:02.245Z"
   },
   {
    "duration": 12,
    "start_time": "2022-11-27T16:23:00.720Z"
   },
   {
    "duration": 66,
    "start_time": "2022-11-27T16:24:55.081Z"
   },
   {
    "duration": 47,
    "start_time": "2022-11-27T16:27:17.722Z"
   },
   {
    "duration": 48,
    "start_time": "2022-11-28T07:04:59.519Z"
   },
   {
    "duration": 8,
    "start_time": "2022-11-28T07:05:39.217Z"
   },
   {
    "duration": 9,
    "start_time": "2022-11-28T07:10:45.443Z"
   },
   {
    "duration": 7,
    "start_time": "2022-11-28T07:12:23.774Z"
   },
   {
    "duration": 435,
    "start_time": "2022-11-28T07:23:24.390Z"
   },
   {
    "duration": 238,
    "start_time": "2022-11-28T07:23:24.827Z"
   },
   {
    "duration": 9,
    "start_time": "2022-11-28T07:23:25.067Z"
   },
   {
    "duration": 30,
    "start_time": "2022-11-28T07:23:25.079Z"
   },
   {
    "duration": 2,
    "start_time": "2022-11-28T07:23:25.111Z"
   },
   {
    "duration": 12,
    "start_time": "2022-11-28T07:23:25.115Z"
   },
   {
    "duration": 18,
    "start_time": "2022-11-28T07:23:25.129Z"
   },
   {
    "duration": 7,
    "start_time": "2022-11-28T07:23:25.149Z"
   },
   {
    "duration": 25,
    "start_time": "2022-11-28T07:23:25.158Z"
   },
   {
    "duration": 39,
    "start_time": "2022-11-28T07:23:25.186Z"
   },
   {
    "duration": 22,
    "start_time": "2022-11-28T07:23:25.227Z"
   },
   {
    "duration": 84,
    "start_time": "2022-11-28T07:23:25.251Z"
   },
   {
    "duration": 86,
    "start_time": "2022-11-28T07:23:25.337Z"
   },
   {
    "duration": 64,
    "start_time": "2022-11-28T07:23:25.425Z"
   },
   {
    "duration": 24,
    "start_time": "2022-11-28T07:23:25.491Z"
   },
   {
    "duration": 19,
    "start_time": "2022-11-28T07:23:25.517Z"
   },
   {
    "duration": 62,
    "start_time": "2022-11-28T07:23:25.538Z"
   },
   {
    "duration": 18,
    "start_time": "2022-11-28T07:23:25.603Z"
   },
   {
    "duration": 10,
    "start_time": "2022-11-28T07:23:25.622Z"
   },
   {
    "duration": 6,
    "start_time": "2022-11-28T07:23:25.633Z"
   },
   {
    "duration": 18,
    "start_time": "2022-11-28T07:23:25.641Z"
   },
   {
    "duration": 10,
    "start_time": "2022-11-28T07:23:25.660Z"
   },
   {
    "duration": 9,
    "start_time": "2022-11-28T07:23:25.671Z"
   },
   {
    "duration": 14,
    "start_time": "2022-11-28T07:23:25.681Z"
   },
   {
    "duration": 21,
    "start_time": "2022-11-28T07:23:25.698Z"
   },
   {
    "duration": 10,
    "start_time": "2022-11-28T07:23:25.721Z"
   },
   {
    "duration": 12,
    "start_time": "2022-11-28T07:23:25.733Z"
   },
   {
    "duration": 19,
    "start_time": "2022-11-28T07:23:25.750Z"
   },
   {
    "duration": 7,
    "start_time": "2022-11-28T07:23:25.771Z"
   },
   {
    "duration": 56,
    "start_time": "2022-11-28T07:23:25.779Z"
   },
   {
    "duration": 0,
    "start_time": "2022-11-28T07:23:25.837Z"
   },
   {
    "duration": 0,
    "start_time": "2022-11-28T07:23:25.838Z"
   },
   {
    "duration": 0,
    "start_time": "2022-11-28T07:23:25.840Z"
   },
   {
    "duration": 0,
    "start_time": "2022-11-28T07:23:25.841Z"
   },
   {
    "duration": 0,
    "start_time": "2022-11-28T07:23:25.842Z"
   },
   {
    "duration": 0,
    "start_time": "2022-11-28T07:23:25.844Z"
   },
   {
    "duration": 0,
    "start_time": "2022-11-28T07:23:25.845Z"
   },
   {
    "duration": 0,
    "start_time": "2022-11-28T07:23:25.846Z"
   },
   {
    "duration": 12,
    "start_time": "2022-11-28T07:23:45.804Z"
   },
   {
    "duration": 16,
    "start_time": "2022-11-28T07:25:19.264Z"
   },
   {
    "duration": 17,
    "start_time": "2022-11-28T07:26:44.160Z"
   },
   {
    "duration": 3,
    "start_time": "2022-11-28T07:37:32.818Z"
   },
   {
    "duration": 3,
    "start_time": "2022-11-28T07:37:35.563Z"
   },
   {
    "duration": 3,
    "start_time": "2022-11-28T07:37:38.475Z"
   },
   {
    "duration": 4,
    "start_time": "2022-11-28T07:41:06.298Z"
   },
   {
    "duration": 13,
    "start_time": "2022-11-28T07:44:23.024Z"
   },
   {
    "duration": 533,
    "start_time": "2022-11-28T07:45:45.664Z"
   },
   {
    "duration": 521,
    "start_time": "2022-11-28T07:46:07.194Z"
   },
   {
    "duration": 434,
    "start_time": "2022-11-28T07:46:11.068Z"
   },
   {
    "duration": 12,
    "start_time": "2022-11-28T07:46:27.738Z"
   },
   {
    "duration": 12,
    "start_time": "2022-11-28T07:46:33.875Z"
   },
   {
    "duration": 12,
    "start_time": "2022-11-28T07:47:13.235Z"
   },
   {
    "duration": 12,
    "start_time": "2022-11-28T07:47:57.900Z"
   },
   {
    "duration": 5,
    "start_time": "2022-11-28T07:51:31.159Z"
   },
   {
    "duration": 20,
    "start_time": "2022-11-28T07:51:44.960Z"
   },
   {
    "duration": 4,
    "start_time": "2022-11-28T07:52:41.696Z"
   },
   {
    "duration": 395,
    "start_time": "2022-11-28T07:52:47.436Z"
   },
   {
    "duration": 168,
    "start_time": "2022-11-28T07:52:47.832Z"
   },
   {
    "duration": 9,
    "start_time": "2022-11-28T07:52:48.002Z"
   },
   {
    "duration": 32,
    "start_time": "2022-11-28T07:52:48.014Z"
   },
   {
    "duration": 5,
    "start_time": "2022-11-28T07:52:48.048Z"
   },
   {
    "duration": 17,
    "start_time": "2022-11-28T07:52:48.055Z"
   },
   {
    "duration": 38,
    "start_time": "2022-11-28T07:52:48.074Z"
   },
   {
    "duration": 15,
    "start_time": "2022-11-28T07:52:48.115Z"
   },
   {
    "duration": 47,
    "start_time": "2022-11-28T07:52:48.132Z"
   },
   {
    "duration": 29,
    "start_time": "2022-11-28T07:52:48.184Z"
   },
   {
    "duration": 40,
    "start_time": "2022-11-28T07:52:48.215Z"
   },
   {
    "duration": 82,
    "start_time": "2022-11-28T07:52:48.257Z"
   },
   {
    "duration": 87,
    "start_time": "2022-11-28T07:52:48.341Z"
   },
   {
    "duration": 59,
    "start_time": "2022-11-28T07:52:48.430Z"
   },
   {
    "duration": 21,
    "start_time": "2022-11-28T07:52:48.491Z"
   },
   {
    "duration": 13,
    "start_time": "2022-11-28T07:52:48.514Z"
   },
   {
    "duration": 48,
    "start_time": "2022-11-28T07:52:48.530Z"
   },
   {
    "duration": 44,
    "start_time": "2022-11-28T07:52:48.580Z"
   },
   {
    "duration": 12,
    "start_time": "2022-11-28T07:52:48.626Z"
   },
   {
    "duration": 5,
    "start_time": "2022-11-28T07:52:48.640Z"
   },
   {
    "duration": 0,
    "start_time": "2022-11-28T07:52:48.648Z"
   },
   {
    "duration": 0,
    "start_time": "2022-11-28T07:52:48.649Z"
   },
   {
    "duration": 0,
    "start_time": "2022-11-28T07:52:48.651Z"
   },
   {
    "duration": 0,
    "start_time": "2022-11-28T07:52:48.652Z"
   },
   {
    "duration": 0,
    "start_time": "2022-11-28T07:52:48.654Z"
   },
   {
    "duration": 0,
    "start_time": "2022-11-28T07:52:48.656Z"
   },
   {
    "duration": 0,
    "start_time": "2022-11-28T07:52:48.657Z"
   },
   {
    "duration": 0,
    "start_time": "2022-11-28T07:52:48.658Z"
   },
   {
    "duration": 0,
    "start_time": "2022-11-28T07:52:48.660Z"
   },
   {
    "duration": 1,
    "start_time": "2022-11-28T07:52:48.661Z"
   },
   {
    "duration": 0,
    "start_time": "2022-11-28T07:52:48.663Z"
   },
   {
    "duration": 0,
    "start_time": "2022-11-28T07:52:48.665Z"
   },
   {
    "duration": 0,
    "start_time": "2022-11-28T07:52:48.713Z"
   },
   {
    "duration": 0,
    "start_time": "2022-11-28T07:52:48.715Z"
   },
   {
    "duration": 0,
    "start_time": "2022-11-28T07:52:48.717Z"
   },
   {
    "duration": 0,
    "start_time": "2022-11-28T07:52:48.719Z"
   },
   {
    "duration": 0,
    "start_time": "2022-11-28T07:52:48.722Z"
   },
   {
    "duration": 0,
    "start_time": "2022-11-28T07:52:48.724Z"
   },
   {
    "duration": 5,
    "start_time": "2022-11-28T07:53:07.816Z"
   },
   {
    "duration": 60,
    "start_time": "2022-11-28T07:53:53.650Z"
   },
   {
    "duration": 412,
    "start_time": "2022-11-28T07:54:06.548Z"
   },
   {
    "duration": 182,
    "start_time": "2022-11-28T07:54:06.963Z"
   },
   {
    "duration": 9,
    "start_time": "2022-11-28T07:54:07.147Z"
   },
   {
    "duration": 36,
    "start_time": "2022-11-28T07:54:07.158Z"
   },
   {
    "duration": 16,
    "start_time": "2022-11-28T07:54:07.196Z"
   },
   {
    "duration": 23,
    "start_time": "2022-11-28T07:54:07.214Z"
   },
   {
    "duration": 23,
    "start_time": "2022-11-28T07:54:07.239Z"
   },
   {
    "duration": 15,
    "start_time": "2022-11-28T07:54:07.264Z"
   },
   {
    "duration": 37,
    "start_time": "2022-11-28T07:54:07.281Z"
   },
   {
    "duration": 30,
    "start_time": "2022-11-28T07:54:07.320Z"
   },
   {
    "duration": 26,
    "start_time": "2022-11-28T07:54:07.352Z"
   },
   {
    "duration": 93,
    "start_time": "2022-11-28T07:54:07.380Z"
   },
   {
    "duration": 88,
    "start_time": "2022-11-28T07:54:07.474Z"
   },
   {
    "duration": 72,
    "start_time": "2022-11-28T07:54:07.565Z"
   },
   {
    "duration": 7,
    "start_time": "2022-11-28T07:54:07.639Z"
   },
   {
    "duration": 20,
    "start_time": "2022-11-28T07:54:07.648Z"
   },
   {
    "duration": 70,
    "start_time": "2022-11-28T07:54:07.669Z"
   },
   {
    "duration": 11,
    "start_time": "2022-11-28T07:54:07.741Z"
   },
   {
    "duration": 17,
    "start_time": "2022-11-28T07:54:07.754Z"
   },
   {
    "duration": 60,
    "start_time": "2022-11-28T07:54:07.773Z"
   },
   {
    "duration": 0,
    "start_time": "2022-11-28T07:54:07.834Z"
   },
   {
    "duration": 0,
    "start_time": "2022-11-28T07:54:07.835Z"
   },
   {
    "duration": 0,
    "start_time": "2022-11-28T07:54:07.836Z"
   },
   {
    "duration": 0,
    "start_time": "2022-11-28T07:54:07.837Z"
   },
   {
    "duration": 0,
    "start_time": "2022-11-28T07:54:07.838Z"
   },
   {
    "duration": 1,
    "start_time": "2022-11-28T07:54:07.839Z"
   },
   {
    "duration": 0,
    "start_time": "2022-11-28T07:54:07.841Z"
   },
   {
    "duration": 0,
    "start_time": "2022-11-28T07:54:07.842Z"
   },
   {
    "duration": 0,
    "start_time": "2022-11-28T07:54:07.843Z"
   },
   {
    "duration": 0,
    "start_time": "2022-11-28T07:54:07.844Z"
   },
   {
    "duration": 0,
    "start_time": "2022-11-28T07:54:07.845Z"
   },
   {
    "duration": 0,
    "start_time": "2022-11-28T07:54:07.846Z"
   },
   {
    "duration": 0,
    "start_time": "2022-11-28T07:54:07.848Z"
   },
   {
    "duration": 0,
    "start_time": "2022-11-28T07:54:07.849Z"
   },
   {
    "duration": 0,
    "start_time": "2022-11-28T07:54:07.850Z"
   },
   {
    "duration": 0,
    "start_time": "2022-11-28T07:54:07.851Z"
   },
   {
    "duration": 0,
    "start_time": "2022-11-28T07:54:07.852Z"
   },
   {
    "duration": 0,
    "start_time": "2022-11-28T07:54:07.852Z"
   },
   {
    "duration": 50,
    "start_time": "2022-11-28T07:54:29.409Z"
   },
   {
    "duration": 3,
    "start_time": "2022-11-28T07:55:33.363Z"
   },
   {
    "duration": 17,
    "start_time": "2022-11-28T07:57:41.213Z"
   },
   {
    "duration": 17,
    "start_time": "2022-11-28T07:57:43.860Z"
   },
   {
    "duration": 15,
    "start_time": "2022-11-28T07:57:45.694Z"
   },
   {
    "duration": 14,
    "start_time": "2022-11-28T07:57:47.940Z"
   },
   {
    "duration": 17,
    "start_time": "2022-11-28T07:57:53.676Z"
   },
   {
    "duration": 15,
    "start_time": "2022-11-28T07:57:56.869Z"
   },
   {
    "duration": 6,
    "start_time": "2022-11-28T08:01:40.011Z"
   },
   {
    "duration": 8,
    "start_time": "2022-11-28T08:02:23.193Z"
   },
   {
    "duration": 67,
    "start_time": "2022-11-28T08:26:31.511Z"
   },
   {
    "duration": 7,
    "start_time": "2022-11-28T08:28:15.004Z"
   },
   {
    "duration": 7,
    "start_time": "2022-11-28T08:28:41.136Z"
   },
   {
    "duration": 6,
    "start_time": "2022-11-28T08:29:09.529Z"
   },
   {
    "duration": 110,
    "start_time": "2022-11-28T08:38:58.466Z"
   },
   {
    "duration": 411,
    "start_time": "2022-11-28T08:39:26.363Z"
   },
   {
    "duration": 175,
    "start_time": "2022-11-28T08:39:26.776Z"
   },
   {
    "duration": 11,
    "start_time": "2022-11-28T08:39:26.952Z"
   },
   {
    "duration": 31,
    "start_time": "2022-11-28T08:39:26.965Z"
   },
   {
    "duration": 22,
    "start_time": "2022-11-28T08:39:26.998Z"
   },
   {
    "duration": 23,
    "start_time": "2022-11-28T08:39:27.022Z"
   },
   {
    "duration": 20,
    "start_time": "2022-11-28T08:39:27.047Z"
   },
   {
    "duration": 15,
    "start_time": "2022-11-28T08:39:27.068Z"
   },
   {
    "duration": 41,
    "start_time": "2022-11-28T08:39:27.085Z"
   },
   {
    "duration": 18,
    "start_time": "2022-11-28T08:39:27.129Z"
   },
   {
    "duration": 22,
    "start_time": "2022-11-28T08:39:27.149Z"
   },
   {
    "duration": 91,
    "start_time": "2022-11-28T08:39:27.172Z"
   },
   {
    "duration": 84,
    "start_time": "2022-11-28T08:39:27.265Z"
   },
   {
    "duration": 71,
    "start_time": "2022-11-28T08:39:27.351Z"
   },
   {
    "duration": 7,
    "start_time": "2022-11-28T08:39:27.424Z"
   },
   {
    "duration": 20,
    "start_time": "2022-11-28T08:39:27.432Z"
   },
   {
    "duration": 62,
    "start_time": "2022-11-28T08:39:27.453Z"
   },
   {
    "duration": 12,
    "start_time": "2022-11-28T08:39:27.517Z"
   },
   {
    "duration": 15,
    "start_time": "2022-11-28T08:39:27.531Z"
   },
   {
    "duration": 7,
    "start_time": "2022-11-28T08:39:27.547Z"
   },
   {
    "duration": 25,
    "start_time": "2022-11-28T08:39:27.556Z"
   },
   {
    "duration": 33,
    "start_time": "2022-11-28T08:39:27.583Z"
   },
   {
    "duration": 16,
    "start_time": "2022-11-28T08:39:27.617Z"
   },
   {
    "duration": 27,
    "start_time": "2022-11-28T08:39:27.634Z"
   },
   {
    "duration": 16,
    "start_time": "2022-11-28T08:39:27.663Z"
   },
   {
    "duration": 33,
    "start_time": "2022-11-28T08:39:27.680Z"
   },
   {
    "duration": 7,
    "start_time": "2022-11-28T08:39:27.715Z"
   },
   {
    "duration": 10,
    "start_time": "2022-11-28T08:39:27.725Z"
   },
   {
    "duration": 13,
    "start_time": "2022-11-28T08:39:27.737Z"
   },
   {
    "duration": 192,
    "start_time": "2022-11-28T08:39:27.752Z"
   },
   {
    "duration": 0,
    "start_time": "2022-11-28T08:39:27.945Z"
   },
   {
    "duration": 0,
    "start_time": "2022-11-28T08:39:27.947Z"
   },
   {
    "duration": 0,
    "start_time": "2022-11-28T08:39:27.948Z"
   },
   {
    "duration": 0,
    "start_time": "2022-11-28T08:39:27.949Z"
   },
   {
    "duration": 0,
    "start_time": "2022-11-28T08:39:27.950Z"
   },
   {
    "duration": 0,
    "start_time": "2022-11-28T08:39:27.951Z"
   },
   {
    "duration": 0,
    "start_time": "2022-11-28T08:39:27.953Z"
   },
   {
    "duration": 0,
    "start_time": "2022-11-28T08:39:27.954Z"
   },
   {
    "duration": 54,
    "start_time": "2022-11-28T08:39:46.739Z"
   },
   {
    "duration": 43,
    "start_time": "2022-11-28T08:40:24.643Z"
   },
   {
    "duration": 179,
    "start_time": "2022-11-28T08:41:25.232Z"
   },
   {
    "duration": 5,
    "start_time": "2022-11-28T08:43:38.405Z"
   },
   {
    "duration": 4,
    "start_time": "2022-11-28T08:44:04.199Z"
   },
   {
    "duration": 4,
    "start_time": "2022-11-28T08:44:07.391Z"
   },
   {
    "duration": 72,
    "start_time": "2022-11-28T08:48:18.866Z"
   },
   {
    "duration": 5,
    "start_time": "2022-11-28T08:49:48.516Z"
   },
   {
    "duration": 14,
    "start_time": "2022-11-28T08:49:53.236Z"
   },
   {
    "duration": 407,
    "start_time": "2022-11-28T08:50:09.156Z"
   },
   {
    "duration": 175,
    "start_time": "2022-11-28T08:50:09.565Z"
   },
   {
    "duration": 11,
    "start_time": "2022-11-28T08:50:09.742Z"
   },
   {
    "duration": 35,
    "start_time": "2022-11-28T08:50:09.755Z"
   },
   {
    "duration": 3,
    "start_time": "2022-11-28T08:50:09.792Z"
   },
   {
    "duration": 10,
    "start_time": "2022-11-28T08:50:09.812Z"
   },
   {
    "duration": 15,
    "start_time": "2022-11-28T08:50:09.824Z"
   },
   {
    "duration": 7,
    "start_time": "2022-11-28T08:50:09.840Z"
   },
   {
    "duration": 26,
    "start_time": "2022-11-28T08:50:09.849Z"
   },
   {
    "duration": 43,
    "start_time": "2022-11-28T08:50:09.879Z"
   },
   {
    "duration": 25,
    "start_time": "2022-11-28T08:50:09.924Z"
   },
   {
    "duration": 95,
    "start_time": "2022-11-28T08:50:09.951Z"
   },
   {
    "duration": 90,
    "start_time": "2022-11-28T08:50:10.049Z"
   },
   {
    "duration": 71,
    "start_time": "2022-11-28T08:50:10.141Z"
   },
   {
    "duration": 7,
    "start_time": "2022-11-28T08:50:10.214Z"
   },
   {
    "duration": 13,
    "start_time": "2022-11-28T08:50:10.222Z"
   },
   {
    "duration": 54,
    "start_time": "2022-11-28T08:50:10.236Z"
   },
   {
    "duration": 31,
    "start_time": "2022-11-28T08:50:10.291Z"
   },
   {
    "duration": 12,
    "start_time": "2022-11-28T08:50:10.323Z"
   },
   {
    "duration": 3,
    "start_time": "2022-11-28T08:50:10.337Z"
   },
   {
    "duration": 19,
    "start_time": "2022-11-28T08:50:10.341Z"
   },
   {
    "duration": 15,
    "start_time": "2022-11-28T08:50:10.362Z"
   },
   {
    "duration": 19,
    "start_time": "2022-11-28T08:50:10.415Z"
   },
   {
    "duration": 15,
    "start_time": "2022-11-28T08:50:10.435Z"
   },
   {
    "duration": 20,
    "start_time": "2022-11-28T08:50:10.452Z"
   },
   {
    "duration": 38,
    "start_time": "2022-11-28T08:50:10.474Z"
   },
   {
    "duration": 6,
    "start_time": "2022-11-28T08:50:10.515Z"
   },
   {
    "duration": 8,
    "start_time": "2022-11-28T08:50:10.525Z"
   },
   {
    "duration": 12,
    "start_time": "2022-11-28T08:50:10.535Z"
   },
   {
    "duration": 9,
    "start_time": "2022-11-28T08:50:10.548Z"
   },
   {
    "duration": 81,
    "start_time": "2022-11-28T08:50:10.559Z"
   },
   {
    "duration": 0,
    "start_time": "2022-11-28T08:50:10.643Z"
   },
   {
    "duration": 0,
    "start_time": "2022-11-28T08:50:10.644Z"
   },
   {
    "duration": 0,
    "start_time": "2022-11-28T08:50:10.645Z"
   },
   {
    "duration": 0,
    "start_time": "2022-11-28T08:50:10.646Z"
   },
   {
    "duration": 0,
    "start_time": "2022-11-28T08:50:10.647Z"
   },
   {
    "duration": 0,
    "start_time": "2022-11-28T08:50:10.648Z"
   },
   {
    "duration": 0,
    "start_time": "2022-11-28T08:50:10.650Z"
   },
   {
    "duration": 16,
    "start_time": "2022-11-28T08:50:26.406Z"
   },
   {
    "duration": 13,
    "start_time": "2022-11-28T08:55:16.895Z"
   },
   {
    "duration": 18,
    "start_time": "2022-11-28T08:57:55.340Z"
   },
   {
    "duration": 18,
    "start_time": "2022-11-28T08:57:59.571Z"
   },
   {
    "duration": 391,
    "start_time": "2022-11-28T08:58:10.357Z"
   },
   {
    "duration": 193,
    "start_time": "2022-11-28T08:58:10.751Z"
   },
   {
    "duration": 10,
    "start_time": "2022-11-28T08:58:10.946Z"
   },
   {
    "duration": 70,
    "start_time": "2022-11-28T08:58:10.959Z"
   },
   {
    "duration": 24,
    "start_time": "2022-11-28T08:58:11.032Z"
   },
   {
    "duration": 54,
    "start_time": "2022-11-28T08:58:11.058Z"
   },
   {
    "duration": 79,
    "start_time": "2022-11-28T08:58:11.114Z"
   },
   {
    "duration": 22,
    "start_time": "2022-11-28T08:58:11.195Z"
   },
   {
    "duration": 53,
    "start_time": "2022-11-28T08:58:11.219Z"
   },
   {
    "duration": 50,
    "start_time": "2022-11-28T08:58:11.275Z"
   },
   {
    "duration": 53,
    "start_time": "2022-11-28T08:58:11.328Z"
   },
   {
    "duration": 142,
    "start_time": "2022-11-28T08:58:11.384Z"
   },
   {
    "duration": 99,
    "start_time": "2022-11-28T08:58:11.527Z"
   },
   {
    "duration": 84,
    "start_time": "2022-11-28T08:58:11.628Z"
   },
   {
    "duration": 8,
    "start_time": "2022-11-28T08:58:11.715Z"
   },
   {
    "duration": 49,
    "start_time": "2022-11-28T08:58:11.725Z"
   },
   {
    "duration": 70,
    "start_time": "2022-11-28T08:58:11.776Z"
   },
   {
    "duration": 14,
    "start_time": "2022-11-28T08:58:11.849Z"
   },
   {
    "duration": 34,
    "start_time": "2022-11-28T08:58:11.865Z"
   },
   {
    "duration": 12,
    "start_time": "2022-11-28T08:58:11.902Z"
   },
   {
    "duration": 23,
    "start_time": "2022-11-28T08:58:11.916Z"
   },
   {
    "duration": 37,
    "start_time": "2022-11-28T08:58:11.941Z"
   },
   {
    "duration": 27,
    "start_time": "2022-11-28T08:58:11.979Z"
   },
   {
    "duration": 26,
    "start_time": "2022-11-28T08:58:12.009Z"
   },
   {
    "duration": 55,
    "start_time": "2022-11-28T08:58:12.037Z"
   },
   {
    "duration": 37,
    "start_time": "2022-11-28T08:58:12.094Z"
   },
   {
    "duration": 17,
    "start_time": "2022-11-28T08:58:12.133Z"
   },
   {
    "duration": 28,
    "start_time": "2022-11-28T08:58:12.155Z"
   },
   {
    "duration": 19,
    "start_time": "2022-11-28T08:58:12.186Z"
   },
   {
    "duration": 21,
    "start_time": "2022-11-28T08:58:12.207Z"
   },
   {
    "duration": 86,
    "start_time": "2022-11-28T08:58:12.230Z"
   },
   {
    "duration": 0,
    "start_time": "2022-11-28T08:58:12.318Z"
   },
   {
    "duration": 0,
    "start_time": "2022-11-28T08:58:12.319Z"
   },
   {
    "duration": 0,
    "start_time": "2022-11-28T08:58:12.320Z"
   },
   {
    "duration": 0,
    "start_time": "2022-11-28T08:58:12.322Z"
   },
   {
    "duration": 0,
    "start_time": "2022-11-28T08:58:12.323Z"
   },
   {
    "duration": 0,
    "start_time": "2022-11-28T08:58:12.324Z"
   },
   {
    "duration": 0,
    "start_time": "2022-11-28T08:58:12.325Z"
   },
   {
    "duration": 427,
    "start_time": "2022-11-28T09:10:45.089Z"
   },
   {
    "duration": 169,
    "start_time": "2022-11-28T09:10:45.518Z"
   },
   {
    "duration": 9,
    "start_time": "2022-11-28T09:10:45.689Z"
   },
   {
    "duration": 61,
    "start_time": "2022-11-28T09:10:45.700Z"
   },
   {
    "duration": 13,
    "start_time": "2022-11-28T09:10:45.763Z"
   },
   {
    "duration": 30,
    "start_time": "2022-11-28T09:10:45.777Z"
   },
   {
    "duration": 30,
    "start_time": "2022-11-28T09:10:45.809Z"
   },
   {
    "duration": 33,
    "start_time": "2022-11-28T09:10:45.840Z"
   },
   {
    "duration": 33,
    "start_time": "2022-11-28T09:10:45.875Z"
   },
   {
    "duration": 16,
    "start_time": "2022-11-28T09:10:45.911Z"
   },
   {
    "duration": 21,
    "start_time": "2022-11-28T09:10:45.929Z"
   },
   {
    "duration": 79,
    "start_time": "2022-11-28T09:10:45.952Z"
   },
   {
    "duration": 80,
    "start_time": "2022-11-28T09:10:46.033Z"
   },
   {
    "duration": 57,
    "start_time": "2022-11-28T09:10:46.115Z"
   },
   {
    "duration": 6,
    "start_time": "2022-11-28T09:10:46.174Z"
   },
   {
    "duration": 33,
    "start_time": "2022-11-28T09:10:46.182Z"
   },
   {
    "duration": 47,
    "start_time": "2022-11-28T09:10:46.217Z"
   },
   {
    "duration": 12,
    "start_time": "2022-11-28T09:10:46.266Z"
   },
   {
    "duration": 34,
    "start_time": "2022-11-28T09:10:46.279Z"
   },
   {
    "duration": 3,
    "start_time": "2022-11-28T09:10:46.315Z"
   },
   {
    "duration": 21,
    "start_time": "2022-11-28T09:10:46.319Z"
   },
   {
    "duration": 15,
    "start_time": "2022-11-28T09:10:46.341Z"
   },
   {
    "duration": 21,
    "start_time": "2022-11-28T09:10:46.358Z"
   },
   {
    "duration": 44,
    "start_time": "2022-11-28T09:10:46.381Z"
   },
   {
    "duration": 25,
    "start_time": "2022-11-28T09:10:46.427Z"
   },
   {
    "duration": 17,
    "start_time": "2022-11-28T09:10:46.454Z"
   },
   {
    "duration": 8,
    "start_time": "2022-11-28T09:10:46.473Z"
   },
   {
    "duration": 17,
    "start_time": "2022-11-28T09:10:46.512Z"
   },
   {
    "duration": 13,
    "start_time": "2022-11-28T09:10:46.531Z"
   },
   {
    "duration": 22,
    "start_time": "2022-11-28T09:10:46.546Z"
   },
   {
    "duration": 86,
    "start_time": "2022-11-28T09:10:46.570Z"
   },
   {
    "duration": 0,
    "start_time": "2022-11-28T09:10:46.658Z"
   },
   {
    "duration": 0,
    "start_time": "2022-11-28T09:10:46.659Z"
   },
   {
    "duration": 0,
    "start_time": "2022-11-28T09:10:46.659Z"
   },
   {
    "duration": 0,
    "start_time": "2022-11-28T09:10:46.660Z"
   },
   {
    "duration": 0,
    "start_time": "2022-11-28T09:10:46.661Z"
   },
   {
    "duration": 0,
    "start_time": "2022-11-28T09:10:46.662Z"
   },
   {
    "duration": 0,
    "start_time": "2022-11-28T09:10:46.663Z"
   },
   {
    "duration": 13,
    "start_time": "2022-11-28T09:11:00.046Z"
   },
   {
    "duration": 13,
    "start_time": "2022-11-28T09:11:06.494Z"
   },
   {
    "duration": 12,
    "start_time": "2022-11-28T09:11:11.454Z"
   },
   {
    "duration": 10,
    "start_time": "2022-11-28T10:06:03.270Z"
   },
   {
    "duration": 386,
    "start_time": "2022-11-28T11:47:12.346Z"
   },
   {
    "duration": 186,
    "start_time": "2022-11-28T11:47:12.735Z"
   },
   {
    "duration": 10,
    "start_time": "2022-11-28T11:47:12.923Z"
   },
   {
    "duration": 30,
    "start_time": "2022-11-28T11:47:12.935Z"
   },
   {
    "duration": 3,
    "start_time": "2022-11-28T11:47:12.966Z"
   },
   {
    "duration": 49,
    "start_time": "2022-11-28T11:47:12.971Z"
   },
   {
    "duration": 21,
    "start_time": "2022-11-28T11:47:13.023Z"
   },
   {
    "duration": 8,
    "start_time": "2022-11-28T11:47:13.046Z"
   },
   {
    "duration": 30,
    "start_time": "2022-11-28T11:47:13.056Z"
   },
   {
    "duration": 34,
    "start_time": "2022-11-28T11:47:13.090Z"
   },
   {
    "duration": 25,
    "start_time": "2022-11-28T11:47:13.126Z"
   },
   {
    "duration": 91,
    "start_time": "2022-11-28T11:47:13.153Z"
   },
   {
    "duration": 111,
    "start_time": "2022-11-28T11:47:13.246Z"
   },
   {
    "duration": 105,
    "start_time": "2022-11-28T11:47:13.360Z"
   },
   {
    "duration": 11,
    "start_time": "2022-11-28T11:47:13.467Z"
   },
   {
    "duration": 38,
    "start_time": "2022-11-28T11:47:13.480Z"
   },
   {
    "duration": 54,
    "start_time": "2022-11-28T11:47:13.520Z"
   },
   {
    "duration": 37,
    "start_time": "2022-11-28T11:47:13.576Z"
   },
   {
    "duration": 14,
    "start_time": "2022-11-28T11:47:13.615Z"
   },
   {
    "duration": 4,
    "start_time": "2022-11-28T11:47:13.634Z"
   },
   {
    "duration": 28,
    "start_time": "2022-11-28T11:47:13.640Z"
   },
   {
    "duration": 56,
    "start_time": "2022-11-28T11:47:13.670Z"
   },
   {
    "duration": 20,
    "start_time": "2022-11-28T11:47:13.728Z"
   },
   {
    "duration": 15,
    "start_time": "2022-11-28T11:47:13.751Z"
   },
   {
    "duration": 52,
    "start_time": "2022-11-28T11:47:13.769Z"
   },
   {
    "duration": 17,
    "start_time": "2022-11-28T11:47:13.823Z"
   },
   {
    "duration": 17,
    "start_time": "2022-11-28T11:47:13.842Z"
   },
   {
    "duration": 11,
    "start_time": "2022-11-28T11:47:13.863Z"
   },
   {
    "duration": 13,
    "start_time": "2022-11-28T11:47:13.876Z"
   },
   {
    "duration": 23,
    "start_time": "2022-11-28T11:47:13.891Z"
   },
   {
    "duration": 86,
    "start_time": "2022-11-28T11:47:13.916Z"
   },
   {
    "duration": 0,
    "start_time": "2022-11-28T11:47:14.005Z"
   },
   {
    "duration": 0,
    "start_time": "2022-11-28T11:47:14.006Z"
   },
   {
    "duration": 0,
    "start_time": "2022-11-28T11:47:14.007Z"
   },
   {
    "duration": 0,
    "start_time": "2022-11-28T11:47:14.012Z"
   },
   {
    "duration": 0,
    "start_time": "2022-11-28T11:47:14.014Z"
   },
   {
    "duration": 0,
    "start_time": "2022-11-28T11:47:14.015Z"
   },
   {
    "duration": 0,
    "start_time": "2022-11-28T11:47:14.017Z"
   },
   {
    "duration": 13,
    "start_time": "2022-11-28T11:47:26.055Z"
   },
   {
    "duration": 434,
    "start_time": "2022-11-28T12:59:27.571Z"
   },
   {
    "duration": 220,
    "start_time": "2022-11-28T12:59:28.007Z"
   },
   {
    "duration": 11,
    "start_time": "2022-11-28T12:59:28.229Z"
   },
   {
    "duration": 39,
    "start_time": "2022-11-28T12:59:28.243Z"
   },
   {
    "duration": 9,
    "start_time": "2022-11-28T12:59:28.284Z"
   },
   {
    "duration": 17,
    "start_time": "2022-11-28T12:59:28.294Z"
   },
   {
    "duration": 34,
    "start_time": "2022-11-28T12:59:28.313Z"
   },
   {
    "duration": 11,
    "start_time": "2022-11-28T12:59:28.349Z"
   },
   {
    "duration": 32,
    "start_time": "2022-11-28T12:59:28.362Z"
   },
   {
    "duration": 34,
    "start_time": "2022-11-28T12:59:28.397Z"
   },
   {
    "duration": 24,
    "start_time": "2022-11-28T12:59:28.433Z"
   },
   {
    "duration": 99,
    "start_time": "2022-11-28T12:59:28.459Z"
   },
   {
    "duration": 105,
    "start_time": "2022-11-28T12:59:28.560Z"
   },
   {
    "duration": 88,
    "start_time": "2022-11-28T12:59:28.667Z"
   },
   {
    "duration": 7,
    "start_time": "2022-11-28T12:59:28.757Z"
   },
   {
    "duration": 45,
    "start_time": "2022-11-28T12:59:28.766Z"
   },
   {
    "duration": 77,
    "start_time": "2022-11-28T12:59:28.813Z"
   },
   {
    "duration": 16,
    "start_time": "2022-11-28T12:59:28.892Z"
   },
   {
    "duration": 102,
    "start_time": "2022-11-28T12:59:28.910Z"
   },
   {
    "duration": 19,
    "start_time": "2022-11-28T12:59:29.015Z"
   },
   {
    "duration": 35,
    "start_time": "2022-11-28T12:59:29.036Z"
   },
   {
    "duration": 45,
    "start_time": "2022-11-28T12:59:29.073Z"
   },
   {
    "duration": 40,
    "start_time": "2022-11-28T12:59:29.120Z"
   },
   {
    "duration": 35,
    "start_time": "2022-11-28T12:59:29.162Z"
   },
   {
    "duration": 47,
    "start_time": "2022-11-28T12:59:29.200Z"
   },
   {
    "duration": 21,
    "start_time": "2022-11-28T12:59:29.249Z"
   },
   {
    "duration": 61,
    "start_time": "2022-11-28T12:59:29.272Z"
   },
   {
    "duration": 24,
    "start_time": "2022-11-28T12:59:29.338Z"
   },
   {
    "duration": 29,
    "start_time": "2022-11-28T12:59:29.365Z"
   },
   {
    "duration": 25,
    "start_time": "2022-11-28T12:59:29.396Z"
   },
   {
    "duration": 111,
    "start_time": "2022-11-28T12:59:29.423Z"
   },
   {
    "duration": 0,
    "start_time": "2022-11-28T12:59:29.536Z"
   },
   {
    "duration": 0,
    "start_time": "2022-11-28T12:59:29.537Z"
   },
   {
    "duration": 1,
    "start_time": "2022-11-28T12:59:29.538Z"
   },
   {
    "duration": 0,
    "start_time": "2022-11-28T12:59:29.540Z"
   },
   {
    "duration": 0,
    "start_time": "2022-11-28T12:59:29.541Z"
   },
   {
    "duration": 0,
    "start_time": "2022-11-28T12:59:29.542Z"
   },
   {
    "duration": 0,
    "start_time": "2022-11-28T12:59:29.543Z"
   },
   {
    "duration": 14,
    "start_time": "2022-11-28T12:59:42.039Z"
   },
   {
    "duration": 23,
    "start_time": "2022-11-28T12:59:45.424Z"
   },
   {
    "duration": 13,
    "start_time": "2022-11-28T12:59:50.159Z"
   },
   {
    "duration": 64,
    "start_time": "2022-11-28T14:06:46.004Z"
   },
   {
    "duration": 43,
    "start_time": "2022-11-28T14:06:56.558Z"
   },
   {
    "duration": 49,
    "start_time": "2022-11-29T07:49:41.203Z"
   },
   {
    "duration": 8,
    "start_time": "2022-11-29T07:50:03.236Z"
   },
   {
    "duration": 382,
    "start_time": "2022-11-29T07:50:18.532Z"
   },
   {
    "duration": 451,
    "start_time": "2022-11-29T07:50:18.916Z"
   },
   {
    "duration": 9,
    "start_time": "2022-11-29T07:50:19.372Z"
   },
   {
    "duration": 32,
    "start_time": "2022-11-29T07:50:19.383Z"
   },
   {
    "duration": 3,
    "start_time": "2022-11-29T07:50:19.417Z"
   },
   {
    "duration": 13,
    "start_time": "2022-11-29T07:50:19.422Z"
   },
   {
    "duration": 15,
    "start_time": "2022-11-29T07:50:19.437Z"
   },
   {
    "duration": 31,
    "start_time": "2022-11-29T07:50:19.454Z"
   },
   {
    "duration": 23,
    "start_time": "2022-11-29T07:50:19.488Z"
   },
   {
    "duration": 17,
    "start_time": "2022-11-29T07:50:19.513Z"
   },
   {
    "duration": 46,
    "start_time": "2022-11-29T07:50:19.532Z"
   },
   {
    "duration": 64,
    "start_time": "2022-11-29T07:50:19.580Z"
   },
   {
    "duration": 92,
    "start_time": "2022-11-29T07:50:19.645Z"
   },
   {
    "duration": 59,
    "start_time": "2022-11-29T07:50:19.739Z"
   },
   {
    "duration": 7,
    "start_time": "2022-11-29T07:50:19.800Z"
   },
   {
    "duration": 11,
    "start_time": "2022-11-29T07:50:19.809Z"
   },
   {
    "duration": 70,
    "start_time": "2022-11-29T07:50:19.821Z"
   },
   {
    "duration": 11,
    "start_time": "2022-11-29T07:50:19.893Z"
   },
   {
    "duration": 14,
    "start_time": "2022-11-29T07:50:19.906Z"
   },
   {
    "duration": 4,
    "start_time": "2022-11-29T07:50:19.922Z"
   },
   {
    "duration": 26,
    "start_time": "2022-11-29T07:50:19.928Z"
   },
   {
    "duration": 31,
    "start_time": "2022-11-29T07:50:19.955Z"
   },
   {
    "duration": 16,
    "start_time": "2022-11-29T07:50:19.988Z"
   },
   {
    "duration": 18,
    "start_time": "2022-11-29T07:50:20.006Z"
   },
   {
    "duration": 20,
    "start_time": "2022-11-29T07:50:20.025Z"
   },
   {
    "duration": 32,
    "start_time": "2022-11-29T07:50:20.047Z"
   },
   {
    "duration": 12,
    "start_time": "2022-11-29T07:50:20.083Z"
   },
   {
    "duration": 19,
    "start_time": "2022-11-29T07:50:20.097Z"
   },
   {
    "duration": 16,
    "start_time": "2022-11-29T07:50:20.118Z"
   },
   {
    "duration": 8,
    "start_time": "2022-11-29T07:50:20.137Z"
   },
   {
    "duration": 28,
    "start_time": "2022-11-29T07:50:20.147Z"
   },
   {
    "duration": 12,
    "start_time": "2022-11-29T07:50:20.178Z"
   },
   {
    "duration": 23,
    "start_time": "2022-11-29T07:50:20.192Z"
   },
   {
    "duration": 12,
    "start_time": "2022-11-29T07:50:20.217Z"
   },
   {
    "duration": 12,
    "start_time": "2022-11-29T07:50:20.231Z"
   },
   {
    "duration": 12,
    "start_time": "2022-11-29T07:50:20.244Z"
   },
   {
    "duration": 19,
    "start_time": "2022-11-29T07:50:20.259Z"
   },
   {
    "duration": 15,
    "start_time": "2022-11-29T07:50:20.281Z"
   },
   {
    "duration": 13,
    "start_time": "2022-11-29T07:50:36.747Z"
   },
   {
    "duration": 17,
    "start_time": "2022-11-29T07:50:38.493Z"
   },
   {
    "duration": 24,
    "start_time": "2022-11-29T07:50:44.749Z"
   },
   {
    "duration": 11,
    "start_time": "2022-11-29T07:50:46.596Z"
   },
   {
    "duration": 19,
    "start_time": "2022-11-29T07:50:49.188Z"
   },
   {
    "duration": 13,
    "start_time": "2022-11-29T07:50:49.820Z"
   },
   {
    "duration": 10,
    "start_time": "2022-11-29T08:01:24.292Z"
   },
   {
    "duration": 8,
    "start_time": "2022-11-29T08:01:53.970Z"
   },
   {
    "duration": 5,
    "start_time": "2022-11-29T08:02:21.895Z"
   },
   {
    "duration": 9,
    "start_time": "2022-11-29T08:03:33.651Z"
   },
   {
    "duration": 67,
    "start_time": "2022-11-29T08:04:04.793Z"
   },
   {
    "duration": 8,
    "start_time": "2022-11-29T08:05:43.179Z"
   },
   {
    "duration": 390,
    "start_time": "2022-11-29T08:05:58.273Z"
   },
   {
    "duration": 157,
    "start_time": "2022-11-29T08:05:58.665Z"
   },
   {
    "duration": 9,
    "start_time": "2022-11-29T08:05:58.823Z"
   },
   {
    "duration": 32,
    "start_time": "2022-11-29T08:05:58.834Z"
   },
   {
    "duration": 9,
    "start_time": "2022-11-29T08:05:58.869Z"
   },
   {
    "duration": 15,
    "start_time": "2022-11-29T08:05:58.880Z"
   },
   {
    "duration": 18,
    "start_time": "2022-11-29T08:05:58.897Z"
   },
   {
    "duration": 10,
    "start_time": "2022-11-29T08:05:58.916Z"
   },
   {
    "duration": 25,
    "start_time": "2022-11-29T08:05:58.927Z"
   },
   {
    "duration": 29,
    "start_time": "2022-11-29T08:05:58.954Z"
   },
   {
    "duration": 21,
    "start_time": "2022-11-29T08:05:58.984Z"
   },
   {
    "duration": 72,
    "start_time": "2022-11-29T08:05:59.006Z"
   },
   {
    "duration": 73,
    "start_time": "2022-11-29T08:05:59.080Z"
   },
   {
    "duration": 65,
    "start_time": "2022-11-29T08:05:59.156Z"
   },
   {
    "duration": 6,
    "start_time": "2022-11-29T08:05:59.223Z"
   },
   {
    "duration": 17,
    "start_time": "2022-11-29T08:05:59.230Z"
   },
   {
    "duration": 58,
    "start_time": "2022-11-29T08:05:59.249Z"
   },
   {
    "duration": 10,
    "start_time": "2022-11-29T08:05:59.308Z"
   },
   {
    "duration": 12,
    "start_time": "2022-11-29T08:05:59.320Z"
   },
   {
    "duration": 3,
    "start_time": "2022-11-29T08:05:59.334Z"
   },
   {
    "duration": 20,
    "start_time": "2022-11-29T08:05:59.338Z"
   },
   {
    "duration": 30,
    "start_time": "2022-11-29T08:05:59.359Z"
   },
   {
    "duration": 14,
    "start_time": "2022-11-29T08:05:59.391Z"
   },
   {
    "duration": 19,
    "start_time": "2022-11-29T08:05:59.406Z"
   },
   {
    "duration": 16,
    "start_time": "2022-11-29T08:05:59.427Z"
   },
   {
    "duration": 37,
    "start_time": "2022-11-29T08:05:59.445Z"
   },
   {
    "duration": 6,
    "start_time": "2022-11-29T08:05:59.484Z"
   },
   {
    "duration": 14,
    "start_time": "2022-11-29T08:05:59.491Z"
   },
   {
    "duration": 13,
    "start_time": "2022-11-29T08:05:59.507Z"
   },
   {
    "duration": 4,
    "start_time": "2022-11-29T08:05:59.522Z"
   },
   {
    "duration": 20,
    "start_time": "2022-11-29T08:05:59.528Z"
   },
   {
    "duration": 10,
    "start_time": "2022-11-29T08:05:59.549Z"
   },
   {
    "duration": 17,
    "start_time": "2022-11-29T08:05:59.578Z"
   },
   {
    "duration": 11,
    "start_time": "2022-11-29T08:05:59.597Z"
   },
   {
    "duration": 8,
    "start_time": "2022-11-29T08:05:59.609Z"
   },
   {
    "duration": 4,
    "start_time": "2022-11-29T08:05:59.618Z"
   },
   {
    "duration": 7,
    "start_time": "2022-11-29T08:05:59.624Z"
   },
   {
    "duration": 5,
    "start_time": "2022-11-29T08:05:59.632Z"
   },
   {
    "duration": 5,
    "start_time": "2022-11-29T08:06:11.937Z"
   },
   {
    "duration": 4,
    "start_time": "2022-11-29T08:06:14.451Z"
   },
   {
    "duration": 63,
    "start_time": "2022-11-29T08:13:00.386Z"
   },
   {
    "duration": 61,
    "start_time": "2022-11-29T08:15:59.369Z"
   },
   {
    "duration": 32,
    "start_time": "2022-11-29T08:18:34.473Z"
   },
   {
    "duration": 31,
    "start_time": "2022-11-29T08:18:42.054Z"
   },
   {
    "duration": 29,
    "start_time": "2022-11-29T08:21:10.936Z"
   },
   {
    "duration": 34,
    "start_time": "2022-11-29T08:22:38.445Z"
   }
  ],
  "colab": {
   "collapsed_sections": [
    "E0vqbgi9ay0H",
    "VUC88oWjTJw2"
   ],
   "name": "automatization_template_upd4.ipynb",
   "provenance": []
  },
  "kernelspec": {
   "display_name": "Python 3 (ipykernel)",
   "language": "python",
   "name": "python3"
  },
  "language_info": {
   "codemirror_mode": {
    "name": "ipython",
    "version": 3
   },
   "file_extension": ".py",
   "mimetype": "text/x-python",
   "name": "python",
   "nbconvert_exporter": "python",
   "pygments_lexer": "ipython3",
   "version": "3.9.5"
  },
  "toc": {
   "base_numbering": 1,
   "nav_menu": {
    "height": "215px",
    "width": "403px"
   },
   "number_sections": true,
   "sideBar": true,
   "skip_h1_title": true,
   "title_cell": "Table of Contents",
   "title_sidebar": "Contents",
   "toc_cell": false,
   "toc_position": {
    "height": "calc(100% - 180px)",
    "left": "10px",
    "top": "150px",
    "width": "285.825px"
   },
   "toc_section_display": true,
   "toc_window_display": false
  }
 },
 "nbformat": 4,
 "nbformat_minor": 1
}
